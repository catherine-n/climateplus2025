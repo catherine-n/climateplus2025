{
 "cells": [
  {
   "cell_type": "code",
   "execution_count": 1,
   "id": "5034e0d4",
   "metadata": {},
   "outputs": [],
   "source": [
    "import geopandas as gpd\n",
    "import pandas as pd"
   ]
  },
  {
   "cell_type": "markdown",
   "id": "addbb860",
   "metadata": {},
   "source": [
    "Load the file(s)"
   ]
  },
  {
   "cell_type": "code",
   "execution_count": 2,
   "id": "b83974aa",
   "metadata": {},
   "outputs": [],
   "source": [
    "# Set your file path\n",
    "file_path = '/Users/remaalbarakati/Downloads/all annotations_files/files that needs merging /all group annotations final.gpkg'\n",
    "\n",
    "# Read the GPKG file\n",
    "try:\n",
    "    gdf = gpd.read_file(file_path)\n",
    "except Exception as e:\n",
    "    print(f\"Error reading file: {e}\")\n"
   ]
  },
  {
   "cell_type": "markdown",
   "id": "956c3312",
   "metadata": {},
   "source": [
    "Get the original labels"
   ]
  },
  {
   "cell_type": "code",
   "execution_count": 3,
   "id": "5b6df37e",
   "metadata": {},
   "outputs": [],
   "source": [
    "def get_original_label(row):\n",
    "    \"\"\"Assigns the original annotation label based on column values.\"\"\"\n",
    "    if row.get('PV_normal') == 1:\n",
    "        return 'PV_normal'\n",
    "    elif row.get('PV_heater') == 1:\n",
    "        return 'PV_heater'\n",
    "    elif row.get('PV_pool') == 1:\n",
    "        return 'PV_pool'\n",
    "    elif row.get('uncertflag') == 1:\n",
    "        return 'Uncertain'\n",
    "    else:\n",
    "        return 'Unlabeled'"
   ]
  },
  {
   "cell_type": "markdown",
   "id": "629d1da9",
   "metadata": {},
   "source": [
    "Get the QC lables"
   ]
  },
  {
   "cell_type": "code",
   "execution_count": 4,
   "id": "6841dfd7",
   "metadata": {},
   "outputs": [],
   "source": [
    "def get_qc_label(row):\n",
    "    \"\"\"Assigns the QC annotation label based on column values.\"\"\"\n",
    "    if row.get('PV_normal_qc') == 1:\n",
    "        return 'PV_normal'\n",
    "    elif row.get('PV_heater_qc') == 1:\n",
    "        return 'PV_heater'\n",
    "    elif row.get('PV_pool_qc') == 1:\n",
    "        return 'PV_pool'\n",
    "    elif row.get('uncertflag_qc') == 1:\n",
    "        return 'Uncertain'\n",
    "    elif row.get('delete_qc') == 1:\n",
    "        return 'Deleted'\n",
    "    elif row.get('PV_heater_mat') == 1:\n",
    "        return 'PV_heater_mat'\n",
    "    else:\n",
    "        return 'Unlabeled'\n"
   ]
  },
  {
   "cell_type": "markdown",
   "id": "9e1f92a3",
   "metadata": {},
   "source": [
    "Preprocess the data "
   ]
  },
  {
   "cell_type": "code",
   "execution_count": 5,
   "id": "759c4088",
   "metadata": {},
   "outputs": [
    {
     "name": "stdout",
     "output_type": "stream",
     "text": [
      "All required columns are present.\n"
     ]
    }
   ],
   "source": [
    "# Required QC columns\n",
    "required_cols = [\n",
    "    'PV_normal', 'PV_heater', 'PV_pool', 'uncertflag',\n",
    "    'PV_normal_qc', 'PV_heater_qc', 'PV_pool_qc',\n",
    "    'uncertflag_qc', 'delete_qc', 'PV_heater_mat'\n",
    "]\n",
    "\n",
    "# Check for missing columns\n",
    "missing_cols = [col for col in required_cols if col not in gdf.columns]\n",
    "if missing_cols:\n",
    "    print(f\"Missing required columns: {missing_cols}\")\n",
    "else:\n",
    "    print(\"All required columns are present.\")\n"
   ]
  },
  {
   "cell_type": "markdown",
   "id": "57270e4f",
   "metadata": {},
   "source": [
    "Clean and label the data "
   ]
  },
  {
   "cell_type": "code",
   "execution_count": 6,
   "id": "1ea43d8b",
   "metadata": {},
   "outputs": [],
   "source": [
    "# Convert QC columns to numeric\n",
    "for col in ['PV_normal_qc', 'PV_heater_qc', 'PV_pool_qc', 'uncertflag_qc', 'delete_qc']:\n",
    "    gdf[col] = pd.to_numeric(gdf[col], errors='coerce')\n",
    "\n",
    "# Apply label functions\n",
    "gdf['original_label'] = gdf.apply(get_original_label, axis=1)\n",
    "gdf['qc_label'] = gdf.apply(get_qc_label, axis=1)\n"
   ]
  },
  {
   "cell_type": "markdown",
   "id": "c79cecf7",
   "metadata": {},
   "source": [
    "compare labels "
   ]
  },
  {
   "cell_type": "code",
   "execution_count": 7,
   "id": "97c8d86d",
   "metadata": {},
   "outputs": [
    {
     "name": "stdout",
     "output_type": "stream",
     "text": [
      "Total compared: 2168\n",
      "Matches: 1843\n",
      "Changed: 325\n"
     ]
    }
   ],
   "source": [
    "# Filter for valid comparisons\n",
    "compare_df = gdf[gdf['original_label'].notna() & gdf['qc_label'].notna()]\n",
    "\n",
    "# Match stats\n",
    "total = len(compare_df)\n",
    "matches = (compare_df['original_label'] == compare_df['qc_label']).sum()\n",
    "changed = total - matches\n",
    "\n",
    "print(f\"Total compared: {total}\")\n",
    "print(f\"Matches: {matches}\")\n",
    "print(f\"Changed: {changed}\")\n"
   ]
  },
  {
   "cell_type": "markdown",
   "id": "49a872ec",
   "metadata": {},
   "source": [
    "Generate confution matrix "
   ]
  },
  {
   "cell_type": "code",
   "execution_count": 8,
   "id": "5d43135a",
   "metadata": {},
   "outputs": [
    {
     "data": {
      "text/html": [
       "<div>\n",
       "<style scoped>\n",
       "    .dataframe tbody tr th:only-of-type {\n",
       "        vertical-align: middle;\n",
       "    }\n",
       "\n",
       "    .dataframe tbody tr th {\n",
       "        vertical-align: top;\n",
       "    }\n",
       "\n",
       "    .dataframe thead th {\n",
       "        text-align: right;\n",
       "    }\n",
       "</style>\n",
       "<table border=\"1\" class=\"dataframe\">\n",
       "  <thead>\n",
       "    <tr style=\"text-align: right;\">\n",
       "      <th>QC Label</th>\n",
       "      <th>Deleted</th>\n",
       "      <th>PV_heater</th>\n",
       "      <th>PV_heater_mat</th>\n",
       "      <th>PV_normal</th>\n",
       "      <th>PV_pool</th>\n",
       "      <th>Uncertain</th>\n",
       "    </tr>\n",
       "    <tr>\n",
       "      <th>Original Label</th>\n",
       "      <th></th>\n",
       "      <th></th>\n",
       "      <th></th>\n",
       "      <th></th>\n",
       "      <th></th>\n",
       "      <th></th>\n",
       "    </tr>\n",
       "  </thead>\n",
       "  <tbody>\n",
       "    <tr>\n",
       "      <th>PV_heater</th>\n",
       "      <td>16</td>\n",
       "      <td>690</td>\n",
       "      <td>119</td>\n",
       "      <td>40</td>\n",
       "      <td>5</td>\n",
       "      <td>0</td>\n",
       "    </tr>\n",
       "    <tr>\n",
       "      <th>PV_normal</th>\n",
       "      <td>7</td>\n",
       "      <td>14</td>\n",
       "      <td>9</td>\n",
       "      <td>596</td>\n",
       "      <td>52</td>\n",
       "      <td>2</td>\n",
       "    </tr>\n",
       "    <tr>\n",
       "      <th>PV_pool</th>\n",
       "      <td>3</td>\n",
       "      <td>2</td>\n",
       "      <td>5</td>\n",
       "      <td>24</td>\n",
       "      <td>557</td>\n",
       "      <td>0</td>\n",
       "    </tr>\n",
       "    <tr>\n",
       "      <th>Uncertain</th>\n",
       "      <td>4</td>\n",
       "      <td>5</td>\n",
       "      <td>6</td>\n",
       "      <td>3</td>\n",
       "      <td>9</td>\n",
       "      <td>0</td>\n",
       "    </tr>\n",
       "  </tbody>\n",
       "</table>\n",
       "</div>"
      ],
      "text/plain": [
       "QC Label        Deleted  PV_heater  PV_heater_mat  PV_normal  PV_pool  \\\n",
       "Original Label                                                          \n",
       "PV_heater            16        690            119         40        5   \n",
       "PV_normal             7         14              9        596       52   \n",
       "PV_pool               3          2              5         24      557   \n",
       "Uncertain             4          5              6          3        9   \n",
       "\n",
       "QC Label        Uncertain  \n",
       "Original Label             \n",
       "PV_heater               0  \n",
       "PV_normal               2  \n",
       "PV_pool                 0  \n",
       "Uncertain               0  "
      ]
     },
     "execution_count": 8,
     "metadata": {},
     "output_type": "execute_result"
    }
   ],
   "source": [
    "# Confusion matrix\n",
    "conf_matrix = pd.crosstab(\n",
    "    compare_df['original_label'],\n",
    "    compare_df['qc_label'],\n",
    "    rownames=['Original Label'],\n",
    "    colnames=['QC Label']\n",
    ")\n",
    "\n",
    "conf_matrix\n"
   ]
  }
 ],
 "metadata": {
  "kernelspec": {
   "display_name": "base",
   "language": "python",
   "name": "python3"
  },
  "language_info": {
   "codemirror_mode": {
    "name": "ipython",
    "version": 3
   },
   "file_extension": ".py",
   "mimetype": "text/x-python",
   "name": "python",
   "nbconvert_exporter": "python",
   "pygments_lexer": "ipython3",
   "version": "3.11.5"
  }
 },
 "nbformat": 4,
 "nbformat_minor": 5
}
