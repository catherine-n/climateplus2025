{
 "cells": [
  {
   "cell_type": "markdown",
   "id": "1e1b91f3",
   "metadata": {},
   "source": [
    "This notebook provides a graphical user interface (GUI) for reviewing and labeling various object classes in annotated satellite imagery. Users can inspect cropped image regions, apply quality control (QC) labels, and save changes. It's designed to support multi-class annotation such as:\n",
    "PV_normal\n",
    "\n",
    "PV_heater\n",
    "\n",
    "PV_pool\n",
    "\n",
    "PV_heater_mat\n",
    "\n",
    "Uncertain\n",
    "\n",
    "Deleted\n",
    "\n",
    "Resizing needed\n",
    "\n"
   ]
  },
  {
   "cell_type": "markdown",
   "id": "c822f9ef",
   "metadata": {},
   "source": [
    "Import Required Libraries"
   ]
  },
  {
   "cell_type": "code",
   "execution_count": 1,
   "id": "347fbe28",
   "metadata": {},
   "outputs": [],
   "source": [
    "import geopandas as gpd\n",
    "import rasterio\n",
    "from PIL import Image, ImageTk, ImageDraw\n",
    "import tkinter as tk\n",
    "from tkinter import ttk, messagebox\n",
    "import numpy as np\n",
    "import os\n"
   ]
  },
  {
   "cell_type": "markdown",
   "id": "086562a7",
   "metadata": {},
   "source": [
    "Set File Paths and Load Data"
   ]
  },
  {
   "cell_type": "code",
   "execution_count": null,
   "id": "15580cde",
   "metadata": {},
   "outputs": [],
   "source": [
    "# Modify these paths based on your system setup\n",
    "GPKG_PATH = '/path/to/your/annotations.gpkg'           # Input annotation file\n",
    "IMAGE_FOLDER = '/path/to/your/images'                  # Folder with .tif images\n",
    "OUTPUT_PATH = '/path/to/save/updated_annotations.gpkg' # Output GPKG after QC\n",
    "\n",
    "# Load the annotation dataset\n",
    "gdf = gpd.read_file(GPKG_PATH)"
   ]
  },
  {
   "cell_type": "markdown",
   "id": "7d61309f",
   "metadata": {},
   "source": [
    "Ensure QC Columns Exist"
   ]
  },
  {
   "cell_type": "code",
   "execution_count": null,
   "id": "b20a10af",
   "metadata": {},
   "outputs": [],
   "source": [
    "# List of QC columns corresponding to different object classes and actions\n",
    "qc_cols = [\"PV_normal_qc\", \"PV_heater_qc\", \"PV_pool_qc\", \n",
    "           \"PV_heater_mat\", \"uncertflag_qc\", \"delete_qc\", \"resizing_qc\"]\n",
    "\n",
    "# Add any missing columns with default value 0\n",
    "for col in qc_cols:\n",
    "    if col not in gdf.columns:\n",
    "        gdf[col] = 0\n"
   ]
  },
  {
   "cell_type": "markdown",
   "id": "e0cce51f",
   "metadata": {},
   "source": [
    "Define the QCChecker Class\n"
   ]
  },
  {
   "cell_type": "markdown",
   "id": "f014e877",
   "metadata": {},
   "source": [
    "This class handles GUI layout, image loading, user interaction, and data saving.\n",
    "\n",
    "\n"
   ]
  },
  {
   "cell_type": "code",
   "execution_count": null,
   "id": "4947c427",
   "metadata": {},
   "outputs": [],
   "source": [
    "class QCChecker:\n",
    "    def __init__(self, master):\n",
    "        self.master = master\n",
    "        self.index = self.find_next_unchecked_index()\n",
    "        self.resizing_selected = False\n",
    "        self.selected_qcs = set()\n",
    "        self.zoom_scale = 1.0\n",
    "\n",
    "        # Layout: original + annotated image side-by-side\n",
    "        self.label_frame = tk.Frame(master)\n",
    "        self.label_frame.pack()\n",
    "        self.label_original = tk.Label(self.label_frame)\n",
    "        self.label_original.pack(side=tk.LEFT, padx=5)\n",
    "        self.label_annotated = tk.Label(self.label_frame)\n",
    "        self.label_annotated.pack(side=tk.LEFT, padx=5)\n",
    "\n",
    "        # Info box\n",
    "        self.info = tk.Label(master, text=\"\", font=(\"Arial\", 12), justify=\"left\")\n",
    "        self.info.pack()\n",
    "\n",
    "        # QC label buttons\n",
    "        button_frame = ttk.Frame(master)\n",
    "        button_frame.pack()\n",
    "        for i, col in enumerate(qc_cols):\n",
    "            ttk.Button(button_frame, text=col, command=lambda c=col: self.mark(c)).grid(row=0, column=i, padx=4)\n",
    "\n",
    "        # Zoom buttons\n",
    "        zoom_frame = ttk.Frame(master)\n",
    "        zoom_frame.pack(pady=5)\n",
    "        ttk.Button(zoom_frame, text=\"Zoom +\", command=self.zoom_in).pack(side=tk.LEFT, padx=5)\n",
    "        ttk.Button(zoom_frame, text=\"Zoom -\", command=self.zoom_out).pack(side=tk.LEFT, padx=5)\n",
    "\n",
    "        self.load_image()\n"
   ]
  },
  {
   "cell_type": "markdown",
   "id": "a21dde1e",
   "metadata": {},
   "source": [
    "Navigate Annotations"
   ]
  },
  {
   "cell_type": "code",
   "execution_count": null,
   "id": "f1443d51",
   "metadata": {},
   "outputs": [],
   "source": [
    "    def find_next_unchecked_index(self):\n",
    "        # Return first un-reviewed annotation\n",
    "        for i, row in gdf.iterrows():\n",
    "            if not any(row[qc] == 1 for qc in qc_cols):\n",
    "                return i\n",
    "        print(\"All annotations have been reviewed.\")\n",
    "        return 0\n"
   ]
  },
  {
   "cell_type": "markdown",
   "id": "e6f3d5f7",
   "metadata": {},
   "source": [
    "Mark and Save QC Labels"
   ]
  },
  {
   "cell_type": "code",
   "execution_count": null,
   "id": "1a38a81a",
   "metadata": {},
   "outputs": [],
   "source": [
    "    def mark(self, col):\n",
    "        # If the label is a special action (uncertain or resizing), mark it and wait for a class label\n",
    "        if col in {\"resizing_qc\", \"uncertflag_qc\"}:\n",
    "            self.selected_qcs = {col}\n",
    "            self.resizing_selected = True\n",
    "            if col == \"uncertflag_qc\":\n",
    "                self.save_current_images_as_png()\n",
    "            print(f\"{col} selected. Now select the appropriate object label.\")\n",
    "            return\n",
    "\n",
    "        elif self.resizing_selected:\n",
    "            # If second part of labeling is selected (after uncertain/resizing)\n",
    "            self.selected_qcs.add(col)\n",
    "            if \"uncertflag_qc\" in self.selected_qcs:\n",
    "                self.save_current_images_as_png()\n",
    "            self.save_and_advance()\n",
    "            self.advance_or_quit()\n",
    "            return\n",
    "\n",
    "        else:\n",
    "            # Single-label QC\n",
    "            self.selected_qcs = {col}\n",
    "            self.save_and_advance()\n",
    "            self.advance_or_quit()\n"
   ]
  },
  {
   "cell_type": "markdown",
   "id": "0c976ac1",
   "metadata": {},
   "source": [
    "Save QC Labels to File"
   ]
  },
  {
   "cell_type": "code",
   "execution_count": null,
   "id": "2337f75b",
   "metadata": {},
   "outputs": [],
   "source": [
    "    def save_and_advance(self):\n",
    "        for qc in qc_cols:\n",
    "            gdf.at[self.index, qc] = 1 if qc in self.selected_qcs else 0\n",
    "        try:\n",
    "            gdf.to_file(OUTPUT_PATH, driver=\"GPKG\")\n",
    "            print(f\"Saved at ID {gdf.iloc[self.index].get('id', self.index)}\")\n",
    "        except Exception as e:\n",
    "            print(f\"Save failed: {e}\")\n",
    "        self.selected_qcs = set()\n",
    "        self.resizing_selected = False\n"
   ]
  },
  {
   "cell_type": "markdown",
   "id": "03f10407",
   "metadata": {},
   "source": [
    "Move to Next or Exit"
   ]
  },
  {
   "cell_type": "code",
   "execution_count": null,
   "id": "3ad21d2d",
   "metadata": {},
   "outputs": [],
   "source": [
    "    def advance_or_quit(self):\n",
    "        if self.index < len(gdf) - 1:\n",
    "            self.index += 1\n",
    "            self.load_image()\n",
    "        else:\n",
    "            messagebox.showinfo(\"Done\", \"QC annotations are complete!\")\n",
    "            self.master.quit()\n"
   ]
  },
  {
   "cell_type": "markdown",
   "id": "b92fbb41",
   "metadata": {},
   "source": [
    "Save Image Pair to PNG (Optional)"
   ]
  },
  {
   "cell_type": "code",
   "execution_count": null,
   "id": "a4720edf",
   "metadata": {},
   "outputs": [],
   "source": [
    "    def save_current_images_as_png(self, save_dir=\"saved_screens\"):\n",
    "        os.makedirs(save_dir, exist_ok=True)\n",
    "        row = gdf.iloc[self.index]\n",
    "        image_id = row.get(\"id\", self.index)\n",
    "\n",
    "        original_path = os.path.join(save_dir, f\"{image_id}_original.png\")\n",
    "        annotated_path = os.path.join(save_dir, f\"{image_id}_annotated.png\")\n",
    "\n",
    "        try:\n",
    "            self.img_original_pil.save(original_path, \"PNG\")\n",
    "            self.img_annotated_pil.save(annotated_path, \"PNG\")\n",
    "            print(f\"Saved images for ID {image_id}\")\n",
    "        except Exception as e:\n",
    "            print(f\"Failed to save images for ID {image_id}: {e}\")\n"
   ]
  },
  {
   "cell_type": "markdown",
   "id": "ab961fb6",
   "metadata": {},
   "source": [
    "Zoom function"
   ]
  },
  {
   "cell_type": "code",
   "execution_count": null,
   "id": "1d178fed",
   "metadata": {},
   "outputs": [],
   "source": [
    "    def zoom_in(self):\n",
    "        self.zoom_scale /= 1.2\n",
    "        self.load_image()\n",
    "\n",
    "    def zoom_out(self):\n",
    "        self.zoom_scale *= 1.2\n",
    "        self.load_image()\n"
   ]
  },
  {
   "cell_type": "markdown",
   "id": "6d27dd56",
   "metadata": {},
   "source": [
    "Load and Display Image Region"
   ]
  },
  {
   "cell_type": "code",
   "execution_count": null,
   "id": "dcf5da1b",
   "metadata": {},
   "outputs": [],
   "source": [
    "    def load_image(self):\n",
    "        row = gdf.iloc[self.index]\n",
    "        image_name = row.get(\"image_name\")\n",
    "        image_path = os.path.join(IMAGE_FOLDER, image_name + \".tif\")\n",
    "\n",
    "        try:\n",
    "            with rasterio.open(image_path) as src:\n",
    "                geom = row.geometry\n",
    "                transform = src.transform\n",
    "                centroid = geom.centroid\n",
    "                cx, cy = ~transform * (centroid.x, centroid.y)\n",
    "\n",
    "                # Define crop box around centroid\n",
    "                base_crop = 300\n",
    "                half_w = int(base_crop * self.zoom_scale)\n",
    "                half_h = int(base_crop * self.zoom_scale)\n",
    "\n",
    "                box_crop = (\n",
    "                    max(0, int(cx - half_w)),\n",
    "                    max(0, int(cy - half_h)),\n",
    "                    min(src.width, int(cx + half_w)),\n",
    "                    min(src.height, int(cy + half_h))\n",
    "                )\n",
    "\n",
    "                # Extract image window\n",
    "                window = rasterio.windows.Window(\n",
    "                    col_off=box_crop[0],\n",
    "                    row_off=box_crop[1],\n",
    "                    width=box_crop[2] - box_crop[0],\n",
    "                    height=box_crop[3] - box_crop[1]\n",
    "                )\n",
    "\n",
    "                data = src.read([1, 2, 3], window=window)\n",
    "                win_transform = src.window_transform(window)\n",
    "\n",
    "                rgb = np.transpose(data, (1, 2, 0))\n",
    "                rgb = np.nan_to_num(rgb)\n",
    "                if rgb.dtype != np.uint8:\n",
    "                    rgb = ((rgb - rgb.min()) / (rgb.ptp() + 1e-6) * 255).astype(np.uint8)\n",
    "\n",
    "                # Prepare original and annotated images\n",
    "                img_original = Image.fromarray(rgb)\n",
    "                img_annotated = img_original.copy()\n",
    "\n",
    "                draw = ImageDraw.Draw(img_annotated)\n",
    "                if hasattr(geom, \"exterior\"):\n",
    "                    coords = list(geom.exterior.coords)\n",
    "                    pixels = [~win_transform * (x, y) for x, y in coords]\n",
    "                    pixels = [(int(x), int(y)) for x, y in pixels]\n",
    "                    if len(pixels) > 2:\n",
    "                        draw.polygon(pixels, outline=\"red\", width=3)\n",
    "\n",
    "                # Resize images if needed\n",
    "                for img in [img_original, img_annotated]:\n",
    "                    if img.width > 800 or img.height > 800:\n",
    "                        img.thumbnail((800, 800), Image.LANCZOS)\n",
    "\n",
    "                # Convert to Tkinter images\n",
    "                self.img_original_pil = img_original\n",
    "                self.img_annotated_pil = img_annotated\n",
    "                self.tk_img_original = ImageTk.PhotoImage(img_original)\n",
    "                self.tk_img_annotated = ImageTk.PhotoImage(img_annotated)\n",
    "\n",
    "                # Display images in GUI\n",
    "                self.label_original.configure(image=self.tk_img_original)\n",
    "                self.label_annotated.configure(image=self.tk_img_annotated)\n",
    "\n",
    "                self.label_original.image = self.tk_img_original\n",
    "                self.label_annotated.image = self.tk_img_annotated\n",
    "\n",
    "                # Show metadata\n",
    "                self.info.config(\n",
    "                    text=(\n",
    "                        f\"ID: {row.get('id', 'NA')} | image: {image_name} | annotator: {row.get('annotator', 'NA')}\\n\"\n",
    "                        f\"PV_normal: {row.get('PV_normal')}, \"\n",
    "                        f\"PV_heater: {row.get('PV_heater')}, \"\n",
    "                        f\"PV_pool: {row.get('PV_pool')}, \"\n",
    "                        f\"uncertflag: {row.get('uncertflag')}\"\n",
    "                    )\n",
    "                )\n",
    "        except Exception as e:\n",
    "            print(f\"Error loading image {image_path}: {e}\")\n"
   ]
  },
  {
   "cell_type": "markdown",
   "id": "380b281e",
   "metadata": {},
   "source": [
    "Launch the GUI"
   ]
  },
  {
   "cell_type": "code",
   "execution_count": null,
   "id": "153b92fa",
   "metadata": {},
   "outputs": [],
   "source": [
    "# Run the GUI\n",
    "root = tk.Tk()\n",
    "root.title(\"Multi-Class Annotation QC Checker\")\n",
    "app = QCChecker(root)\n",
    "root.mainloop()\n"
   ]
  }
 ],
 "metadata": {
  "kernelspec": {
   "display_name": "base",
   "language": "python",
   "name": "python3"
  },
  "language_info": {
   "codemirror_mode": {
    "name": "ipython",
    "version": 3
   },
   "file_extension": ".py",
   "mimetype": "text/x-python",
   "name": "python",
   "nbconvert_exporter": "python",
   "pygments_lexer": "ipython3",
   "version": "3.11.5"
  }
 },
 "nbformat": 4,
 "nbformat_minor": 5
}
