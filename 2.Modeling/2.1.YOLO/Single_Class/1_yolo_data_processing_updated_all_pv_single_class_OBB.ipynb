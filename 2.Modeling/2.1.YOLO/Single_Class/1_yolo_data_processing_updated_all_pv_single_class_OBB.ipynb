{
 "cells": [
  {
   "cell_type": "markdown",
   "id": "11519152",
   "metadata": {},
   "source": [
    "Train the model using the YOLO_CapeTown_5K_3categories (July_10) dataset, but modify the annotations so that all labels are set to 0. This can be done by changing the first column in each YOLO label .txt file to 0."
   ]
  },
  {
   "cell_type": "code",
   "execution_count": 1,
   "id": "85805c7c",
   "metadata": {},
   "outputs": [
    {
     "name": "stdout",
     "output_type": "stream",
     "text": [
      "All class IDs changed to 0\n"
     ]
    }
   ],
   "source": [
    "import os\n",
    "\n",
    "label_root = \"/home/il72/cape_town_year_of_installation/datasets/pv_capetown_after_qc_5K/labels\" \n",
    "\n",
    "for split in [\"train\", \"val\", \"test\"]:\n",
    "    split_dir = os.path.join(label_root, split)\n",
    "    for fname in os.listdir(split_dir):\n",
    "        if fname.endswith(\".txt\"):\n",
    "            file_path = os.path.join(split_dir, fname)\n",
    "            with open(file_path, \"r\") as f:\n",
    "                lines = f.readlines()\n",
    "\n",
    "            new_lines = []\n",
    "            for line in lines:\n",
    "                parts = line.strip().split()\n",
    "                if len(parts) != 9:\n",
    "                    continue  # YOLO format\n",
    "\n",
    "                parts[0] = \"0\"  # class_id 0\n",
    "                new_lines.append(\" \".join(parts))\n",
    "\n",
    "            with open(file_path, \"w\") as f:\n",
    "                f.write(\"\\n\".join(new_lines))\n",
    "\n",
    "print(\"All class IDs changed to 0\")\n"
   ]
  }
 ],
 "metadata": {
  "kernelspec": {
   "display_name": "Python 3",
   "language": "python",
   "name": "python3"
  },
  "language_info": {
   "codemirror_mode": {
    "name": "ipython",
    "version": 3
   },
   "file_extension": ".py",
   "mimetype": "text/x-python",
   "name": "python",
   "nbconvert_exporter": "python",
   "pygments_lexer": "ipython3",
   "version": "3.10.12"
  }
 },
 "nbformat": 4,
 "nbformat_minor": 5
}
