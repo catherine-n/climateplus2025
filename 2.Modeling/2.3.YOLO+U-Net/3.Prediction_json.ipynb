{
 "cells": [
  {
   "cell_type": "markdown",
   "id": "a33e8017",
   "metadata": {},
   "source": [
    "Save every 'n'th predicted images which contain PVs\\\n",
    "    - Much Faster, this generates JSON files, and txt(optional)"
   ]
  },
  {
   "cell_type": "code",
   "execution_count": null,
   "id": "d37db235",
   "metadata": {},
   "outputs": [
    {
     "name": "stdout",
     "output_type": "stream",
     "text": [
      "YOLO OBB inference started...\n"
     ]
    },
    {
     "name": "stderr",
     "output_type": "stream",
     "text": [
      "Running YOLO OBB inference:   0%|          | 0/507 [00:00<?, ?it/s]"
     ]
    },
    {
     "name": "stdout",
     "output_type": "stream",
     "text": [
      "\n",
      "image 1/1 /shared/data/climateplus2025/Prediction_for_poster_July21/CapeTown_Image_2023_tiles_1024_for_prediction/2023_RGB_8cm_W24A_17_tile_0_0.tif: 1024x1024 (no detections), 40.2ms\n",
      "Speed: 1.8ms preprocess, 40.2ms inference, 0.5ms postprocess per image at shape (1, 3, 1024, 1024)\n"
     ]
    },
    {
     "name": "stderr",
     "output_type": "stream",
     "text": [
      "Running YOLO OBB inference:   0%|          | 1/507 [00:00<04:05,  2.06it/s]"
     ]
    },
    {
     "name": "stdout",
     "output_type": "stream",
     "text": [
      "No detections, skipped TXT for: 2023_RGB_8cm_W24A_17_tile_0_0.tif\n",
      "\n",
      "image 1/1 /shared/data/climateplus2025/Prediction_for_poster_July21/CapeTown_Image_2023_tiles_1024_for_prediction/2023_RGB_8cm_W24A_17_tile_0_1024.tif: 1024x1024 (no detections), 37.9ms\n",
      "Speed: 1.9ms preprocess, 37.9ms inference, 0.5ms postprocess per image at shape (1, 3, 1024, 1024)\n",
      "No detections, skipped TXT for: 2023_RGB_8cm_W24A_17_tile_0_1024.tif\n",
      "\n",
      "image 1/1 /shared/data/climateplus2025/Prediction_for_poster_July21/CapeTown_Image_2023_tiles_1024_for_prediction/2023_RGB_8cm_W24A_17_tile_0_10240.tif: 1024x1024 None37.9ms\n",
      "Speed: 1.8ms preprocess, 37.9ms inference, 1.8ms postprocess per image at shape (1, 3, 1024, 1024)\n"
     ]
    },
    {
     "name": "stderr",
     "output_type": "stream",
     "text": [
      "Running YOLO OBB inference:   1%|          | 3/507 [00:00<01:32,  5.47it/s]"
     ]
    },
    {
     "name": "stdout",
     "output_type": "stream",
     "text": [
      "Saved predicted image: /shared/data/climateplus2025/Prediction_for_poster_July21/Prediction/predicted_images/2023_RGB_8cm_W24A_17_tile_0_10240_predicted.jpg\n",
      "Saved JSON: /shared/data/climateplus2025/Prediction_for_poster_July21/Prediction/predicted_json/2023_RGB_8cm_W24A_17_tile_0_10240.json\n",
      "Saved TXT: /shared/data/climateplus2025/Prediction_for_poster_July21/Prediction/predicted_txt/2023_RGB_8cm_W24A_17_tile_0_10240.txt\n",
      "\n",
      "image 1/1 /shared/data/climateplus2025/Prediction_for_poster_July21/CapeTown_Image_2023_tiles_1024_for_prediction/2023_RGB_8cm_W24A_17_tile_0_11264.tif: 1024x1024 None37.8ms\n",
      "Speed: 1.8ms preprocess, 37.8ms inference, 2.1ms postprocess per image at shape (1, 3, 1024, 1024)\n",
      "Saved predicted image: /shared/data/climateplus2025/Prediction_for_poster_July21/Prediction/predicted_images/2023_RGB_8cm_W24A_17_tile_0_11264_predicted.jpg\n",
      "Saved JSON: /shared/data/climateplus2025/Prediction_for_poster_July21/Prediction/predicted_json/2023_RGB_8cm_W24A_17_tile_0_11264.json\n",
      "Saved TXT: /shared/data/climateplus2025/Prediction_for_poster_July21/Prediction/predicted_txt/2023_RGB_8cm_W24A_17_tile_0_11264.txt\n",
      "\n",
      "image 1/1 /shared/data/climateplus2025/Prediction_for_poster_July21/CapeTown_Image_2023_tiles_1024_for_prediction/2023_RGB_8cm_W24A_17_tile_0_12288.tif: 1024x1024 (no detections), 37.8ms\n",
      "Speed: 2.4ms preprocess, 37.8ms inference, 0.5ms postprocess per image at shape (1, 3, 1024, 1024)\n"
     ]
    },
    {
     "name": "stderr",
     "output_type": "stream",
     "text": [
      "Running YOLO OBB inference:   1%|          | 5/507 [00:00<01:03,  7.95it/s]"
     ]
    },
    {
     "name": "stdout",
     "output_type": "stream",
     "text": [
      "No detections, skipped TXT for: 2023_RGB_8cm_W24A_17_tile_0_12288.tif\n",
      "\n",
      "image 1/1 /shared/data/climateplus2025/Prediction_for_poster_July21/CapeTown_Image_2023_tiles_1024_for_prediction/2023_RGB_8cm_W24A_17_tile_0_2048.tif: 1024x1024 None37.6ms\n",
      "Speed: 2.0ms preprocess, 37.6ms inference, 2.5ms postprocess per image at shape (1, 3, 1024, 1024)\n",
      "Saved predicted image: /shared/data/climateplus2025/Prediction_for_poster_July21/Prediction/predicted_images/2023_RGB_8cm_W24A_17_tile_0_2048_predicted.jpg\n",
      "Saved JSON: /shared/data/climateplus2025/Prediction_for_poster_July21/Prediction/predicted_json/2023_RGB_8cm_W24A_17_tile_0_2048.json\n",
      "Saved TXT: /shared/data/climateplus2025/Prediction_for_poster_July21/Prediction/predicted_txt/2023_RGB_8cm_W24A_17_tile_0_2048.txt\n",
      "\n",
      "image 1/1 /shared/data/climateplus2025/Prediction_for_poster_July21/CapeTown_Image_2023_tiles_1024_for_prediction/2023_RGB_8cm_W24A_17_tile_0_3072.tif: 1024x1024 None37.7ms\n",
      "Speed: 1.8ms preprocess, 37.7ms inference, 1.9ms postprocess per image at shape (1, 3, 1024, 1024)\n"
     ]
    },
    {
     "name": "stderr",
     "output_type": "stream",
     "text": [
      "Running YOLO OBB inference:   1%|▏         | 7/507 [00:00<00:55,  9.07it/s]"
     ]
    },
    {
     "name": "stdout",
     "output_type": "stream",
     "text": [
      "Saved predicted image: /shared/data/climateplus2025/Prediction_for_poster_July21/Prediction/predicted_images/2023_RGB_8cm_W24A_17_tile_0_3072_predicted.jpg\n",
      "Saved JSON: /shared/data/climateplus2025/Prediction_for_poster_July21/Prediction/predicted_json/2023_RGB_8cm_W24A_17_tile_0_3072.json\n",
      "Saved TXT: /shared/data/climateplus2025/Prediction_for_poster_July21/Prediction/predicted_txt/2023_RGB_8cm_W24A_17_tile_0_3072.txt\n",
      "\n",
      "image 1/1 /shared/data/climateplus2025/Prediction_for_poster_July21/CapeTown_Image_2023_tiles_1024_for_prediction/2023_RGB_8cm_W24A_17_tile_0_4096.tif: 1024x1024 None37.7ms\n",
      "Speed: 1.9ms preprocess, 37.7ms inference, 1.9ms postprocess per image at shape (1, 3, 1024, 1024)\n",
      "Saved predicted image: /shared/data/climateplus2025/Prediction_for_poster_July21/Prediction/predicted_images/2023_RGB_8cm_W24A_17_tile_0_4096_predicted.jpg\n",
      "Saved JSON: /shared/data/climateplus2025/Prediction_for_poster_July21/Prediction/predicted_json/2023_RGB_8cm_W24A_17_tile_0_4096.json\n",
      "Saved TXT: /shared/data/climateplus2025/Prediction_for_poster_July21/Prediction/predicted_txt/2023_RGB_8cm_W24A_17_tile_0_4096.txt\n",
      "\n",
      "image 1/1 /shared/data/climateplus2025/Prediction_for_poster_July21/CapeTown_Image_2023_tiles_1024_for_prediction/2023_RGB_8cm_W24A_17_tile_0_5120.tif: 1024x1024 (no detections), 37.6ms\n",
      "Speed: 1.8ms preprocess, 37.6ms inference, 0.5ms postprocess per image at shape (1, 3, 1024, 1024)\n"
     ]
    },
    {
     "name": "stderr",
     "output_type": "stream",
     "text": [
      "Running YOLO OBB inference:   2%|▏         | 9/507 [00:01<00:48, 10.22it/s]"
     ]
    },
    {
     "name": "stdout",
     "output_type": "stream",
     "text": [
      "No detections, skipped TXT for: 2023_RGB_8cm_W24A_17_tile_0_5120.tif\n",
      "\n",
      "image 1/1 /shared/data/climateplus2025/Prediction_for_poster_July21/CapeTown_Image_2023_tiles_1024_for_prediction/2023_RGB_8cm_W24A_17_tile_0_6144.tif: 1024x1024 None37.7ms\n",
      "Speed: 1.8ms preprocess, 37.7ms inference, 1.8ms postprocess per image at shape (1, 3, 1024, 1024)\n",
      "Saved predicted image: /shared/data/climateplus2025/Prediction_for_poster_July21/Prediction/predicted_images/2023_RGB_8cm_W24A_17_tile_0_6144_predicted.jpg\n",
      "Saved JSON: /shared/data/climateplus2025/Prediction_for_poster_July21/Prediction/predicted_json/2023_RGB_8cm_W24A_17_tile_0_6144.json\n",
      "Saved TXT: /shared/data/climateplus2025/Prediction_for_poster_July21/Prediction/predicted_txt/2023_RGB_8cm_W24A_17_tile_0_6144.txt\n",
      "\n",
      "image 1/1 /shared/data/climateplus2025/Prediction_for_poster_July21/CapeTown_Image_2023_tiles_1024_for_prediction/2023_RGB_8cm_W24A_17_tile_0_7168.tif: 1024x1024 None37.8ms\n",
      "Speed: 1.8ms preprocess, 37.8ms inference, 1.9ms postprocess per image at shape (1, 3, 1024, 1024)\n"
     ]
    },
    {
     "name": "stderr",
     "output_type": "stream",
     "text": [
      "Running YOLO OBB inference:   2%|▏         | 11/507 [00:01<00:46, 10.70it/s]"
     ]
    },
    {
     "name": "stdout",
     "output_type": "stream",
     "text": [
      "Saved predicted image: /shared/data/climateplus2025/Prediction_for_poster_July21/Prediction/predicted_images/2023_RGB_8cm_W24A_17_tile_0_7168_predicted.jpg\n",
      "Saved JSON: /shared/data/climateplus2025/Prediction_for_poster_July21/Prediction/predicted_json/2023_RGB_8cm_W24A_17_tile_0_7168.json\n",
      "Saved TXT: /shared/data/climateplus2025/Prediction_for_poster_July21/Prediction/predicted_txt/2023_RGB_8cm_W24A_17_tile_0_7168.txt\n",
      "\n",
      "image 1/1 /shared/data/climateplus2025/Prediction_for_poster_July21/CapeTown_Image_2023_tiles_1024_for_prediction/2023_RGB_8cm_W24A_17_tile_0_8192.tif: 1024x1024 None37.6ms\n",
      "Speed: 1.8ms preprocess, 37.6ms inference, 1.8ms postprocess per image at shape (1, 3, 1024, 1024)\n",
      "Saved predicted image: /shared/data/climateplus2025/Prediction_for_poster_July21/Prediction/predicted_images/2023_RGB_8cm_W24A_17_tile_0_8192_predicted.jpg\n",
      "Saved JSON: /shared/data/climateplus2025/Prediction_for_poster_July21/Prediction/predicted_json/2023_RGB_8cm_W24A_17_tile_0_8192.json\n",
      "Saved TXT: /shared/data/climateplus2025/Prediction_for_poster_July21/Prediction/predicted_txt/2023_RGB_8cm_W24A_17_tile_0_8192.txt\n",
      "\n",
      "image 1/1 /shared/data/climateplus2025/Prediction_for_poster_July21/CapeTown_Image_2023_tiles_1024_for_prediction/2023_RGB_8cm_W24A_17_tile_0_9216.tif: 1024x1024 None37.6ms\n",
      "Speed: 1.8ms preprocess, 37.6ms inference, 1.8ms postprocess per image at shape (1, 3, 1024, 1024)\n"
     ]
    },
    {
     "name": "stderr",
     "output_type": "stream",
     "text": [
      "Running YOLO OBB inference:   3%|▎         | 13/507 [00:01<00:44, 11.09it/s]"
     ]
    },
    {
     "name": "stdout",
     "output_type": "stream",
     "text": [
      "Saved predicted image: /shared/data/climateplus2025/Prediction_for_poster_July21/Prediction/predicted_images/2023_RGB_8cm_W24A_17_tile_0_9216_predicted.jpg\n",
      "Saved JSON: /shared/data/climateplus2025/Prediction_for_poster_July21/Prediction/predicted_json/2023_RGB_8cm_W24A_17_tile_0_9216.json\n",
      "Saved TXT: /shared/data/climateplus2025/Prediction_for_poster_July21/Prediction/predicted_txt/2023_RGB_8cm_W24A_17_tile_0_9216.txt\n",
      "\n",
      "image 1/1 /shared/data/climateplus2025/Prediction_for_poster_July21/CapeTown_Image_2023_tiles_1024_for_prediction/2023_RGB_8cm_W24A_17_tile_10240_0.tif: 1024x1024 (no detections), 37.8ms\n",
      "Speed: 2.0ms preprocess, 37.8ms inference, 0.5ms postprocess per image at shape (1, 3, 1024, 1024)\n",
      "No detections, skipped TXT for: 2023_RGB_8cm_W24A_17_tile_10240_0.tif\n",
      "\n",
      "image 1/1 /shared/data/climateplus2025/Prediction_for_poster_July21/CapeTown_Image_2023_tiles_1024_for_prediction/2023_RGB_8cm_W24A_17_tile_10240_1024.tif: 1024x1024 (no detections), 38.0ms\n",
      "Speed: 1.9ms preprocess, 38.0ms inference, 0.7ms postprocess per image at shape (1, 3, 1024, 1024)\n"
     ]
    },
    {
     "name": "stderr",
     "output_type": "stream",
     "text": [
      "Running YOLO OBB inference:   3%|▎         | 15/507 [00:01<00:41, 11.89it/s]"
     ]
    },
    {
     "name": "stdout",
     "output_type": "stream",
     "text": [
      "No detections, skipped TXT for: 2023_RGB_8cm_W24A_17_tile_10240_1024.tif\n",
      "\n",
      "image 1/1 /shared/data/climateplus2025/Prediction_for_poster_July21/CapeTown_Image_2023_tiles_1024_for_prediction/2023_RGB_8cm_W24A_17_tile_10240_10240.tif: 1024x1024 None38.0ms\n",
      "Speed: 1.8ms preprocess, 38.0ms inference, 1.9ms postprocess per image at shape (1, 3, 1024, 1024)\n",
      "Saved predicted image: /shared/data/climateplus2025/Prediction_for_poster_July21/Prediction/predicted_images/2023_RGB_8cm_W24A_17_tile_10240_10240_predicted.jpg\n",
      "Saved JSON: /shared/data/climateplus2025/Prediction_for_poster_July21/Prediction/predicted_json/2023_RGB_8cm_W24A_17_tile_10240_10240.json\n",
      "Saved TXT: /shared/data/climateplus2025/Prediction_for_poster_July21/Prediction/predicted_txt/2023_RGB_8cm_W24A_17_tile_10240_10240.txt\n",
      "\n",
      "image 1/1 /shared/data/climateplus2025/Prediction_for_poster_July21/CapeTown_Image_2023_tiles_1024_for_prediction/2023_RGB_8cm_W24A_17_tile_10240_11264.tif: 1024x1024 None37.9ms\n",
      "Speed: 1.8ms preprocess, 37.9ms inference, 1.8ms postprocess per image at shape (1, 3, 1024, 1024)\n"
     ]
    },
    {
     "name": "stderr",
     "output_type": "stream",
     "text": [
      "Running YOLO OBB inference:   3%|▎         | 17/507 [00:01<00:41, 11.82it/s]"
     ]
    },
    {
     "name": "stdout",
     "output_type": "stream",
     "text": [
      "Saved predicted image: /shared/data/climateplus2025/Prediction_for_poster_July21/Prediction/predicted_images/2023_RGB_8cm_W24A_17_tile_10240_11264_predicted.jpg\n",
      "Saved JSON: /shared/data/climateplus2025/Prediction_for_poster_July21/Prediction/predicted_json/2023_RGB_8cm_W24A_17_tile_10240_11264.json\n",
      "Saved TXT: /shared/data/climateplus2025/Prediction_for_poster_July21/Prediction/predicted_txt/2023_RGB_8cm_W24A_17_tile_10240_11264.txt\n",
      "\n",
      "image 1/1 /shared/data/climateplus2025/Prediction_for_poster_July21/CapeTown_Image_2023_tiles_1024_for_prediction/2023_RGB_8cm_W24A_17_tile_10240_12288.tif: 1024x1024 (no detections), 37.8ms\n",
      "Speed: 1.9ms preprocess, 37.8ms inference, 0.5ms postprocess per image at shape (1, 3, 1024, 1024)\n",
      "No detections, skipped TXT for: 2023_RGB_8cm_W24A_17_tile_10240_12288.tif\n",
      "\n",
      "image 1/1 /shared/data/climateplus2025/Prediction_for_poster_July21/CapeTown_Image_2023_tiles_1024_for_prediction/2023_RGB_8cm_W24A_17_tile_10240_2048.tif: 1024x1024 (no detections), 37.9ms\n",
      "Speed: 1.8ms preprocess, 37.9ms inference, 0.5ms postprocess per image at shape (1, 3, 1024, 1024)\n"
     ]
    },
    {
     "name": "stderr",
     "output_type": "stream",
     "text": [
      "Running YOLO OBB inference:   4%|▎         | 19/507 [00:01<00:37, 12.91it/s]"
     ]
    },
    {
     "name": "stdout",
     "output_type": "stream",
     "text": [
      "No detections, skipped TXT for: 2023_RGB_8cm_W24A_17_tile_10240_2048.tif\n",
      "\n",
      "image 1/1 /shared/data/climateplus2025/Prediction_for_poster_July21/CapeTown_Image_2023_tiles_1024_for_prediction/2023_RGB_8cm_W24A_17_tile_10240_3072.tif: 1024x1024 (no detections), 37.8ms\n",
      "Speed: 1.8ms preprocess, 37.8ms inference, 0.5ms postprocess per image at shape (1, 3, 1024, 1024)\n",
      "No detections, skipped TXT for: 2023_RGB_8cm_W24A_17_tile_10240_3072.tif\n",
      "\n",
      "image 1/1 /shared/data/climateplus2025/Prediction_for_poster_July21/CapeTown_Image_2023_tiles_1024_for_prediction/2023_RGB_8cm_W24A_17_tile_10240_4096.tif: 1024x1024 (no detections), 37.9ms\n",
      "Speed: 1.7ms preprocess, 37.9ms inference, 0.5ms postprocess per image at shape (1, 3, 1024, 1024)\n"
     ]
    },
    {
     "name": "stderr",
     "output_type": "stream",
     "text": [
      "Running YOLO OBB inference:   4%|▍         | 21/507 [00:02<00:36, 13.26it/s]"
     ]
    },
    {
     "name": "stdout",
     "output_type": "stream",
     "text": [
      "No detections, skipped TXT for: 2023_RGB_8cm_W24A_17_tile_10240_4096.tif\n",
      "\n",
      "image 1/1 /shared/data/climateplus2025/Prediction_for_poster_July21/CapeTown_Image_2023_tiles_1024_for_prediction/2023_RGB_8cm_W24A_17_tile_10240_5120.tif: 1024x1024 (no detections), 37.8ms\n",
      "Speed: 1.8ms preprocess, 37.8ms inference, 0.5ms postprocess per image at shape (1, 3, 1024, 1024)\n",
      "No detections, skipped TXT for: 2023_RGB_8cm_W24A_17_tile_10240_5120.tif\n",
      "\n",
      "image 1/1 /shared/data/climateplus2025/Prediction_for_poster_July21/CapeTown_Image_2023_tiles_1024_for_prediction/2023_RGB_8cm_W24A_17_tile_10240_6144.tif: 1024x1024 None37.8ms\n",
      "Speed: 1.8ms preprocess, 37.8ms inference, 1.8ms postprocess per image at shape (1, 3, 1024, 1024)\n"
     ]
    },
    {
     "name": "stderr",
     "output_type": "stream",
     "text": [
      "Running YOLO OBB inference:   5%|▍         | 23/507 [00:02<00:36, 13.16it/s]"
     ]
    },
    {
     "name": "stdout",
     "output_type": "stream",
     "text": [
      "Saved predicted image: /shared/data/climateplus2025/Prediction_for_poster_July21/Prediction/predicted_images/2023_RGB_8cm_W24A_17_tile_10240_6144_predicted.jpg\n",
      "Saved JSON: /shared/data/climateplus2025/Prediction_for_poster_July21/Prediction/predicted_json/2023_RGB_8cm_W24A_17_tile_10240_6144.json\n",
      "Saved TXT: /shared/data/climateplus2025/Prediction_for_poster_July21/Prediction/predicted_txt/2023_RGB_8cm_W24A_17_tile_10240_6144.txt\n",
      "\n",
      "image 1/1 /shared/data/climateplus2025/Prediction_for_poster_July21/CapeTown_Image_2023_tiles_1024_for_prediction/2023_RGB_8cm_W24A_17_tile_10240_7168.tif: 1024x1024 None37.7ms\n",
      "Speed: 1.8ms preprocess, 37.7ms inference, 1.8ms postprocess per image at shape (1, 3, 1024, 1024)\n",
      "Saved predicted image: /shared/data/climateplus2025/Prediction_for_poster_July21/Prediction/predicted_images/2023_RGB_8cm_W24A_17_tile_10240_7168_predicted.jpg\n",
      "Saved JSON: /shared/data/climateplus2025/Prediction_for_poster_July21/Prediction/predicted_json/2023_RGB_8cm_W24A_17_tile_10240_7168.json\n",
      "Saved TXT: /shared/data/climateplus2025/Prediction_for_poster_July21/Prediction/predicted_txt/2023_RGB_8cm_W24A_17_tile_10240_7168.txt\n",
      "\n",
      "image 1/1 /shared/data/climateplus2025/Prediction_for_poster_July21/CapeTown_Image_2023_tiles_1024_for_prediction/2023_RGB_8cm_W24A_17_tile_10240_8192.tif: 1024x1024 None37.8ms\n",
      "Speed: 1.8ms preprocess, 37.8ms inference, 1.8ms postprocess per image at shape (1, 3, 1024, 1024)\n"
     ]
    },
    {
     "name": "stderr",
     "output_type": "stream",
     "text": [
      "Running YOLO OBB inference:   5%|▍         | 25/507 [00:02<00:37, 12.77it/s]"
     ]
    },
    {
     "name": "stdout",
     "output_type": "stream",
     "text": [
      "Saved predicted image: /shared/data/climateplus2025/Prediction_for_poster_July21/Prediction/predicted_images/2023_RGB_8cm_W24A_17_tile_10240_8192_predicted.jpg\n",
      "Saved JSON: /shared/data/climateplus2025/Prediction_for_poster_July21/Prediction/predicted_json/2023_RGB_8cm_W24A_17_tile_10240_8192.json\n",
      "Saved TXT: /shared/data/climateplus2025/Prediction_for_poster_July21/Prediction/predicted_txt/2023_RGB_8cm_W24A_17_tile_10240_8192.txt\n",
      "\n",
      "image 1/1 /shared/data/climateplus2025/Prediction_for_poster_July21/CapeTown_Image_2023_tiles_1024_for_prediction/2023_RGB_8cm_W24A_17_tile_10240_9216.tif: 1024x1024 None37.8ms\n",
      "Speed: 1.8ms preprocess, 37.8ms inference, 1.8ms postprocess per image at shape (1, 3, 1024, 1024)\n",
      "Saved predicted image: /shared/data/climateplus2025/Prediction_for_poster_July21/Prediction/predicted_images/2023_RGB_8cm_W24A_17_tile_10240_9216_predicted.jpg\n",
      "Saved JSON: /shared/data/climateplus2025/Prediction_for_poster_July21/Prediction/predicted_json/2023_RGB_8cm_W24A_17_tile_10240_9216.json\n",
      "Saved TXT: /shared/data/climateplus2025/Prediction_for_poster_July21/Prediction/predicted_txt/2023_RGB_8cm_W24A_17_tile_10240_9216.txt\n",
      "\n",
      "image 1/1 /shared/data/climateplus2025/Prediction_for_poster_July21/CapeTown_Image_2023_tiles_1024_for_prediction/2023_RGB_8cm_W24A_17_tile_1024_0.tif: 1024x1024 (no detections), 37.9ms\n",
      "Speed: 2.0ms preprocess, 37.9ms inference, 0.5ms postprocess per image at shape (1, 3, 1024, 1024)\n"
     ]
    },
    {
     "name": "stderr",
     "output_type": "stream",
     "text": [
      "Running YOLO OBB inference:   5%|▌         | 27/507 [00:02<00:37, 12.85it/s]"
     ]
    },
    {
     "name": "stdout",
     "output_type": "stream",
     "text": [
      "No detections, skipped TXT for: 2023_RGB_8cm_W24A_17_tile_1024_0.tif\n",
      "\n",
      "image 1/1 /shared/data/climateplus2025/Prediction_for_poster_July21/CapeTown_Image_2023_tiles_1024_for_prediction/2023_RGB_8cm_W24A_17_tile_1024_1024.tif: 1024x1024 None37.7ms\n",
      "Speed: 1.7ms preprocess, 37.7ms inference, 1.8ms postprocess per image at shape (1, 3, 1024, 1024)\n",
      "Saved predicted image: /shared/data/climateplus2025/Prediction_for_poster_July21/Prediction/predicted_images/2023_RGB_8cm_W24A_17_tile_1024_1024_predicted.jpg\n",
      "Saved JSON: /shared/data/climateplus2025/Prediction_for_poster_July21/Prediction/predicted_json/2023_RGB_8cm_W24A_17_tile_1024_1024.json\n",
      "Saved TXT: /shared/data/climateplus2025/Prediction_for_poster_July21/Prediction/predicted_txt/2023_RGB_8cm_W24A_17_tile_1024_1024.txt\n",
      "\n",
      "image 1/1 /shared/data/climateplus2025/Prediction_for_poster_July21/CapeTown_Image_2023_tiles_1024_for_prediction/2023_RGB_8cm_W24A_17_tile_1024_10240.tif: 1024x1024 None37.8ms\n",
      "Speed: 1.8ms preprocess, 37.8ms inference, 1.8ms postprocess per image at shape (1, 3, 1024, 1024)\n"
     ]
    },
    {
     "name": "stderr",
     "output_type": "stream",
     "text": [
      "Running YOLO OBB inference:   6%|▌         | 29/507 [00:02<00:38, 12.52it/s]"
     ]
    },
    {
     "name": "stdout",
     "output_type": "stream",
     "text": [
      "Saved predicted image: /shared/data/climateplus2025/Prediction_for_poster_July21/Prediction/predicted_images/2023_RGB_8cm_W24A_17_tile_1024_10240_predicted.jpg\n",
      "Saved JSON: /shared/data/climateplus2025/Prediction_for_poster_July21/Prediction/predicted_json/2023_RGB_8cm_W24A_17_tile_1024_10240.json\n",
      "Saved TXT: /shared/data/climateplus2025/Prediction_for_poster_July21/Prediction/predicted_txt/2023_RGB_8cm_W24A_17_tile_1024_10240.txt\n",
      "\n",
      "image 1/1 /shared/data/climateplus2025/Prediction_for_poster_July21/CapeTown_Image_2023_tiles_1024_for_prediction/2023_RGB_8cm_W24A_17_tile_1024_11264.tif: 1024x1024 None37.9ms\n",
      "Speed: 1.8ms preprocess, 37.9ms inference, 1.9ms postprocess per image at shape (1, 3, 1024, 1024)\n",
      "Saved predicted image: /shared/data/climateplus2025/Prediction_for_poster_July21/Prediction/predicted_images/2023_RGB_8cm_W24A_17_tile_1024_11264_predicted.jpg\n",
      "Saved JSON: /shared/data/climateplus2025/Prediction_for_poster_July21/Prediction/predicted_json/2023_RGB_8cm_W24A_17_tile_1024_11264.json\n",
      "Saved TXT: /shared/data/climateplus2025/Prediction_for_poster_July21/Prediction/predicted_txt/2023_RGB_8cm_W24A_17_tile_1024_11264.txt\n",
      "\n",
      "image 1/1 /shared/data/climateplus2025/Prediction_for_poster_July21/CapeTown_Image_2023_tiles_1024_for_prediction/2023_RGB_8cm_W24A_17_tile_1024_12288.tif: 1024x1024 (no detections), 37.8ms\n",
      "Speed: 1.9ms preprocess, 37.8ms inference, 0.5ms postprocess per image at shape (1, 3, 1024, 1024)\n"
     ]
    },
    {
     "name": "stderr",
     "output_type": "stream",
     "text": [
      "Running YOLO OBB inference:   6%|▌         | 31/507 [00:02<00:36, 13.08it/s]"
     ]
    },
    {
     "name": "stdout",
     "output_type": "stream",
     "text": [
      "No detections, skipped TXT for: 2023_RGB_8cm_W24A_17_tile_1024_12288.tif\n",
      "\n",
      "image 1/1 /shared/data/climateplus2025/Prediction_for_poster_July21/CapeTown_Image_2023_tiles_1024_for_prediction/2023_RGB_8cm_W24A_17_tile_1024_2048.tif: 1024x1024 None37.9ms\n",
      "Speed: 1.8ms preprocess, 37.9ms inference, 1.8ms postprocess per image at shape (1, 3, 1024, 1024)\n",
      "Saved predicted image: /shared/data/climateplus2025/Prediction_for_poster_July21/Prediction/predicted_images/2023_RGB_8cm_W24A_17_tile_1024_2048_predicted.jpg\n",
      "Saved JSON: /shared/data/climateplus2025/Prediction_for_poster_July21/Prediction/predicted_json/2023_RGB_8cm_W24A_17_tile_1024_2048.json\n",
      "Saved TXT: /shared/data/climateplus2025/Prediction_for_poster_July21/Prediction/predicted_txt/2023_RGB_8cm_W24A_17_tile_1024_2048.txt\n",
      "\n",
      "image 1/1 /shared/data/climateplus2025/Prediction_for_poster_July21/CapeTown_Image_2023_tiles_1024_for_prediction/2023_RGB_8cm_W24A_17_tile_1024_3072.tif: 1024x1024 None37.9ms\n",
      "Speed: 1.8ms preprocess, 37.9ms inference, 1.8ms postprocess per image at shape (1, 3, 1024, 1024)\n"
     ]
    },
    {
     "name": "stderr",
     "output_type": "stream",
     "text": [
      "Running YOLO OBB inference:   7%|▋         | 33/507 [00:02<00:37, 12.67it/s]"
     ]
    },
    {
     "name": "stdout",
     "output_type": "stream",
     "text": [
      "Saved predicted image: /shared/data/climateplus2025/Prediction_for_poster_July21/Prediction/predicted_images/2023_RGB_8cm_W24A_17_tile_1024_3072_predicted.jpg\n",
      "Saved JSON: /shared/data/climateplus2025/Prediction_for_poster_July21/Prediction/predicted_json/2023_RGB_8cm_W24A_17_tile_1024_3072.json\n",
      "Saved TXT: /shared/data/climateplus2025/Prediction_for_poster_July21/Prediction/predicted_txt/2023_RGB_8cm_W24A_17_tile_1024_3072.txt\n",
      "\n",
      "image 1/1 /shared/data/climateplus2025/Prediction_for_poster_July21/CapeTown_Image_2023_tiles_1024_for_prediction/2023_RGB_8cm_W24A_17_tile_1024_4096.tif: 1024x1024 None37.9ms\n",
      "Speed: 1.9ms preprocess, 37.9ms inference, 1.8ms postprocess per image at shape (1, 3, 1024, 1024)\n",
      "Saved predicted image: /shared/data/climateplus2025/Prediction_for_poster_July21/Prediction/predicted_images/2023_RGB_8cm_W24A_17_tile_1024_4096_predicted.jpg\n",
      "Saved JSON: /shared/data/climateplus2025/Prediction_for_poster_July21/Prediction/predicted_json/2023_RGB_8cm_W24A_17_tile_1024_4096.json\n",
      "Saved TXT: /shared/data/climateplus2025/Prediction_for_poster_July21/Prediction/predicted_txt/2023_RGB_8cm_W24A_17_tile_1024_4096.txt\n",
      "\n",
      "image 1/1 /shared/data/climateplus2025/Prediction_for_poster_July21/CapeTown_Image_2023_tiles_1024_for_prediction/2023_RGB_8cm_W24A_17_tile_1024_5120.tif: 1024x1024 None37.7ms\n",
      "Speed: 1.7ms preprocess, 37.7ms inference, 1.8ms postprocess per image at shape (1, 3, 1024, 1024)\n"
     ]
    },
    {
     "name": "stderr",
     "output_type": "stream",
     "text": [
      "Running YOLO OBB inference:   7%|▋         | 35/507 [00:03<00:37, 12.48it/s]"
     ]
    },
    {
     "name": "stdout",
     "output_type": "stream",
     "text": [
      "Saved predicted image: /shared/data/climateplus2025/Prediction_for_poster_July21/Prediction/predicted_images/2023_RGB_8cm_W24A_17_tile_1024_5120_predicted.jpg\n",
      "Saved JSON: /shared/data/climateplus2025/Prediction_for_poster_July21/Prediction/predicted_json/2023_RGB_8cm_W24A_17_tile_1024_5120.json\n",
      "Saved TXT: /shared/data/climateplus2025/Prediction_for_poster_July21/Prediction/predicted_txt/2023_RGB_8cm_W24A_17_tile_1024_5120.txt\n",
      "\n",
      "image 1/1 /shared/data/climateplus2025/Prediction_for_poster_July21/CapeTown_Image_2023_tiles_1024_for_prediction/2023_RGB_8cm_W24A_17_tile_1024_6144.tif: 1024x1024 None37.7ms\n",
      "Speed: 1.8ms preprocess, 37.7ms inference, 1.8ms postprocess per image at shape (1, 3, 1024, 1024)\n",
      "Saved predicted image: /shared/data/climateplus2025/Prediction_for_poster_July21/Prediction/predicted_images/2023_RGB_8cm_W24A_17_tile_1024_6144_predicted.jpg\n",
      "Saved JSON: /shared/data/climateplus2025/Prediction_for_poster_July21/Prediction/predicted_json/2023_RGB_8cm_W24A_17_tile_1024_6144.json\n",
      "Saved TXT: /shared/data/climateplus2025/Prediction_for_poster_July21/Prediction/predicted_txt/2023_RGB_8cm_W24A_17_tile_1024_6144.txt\n",
      "\n",
      "image 1/1 /shared/data/climateplus2025/Prediction_for_poster_July21/CapeTown_Image_2023_tiles_1024_for_prediction/2023_RGB_8cm_W24A_17_tile_1024_7168.tif: 1024x1024 None37.8ms\n",
      "Speed: 1.8ms preprocess, 37.8ms inference, 1.9ms postprocess per image at shape (1, 3, 1024, 1024)\n"
     ]
    },
    {
     "name": "stderr",
     "output_type": "stream",
     "text": [
      "Running YOLO OBB inference:   7%|▋         | 37/507 [00:03<00:38, 12.31it/s]"
     ]
    },
    {
     "name": "stdout",
     "output_type": "stream",
     "text": [
      "Saved predicted image: /shared/data/climateplus2025/Prediction_for_poster_July21/Prediction/predicted_images/2023_RGB_8cm_W24A_17_tile_1024_7168_predicted.jpg\n",
      "Saved JSON: /shared/data/climateplus2025/Prediction_for_poster_July21/Prediction/predicted_json/2023_RGB_8cm_W24A_17_tile_1024_7168.json\n",
      "Saved TXT: /shared/data/climateplus2025/Prediction_for_poster_July21/Prediction/predicted_txt/2023_RGB_8cm_W24A_17_tile_1024_7168.txt\n",
      "\n",
      "image 1/1 /shared/data/climateplus2025/Prediction_for_poster_July21/CapeTown_Image_2023_tiles_1024_for_prediction/2023_RGB_8cm_W24A_17_tile_1024_8192.tif: 1024x1024 None37.9ms\n",
      "Speed: 1.8ms preprocess, 37.9ms inference, 1.8ms postprocess per image at shape (1, 3, 1024, 1024)\n",
      "Saved predicted image: /shared/data/climateplus2025/Prediction_for_poster_July21/Prediction/predicted_images/2023_RGB_8cm_W24A_17_tile_1024_8192_predicted.jpg\n",
      "Saved JSON: /shared/data/climateplus2025/Prediction_for_poster_July21/Prediction/predicted_json/2023_RGB_8cm_W24A_17_tile_1024_8192.json\n",
      "Saved TXT: /shared/data/climateplus2025/Prediction_for_poster_July21/Prediction/predicted_txt/2023_RGB_8cm_W24A_17_tile_1024_8192.txt\n",
      "\n",
      "image 1/1 /shared/data/climateplus2025/Prediction_for_poster_July21/CapeTown_Image_2023_tiles_1024_for_prediction/2023_RGB_8cm_W24A_17_tile_1024_9216.tif: 1024x1024 (no detections), 37.9ms\n",
      "Speed: 1.8ms preprocess, 37.9ms inference, 0.5ms postprocess per image at shape (1, 3, 1024, 1024)\n"
     ]
    },
    {
     "name": "stderr",
     "output_type": "stream",
     "text": [
      "Running YOLO OBB inference:   8%|▊         | 39/507 [00:03<00:37, 12.49it/s]"
     ]
    },
    {
     "name": "stdout",
     "output_type": "stream",
     "text": [
      "No detections, skipped TXT for: 2023_RGB_8cm_W24A_17_tile_1024_9216.tif\n",
      "\n",
      "image 1/1 /shared/data/climateplus2025/Prediction_for_poster_July21/CapeTown_Image_2023_tiles_1024_for_prediction/2023_RGB_8cm_W24A_17_tile_11264_0.tif: 1024x1024 (no detections), 37.8ms\n",
      "Speed: 1.8ms preprocess, 37.8ms inference, 0.5ms postprocess per image at shape (1, 3, 1024, 1024)\n",
      "No detections, skipped TXT for: 2023_RGB_8cm_W24A_17_tile_11264_0.tif\n",
      "\n",
      "image 1/1 /shared/data/climateplus2025/Prediction_for_poster_July21/CapeTown_Image_2023_tiles_1024_for_prediction/2023_RGB_8cm_W24A_17_tile_11264_1024.tif: 1024x1024 (no detections), 37.9ms\n",
      "Speed: 1.8ms preprocess, 37.9ms inference, 0.5ms postprocess per image at shape (1, 3, 1024, 1024)\n"
     ]
    },
    {
     "name": "stderr",
     "output_type": "stream",
     "text": [
      "Running YOLO OBB inference:   8%|▊         | 41/507 [00:03<00:35, 12.97it/s]"
     ]
    },
    {
     "name": "stdout",
     "output_type": "stream",
     "text": [
      "No detections, skipped TXT for: 2023_RGB_8cm_W24A_17_tile_11264_1024.tif\n",
      "\n",
      "image 1/1 /shared/data/climateplus2025/Prediction_for_poster_July21/CapeTown_Image_2023_tiles_1024_for_prediction/2023_RGB_8cm_W24A_17_tile_11264_10240.tif: 1024x1024 (no detections), 37.9ms\n",
      "Speed: 1.8ms preprocess, 37.9ms inference, 0.5ms postprocess per image at shape (1, 3, 1024, 1024)\n",
      "No detections, skipped TXT for: 2023_RGB_8cm_W24A_17_tile_11264_10240.tif\n",
      "\n",
      "image 1/1 /shared/data/climateplus2025/Prediction_for_poster_July21/CapeTown_Image_2023_tiles_1024_for_prediction/2023_RGB_8cm_W24A_17_tile_11264_11264.tif: 1024x1024 None37.8ms\n",
      "Speed: 1.8ms preprocess, 37.8ms inference, 1.8ms postprocess per image at shape (1, 3, 1024, 1024)\n"
     ]
    },
    {
     "name": "stderr",
     "output_type": "stream",
     "text": [
      "Running YOLO OBB inference:   8%|▊         | 43/507 [00:03<00:35, 12.95it/s]"
     ]
    },
    {
     "name": "stdout",
     "output_type": "stream",
     "text": [
      "Saved predicted image: /shared/data/climateplus2025/Prediction_for_poster_July21/Prediction/predicted_images/2023_RGB_8cm_W24A_17_tile_11264_11264_predicted.jpg\n",
      "Saved JSON: /shared/data/climateplus2025/Prediction_for_poster_July21/Prediction/predicted_json/2023_RGB_8cm_W24A_17_tile_11264_11264.json\n",
      "Saved TXT: /shared/data/climateplus2025/Prediction_for_poster_July21/Prediction/predicted_txt/2023_RGB_8cm_W24A_17_tile_11264_11264.txt\n",
      "\n",
      "image 1/1 /shared/data/climateplus2025/Prediction_for_poster_July21/CapeTown_Image_2023_tiles_1024_for_prediction/2023_RGB_8cm_W24A_17_tile_11264_12288.tif: 1024x1024 (no detections), 37.9ms\n",
      "Speed: 1.9ms preprocess, 37.9ms inference, 0.5ms postprocess per image at shape (1, 3, 1024, 1024)\n",
      "No detections, skipped TXT for: 2023_RGB_8cm_W24A_17_tile_11264_12288.tif\n",
      "\n",
      "image 1/1 /shared/data/climateplus2025/Prediction_for_poster_July21/CapeTown_Image_2023_tiles_1024_for_prediction/2023_RGB_8cm_W24A_17_tile_11264_2048.tif: 1024x1024 (no detections), 38.0ms\n",
      "Speed: 1.7ms preprocess, 38.0ms inference, 0.5ms postprocess per image at shape (1, 3, 1024, 1024)\n"
     ]
    },
    {
     "name": "stderr",
     "output_type": "stream",
     "text": [
      "Running YOLO OBB inference:   9%|▉         | 45/507 [00:03<00:33, 13.75it/s]"
     ]
    },
    {
     "name": "stdout",
     "output_type": "stream",
     "text": [
      "No detections, skipped TXT for: 2023_RGB_8cm_W24A_17_tile_11264_2048.tif\n",
      "\n",
      "image 1/1 /shared/data/climateplus2025/Prediction_for_poster_July21/CapeTown_Image_2023_tiles_1024_for_prediction/2023_RGB_8cm_W24A_17_tile_11264_3072.tif: 1024x1024 (no detections), 37.8ms\n",
      "Speed: 1.8ms preprocess, 37.8ms inference, 0.5ms postprocess per image at shape (1, 3, 1024, 1024)\n",
      "No detections, skipped TXT for: 2023_RGB_8cm_W24A_17_tile_11264_3072.tif\n",
      "\n",
      "image 1/1 /shared/data/climateplus2025/Prediction_for_poster_July21/CapeTown_Image_2023_tiles_1024_for_prediction/2023_RGB_8cm_W24A_17_tile_11264_4096.tif: 1024x1024 (no detections), 38.0ms\n",
      "Speed: 1.9ms preprocess, 38.0ms inference, 0.5ms postprocess per image at shape (1, 3, 1024, 1024)\n"
     ]
    },
    {
     "name": "stderr",
     "output_type": "stream",
     "text": [
      "Running YOLO OBB inference:   9%|▉         | 47/507 [00:04<00:33, 13.91it/s]"
     ]
    },
    {
     "name": "stdout",
     "output_type": "stream",
     "text": [
      "No detections, skipped TXT for: 2023_RGB_8cm_W24A_17_tile_11264_4096.tif\n",
      "\n",
      "image 1/1 /shared/data/climateplus2025/Prediction_for_poster_July21/CapeTown_Image_2023_tiles_1024_for_prediction/2023_RGB_8cm_W24A_17_tile_11264_5120.tif: 1024x1024 (no detections), 37.8ms\n",
      "Speed: 1.9ms preprocess, 37.8ms inference, 0.5ms postprocess per image at shape (1, 3, 1024, 1024)\n",
      "No detections, skipped TXT for: 2023_RGB_8cm_W24A_17_tile_11264_5120.tif\n",
      "\n",
      "image 1/1 /shared/data/climateplus2025/Prediction_for_poster_July21/CapeTown_Image_2023_tiles_1024_for_prediction/2023_RGB_8cm_W24A_17_tile_11264_6144.tif: 1024x1024 (no detections), 38.0ms\n",
      "Speed: 1.9ms preprocess, 38.0ms inference, 0.5ms postprocess per image at shape (1, 3, 1024, 1024)\n"
     ]
    },
    {
     "name": "stderr",
     "output_type": "stream",
     "text": [
      "Running YOLO OBB inference:  10%|▉         | 49/507 [00:04<00:32, 14.04it/s]"
     ]
    },
    {
     "name": "stdout",
     "output_type": "stream",
     "text": [
      "No detections, skipped TXT for: 2023_RGB_8cm_W24A_17_tile_11264_6144.tif\n",
      "\n",
      "image 1/1 /shared/data/climateplus2025/Prediction_for_poster_July21/CapeTown_Image_2023_tiles_1024_for_prediction/2023_RGB_8cm_W24A_17_tile_11264_7168.tif: 1024x1024 (no detections), 37.9ms\n",
      "Speed: 1.7ms preprocess, 37.9ms inference, 0.5ms postprocess per image at shape (1, 3, 1024, 1024)\n",
      "No detections, skipped TXT for: 2023_RGB_8cm_W24A_17_tile_11264_7168.tif\n",
      "\n",
      "image 1/1 /shared/data/climateplus2025/Prediction_for_poster_July21/CapeTown_Image_2023_tiles_1024_for_prediction/2023_RGB_8cm_W24A_17_tile_11264_8192.tif: 1024x1024 None38.0ms\n",
      "Speed: 1.8ms preprocess, 38.0ms inference, 1.9ms postprocess per image at shape (1, 3, 1024, 1024)\n"
     ]
    },
    {
     "name": "stderr",
     "output_type": "stream",
     "text": [
      "Running YOLO OBB inference:  10%|█         | 51/507 [00:04<00:33, 13.69it/s]"
     ]
    },
    {
     "name": "stdout",
     "output_type": "stream",
     "text": [
      "Saved predicted image: /shared/data/climateplus2025/Prediction_for_poster_July21/Prediction/predicted_images/2023_RGB_8cm_W24A_17_tile_11264_8192_predicted.jpg\n",
      "Saved JSON: /shared/data/climateplus2025/Prediction_for_poster_July21/Prediction/predicted_json/2023_RGB_8cm_W24A_17_tile_11264_8192.json\n",
      "Saved TXT: /shared/data/climateplus2025/Prediction_for_poster_July21/Prediction/predicted_txt/2023_RGB_8cm_W24A_17_tile_11264_8192.txt\n",
      "\n",
      "image 1/1 /shared/data/climateplus2025/Prediction_for_poster_July21/CapeTown_Image_2023_tiles_1024_for_prediction/2023_RGB_8cm_W24A_17_tile_11264_9216.tif: 1024x1024 (no detections), 37.7ms\n",
      "Speed: 1.8ms preprocess, 37.7ms inference, 0.5ms postprocess per image at shape (1, 3, 1024, 1024)\n",
      "No detections, skipped TXT for: 2023_RGB_8cm_W24A_17_tile_11264_9216.tif\n",
      "\n",
      "image 1/1 /shared/data/climateplus2025/Prediction_for_poster_July21/CapeTown_Image_2023_tiles_1024_for_prediction/2023_RGB_8cm_W24A_17_tile_12288_0.tif: 1024x1024 (no detections), 37.8ms\n",
      "Speed: 1.9ms preprocess, 37.8ms inference, 0.5ms postprocess per image at shape (1, 3, 1024, 1024)\n"
     ]
    },
    {
     "name": "stderr",
     "output_type": "stream",
     "text": [
      "Running YOLO OBB inference:  10%|█         | 53/507 [00:04<00:31, 14.35it/s]"
     ]
    },
    {
     "name": "stdout",
     "output_type": "stream",
     "text": [
      "No detections, skipped TXT for: 2023_RGB_8cm_W24A_17_tile_12288_0.tif\n",
      "\n",
      "image 1/1 /shared/data/climateplus2025/Prediction_for_poster_July21/CapeTown_Image_2023_tiles_1024_for_prediction/2023_RGB_8cm_W24A_17_tile_12288_1024.tif: 1024x1024 (no detections), 38.0ms\n",
      "Speed: 1.8ms preprocess, 38.0ms inference, 0.5ms postprocess per image at shape (1, 3, 1024, 1024)\n",
      "No detections, skipped TXT for: 2023_RGB_8cm_W24A_17_tile_12288_1024.tif\n",
      "\n",
      "image 1/1 /shared/data/climateplus2025/Prediction_for_poster_July21/CapeTown_Image_2023_tiles_1024_for_prediction/2023_RGB_8cm_W24A_17_tile_12288_10240.tif: 1024x1024 (no detections), 38.0ms\n",
      "Speed: 1.8ms preprocess, 38.0ms inference, 0.5ms postprocess per image at shape (1, 3, 1024, 1024)\n"
     ]
    },
    {
     "name": "stderr",
     "output_type": "stream",
     "text": [
      "Running YOLO OBB inference:  11%|█         | 55/507 [00:04<00:29, 15.42it/s]"
     ]
    },
    {
     "name": "stdout",
     "output_type": "stream",
     "text": [
      "No detections, skipped TXT for: 2023_RGB_8cm_W24A_17_tile_12288_10240.tif\n",
      "\n",
      "image 1/1 /shared/data/climateplus2025/Prediction_for_poster_July21/CapeTown_Image_2023_tiles_1024_for_prediction/2023_RGB_8cm_W24A_17_tile_12288_11264.tif: 1024x1024 (no detections), 37.8ms\n",
      "Speed: 1.8ms preprocess, 37.8ms inference, 0.5ms postprocess per image at shape (1, 3, 1024, 1024)\n",
      "No detections, skipped TXT for: 2023_RGB_8cm_W24A_17_tile_12288_11264.tif\n",
      "\n",
      "image 1/1 /shared/data/climateplus2025/Prediction_for_poster_July21/CapeTown_Image_2023_tiles_1024_for_prediction/2023_RGB_8cm_W24A_17_tile_12288_12288.tif: 1024x1024 (no detections), 38.0ms\n",
      "Speed: 1.8ms preprocess, 38.0ms inference, 0.5ms postprocess per image at shape (1, 3, 1024, 1024)\n"
     ]
    },
    {
     "name": "stderr",
     "output_type": "stream",
     "text": [
      "Running YOLO OBB inference:  11%|█         | 57/507 [00:04<00:27, 16.43it/s]"
     ]
    },
    {
     "name": "stdout",
     "output_type": "stream",
     "text": [
      "No detections, skipped TXT for: 2023_RGB_8cm_W24A_17_tile_12288_12288.tif\n",
      "\n",
      "image 1/1 /shared/data/climateplus2025/Prediction_for_poster_July21/CapeTown_Image_2023_tiles_1024_for_prediction/2023_RGB_8cm_W24A_17_tile_12288_2048.tif: 1024x1024 (no detections), 37.8ms\n",
      "Speed: 1.8ms preprocess, 37.8ms inference, 0.5ms postprocess per image at shape (1, 3, 1024, 1024)\n",
      "No detections, skipped TXT for: 2023_RGB_8cm_W24A_17_tile_12288_2048.tif\n",
      "\n",
      "image 1/1 /shared/data/climateplus2025/Prediction_for_poster_July21/CapeTown_Image_2023_tiles_1024_for_prediction/2023_RGB_8cm_W24A_17_tile_12288_3072.tif: 1024x1024 (no detections), 37.8ms\n",
      "Speed: 1.8ms preprocess, 37.8ms inference, 0.5ms postprocess per image at shape (1, 3, 1024, 1024)\n"
     ]
    },
    {
     "name": "stderr",
     "output_type": "stream",
     "text": [
      "Running YOLO OBB inference:  12%|█▏        | 59/507 [00:04<00:26, 16.98it/s]"
     ]
    },
    {
     "name": "stdout",
     "output_type": "stream",
     "text": [
      "No detections, skipped TXT for: 2023_RGB_8cm_W24A_17_tile_12288_3072.tif\n",
      "\n",
      "image 1/1 /shared/data/climateplus2025/Prediction_for_poster_July21/CapeTown_Image_2023_tiles_1024_for_prediction/2023_RGB_8cm_W24A_17_tile_12288_4096.tif: 1024x1024 (no detections), 38.0ms\n",
      "Speed: 1.8ms preprocess, 38.0ms inference, 0.5ms postprocess per image at shape (1, 3, 1024, 1024)\n",
      "No detections, skipped TXT for: 2023_RGB_8cm_W24A_17_tile_12288_4096.tif\n",
      "\n",
      "image 1/1 /shared/data/climateplus2025/Prediction_for_poster_July21/CapeTown_Image_2023_tiles_1024_for_prediction/2023_RGB_8cm_W24A_17_tile_12288_5120.tif: 1024x1024 (no detections), 37.9ms\n",
      "Speed: 1.8ms preprocess, 37.9ms inference, 0.5ms postprocess per image at shape (1, 3, 1024, 1024)\n"
     ]
    },
    {
     "name": "stderr",
     "output_type": "stream",
     "text": [
      "Running YOLO OBB inference:  12%|█▏        | 61/507 [00:04<00:25, 17.51it/s]"
     ]
    },
    {
     "name": "stdout",
     "output_type": "stream",
     "text": [
      "No detections, skipped TXT for: 2023_RGB_8cm_W24A_17_tile_12288_5120.tif\n",
      "\n",
      "image 1/1 /shared/data/climateplus2025/Prediction_for_poster_July21/CapeTown_Image_2023_tiles_1024_for_prediction/2023_RGB_8cm_W24A_17_tile_12288_6144.tif: 1024x1024 (no detections), 37.8ms\n",
      "Speed: 1.8ms preprocess, 37.8ms inference, 0.5ms postprocess per image at shape (1, 3, 1024, 1024)\n",
      "No detections, skipped TXT for: 2023_RGB_8cm_W24A_17_tile_12288_6144.tif\n",
      "\n",
      "image 1/1 /shared/data/climateplus2025/Prediction_for_poster_July21/CapeTown_Image_2023_tiles_1024_for_prediction/2023_RGB_8cm_W24A_17_tile_12288_7168.tif: 1024x1024 (no detections), 38.0ms\n",
      "Speed: 1.8ms preprocess, 38.0ms inference, 0.5ms postprocess per image at shape (1, 3, 1024, 1024)\n"
     ]
    },
    {
     "name": "stderr",
     "output_type": "stream",
     "text": [
      "Running YOLO OBB inference:  12%|█▏        | 63/507 [00:04<00:24, 17.91it/s]"
     ]
    },
    {
     "name": "stdout",
     "output_type": "stream",
     "text": [
      "No detections, skipped TXT for: 2023_RGB_8cm_W24A_17_tile_12288_7168.tif\n",
      "\n",
      "image 1/1 /shared/data/climateplus2025/Prediction_for_poster_July21/CapeTown_Image_2023_tiles_1024_for_prediction/2023_RGB_8cm_W24A_17_tile_12288_8192.tif: 1024x1024 (no detections), 37.8ms\n",
      "Speed: 1.8ms preprocess, 37.8ms inference, 0.5ms postprocess per image at shape (1, 3, 1024, 1024)\n",
      "No detections, skipped TXT for: 2023_RGB_8cm_W24A_17_tile_12288_8192.tif\n",
      "\n",
      "image 1/1 /shared/data/climateplus2025/Prediction_for_poster_July21/CapeTown_Image_2023_tiles_1024_for_prediction/2023_RGB_8cm_W24A_17_tile_12288_9216.tif: 1024x1024 (no detections), 37.9ms\n",
      "Speed: 1.8ms preprocess, 37.9ms inference, 0.5ms postprocess per image at shape (1, 3, 1024, 1024)\n"
     ]
    },
    {
     "name": "stderr",
     "output_type": "stream",
     "text": [
      "Running YOLO OBB inference:  13%|█▎        | 65/507 [00:05<00:24, 18.20it/s]"
     ]
    },
    {
     "name": "stdout",
     "output_type": "stream",
     "text": [
      "No detections, skipped TXT for: 2023_RGB_8cm_W24A_17_tile_12288_9216.tif\n",
      "\n",
      "image 1/1 /shared/data/climateplus2025/Prediction_for_poster_July21/CapeTown_Image_2023_tiles_1024_for_prediction/2023_RGB_8cm_W24A_17_tile_2048_0.tif: 1024x1024 None37.8ms\n",
      "Speed: 1.8ms preprocess, 37.8ms inference, 1.9ms postprocess per image at shape (1, 3, 1024, 1024)\n",
      "Saved predicted image: /shared/data/climateplus2025/Prediction_for_poster_July21/Prediction/predicted_images/2023_RGB_8cm_W24A_17_tile_2048_0_predicted.jpg\n",
      "Saved JSON: /shared/data/climateplus2025/Prediction_for_poster_July21/Prediction/predicted_json/2023_RGB_8cm_W24A_17_tile_2048_0.json\n",
      "Saved TXT: /shared/data/climateplus2025/Prediction_for_poster_July21/Prediction/predicted_txt/2023_RGB_8cm_W24A_17_tile_2048_0.txt\n",
      "\n",
      "image 1/1 /shared/data/climateplus2025/Prediction_for_poster_July21/CapeTown_Image_2023_tiles_1024_for_prediction/2023_RGB_8cm_W24A_17_tile_2048_1024.tif: 1024x1024 None37.8ms\n",
      "Speed: 1.8ms preprocess, 37.8ms inference, 1.8ms postprocess per image at shape (1, 3, 1024, 1024)\n"
     ]
    },
    {
     "name": "stderr",
     "output_type": "stream",
     "text": [
      "Running YOLO OBB inference:  13%|█▎        | 67/507 [00:05<00:27, 15.74it/s]"
     ]
    },
    {
     "name": "stdout",
     "output_type": "stream",
     "text": [
      "Saved predicted image: /shared/data/climateplus2025/Prediction_for_poster_July21/Prediction/predicted_images/2023_RGB_8cm_W24A_17_tile_2048_1024_predicted.jpg\n",
      "Saved JSON: /shared/data/climateplus2025/Prediction_for_poster_July21/Prediction/predicted_json/2023_RGB_8cm_W24A_17_tile_2048_1024.json\n",
      "Saved TXT: /shared/data/climateplus2025/Prediction_for_poster_July21/Prediction/predicted_txt/2023_RGB_8cm_W24A_17_tile_2048_1024.txt\n",
      "\n",
      "image 1/1 /shared/data/climateplus2025/Prediction_for_poster_July21/CapeTown_Image_2023_tiles_1024_for_prediction/2023_RGB_8cm_W24A_17_tile_2048_10240.tif: 1024x1024 None37.8ms\n",
      "Speed: 1.7ms preprocess, 37.8ms inference, 1.9ms postprocess per image at shape (1, 3, 1024, 1024)\n",
      "Saved predicted image: /shared/data/climateplus2025/Prediction_for_poster_July21/Prediction/predicted_images/2023_RGB_8cm_W24A_17_tile_2048_10240_predicted.jpg\n",
      "Saved JSON: /shared/data/climateplus2025/Prediction_for_poster_July21/Prediction/predicted_json/2023_RGB_8cm_W24A_17_tile_2048_10240.json\n",
      "Saved TXT: /shared/data/climateplus2025/Prediction_for_poster_July21/Prediction/predicted_txt/2023_RGB_8cm_W24A_17_tile_2048_10240.txt\n",
      "\n",
      "image 1/1 /shared/data/climateplus2025/Prediction_for_poster_July21/CapeTown_Image_2023_tiles_1024_for_prediction/2023_RGB_8cm_W24A_17_tile_2048_11264.tif: 1024x1024 None37.9ms\n",
      "Speed: 1.8ms preprocess, 37.9ms inference, 1.8ms postprocess per image at shape (1, 3, 1024, 1024)\n"
     ]
    },
    {
     "name": "stderr",
     "output_type": "stream",
     "text": [
      "Running YOLO OBB inference:  14%|█▎        | 69/507 [00:05<00:30, 14.42it/s]"
     ]
    },
    {
     "name": "stdout",
     "output_type": "stream",
     "text": [
      "Saved predicted image: /shared/data/climateplus2025/Prediction_for_poster_July21/Prediction/predicted_images/2023_RGB_8cm_W24A_17_tile_2048_11264_predicted.jpg\n",
      "Saved JSON: /shared/data/climateplus2025/Prediction_for_poster_July21/Prediction/predicted_json/2023_RGB_8cm_W24A_17_tile_2048_11264.json\n",
      "Saved TXT: /shared/data/climateplus2025/Prediction_for_poster_July21/Prediction/predicted_txt/2023_RGB_8cm_W24A_17_tile_2048_11264.txt\n",
      "\n",
      "image 1/1 /shared/data/climateplus2025/Prediction_for_poster_July21/CapeTown_Image_2023_tiles_1024_for_prediction/2023_RGB_8cm_W24A_17_tile_2048_12288.tif: 1024x1024 None37.8ms\n",
      "Speed: 1.9ms preprocess, 37.8ms inference, 1.8ms postprocess per image at shape (1, 3, 1024, 1024)\n",
      "Saved predicted image: /shared/data/climateplus2025/Prediction_for_poster_July21/Prediction/predicted_images/2023_RGB_8cm_W24A_17_tile_2048_12288_predicted.jpg\n",
      "Saved JSON: /shared/data/climateplus2025/Prediction_for_poster_July21/Prediction/predicted_json/2023_RGB_8cm_W24A_17_tile_2048_12288.json\n",
      "Saved TXT: /shared/data/climateplus2025/Prediction_for_poster_July21/Prediction/predicted_txt/2023_RGB_8cm_W24A_17_tile_2048_12288.txt\n",
      "\n",
      "image 1/1 /shared/data/climateplus2025/Prediction_for_poster_July21/CapeTown_Image_2023_tiles_1024_for_prediction/2023_RGB_8cm_W24A_17_tile_2048_2048.tif: 1024x1024 None37.9ms\n",
      "Speed: 1.7ms preprocess, 37.9ms inference, 1.8ms postprocess per image at shape (1, 3, 1024, 1024)\n"
     ]
    },
    {
     "name": "stderr",
     "output_type": "stream",
     "text": [
      "Running YOLO OBB inference:  14%|█▍        | 71/507 [00:05<00:30, 14.14it/s]"
     ]
    },
    {
     "name": "stdout",
     "output_type": "stream",
     "text": [
      "Saved predicted image: /shared/data/climateplus2025/Prediction_for_poster_July21/Prediction/predicted_images/2023_RGB_8cm_W24A_17_tile_2048_2048_predicted.jpg\n",
      "Saved JSON: /shared/data/climateplus2025/Prediction_for_poster_July21/Prediction/predicted_json/2023_RGB_8cm_W24A_17_tile_2048_2048.json\n",
      "Saved TXT: /shared/data/climateplus2025/Prediction_for_poster_July21/Prediction/predicted_txt/2023_RGB_8cm_W24A_17_tile_2048_2048.txt\n",
      "\n",
      "image 1/1 /shared/data/climateplus2025/Prediction_for_poster_July21/CapeTown_Image_2023_tiles_1024_for_prediction/2023_RGB_8cm_W24A_17_tile_2048_3072.tif: 1024x1024 (no detections), 37.7ms\n",
      "Speed: 1.8ms preprocess, 37.7ms inference, 0.5ms postprocess per image at shape (1, 3, 1024, 1024)\n",
      "No detections, skipped TXT for: 2023_RGB_8cm_W24A_17_tile_2048_3072.tif\n",
      "\n",
      "image 1/1 /shared/data/climateplus2025/Prediction_for_poster_July21/CapeTown_Image_2023_tiles_1024_for_prediction/2023_RGB_8cm_W24A_17_tile_2048_4096.tif: 1024x1024 None37.9ms\n",
      "Speed: 1.8ms preprocess, 37.9ms inference, 1.8ms postprocess per image at shape (1, 3, 1024, 1024)\n"
     ]
    },
    {
     "name": "stderr",
     "output_type": "stream",
     "text": [
      "Running YOLO OBB inference:  14%|█▍        | 73/507 [00:05<00:31, 13.76it/s]"
     ]
    },
    {
     "name": "stdout",
     "output_type": "stream",
     "text": [
      "Saved predicted image: /shared/data/climateplus2025/Prediction_for_poster_July21/Prediction/predicted_images/2023_RGB_8cm_W24A_17_tile_2048_4096_predicted.jpg\n",
      "Saved JSON: /shared/data/climateplus2025/Prediction_for_poster_July21/Prediction/predicted_json/2023_RGB_8cm_W24A_17_tile_2048_4096.json\n",
      "Saved TXT: /shared/data/climateplus2025/Prediction_for_poster_July21/Prediction/predicted_txt/2023_RGB_8cm_W24A_17_tile_2048_4096.txt\n",
      "\n",
      "image 1/1 /shared/data/climateplus2025/Prediction_for_poster_July21/CapeTown_Image_2023_tiles_1024_for_prediction/2023_RGB_8cm_W24A_17_tile_2048_5120.tif: 1024x1024 None38.0ms\n",
      "Speed: 1.8ms preprocess, 38.0ms inference, 1.8ms postprocess per image at shape (1, 3, 1024, 1024)\n",
      "Saved predicted image: /shared/data/climateplus2025/Prediction_for_poster_July21/Prediction/predicted_images/2023_RGB_8cm_W24A_17_tile_2048_5120_predicted.jpg\n",
      "Saved JSON: /shared/data/climateplus2025/Prediction_for_poster_July21/Prediction/predicted_json/2023_RGB_8cm_W24A_17_tile_2048_5120.json\n",
      "Saved TXT: /shared/data/climateplus2025/Prediction_for_poster_July21/Prediction/predicted_txt/2023_RGB_8cm_W24A_17_tile_2048_5120.txt\n",
      "\n",
      "image 1/1 /shared/data/climateplus2025/Prediction_for_poster_July21/CapeTown_Image_2023_tiles_1024_for_prediction/2023_RGB_8cm_W24A_17_tile_2048_6144.tif: 1024x1024 None37.7ms\n",
      "Speed: 1.8ms preprocess, 37.7ms inference, 1.8ms postprocess per image at shape (1, 3, 1024, 1024)\n"
     ]
    },
    {
     "name": "stderr",
     "output_type": "stream",
     "text": [
      "Running YOLO OBB inference:  15%|█▍        | 75/507 [00:05<00:32, 13.13it/s]"
     ]
    },
    {
     "name": "stdout",
     "output_type": "stream",
     "text": [
      "Saved predicted image: /shared/data/climateplus2025/Prediction_for_poster_July21/Prediction/predicted_images/2023_RGB_8cm_W24A_17_tile_2048_6144_predicted.jpg\n",
      "Saved JSON: /shared/data/climateplus2025/Prediction_for_poster_July21/Prediction/predicted_json/2023_RGB_8cm_W24A_17_tile_2048_6144.json\n",
      "Saved TXT: /shared/data/climateplus2025/Prediction_for_poster_July21/Prediction/predicted_txt/2023_RGB_8cm_W24A_17_tile_2048_6144.txt\n",
      "\n",
      "image 1/1 /shared/data/climateplus2025/Prediction_for_poster_July21/CapeTown_Image_2023_tiles_1024_for_prediction/2023_RGB_8cm_W24A_17_tile_2048_7168.tif: 1024x1024 None37.8ms\n",
      "Speed: 1.8ms preprocess, 37.8ms inference, 1.8ms postprocess per image at shape (1, 3, 1024, 1024)\n",
      "Saved predicted image: /shared/data/climateplus2025/Prediction_for_poster_July21/Prediction/predicted_images/2023_RGB_8cm_W24A_17_tile_2048_7168_predicted.jpg\n",
      "Saved JSON: /shared/data/climateplus2025/Prediction_for_poster_July21/Prediction/predicted_json/2023_RGB_8cm_W24A_17_tile_2048_7168.json\n",
      "Saved TXT: /shared/data/climateplus2025/Prediction_for_poster_July21/Prediction/predicted_txt/2023_RGB_8cm_W24A_17_tile_2048_7168.txt\n",
      "\n",
      "image 1/1 /shared/data/climateplus2025/Prediction_for_poster_July21/CapeTown_Image_2023_tiles_1024_for_prediction/2023_RGB_8cm_W24A_17_tile_2048_8192.tif: 1024x1024 None37.8ms\n",
      "Speed: 1.8ms preprocess, 37.8ms inference, 1.8ms postprocess per image at shape (1, 3, 1024, 1024)\n"
     ]
    },
    {
     "name": "stderr",
     "output_type": "stream",
     "text": [
      "Running YOLO OBB inference:  15%|█▌        | 77/507 [00:06<00:33, 12.73it/s]"
     ]
    },
    {
     "name": "stdout",
     "output_type": "stream",
     "text": [
      "Saved predicted image: /shared/data/climateplus2025/Prediction_for_poster_July21/Prediction/predicted_images/2023_RGB_8cm_W24A_17_tile_2048_8192_predicted.jpg\n",
      "Saved JSON: /shared/data/climateplus2025/Prediction_for_poster_July21/Prediction/predicted_json/2023_RGB_8cm_W24A_17_tile_2048_8192.json\n",
      "Saved TXT: /shared/data/climateplus2025/Prediction_for_poster_July21/Prediction/predicted_txt/2023_RGB_8cm_W24A_17_tile_2048_8192.txt\n",
      "\n",
      "image 1/1 /shared/data/climateplus2025/Prediction_for_poster_July21/CapeTown_Image_2023_tiles_1024_for_prediction/2023_RGB_8cm_W24A_17_tile_2048_9216.tif: 1024x1024 (no detections), 38.0ms\n",
      "Speed: 1.8ms preprocess, 38.0ms inference, 0.5ms postprocess per image at shape (1, 3, 1024, 1024)\n",
      "No detections, skipped TXT for: 2023_RGB_8cm_W24A_17_tile_2048_9216.tif\n",
      "\n",
      "image 1/1 /shared/data/climateplus2025/Prediction_for_poster_July21/CapeTown_Image_2023_tiles_1024_for_prediction/2023_RGB_8cm_W24A_17_tile_3072_0.tif: 1024x1024 None38.0ms\n",
      "Speed: 1.8ms preprocess, 38.0ms inference, 1.8ms postprocess per image at shape (1, 3, 1024, 1024)\n"
     ]
    },
    {
     "name": "stderr",
     "output_type": "stream",
     "text": [
      "Running YOLO OBB inference:  16%|█▌        | 79/507 [00:06<00:33, 12.78it/s]"
     ]
    },
    {
     "name": "stdout",
     "output_type": "stream",
     "text": [
      "Saved predicted image: /shared/data/climateplus2025/Prediction_for_poster_July21/Prediction/predicted_images/2023_RGB_8cm_W24A_17_tile_3072_0_predicted.jpg\n",
      "Saved JSON: /shared/data/climateplus2025/Prediction_for_poster_July21/Prediction/predicted_json/2023_RGB_8cm_W24A_17_tile_3072_0.json\n",
      "Saved TXT: /shared/data/climateplus2025/Prediction_for_poster_July21/Prediction/predicted_txt/2023_RGB_8cm_W24A_17_tile_3072_0.txt\n",
      "\n",
      "image 1/1 /shared/data/climateplus2025/Prediction_for_poster_July21/CapeTown_Image_2023_tiles_1024_for_prediction/2023_RGB_8cm_W24A_17_tile_3072_1024.tif: 1024x1024 None37.9ms\n",
      "Speed: 1.8ms preprocess, 37.9ms inference, 1.8ms postprocess per image at shape (1, 3, 1024, 1024)\n",
      "Saved predicted image: /shared/data/climateplus2025/Prediction_for_poster_July21/Prediction/predicted_images/2023_RGB_8cm_W24A_17_tile_3072_1024_predicted.jpg\n",
      "Saved JSON: /shared/data/climateplus2025/Prediction_for_poster_July21/Prediction/predicted_json/2023_RGB_8cm_W24A_17_tile_3072_1024.json\n",
      "Saved TXT: /shared/data/climateplus2025/Prediction_for_poster_July21/Prediction/predicted_txt/2023_RGB_8cm_W24A_17_tile_3072_1024.txt\n",
      "\n",
      "image 1/1 /shared/data/climateplus2025/Prediction_for_poster_July21/CapeTown_Image_2023_tiles_1024_for_prediction/2023_RGB_8cm_W24A_17_tile_3072_10240.tif: 1024x1024 (no detections), 37.9ms\n",
      "Speed: 1.8ms preprocess, 37.9ms inference, 0.5ms postprocess per image at shape (1, 3, 1024, 1024)\n"
     ]
    },
    {
     "name": "stderr",
     "output_type": "stream",
     "text": [
      "Running YOLO OBB inference:  16%|█▌        | 81/507 [00:06<00:33, 12.85it/s]"
     ]
    },
    {
     "name": "stdout",
     "output_type": "stream",
     "text": [
      "No detections, skipped TXT for: 2023_RGB_8cm_W24A_17_tile_3072_10240.tif\n",
      "\n",
      "image 1/1 /shared/data/climateplus2025/Prediction_for_poster_July21/CapeTown_Image_2023_tiles_1024_for_prediction/2023_RGB_8cm_W24A_17_tile_3072_11264.tif: 1024x1024 None37.7ms\n",
      "Speed: 1.8ms preprocess, 37.7ms inference, 1.8ms postprocess per image at shape (1, 3, 1024, 1024)\n",
      "Saved predicted image: /shared/data/climateplus2025/Prediction_for_poster_July21/Prediction/predicted_images/2023_RGB_8cm_W24A_17_tile_3072_11264_predicted.jpg\n",
      "Saved JSON: /shared/data/climateplus2025/Prediction_for_poster_July21/Prediction/predicted_json/2023_RGB_8cm_W24A_17_tile_3072_11264.json\n",
      "Saved TXT: /shared/data/climateplus2025/Prediction_for_poster_July21/Prediction/predicted_txt/2023_RGB_8cm_W24A_17_tile_3072_11264.txt\n",
      "\n",
      "image 1/1 /shared/data/climateplus2025/Prediction_for_poster_July21/CapeTown_Image_2023_tiles_1024_for_prediction/2023_RGB_8cm_W24A_17_tile_3072_12288.tif: 1024x1024 None37.8ms\n",
      "Speed: 2.0ms preprocess, 37.8ms inference, 1.9ms postprocess per image at shape (1, 3, 1024, 1024)\n"
     ]
    },
    {
     "name": "stderr",
     "output_type": "stream",
     "text": [
      "Running YOLO OBB inference:  16%|█▋        | 83/507 [00:06<00:32, 13.04it/s]"
     ]
    },
    {
     "name": "stdout",
     "output_type": "stream",
     "text": [
      "Saved predicted image: /shared/data/climateplus2025/Prediction_for_poster_July21/Prediction/predicted_images/2023_RGB_8cm_W24A_17_tile_3072_12288_predicted.jpg\n",
      "Saved JSON: /shared/data/climateplus2025/Prediction_for_poster_July21/Prediction/predicted_json/2023_RGB_8cm_W24A_17_tile_3072_12288.json\n",
      "Saved TXT: /shared/data/climateplus2025/Prediction_for_poster_July21/Prediction/predicted_txt/2023_RGB_8cm_W24A_17_tile_3072_12288.txt\n",
      "\n",
      "image 1/1 /shared/data/climateplus2025/Prediction_for_poster_July21/CapeTown_Image_2023_tiles_1024_for_prediction/2023_RGB_8cm_W24A_17_tile_3072_2048.tif: 1024x1024 None37.9ms\n",
      "Speed: 1.8ms preprocess, 37.9ms inference, 1.9ms postprocess per image at shape (1, 3, 1024, 1024)\n",
      "Saved predicted image: /shared/data/climateplus2025/Prediction_for_poster_July21/Prediction/predicted_images/2023_RGB_8cm_W24A_17_tile_3072_2048_predicted.jpg\n",
      "Saved JSON: /shared/data/climateplus2025/Prediction_for_poster_July21/Prediction/predicted_json/2023_RGB_8cm_W24A_17_tile_3072_2048.json\n",
      "Saved TXT: /shared/data/climateplus2025/Prediction_for_poster_July21/Prediction/predicted_txt/2023_RGB_8cm_W24A_17_tile_3072_2048.txt\n",
      "\n",
      "image 1/1 /shared/data/climateplus2025/Prediction_for_poster_July21/CapeTown_Image_2023_tiles_1024_for_prediction/2023_RGB_8cm_W24A_17_tile_3072_3072.tif: 1024x1024 None38.0ms\n",
      "Speed: 1.9ms preprocess, 38.0ms inference, 1.9ms postprocess per image at shape (1, 3, 1024, 1024)\n"
     ]
    },
    {
     "name": "stderr",
     "output_type": "stream",
     "text": [
      "Running YOLO OBB inference:  17%|█▋        | 85/507 [00:06<00:33, 12.63it/s]"
     ]
    },
    {
     "name": "stdout",
     "output_type": "stream",
     "text": [
      "Saved predicted image: /shared/data/climateplus2025/Prediction_for_poster_July21/Prediction/predicted_images/2023_RGB_8cm_W24A_17_tile_3072_3072_predicted.jpg\n",
      "Saved JSON: /shared/data/climateplus2025/Prediction_for_poster_July21/Prediction/predicted_json/2023_RGB_8cm_W24A_17_tile_3072_3072.json\n",
      "Saved TXT: /shared/data/climateplus2025/Prediction_for_poster_July21/Prediction/predicted_txt/2023_RGB_8cm_W24A_17_tile_3072_3072.txt\n",
      "\n",
      "image 1/1 /shared/data/climateplus2025/Prediction_for_poster_July21/CapeTown_Image_2023_tiles_1024_for_prediction/2023_RGB_8cm_W24A_17_tile_3072_4096.tif: 1024x1024 None37.8ms\n",
      "Speed: 1.8ms preprocess, 37.8ms inference, 1.9ms postprocess per image at shape (1, 3, 1024, 1024)\n",
      "Saved predicted image: /shared/data/climateplus2025/Prediction_for_poster_July21/Prediction/predicted_images/2023_RGB_8cm_W24A_17_tile_3072_4096_predicted.jpg\n",
      "Saved JSON: /shared/data/climateplus2025/Prediction_for_poster_July21/Prediction/predicted_json/2023_RGB_8cm_W24A_17_tile_3072_4096.json\n",
      "Saved TXT: /shared/data/climateplus2025/Prediction_for_poster_July21/Prediction/predicted_txt/2023_RGB_8cm_W24A_17_tile_3072_4096.txt\n",
      "\n",
      "image 1/1 /shared/data/climateplus2025/Prediction_for_poster_July21/CapeTown_Image_2023_tiles_1024_for_prediction/2023_RGB_8cm_W24A_17_tile_3072_5120.tif: 1024x1024 None37.7ms\n",
      "Speed: 1.8ms preprocess, 37.7ms inference, 1.9ms postprocess per image at shape (1, 3, 1024, 1024)\n"
     ]
    },
    {
     "name": "stderr",
     "output_type": "stream",
     "text": [
      "Running YOLO OBB inference:  17%|█▋        | 87/507 [00:06<00:33, 12.41it/s]"
     ]
    },
    {
     "name": "stdout",
     "output_type": "stream",
     "text": [
      "Saved predicted image: /shared/data/climateplus2025/Prediction_for_poster_July21/Prediction/predicted_images/2023_RGB_8cm_W24A_17_tile_3072_5120_predicted.jpg\n",
      "Saved JSON: /shared/data/climateplus2025/Prediction_for_poster_July21/Prediction/predicted_json/2023_RGB_8cm_W24A_17_tile_3072_5120.json\n",
      "Saved TXT: /shared/data/climateplus2025/Prediction_for_poster_July21/Prediction/predicted_txt/2023_RGB_8cm_W24A_17_tile_3072_5120.txt\n",
      "\n",
      "image 1/1 /shared/data/climateplus2025/Prediction_for_poster_July21/CapeTown_Image_2023_tiles_1024_for_prediction/2023_RGB_8cm_W24A_17_tile_3072_6144.tif: 1024x1024 (no detections), 37.8ms\n",
      "Speed: 2.0ms preprocess, 37.8ms inference, 0.5ms postprocess per image at shape (1, 3, 1024, 1024)\n",
      "No detections, skipped TXT for: 2023_RGB_8cm_W24A_17_tile_3072_6144.tif\n",
      "\n",
      "image 1/1 /shared/data/climateplus2025/Prediction_for_poster_July21/CapeTown_Image_2023_tiles_1024_for_prediction/2023_RGB_8cm_W24A_17_tile_3072_7168.tif: 1024x1024 None37.9ms\n",
      "Speed: 1.7ms preprocess, 37.9ms inference, 1.9ms postprocess per image at shape (1, 3, 1024, 1024)\n"
     ]
    },
    {
     "name": "stderr",
     "output_type": "stream",
     "text": [
      "Running YOLO OBB inference:  18%|█▊        | 89/507 [00:07<00:33, 12.56it/s]"
     ]
    },
    {
     "name": "stdout",
     "output_type": "stream",
     "text": [
      "Saved predicted image: /shared/data/climateplus2025/Prediction_for_poster_July21/Prediction/predicted_images/2023_RGB_8cm_W24A_17_tile_3072_7168_predicted.jpg\n",
      "Saved JSON: /shared/data/climateplus2025/Prediction_for_poster_July21/Prediction/predicted_json/2023_RGB_8cm_W24A_17_tile_3072_7168.json\n",
      "Saved TXT: /shared/data/climateplus2025/Prediction_for_poster_July21/Prediction/predicted_txt/2023_RGB_8cm_W24A_17_tile_3072_7168.txt\n",
      "\n",
      "image 1/1 /shared/data/climateplus2025/Prediction_for_poster_July21/CapeTown_Image_2023_tiles_1024_for_prediction/2023_RGB_8cm_W24A_17_tile_3072_8192.tif: 1024x1024 (no detections), 37.8ms\n",
      "Speed: 1.8ms preprocess, 37.8ms inference, 0.5ms postprocess per image at shape (1, 3, 1024, 1024)\n",
      "No detections, skipped TXT for: 2023_RGB_8cm_W24A_17_tile_3072_8192.tif\n",
      "\n",
      "image 1/1 /shared/data/climateplus2025/Prediction_for_poster_July21/CapeTown_Image_2023_tiles_1024_for_prediction/2023_RGB_8cm_W24A_17_tile_3072_9216.tif: 1024x1024 None38.0ms\n",
      "Speed: 1.8ms preprocess, 38.0ms inference, 2.0ms postprocess per image at shape (1, 3, 1024, 1024)\n"
     ]
    },
    {
     "name": "stderr",
     "output_type": "stream",
     "text": [
      "Running YOLO OBB inference:  18%|█▊        | 91/507 [00:07<00:32, 12.64it/s]"
     ]
    },
    {
     "name": "stdout",
     "output_type": "stream",
     "text": [
      "Saved predicted image: /shared/data/climateplus2025/Prediction_for_poster_July21/Prediction/predicted_images/2023_RGB_8cm_W24A_17_tile_3072_9216_predicted.jpg\n",
      "Saved JSON: /shared/data/climateplus2025/Prediction_for_poster_July21/Prediction/predicted_json/2023_RGB_8cm_W24A_17_tile_3072_9216.json\n",
      "Saved TXT: /shared/data/climateplus2025/Prediction_for_poster_July21/Prediction/predicted_txt/2023_RGB_8cm_W24A_17_tile_3072_9216.txt\n",
      "\n",
      "image 1/1 /shared/data/climateplus2025/Prediction_for_poster_July21/CapeTown_Image_2023_tiles_1024_for_prediction/2023_RGB_8cm_W24A_17_tile_4096_0.tif: 1024x1024 None37.8ms\n",
      "Speed: 1.8ms preprocess, 37.8ms inference, 1.9ms postprocess per image at shape (1, 3, 1024, 1024)\n",
      "Saved predicted image: /shared/data/climateplus2025/Prediction_for_poster_July21/Prediction/predicted_images/2023_RGB_8cm_W24A_17_tile_4096_0_predicted.jpg\n",
      "Saved JSON: /shared/data/climateplus2025/Prediction_for_poster_July21/Prediction/predicted_json/2023_RGB_8cm_W24A_17_tile_4096_0.json\n",
      "Saved TXT: /shared/data/climateplus2025/Prediction_for_poster_July21/Prediction/predicted_txt/2023_RGB_8cm_W24A_17_tile_4096_0.txt\n",
      "\n",
      "image 1/1 /shared/data/climateplus2025/Prediction_for_poster_July21/CapeTown_Image_2023_tiles_1024_for_prediction/2023_RGB_8cm_W24A_17_tile_4096_1024.tif: 1024x1024 None37.8ms\n",
      "Speed: 1.9ms preprocess, 37.8ms inference, 1.8ms postprocess per image at shape (1, 3, 1024, 1024)\n"
     ]
    },
    {
     "name": "stderr",
     "output_type": "stream",
     "text": [
      "Running YOLO OBB inference:  18%|█▊        | 93/507 [00:07<00:33, 12.38it/s]"
     ]
    },
    {
     "name": "stdout",
     "output_type": "stream",
     "text": [
      "Saved predicted image: /shared/data/climateplus2025/Prediction_for_poster_July21/Prediction/predicted_images/2023_RGB_8cm_W24A_17_tile_4096_1024_predicted.jpg\n",
      "Saved JSON: /shared/data/climateplus2025/Prediction_for_poster_July21/Prediction/predicted_json/2023_RGB_8cm_W24A_17_tile_4096_1024.json\n",
      "Saved TXT: /shared/data/climateplus2025/Prediction_for_poster_July21/Prediction/predicted_txt/2023_RGB_8cm_W24A_17_tile_4096_1024.txt\n",
      "\n",
      "image 1/1 /shared/data/climateplus2025/Prediction_for_poster_July21/CapeTown_Image_2023_tiles_1024_for_prediction/2023_RGB_8cm_W24A_17_tile_4096_10240.tif: 1024x1024 None37.8ms\n",
      "Speed: 1.9ms preprocess, 37.8ms inference, 1.9ms postprocess per image at shape (1, 3, 1024, 1024)\n",
      "Saved predicted image: /shared/data/climateplus2025/Prediction_for_poster_July21/Prediction/predicted_images/2023_RGB_8cm_W24A_17_tile_4096_10240_predicted.jpg\n",
      "Saved JSON: /shared/data/climateplus2025/Prediction_for_poster_July21/Prediction/predicted_json/2023_RGB_8cm_W24A_17_tile_4096_10240.json\n",
      "Saved TXT: /shared/data/climateplus2025/Prediction_for_poster_July21/Prediction/predicted_txt/2023_RGB_8cm_W24A_17_tile_4096_10240.txt\n",
      "\n",
      "image 1/1 /shared/data/climateplus2025/Prediction_for_poster_July21/CapeTown_Image_2023_tiles_1024_for_prediction/2023_RGB_8cm_W24A_17_tile_4096_11264.tif: 1024x1024 None37.9ms\n",
      "Speed: 1.9ms preprocess, 37.9ms inference, 1.9ms postprocess per image at shape (1, 3, 1024, 1024)\n"
     ]
    },
    {
     "name": "stderr",
     "output_type": "stream",
     "text": [
      "Running YOLO OBB inference:  19%|█▊        | 95/507 [00:07<00:33, 12.19it/s]"
     ]
    },
    {
     "name": "stdout",
     "output_type": "stream",
     "text": [
      "Saved predicted image: /shared/data/climateplus2025/Prediction_for_poster_July21/Prediction/predicted_images/2023_RGB_8cm_W24A_17_tile_4096_11264_predicted.jpg\n",
      "Saved JSON: /shared/data/climateplus2025/Prediction_for_poster_July21/Prediction/predicted_json/2023_RGB_8cm_W24A_17_tile_4096_11264.json\n",
      "Saved TXT: /shared/data/climateplus2025/Prediction_for_poster_July21/Prediction/predicted_txt/2023_RGB_8cm_W24A_17_tile_4096_11264.txt\n",
      "\n",
      "image 1/1 /shared/data/climateplus2025/Prediction_for_poster_July21/CapeTown_Image_2023_tiles_1024_for_prediction/2023_RGB_8cm_W24A_17_tile_4096_12288.tif: 1024x1024 (no detections), 37.9ms\n",
      "Speed: 1.9ms preprocess, 37.9ms inference, 0.5ms postprocess per image at shape (1, 3, 1024, 1024)\n",
      "No detections, skipped TXT for: 2023_RGB_8cm_W24A_17_tile_4096_12288.tif\n",
      "\n",
      "image 1/1 /shared/data/climateplus2025/Prediction_for_poster_July21/CapeTown_Image_2023_tiles_1024_for_prediction/2023_RGB_8cm_W24A_17_tile_4096_2048.tif: 1024x1024 (no detections), 37.9ms\n",
      "Speed: 1.9ms preprocess, 37.9ms inference, 0.5ms postprocess per image at shape (1, 3, 1024, 1024)\n"
     ]
    },
    {
     "name": "stderr",
     "output_type": "stream",
     "text": [
      "Running YOLO OBB inference:  19%|█▉        | 97/507 [00:07<00:31, 13.16it/s]"
     ]
    },
    {
     "name": "stdout",
     "output_type": "stream",
     "text": [
      "No detections, skipped TXT for: 2023_RGB_8cm_W24A_17_tile_4096_2048.tif\n",
      "\n",
      "image 1/1 /shared/data/climateplus2025/Prediction_for_poster_July21/CapeTown_Image_2023_tiles_1024_for_prediction/2023_RGB_8cm_W24A_17_tile_4096_3072.tif: 1024x1024 None37.7ms\n",
      "Speed: 1.8ms preprocess, 37.7ms inference, 1.8ms postprocess per image at shape (1, 3, 1024, 1024)\n",
      "Saved predicted image: /shared/data/climateplus2025/Prediction_for_poster_July21/Prediction/predicted_images/2023_RGB_8cm_W24A_17_tile_4096_3072_predicted.jpg\n",
      "Saved JSON: /shared/data/climateplus2025/Prediction_for_poster_July21/Prediction/predicted_json/2023_RGB_8cm_W24A_17_tile_4096_3072.json\n",
      "Saved TXT: /shared/data/climateplus2025/Prediction_for_poster_July21/Prediction/predicted_txt/2023_RGB_8cm_W24A_17_tile_4096_3072.txt\n",
      "\n",
      "image 1/1 /shared/data/climateplus2025/Prediction_for_poster_July21/CapeTown_Image_2023_tiles_1024_for_prediction/2023_RGB_8cm_W24A_17_tile_4096_4096.tif: 1024x1024 None37.8ms\n",
      "Speed: 1.8ms preprocess, 37.8ms inference, 1.9ms postprocess per image at shape (1, 3, 1024, 1024)\n"
     ]
    },
    {
     "name": "stderr",
     "output_type": "stream",
     "text": [
      "Running YOLO OBB inference:  20%|█▉        | 99/507 [00:07<00:31, 12.77it/s]"
     ]
    },
    {
     "name": "stdout",
     "output_type": "stream",
     "text": [
      "Saved predicted image: /shared/data/climateplus2025/Prediction_for_poster_July21/Prediction/predicted_images/2023_RGB_8cm_W24A_17_tile_4096_4096_predicted.jpg\n",
      "Saved JSON: /shared/data/climateplus2025/Prediction_for_poster_July21/Prediction/predicted_json/2023_RGB_8cm_W24A_17_tile_4096_4096.json\n",
      "Saved TXT: /shared/data/climateplus2025/Prediction_for_poster_July21/Prediction/predicted_txt/2023_RGB_8cm_W24A_17_tile_4096_4096.txt\n",
      "\n",
      "image 1/1 /shared/data/climateplus2025/Prediction_for_poster_July21/CapeTown_Image_2023_tiles_1024_for_prediction/2023_RGB_8cm_W24A_17_tile_4096_5120.tif: 1024x1024 None37.9ms\n",
      "Speed: 1.8ms preprocess, 37.9ms inference, 1.9ms postprocess per image at shape (1, 3, 1024, 1024)\n",
      "Saved predicted image: /shared/data/climateplus2025/Prediction_for_poster_July21/Prediction/predicted_images/2023_RGB_8cm_W24A_17_tile_4096_5120_predicted.jpg\n",
      "Saved JSON: /shared/data/climateplus2025/Prediction_for_poster_July21/Prediction/predicted_json/2023_RGB_8cm_W24A_17_tile_4096_5120.json\n",
      "Saved TXT: /shared/data/climateplus2025/Prediction_for_poster_July21/Prediction/predicted_txt/2023_RGB_8cm_W24A_17_tile_4096_5120.txt\n",
      "\n",
      "image 1/1 /shared/data/climateplus2025/Prediction_for_poster_July21/CapeTown_Image_2023_tiles_1024_for_prediction/2023_RGB_8cm_W24A_17_tile_4096_6144.tif: 1024x1024 None38.1ms\n",
      "Speed: 1.8ms preprocess, 38.1ms inference, 1.9ms postprocess per image at shape (1, 3, 1024, 1024)\n"
     ]
    },
    {
     "name": "stderr",
     "output_type": "stream",
     "text": [
      "Running YOLO OBB inference:  20%|█▉        | 101/507 [00:07<00:32, 12.47it/s]"
     ]
    },
    {
     "name": "stdout",
     "output_type": "stream",
     "text": [
      "Saved predicted image: /shared/data/climateplus2025/Prediction_for_poster_July21/Prediction/predicted_images/2023_RGB_8cm_W24A_17_tile_4096_6144_predicted.jpg\n",
      "Saved JSON: /shared/data/climateplus2025/Prediction_for_poster_July21/Prediction/predicted_json/2023_RGB_8cm_W24A_17_tile_4096_6144.json\n",
      "Saved TXT: /shared/data/climateplus2025/Prediction_for_poster_July21/Prediction/predicted_txt/2023_RGB_8cm_W24A_17_tile_4096_6144.txt\n",
      "\n",
      "image 1/1 /shared/data/climateplus2025/Prediction_for_poster_July21/CapeTown_Image_2023_tiles_1024_for_prediction/2023_RGB_8cm_W24A_17_tile_4096_7168.tif: 1024x1024 None37.9ms\n",
      "Speed: 1.9ms preprocess, 37.9ms inference, 1.9ms postprocess per image at shape (1, 3, 1024, 1024)\n",
      "Saved predicted image: /shared/data/climateplus2025/Prediction_for_poster_July21/Prediction/predicted_images/2023_RGB_8cm_W24A_17_tile_4096_7168_predicted.jpg\n",
      "Saved JSON: /shared/data/climateplus2025/Prediction_for_poster_July21/Prediction/predicted_json/2023_RGB_8cm_W24A_17_tile_4096_7168.json\n",
      "Saved TXT: /shared/data/climateplus2025/Prediction_for_poster_July21/Prediction/predicted_txt/2023_RGB_8cm_W24A_17_tile_4096_7168.txt\n",
      "\n",
      "image 1/1 /shared/data/climateplus2025/Prediction_for_poster_July21/CapeTown_Image_2023_tiles_1024_for_prediction/2023_RGB_8cm_W24A_17_tile_4096_8192.tif: 1024x1024 None37.8ms\n",
      "Speed: 1.9ms preprocess, 37.8ms inference, 1.9ms postprocess per image at shape (1, 3, 1024, 1024)\n"
     ]
    },
    {
     "name": "stderr",
     "output_type": "stream",
     "text": [
      "Running YOLO OBB inference:  20%|██        | 103/507 [00:08<00:32, 12.29it/s]"
     ]
    },
    {
     "name": "stdout",
     "output_type": "stream",
     "text": [
      "Saved predicted image: /shared/data/climateplus2025/Prediction_for_poster_July21/Prediction/predicted_images/2023_RGB_8cm_W24A_17_tile_4096_8192_predicted.jpg\n",
      "Saved JSON: /shared/data/climateplus2025/Prediction_for_poster_July21/Prediction/predicted_json/2023_RGB_8cm_W24A_17_tile_4096_8192.json\n",
      "Saved TXT: /shared/data/climateplus2025/Prediction_for_poster_July21/Prediction/predicted_txt/2023_RGB_8cm_W24A_17_tile_4096_8192.txt\n",
      "\n",
      "image 1/1 /shared/data/climateplus2025/Prediction_for_poster_July21/CapeTown_Image_2023_tiles_1024_for_prediction/2023_RGB_8cm_W24A_17_tile_4096_9216.tif: 1024x1024 None37.8ms\n",
      "Speed: 1.8ms preprocess, 37.8ms inference, 1.9ms postprocess per image at shape (1, 3, 1024, 1024)\n",
      "Saved predicted image: /shared/data/climateplus2025/Prediction_for_poster_July21/Prediction/predicted_images/2023_RGB_8cm_W24A_17_tile_4096_9216_predicted.jpg\n",
      "Saved JSON: /shared/data/climateplus2025/Prediction_for_poster_July21/Prediction/predicted_json/2023_RGB_8cm_W24A_17_tile_4096_9216.json\n",
      "Saved TXT: /shared/data/climateplus2025/Prediction_for_poster_July21/Prediction/predicted_txt/2023_RGB_8cm_W24A_17_tile_4096_9216.txt\n",
      "\n",
      "image 1/1 /shared/data/climateplus2025/Prediction_for_poster_July21/CapeTown_Image_2023_tiles_1024_for_prediction/2023_RGB_8cm_W24A_17_tile_5120_0.tif: 1024x1024 None37.9ms\n",
      "Speed: 1.8ms preprocess, 37.9ms inference, 1.9ms postprocess per image at shape (1, 3, 1024, 1024)\n"
     ]
    },
    {
     "name": "stderr",
     "output_type": "stream",
     "text": [
      "Running YOLO OBB inference:  21%|██        | 105/507 [00:08<00:33, 12.15it/s]"
     ]
    },
    {
     "name": "stdout",
     "output_type": "stream",
     "text": [
      "Saved predicted image: /shared/data/climateplus2025/Prediction_for_poster_July21/Prediction/predicted_images/2023_RGB_8cm_W24A_17_tile_5120_0_predicted.jpg\n",
      "Saved JSON: /shared/data/climateplus2025/Prediction_for_poster_July21/Prediction/predicted_json/2023_RGB_8cm_W24A_17_tile_5120_0.json\n",
      "Saved TXT: /shared/data/climateplus2025/Prediction_for_poster_July21/Prediction/predicted_txt/2023_RGB_8cm_W24A_17_tile_5120_0.txt\n",
      "\n",
      "image 1/1 /shared/data/climateplus2025/Prediction_for_poster_July21/CapeTown_Image_2023_tiles_1024_for_prediction/2023_RGB_8cm_W24A_17_tile_5120_1024.tif: 1024x1024 None38.0ms\n",
      "Speed: 1.8ms preprocess, 38.0ms inference, 1.9ms postprocess per image at shape (1, 3, 1024, 1024)\n",
      "Saved predicted image: /shared/data/climateplus2025/Prediction_for_poster_July21/Prediction/predicted_images/2023_RGB_8cm_W24A_17_tile_5120_1024_predicted.jpg\n",
      "Saved JSON: /shared/data/climateplus2025/Prediction_for_poster_July21/Prediction/predicted_json/2023_RGB_8cm_W24A_17_tile_5120_1024.json\n",
      "Saved TXT: /shared/data/climateplus2025/Prediction_for_poster_July21/Prediction/predicted_txt/2023_RGB_8cm_W24A_17_tile_5120_1024.txt\n",
      "\n",
      "image 1/1 /shared/data/climateplus2025/Prediction_for_poster_July21/CapeTown_Image_2023_tiles_1024_for_prediction/2023_RGB_8cm_W24A_17_tile_5120_10240.tif: 1024x1024 None37.7ms\n",
      "Speed: 1.8ms preprocess, 37.7ms inference, 1.9ms postprocess per image at shape (1, 3, 1024, 1024)\n"
     ]
    },
    {
     "name": "stderr",
     "output_type": "stream",
     "text": [
      "Running YOLO OBB inference:  21%|██        | 107/507 [00:08<00:33, 12.02it/s]"
     ]
    },
    {
     "name": "stdout",
     "output_type": "stream",
     "text": [
      "Saved predicted image: /shared/data/climateplus2025/Prediction_for_poster_July21/Prediction/predicted_images/2023_RGB_8cm_W24A_17_tile_5120_10240_predicted.jpg\n",
      "Saved JSON: /shared/data/climateplus2025/Prediction_for_poster_July21/Prediction/predicted_json/2023_RGB_8cm_W24A_17_tile_5120_10240.json\n",
      "Saved TXT: /shared/data/climateplus2025/Prediction_for_poster_July21/Prediction/predicted_txt/2023_RGB_8cm_W24A_17_tile_5120_10240.txt\n",
      "\n",
      "image 1/1 /shared/data/climateplus2025/Prediction_for_poster_July21/CapeTown_Image_2023_tiles_1024_for_prediction/2023_RGB_8cm_W24A_17_tile_5120_11264.tif: 1024x1024 None37.8ms\n",
      "Speed: 1.8ms preprocess, 37.8ms inference, 1.9ms postprocess per image at shape (1, 3, 1024, 1024)\n",
      "Saved predicted image: /shared/data/climateplus2025/Prediction_for_poster_July21/Prediction/predicted_images/2023_RGB_8cm_W24A_17_tile_5120_11264_predicted.jpg\n",
      "Saved JSON: /shared/data/climateplus2025/Prediction_for_poster_July21/Prediction/predicted_json/2023_RGB_8cm_W24A_17_tile_5120_11264.json\n",
      "Saved TXT: /shared/data/climateplus2025/Prediction_for_poster_July21/Prediction/predicted_txt/2023_RGB_8cm_W24A_17_tile_5120_11264.txt\n",
      "\n",
      "image 1/1 /shared/data/climateplus2025/Prediction_for_poster_July21/CapeTown_Image_2023_tiles_1024_for_prediction/2023_RGB_8cm_W24A_17_tile_5120_12288.tif: 1024x1024 (no detections), 37.7ms\n",
      "Speed: 2.0ms preprocess, 37.7ms inference, 0.5ms postprocess per image at shape (1, 3, 1024, 1024)\n"
     ]
    },
    {
     "name": "stderr",
     "output_type": "stream",
     "text": [
      "Running YOLO OBB inference:  21%|██▏       | 109/507 [00:08<00:31, 12.67it/s]"
     ]
    },
    {
     "name": "stdout",
     "output_type": "stream",
     "text": [
      "No detections, skipped TXT for: 2023_RGB_8cm_W24A_17_tile_5120_12288.tif\n",
      "\n",
      "image 1/1 /shared/data/climateplus2025/Prediction_for_poster_July21/CapeTown_Image_2023_tiles_1024_for_prediction/2023_RGB_8cm_W24A_17_tile_5120_2048.tif: 1024x1024 None37.9ms\n",
      "Speed: 1.8ms preprocess, 37.9ms inference, 1.8ms postprocess per image at shape (1, 3, 1024, 1024)\n",
      "Saved predicted image: /shared/data/climateplus2025/Prediction_for_poster_July21/Prediction/predicted_images/2023_RGB_8cm_W24A_17_tile_5120_2048_predicted.jpg\n",
      "Saved JSON: /shared/data/climateplus2025/Prediction_for_poster_July21/Prediction/predicted_json/2023_RGB_8cm_W24A_17_tile_5120_2048.json\n",
      "Saved TXT: /shared/data/climateplus2025/Prediction_for_poster_July21/Prediction/predicted_txt/2023_RGB_8cm_W24A_17_tile_5120_2048.txt\n",
      "\n",
      "image 1/1 /shared/data/climateplus2025/Prediction_for_poster_July21/CapeTown_Image_2023_tiles_1024_for_prediction/2023_RGB_8cm_W24A_17_tile_5120_3072.tif: 1024x1024 None37.8ms\n",
      "Speed: 1.8ms preprocess, 37.8ms inference, 1.8ms postprocess per image at shape (1, 3, 1024, 1024)\n"
     ]
    },
    {
     "name": "stderr",
     "output_type": "stream",
     "text": [
      "Running YOLO OBB inference:  22%|██▏       | 111/507 [00:08<00:31, 12.43it/s]"
     ]
    },
    {
     "name": "stdout",
     "output_type": "stream",
     "text": [
      "Saved predicted image: /shared/data/climateplus2025/Prediction_for_poster_July21/Prediction/predicted_images/2023_RGB_8cm_W24A_17_tile_5120_3072_predicted.jpg\n",
      "Saved JSON: /shared/data/climateplus2025/Prediction_for_poster_July21/Prediction/predicted_json/2023_RGB_8cm_W24A_17_tile_5120_3072.json\n",
      "Saved TXT: /shared/data/climateplus2025/Prediction_for_poster_July21/Prediction/predicted_txt/2023_RGB_8cm_W24A_17_tile_5120_3072.txt\n",
      "\n",
      "image 1/1 /shared/data/climateplus2025/Prediction_for_poster_July21/CapeTown_Image_2023_tiles_1024_for_prediction/2023_RGB_8cm_W24A_17_tile_5120_4096.tif: 1024x1024 (no detections), 37.9ms\n",
      "Speed: 1.9ms preprocess, 37.9ms inference, 0.5ms postprocess per image at shape (1, 3, 1024, 1024)\n",
      "No detections, skipped TXT for: 2023_RGB_8cm_W24A_17_tile_5120_4096.tif\n",
      "\n",
      "image 1/1 /shared/data/climateplus2025/Prediction_for_poster_July21/CapeTown_Image_2023_tiles_1024_for_prediction/2023_RGB_8cm_W24A_17_tile_5120_5120.tif: 1024x1024 None37.7ms\n",
      "Speed: 1.8ms preprocess, 37.7ms inference, 1.8ms postprocess per image at shape (1, 3, 1024, 1024)\n"
     ]
    },
    {
     "name": "stderr",
     "output_type": "stream",
     "text": [
      "Running YOLO OBB inference:  22%|██▏       | 113/507 [00:08<00:31, 12.57it/s]"
     ]
    },
    {
     "name": "stdout",
     "output_type": "stream",
     "text": [
      "Saved predicted image: /shared/data/climateplus2025/Prediction_for_poster_July21/Prediction/predicted_images/2023_RGB_8cm_W24A_17_tile_5120_5120_predicted.jpg\n",
      "Saved JSON: /shared/data/climateplus2025/Prediction_for_poster_July21/Prediction/predicted_json/2023_RGB_8cm_W24A_17_tile_5120_5120.json\n",
      "Saved TXT: /shared/data/climateplus2025/Prediction_for_poster_July21/Prediction/predicted_txt/2023_RGB_8cm_W24A_17_tile_5120_5120.txt\n",
      "\n",
      "image 1/1 /shared/data/climateplus2025/Prediction_for_poster_July21/CapeTown_Image_2023_tiles_1024_for_prediction/2023_RGB_8cm_W24A_17_tile_5120_6144.tif: 1024x1024 None37.8ms\n",
      "Speed: 1.8ms preprocess, 37.8ms inference, 1.8ms postprocess per image at shape (1, 3, 1024, 1024)\n",
      "Saved predicted image: /shared/data/climateplus2025/Prediction_for_poster_July21/Prediction/predicted_images/2023_RGB_8cm_W24A_17_tile_5120_6144_predicted.jpg\n",
      "Saved JSON: /shared/data/climateplus2025/Prediction_for_poster_July21/Prediction/predicted_json/2023_RGB_8cm_W24A_17_tile_5120_6144.json\n",
      "Saved TXT: /shared/data/climateplus2025/Prediction_for_poster_July21/Prediction/predicted_txt/2023_RGB_8cm_W24A_17_tile_5120_6144.txt\n",
      "\n",
      "image 1/1 /shared/data/climateplus2025/Prediction_for_poster_July21/CapeTown_Image_2023_tiles_1024_for_prediction/2023_RGB_8cm_W24A_17_tile_5120_7168.tif: 1024x1024 None37.9ms\n",
      "Speed: 1.9ms preprocess, 37.9ms inference, 1.9ms postprocess per image at shape (1, 3, 1024, 1024)\n"
     ]
    },
    {
     "name": "stderr",
     "output_type": "stream",
     "text": [
      "Running YOLO OBB inference:  23%|██▎       | 115/507 [00:09<00:31, 12.35it/s]"
     ]
    },
    {
     "name": "stdout",
     "output_type": "stream",
     "text": [
      "Saved predicted image: /shared/data/climateplus2025/Prediction_for_poster_July21/Prediction/predicted_images/2023_RGB_8cm_W24A_17_tile_5120_7168_predicted.jpg\n",
      "Saved JSON: /shared/data/climateplus2025/Prediction_for_poster_July21/Prediction/predicted_json/2023_RGB_8cm_W24A_17_tile_5120_7168.json\n",
      "Saved TXT: /shared/data/climateplus2025/Prediction_for_poster_July21/Prediction/predicted_txt/2023_RGB_8cm_W24A_17_tile_5120_7168.txt\n",
      "\n",
      "image 1/1 /shared/data/climateplus2025/Prediction_for_poster_July21/CapeTown_Image_2023_tiles_1024_for_prediction/2023_RGB_8cm_W24A_17_tile_5120_8192.tif: 1024x1024 None37.9ms\n",
      "Speed: 1.8ms preprocess, 37.9ms inference, 1.8ms postprocess per image at shape (1, 3, 1024, 1024)\n",
      "Saved predicted image: /shared/data/climateplus2025/Prediction_for_poster_July21/Prediction/predicted_images/2023_RGB_8cm_W24A_17_tile_5120_8192_predicted.jpg\n",
      "Saved JSON: /shared/data/climateplus2025/Prediction_for_poster_July21/Prediction/predicted_json/2023_RGB_8cm_W24A_17_tile_5120_8192.json\n",
      "Saved TXT: /shared/data/climateplus2025/Prediction_for_poster_July21/Prediction/predicted_txt/2023_RGB_8cm_W24A_17_tile_5120_8192.txt\n",
      "\n",
      "image 1/1 /shared/data/climateplus2025/Prediction_for_poster_July21/CapeTown_Image_2023_tiles_1024_for_prediction/2023_RGB_8cm_W24A_17_tile_5120_9216.tif: 1024x1024 None37.7ms\n",
      "Speed: 1.8ms preprocess, 37.7ms inference, 1.8ms postprocess per image at shape (1, 3, 1024, 1024)\n"
     ]
    },
    {
     "name": "stderr",
     "output_type": "stream",
     "text": [
      "Running YOLO OBB inference:  23%|██▎       | 117/507 [00:09<00:32, 12.19it/s]"
     ]
    },
    {
     "name": "stdout",
     "output_type": "stream",
     "text": [
      "Saved predicted image: /shared/data/climateplus2025/Prediction_for_poster_July21/Prediction/predicted_images/2023_RGB_8cm_W24A_17_tile_5120_9216_predicted.jpg\n",
      "Saved JSON: /shared/data/climateplus2025/Prediction_for_poster_July21/Prediction/predicted_json/2023_RGB_8cm_W24A_17_tile_5120_9216.json\n",
      "Saved TXT: /shared/data/climateplus2025/Prediction_for_poster_July21/Prediction/predicted_txt/2023_RGB_8cm_W24A_17_tile_5120_9216.txt\n",
      "\n",
      "image 1/1 /shared/data/climateplus2025/Prediction_for_poster_July21/CapeTown_Image_2023_tiles_1024_for_prediction/2023_RGB_8cm_W24A_17_tile_6144_0.tif: 1024x1024 None37.8ms\n",
      "Speed: 1.8ms preprocess, 37.8ms inference, 1.9ms postprocess per image at shape (1, 3, 1024, 1024)\n",
      "Saved predicted image: /shared/data/climateplus2025/Prediction_for_poster_July21/Prediction/predicted_images/2023_RGB_8cm_W24A_17_tile_6144_0_predicted.jpg\n",
      "Saved JSON: /shared/data/climateplus2025/Prediction_for_poster_July21/Prediction/predicted_json/2023_RGB_8cm_W24A_17_tile_6144_0.json\n",
      "Saved TXT: /shared/data/climateplus2025/Prediction_for_poster_July21/Prediction/predicted_txt/2023_RGB_8cm_W24A_17_tile_6144_0.txt\n",
      "\n",
      "image 1/1 /shared/data/climateplus2025/Prediction_for_poster_July21/CapeTown_Image_2023_tiles_1024_for_prediction/2023_RGB_8cm_W24A_17_tile_6144_1024.tif: 1024x1024 (no detections), 37.9ms\n",
      "Speed: 1.9ms preprocess, 37.9ms inference, 0.5ms postprocess per image at shape (1, 3, 1024, 1024)\n"
     ]
    },
    {
     "name": "stderr",
     "output_type": "stream",
     "text": [
      "Running YOLO OBB inference:  23%|██▎       | 119/507 [00:09<00:31, 12.35it/s]"
     ]
    },
    {
     "name": "stdout",
     "output_type": "stream",
     "text": [
      "No detections, skipped TXT for: 2023_RGB_8cm_W24A_17_tile_6144_1024.tif\n",
      "\n",
      "image 1/1 /shared/data/climateplus2025/Prediction_for_poster_July21/CapeTown_Image_2023_tiles_1024_for_prediction/2023_RGB_8cm_W24A_17_tile_6144_10240.tif: 1024x1024 None37.7ms\n",
      "Speed: 1.8ms preprocess, 37.7ms inference, 1.9ms postprocess per image at shape (1, 3, 1024, 1024)\n",
      "Saved predicted image: /shared/data/climateplus2025/Prediction_for_poster_July21/Prediction/predicted_images/2023_RGB_8cm_W24A_17_tile_6144_10240_predicted.jpg\n",
      "Saved JSON: /shared/data/climateplus2025/Prediction_for_poster_July21/Prediction/predicted_json/2023_RGB_8cm_W24A_17_tile_6144_10240.json\n",
      "Saved TXT: /shared/data/climateplus2025/Prediction_for_poster_July21/Prediction/predicted_txt/2023_RGB_8cm_W24A_17_tile_6144_10240.txt\n",
      "\n",
      "image 1/1 /shared/data/climateplus2025/Prediction_for_poster_July21/CapeTown_Image_2023_tiles_1024_for_prediction/2023_RGB_8cm_W24A_17_tile_6144_11264.tif: 1024x1024 None37.8ms\n",
      "Speed: 1.9ms preprocess, 37.8ms inference, 1.8ms postprocess per image at shape (1, 3, 1024, 1024)\n"
     ]
    },
    {
     "name": "stderr",
     "output_type": "stream",
     "text": [
      "Running YOLO OBB inference:  24%|██▍       | 121/507 [00:09<00:31, 12.18it/s]"
     ]
    },
    {
     "name": "stdout",
     "output_type": "stream",
     "text": [
      "Saved predicted image: /shared/data/climateplus2025/Prediction_for_poster_July21/Prediction/predicted_images/2023_RGB_8cm_W24A_17_tile_6144_11264_predicted.jpg\n",
      "Saved JSON: /shared/data/climateplus2025/Prediction_for_poster_July21/Prediction/predicted_json/2023_RGB_8cm_W24A_17_tile_6144_11264.json\n",
      "Saved TXT: /shared/data/climateplus2025/Prediction_for_poster_July21/Prediction/predicted_txt/2023_RGB_8cm_W24A_17_tile_6144_11264.txt\n",
      "\n",
      "image 1/1 /shared/data/climateplus2025/Prediction_for_poster_July21/CapeTown_Image_2023_tiles_1024_for_prediction/2023_RGB_8cm_W24A_17_tile_6144_12288.tif: 1024x1024 (no detections), 37.8ms\n",
      "Speed: 2.0ms preprocess, 37.8ms inference, 0.5ms postprocess per image at shape (1, 3, 1024, 1024)\n",
      "No detections, skipped TXT for: 2023_RGB_8cm_W24A_17_tile_6144_12288.tif\n",
      "\n",
      "image 1/1 /shared/data/climateplus2025/Prediction_for_poster_July21/CapeTown_Image_2023_tiles_1024_for_prediction/2023_RGB_8cm_W24A_17_tile_6144_2048.tif: 1024x1024 None37.8ms\n",
      "Speed: 1.7ms preprocess, 37.8ms inference, 1.8ms postprocess per image at shape (1, 3, 1024, 1024)\n"
     ]
    },
    {
     "name": "stderr",
     "output_type": "stream",
     "text": [
      "Running YOLO OBB inference:  24%|██▍       | 123/507 [00:09<00:29, 12.84it/s]"
     ]
    },
    {
     "name": "stdout",
     "output_type": "stream",
     "text": [
      "Saved predicted image: /shared/data/climateplus2025/Prediction_for_poster_July21/Prediction/predicted_images/2023_RGB_8cm_W24A_17_tile_6144_2048_predicted.jpg\n",
      "Saved JSON: /shared/data/climateplus2025/Prediction_for_poster_July21/Prediction/predicted_json/2023_RGB_8cm_W24A_17_tile_6144_2048.json\n",
      "Saved TXT: /shared/data/climateplus2025/Prediction_for_poster_July21/Prediction/predicted_txt/2023_RGB_8cm_W24A_17_tile_6144_2048.txt\n",
      "\n",
      "image 1/1 /shared/data/climateplus2025/Prediction_for_poster_July21/CapeTown_Image_2023_tiles_1024_for_prediction/2023_RGB_8cm_W24A_17_tile_6144_3072.tif: 1024x1024 (no detections), 37.8ms\n",
      "Speed: 1.8ms preprocess, 37.8ms inference, 0.5ms postprocess per image at shape (1, 3, 1024, 1024)\n",
      "No detections, skipped TXT for: 2023_RGB_8cm_W24A_17_tile_6144_3072.tif\n",
      "\n",
      "image 1/1 /shared/data/climateplus2025/Prediction_for_poster_July21/CapeTown_Image_2023_tiles_1024_for_prediction/2023_RGB_8cm_W24A_17_tile_6144_4096.tif: 1024x1024 None37.8ms\n",
      "Speed: 1.8ms preprocess, 37.8ms inference, 1.9ms postprocess per image at shape (1, 3, 1024, 1024)\n"
     ]
    },
    {
     "name": "stderr",
     "output_type": "stream",
     "text": [
      "Running YOLO OBB inference:  25%|██▍       | 125/507 [00:09<00:29, 12.86it/s]"
     ]
    },
    {
     "name": "stdout",
     "output_type": "stream",
     "text": [
      "Saved predicted image: /shared/data/climateplus2025/Prediction_for_poster_July21/Prediction/predicted_images/2023_RGB_8cm_W24A_17_tile_6144_4096_predicted.jpg\n",
      "Saved JSON: /shared/data/climateplus2025/Prediction_for_poster_July21/Prediction/predicted_json/2023_RGB_8cm_W24A_17_tile_6144_4096.json\n",
      "Saved TXT: /shared/data/climateplus2025/Prediction_for_poster_July21/Prediction/predicted_txt/2023_RGB_8cm_W24A_17_tile_6144_4096.txt\n",
      "\n",
      "image 1/1 /shared/data/climateplus2025/Prediction_for_poster_July21/CapeTown_Image_2023_tiles_1024_for_prediction/2023_RGB_8cm_W24A_17_tile_6144_5120.tif: 1024x1024 None37.7ms\n",
      "Speed: 1.8ms preprocess, 37.7ms inference, 1.9ms postprocess per image at shape (1, 3, 1024, 1024)\n",
      "Saved predicted image: /shared/data/climateplus2025/Prediction_for_poster_July21/Prediction/predicted_images/2023_RGB_8cm_W24A_17_tile_6144_5120_predicted.jpg\n",
      "Saved JSON: /shared/data/climateplus2025/Prediction_for_poster_July21/Prediction/predicted_json/2023_RGB_8cm_W24A_17_tile_6144_5120.json\n",
      "Saved TXT: /shared/data/climateplus2025/Prediction_for_poster_July21/Prediction/predicted_txt/2023_RGB_8cm_W24A_17_tile_6144_5120.txt\n",
      "\n",
      "image 1/1 /shared/data/climateplus2025/Prediction_for_poster_July21/CapeTown_Image_2023_tiles_1024_for_prediction/2023_RGB_8cm_W24A_17_tile_6144_6144.tif: 1024x1024 None37.8ms\n",
      "Speed: 1.8ms preprocess, 37.8ms inference, 1.8ms postprocess per image at shape (1, 3, 1024, 1024)\n"
     ]
    },
    {
     "name": "stderr",
     "output_type": "stream",
     "text": [
      "Running YOLO OBB inference:  25%|██▌       | 127/507 [00:10<00:30, 12.52it/s]"
     ]
    },
    {
     "name": "stdout",
     "output_type": "stream",
     "text": [
      "Saved predicted image: /shared/data/climateplus2025/Prediction_for_poster_July21/Prediction/predicted_images/2023_RGB_8cm_W24A_17_tile_6144_6144_predicted.jpg\n",
      "Saved JSON: /shared/data/climateplus2025/Prediction_for_poster_July21/Prediction/predicted_json/2023_RGB_8cm_W24A_17_tile_6144_6144.json\n",
      "Saved TXT: /shared/data/climateplus2025/Prediction_for_poster_July21/Prediction/predicted_txt/2023_RGB_8cm_W24A_17_tile_6144_6144.txt\n",
      "\n",
      "image 1/1 /shared/data/climateplus2025/Prediction_for_poster_July21/CapeTown_Image_2023_tiles_1024_for_prediction/2023_RGB_8cm_W24A_17_tile_6144_7168.tif: 1024x1024 None38.1ms\n",
      "Speed: 1.8ms preprocess, 38.1ms inference, 1.9ms postprocess per image at shape (1, 3, 1024, 1024)\n",
      "Saved predicted image: /shared/data/climateplus2025/Prediction_for_poster_July21/Prediction/predicted_images/2023_RGB_8cm_W24A_17_tile_6144_7168_predicted.jpg\n",
      "Saved JSON: /shared/data/climateplus2025/Prediction_for_poster_July21/Prediction/predicted_json/2023_RGB_8cm_W24A_17_tile_6144_7168.json\n",
      "Saved TXT: /shared/data/climateplus2025/Prediction_for_poster_July21/Prediction/predicted_txt/2023_RGB_8cm_W24A_17_tile_6144_7168.txt\n",
      "\n",
      "image 1/1 /shared/data/climateplus2025/Prediction_for_poster_July21/CapeTown_Image_2023_tiles_1024_for_prediction/2023_RGB_8cm_W24A_17_tile_6144_8192.tif: 1024x1024 None38.0ms\n",
      "Speed: 1.9ms preprocess, 38.0ms inference, 1.8ms postprocess per image at shape (1, 3, 1024, 1024)\n"
     ]
    },
    {
     "name": "stderr",
     "output_type": "stream",
     "text": [
      "Running YOLO OBB inference:  25%|██▌       | 129/507 [00:10<00:30, 12.26it/s]"
     ]
    },
    {
     "name": "stdout",
     "output_type": "stream",
     "text": [
      "Saved predicted image: /shared/data/climateplus2025/Prediction_for_poster_July21/Prediction/predicted_images/2023_RGB_8cm_W24A_17_tile_6144_8192_predicted.jpg\n",
      "Saved JSON: /shared/data/climateplus2025/Prediction_for_poster_July21/Prediction/predicted_json/2023_RGB_8cm_W24A_17_tile_6144_8192.json\n",
      "Saved TXT: /shared/data/climateplus2025/Prediction_for_poster_July21/Prediction/predicted_txt/2023_RGB_8cm_W24A_17_tile_6144_8192.txt\n",
      "\n",
      "image 1/1 /shared/data/climateplus2025/Prediction_for_poster_July21/CapeTown_Image_2023_tiles_1024_for_prediction/2023_RGB_8cm_W24A_17_tile_6144_9216.tif: 1024x1024 None37.8ms\n",
      "Speed: 1.9ms preprocess, 37.8ms inference, 1.8ms postprocess per image at shape (1, 3, 1024, 1024)\n",
      "Saved predicted image: /shared/data/climateplus2025/Prediction_for_poster_July21/Prediction/predicted_images/2023_RGB_8cm_W24A_17_tile_6144_9216_predicted.jpg\n",
      "Saved JSON: /shared/data/climateplus2025/Prediction_for_poster_July21/Prediction/predicted_json/2023_RGB_8cm_W24A_17_tile_6144_9216.json\n",
      "Saved TXT: /shared/data/climateplus2025/Prediction_for_poster_July21/Prediction/predicted_txt/2023_RGB_8cm_W24A_17_tile_6144_9216.txt\n",
      "\n",
      "image 1/1 /shared/data/climateplus2025/Prediction_for_poster_July21/CapeTown_Image_2023_tiles_1024_for_prediction/2023_RGB_8cm_W24A_17_tile_7168_0.tif: 1024x1024 None37.8ms\n",
      "Speed: 3.0ms preprocess, 37.8ms inference, 3.3ms postprocess per image at shape (1, 3, 1024, 1024)\n",
      "Saved predicted image: /shared/data/climateplus2025/Prediction_for_poster_July21/Prediction/predicted_images/2023_RGB_8cm_W24A_17_tile_7168_0_predicted.jpg\n",
      "Saved JSON: /shared/data/climateplus2025/Prediction_for_poster_July21/Prediction/predicted_json/2023_RGB_8cm_W24A_17_tile_7168_0.json\n"
     ]
    },
    {
     "name": "stderr",
     "output_type": "stream",
     "text": [
      "Running YOLO OBB inference:  26%|██▌       | 131/507 [00:10<00:38,  9.83it/s]"
     ]
    },
    {
     "name": "stdout",
     "output_type": "stream",
     "text": [
      "Saved TXT: /shared/data/climateplus2025/Prediction_for_poster_July21/Prediction/predicted_txt/2023_RGB_8cm_W24A_17_tile_7168_0.txt\n",
      "\n",
      "image 1/1 /shared/data/climateplus2025/Prediction_for_poster_July21/CapeTown_Image_2023_tiles_1024_for_prediction/2023_RGB_8cm_W24A_17_tile_7168_1024.tif: 1024x1024 None37.9ms\n",
      "Speed: 1.8ms preprocess, 37.9ms inference, 1.8ms postprocess per image at shape (1, 3, 1024, 1024)\n",
      "Saved predicted image: /shared/data/climateplus2025/Prediction_for_poster_July21/Prediction/predicted_images/2023_RGB_8cm_W24A_17_tile_7168_1024_predicted.jpg\n",
      "Saved JSON: /shared/data/climateplus2025/Prediction_for_poster_July21/Prediction/predicted_json/2023_RGB_8cm_W24A_17_tile_7168_1024.json\n",
      "Saved TXT: /shared/data/climateplus2025/Prediction_for_poster_July21/Prediction/predicted_txt/2023_RGB_8cm_W24A_17_tile_7168_1024.txt\n",
      "\n",
      "image 1/1 /shared/data/climateplus2025/Prediction_for_poster_July21/CapeTown_Image_2023_tiles_1024_for_prediction/2023_RGB_8cm_W24A_17_tile_7168_10240.tif: 1024x1024 None38.0ms\n",
      "Speed: 3.0ms preprocess, 38.0ms inference, 3.3ms postprocess per image at shape (1, 3, 1024, 1024)\n"
     ]
    },
    {
     "name": "stderr",
     "output_type": "stream",
     "text": [
      "Running YOLO OBB inference:  26%|██▌       | 133/507 [00:10<00:43,  8.55it/s]"
     ]
    },
    {
     "name": "stdout",
     "output_type": "stream",
     "text": [
      "Saved predicted image: /shared/data/climateplus2025/Prediction_for_poster_July21/Prediction/predicted_images/2023_RGB_8cm_W24A_17_tile_7168_10240_predicted.jpg\n",
      "Saved JSON: /shared/data/climateplus2025/Prediction_for_poster_July21/Prediction/predicted_json/2023_RGB_8cm_W24A_17_tile_7168_10240.json\n",
      "Saved TXT: /shared/data/climateplus2025/Prediction_for_poster_July21/Prediction/predicted_txt/2023_RGB_8cm_W24A_17_tile_7168_10240.txt\n",
      "\n",
      "image 1/1 /shared/data/climateplus2025/Prediction_for_poster_July21/CapeTown_Image_2023_tiles_1024_for_prediction/2023_RGB_8cm_W24A_17_tile_7168_11264.tif: 1024x1024 None37.8ms\n",
      "Speed: 1.8ms preprocess, 37.8ms inference, 1.8ms postprocess per image at shape (1, 3, 1024, 1024)\n"
     ]
    },
    {
     "name": "stderr",
     "output_type": "stream",
     "text": [
      "Running YOLO OBB inference:  26%|██▋       | 134/507 [00:10<00:43,  8.55it/s]"
     ]
    },
    {
     "name": "stdout",
     "output_type": "stream",
     "text": [
      "Saved predicted image: /shared/data/climateplus2025/Prediction_for_poster_July21/Prediction/predicted_images/2023_RGB_8cm_W24A_17_tile_7168_11264_predicted.jpg\n",
      "Saved JSON: /shared/data/climateplus2025/Prediction_for_poster_July21/Prediction/predicted_json/2023_RGB_8cm_W24A_17_tile_7168_11264.json\n",
      "Saved TXT: /shared/data/climateplus2025/Prediction_for_poster_July21/Prediction/predicted_txt/2023_RGB_8cm_W24A_17_tile_7168_11264.txt\n",
      "\n",
      "image 1/1 /shared/data/climateplus2025/Prediction_for_poster_July21/CapeTown_Image_2023_tiles_1024_for_prediction/2023_RGB_8cm_W24A_17_tile_7168_12288.tif: 1024x1024 None37.8ms\n",
      "Speed: 2.0ms preprocess, 37.8ms inference, 1.8ms postprocess per image at shape (1, 3, 1024, 1024)\n",
      "Saved predicted image: /shared/data/climateplus2025/Prediction_for_poster_July21/Prediction/predicted_images/2023_RGB_8cm_W24A_17_tile_7168_12288_predicted.jpg\n",
      "Saved JSON: /shared/data/climateplus2025/Prediction_for_poster_July21/Prediction/predicted_json/2023_RGB_8cm_W24A_17_tile_7168_12288.json\n",
      "Saved TXT: /shared/data/climateplus2025/Prediction_for_poster_July21/Prediction/predicted_txt/2023_RGB_8cm_W24A_17_tile_7168_12288.txt\n",
      "\n",
      "image 1/1 /shared/data/climateplus2025/Prediction_for_poster_July21/CapeTown_Image_2023_tiles_1024_for_prediction/2023_RGB_8cm_W24A_17_tile_7168_2048.tif: 1024x1024 (no detections), 37.9ms\n",
      "Speed: 2.9ms preprocess, 37.9ms inference, 0.8ms postprocess per image at shape (1, 3, 1024, 1024)\n"
     ]
    },
    {
     "name": "stderr",
     "output_type": "stream",
     "text": [
      "Running YOLO OBB inference:  27%|██▋       | 136/507 [00:11<00:42,  8.78it/s]"
     ]
    },
    {
     "name": "stdout",
     "output_type": "stream",
     "text": [
      "No detections, skipped TXT for: 2023_RGB_8cm_W24A_17_tile_7168_2048.tif\n",
      "\n",
      "image 1/1 /shared/data/climateplus2025/Prediction_for_poster_July21/CapeTown_Image_2023_tiles_1024_for_prediction/2023_RGB_8cm_W24A_17_tile_7168_3072.tif: 1024x1024 (no detections), 38.0ms\n",
      "Speed: 2.6ms preprocess, 38.0ms inference, 0.6ms postprocess per image at shape (1, 3, 1024, 1024)\n"
     ]
    },
    {
     "name": "stderr",
     "output_type": "stream",
     "text": [
      "Running YOLO OBB inference:  27%|██▋       | 137/507 [00:11<00:43,  8.59it/s]"
     ]
    },
    {
     "name": "stdout",
     "output_type": "stream",
     "text": [
      "No detections, skipped TXT for: 2023_RGB_8cm_W24A_17_tile_7168_3072.tif\n",
      "\n",
      "image 1/1 /shared/data/climateplus2025/Prediction_for_poster_July21/CapeTown_Image_2023_tiles_1024_for_prediction/2023_RGB_8cm_W24A_17_tile_7168_4096.tif: 1024x1024 (no detections), 37.8ms\n",
      "Speed: 1.8ms preprocess, 37.8ms inference, 0.5ms postprocess per image at shape (1, 3, 1024, 1024)\n"
     ]
    },
    {
     "name": "stderr",
     "output_type": "stream",
     "text": [
      "Running YOLO OBB inference:  27%|██▋       | 138/507 [00:11<00:45,  8.10it/s]"
     ]
    },
    {
     "name": "stdout",
     "output_type": "stream",
     "text": [
      "No detections, skipped TXT for: 2023_RGB_8cm_W24A_17_tile_7168_4096.tif\n",
      "\n",
      "image 1/1 /shared/data/climateplus2025/Prediction_for_poster_July21/CapeTown_Image_2023_tiles_1024_for_prediction/2023_RGB_8cm_W24A_17_tile_7168_5120.tif: 1024x1024 None37.8ms\n",
      "Speed: 1.8ms preprocess, 37.8ms inference, 1.8ms postprocess per image at shape (1, 3, 1024, 1024)\n"
     ]
    },
    {
     "name": "stderr",
     "output_type": "stream",
     "text": [
      "Running YOLO OBB inference:  27%|██▋       | 139/507 [00:11<00:45,  8.00it/s]"
     ]
    },
    {
     "name": "stdout",
     "output_type": "stream",
     "text": [
      "Saved predicted image: /shared/data/climateplus2025/Prediction_for_poster_July21/Prediction/predicted_images/2023_RGB_8cm_W24A_17_tile_7168_5120_predicted.jpg\n",
      "Saved JSON: /shared/data/climateplus2025/Prediction_for_poster_July21/Prediction/predicted_json/2023_RGB_8cm_W24A_17_tile_7168_5120.json\n",
      "Saved TXT: /shared/data/climateplus2025/Prediction_for_poster_July21/Prediction/predicted_txt/2023_RGB_8cm_W24A_17_tile_7168_5120.txt\n",
      "\n",
      "image 1/1 /shared/data/climateplus2025/Prediction_for_poster_July21/CapeTown_Image_2023_tiles_1024_for_prediction/2023_RGB_8cm_W24A_17_tile_7168_6144.tif: 1024x1024 None37.8ms\n",
      "Speed: 1.7ms preprocess, 37.8ms inference, 1.8ms postprocess per image at shape (1, 3, 1024, 1024)\n"
     ]
    },
    {
     "name": "stderr",
     "output_type": "stream",
     "text": [
      "Running YOLO OBB inference:  28%|██▊       | 140/507 [00:11<00:47,  7.79it/s]"
     ]
    },
    {
     "name": "stdout",
     "output_type": "stream",
     "text": [
      "Saved predicted image: /shared/data/climateplus2025/Prediction_for_poster_July21/Prediction/predicted_images/2023_RGB_8cm_W24A_17_tile_7168_6144_predicted.jpg\n",
      "Saved JSON: /shared/data/climateplus2025/Prediction_for_poster_July21/Prediction/predicted_json/2023_RGB_8cm_W24A_17_tile_7168_6144.json\n",
      "Saved TXT: /shared/data/climateplus2025/Prediction_for_poster_July21/Prediction/predicted_txt/2023_RGB_8cm_W24A_17_tile_7168_6144.txt\n",
      "\n",
      "image 1/1 /shared/data/climateplus2025/Prediction_for_poster_July21/CapeTown_Image_2023_tiles_1024_for_prediction/2023_RGB_8cm_W24A_17_tile_7168_7168.tif: 1024x1024 None37.8ms\n",
      "Speed: 1.8ms preprocess, 37.8ms inference, 1.8ms postprocess per image at shape (1, 3, 1024, 1024)\n"
     ]
    },
    {
     "name": "stderr",
     "output_type": "stream",
     "text": [
      "Running YOLO OBB inference:  28%|██▊       | 141/507 [00:11<00:46,  7.81it/s]"
     ]
    },
    {
     "name": "stdout",
     "output_type": "stream",
     "text": [
      "Saved predicted image: /shared/data/climateplus2025/Prediction_for_poster_July21/Prediction/predicted_images/2023_RGB_8cm_W24A_17_tile_7168_7168_predicted.jpg\n",
      "Saved JSON: /shared/data/climateplus2025/Prediction_for_poster_July21/Prediction/predicted_json/2023_RGB_8cm_W24A_17_tile_7168_7168.json\n",
      "Saved TXT: /shared/data/climateplus2025/Prediction_for_poster_July21/Prediction/predicted_txt/2023_RGB_8cm_W24A_17_tile_7168_7168.txt\n",
      "\n",
      "image 1/1 /shared/data/climateplus2025/Prediction_for_poster_July21/CapeTown_Image_2023_tiles_1024_for_prediction/2023_RGB_8cm_W24A_17_tile_7168_8192.tif: 1024x1024 None37.7ms\n",
      "Speed: 1.8ms preprocess, 37.7ms inference, 1.8ms postprocess per image at shape (1, 3, 1024, 1024)\n"
     ]
    },
    {
     "name": "stderr",
     "output_type": "stream",
     "text": [
      "Running YOLO OBB inference:  28%|██▊       | 142/507 [00:11<00:45,  8.04it/s]"
     ]
    },
    {
     "name": "stdout",
     "output_type": "stream",
     "text": [
      "Saved predicted image: /shared/data/climateplus2025/Prediction_for_poster_July21/Prediction/predicted_images/2023_RGB_8cm_W24A_17_tile_7168_8192_predicted.jpg\n",
      "Saved JSON: /shared/data/climateplus2025/Prediction_for_poster_July21/Prediction/predicted_json/2023_RGB_8cm_W24A_17_tile_7168_8192.json\n",
      "Saved TXT: /shared/data/climateplus2025/Prediction_for_poster_July21/Prediction/predicted_txt/2023_RGB_8cm_W24A_17_tile_7168_8192.txt\n",
      "\n",
      "image 1/1 /shared/data/climateplus2025/Prediction_for_poster_July21/CapeTown_Image_2023_tiles_1024_for_prediction/2023_RGB_8cm_W24A_17_tile_7168_9216.tif: 1024x1024 None38.0ms\n",
      "Speed: 1.8ms preprocess, 38.0ms inference, 1.9ms postprocess per image at shape (1, 3, 1024, 1024)\n"
     ]
    },
    {
     "name": "stderr",
     "output_type": "stream",
     "text": [
      "Running YOLO OBB inference:  28%|██▊       | 143/507 [00:12<00:45,  7.93it/s]"
     ]
    },
    {
     "name": "stdout",
     "output_type": "stream",
     "text": [
      "Saved predicted image: /shared/data/climateplus2025/Prediction_for_poster_July21/Prediction/predicted_images/2023_RGB_8cm_W24A_17_tile_7168_9216_predicted.jpg\n",
      "Saved JSON: /shared/data/climateplus2025/Prediction_for_poster_July21/Prediction/predicted_json/2023_RGB_8cm_W24A_17_tile_7168_9216.json\n",
      "Saved TXT: /shared/data/climateplus2025/Prediction_for_poster_July21/Prediction/predicted_txt/2023_RGB_8cm_W24A_17_tile_7168_9216.txt\n",
      "\n",
      "image 1/1 /shared/data/climateplus2025/Prediction_for_poster_July21/CapeTown_Image_2023_tiles_1024_for_prediction/2023_RGB_8cm_W24A_17_tile_8192_0.tif: 1024x1024 None38.8ms\n",
      "Speed: 3.0ms preprocess, 38.8ms inference, 3.2ms postprocess per image at shape (1, 3, 1024, 1024)\n"
     ]
    },
    {
     "name": "stderr",
     "output_type": "stream",
     "text": [
      "Running YOLO OBB inference:  28%|██▊       | 144/507 [00:12<00:52,  6.92it/s]"
     ]
    },
    {
     "name": "stdout",
     "output_type": "stream",
     "text": [
      "Saved predicted image: /shared/data/climateplus2025/Prediction_for_poster_July21/Prediction/predicted_images/2023_RGB_8cm_W24A_17_tile_8192_0_predicted.jpg\n",
      "Saved JSON: /shared/data/climateplus2025/Prediction_for_poster_July21/Prediction/predicted_json/2023_RGB_8cm_W24A_17_tile_8192_0.json\n",
      "Saved TXT: /shared/data/climateplus2025/Prediction_for_poster_July21/Prediction/predicted_txt/2023_RGB_8cm_W24A_17_tile_8192_0.txt\n",
      "\n",
      "image 1/1 /shared/data/climateplus2025/Prediction_for_poster_July21/CapeTown_Image_2023_tiles_1024_for_prediction/2023_RGB_8cm_W24A_17_tile_8192_1024.tif: 1024x1024 (no detections), 40.0ms\n",
      "Speed: 1.8ms preprocess, 40.0ms inference, 0.5ms postprocess per image at shape (1, 3, 1024, 1024)\n"
     ]
    },
    {
     "name": "stderr",
     "output_type": "stream",
     "text": [
      "Running YOLO OBB inference:  29%|██▊       | 145/507 [00:12<00:49,  7.36it/s]"
     ]
    },
    {
     "name": "stdout",
     "output_type": "stream",
     "text": [
      "No detections, skipped TXT for: 2023_RGB_8cm_W24A_17_tile_8192_1024.tif\n",
      "\n",
      "image 1/1 /shared/data/climateplus2025/Prediction_for_poster_July21/CapeTown_Image_2023_tiles_1024_for_prediction/2023_RGB_8cm_W24A_17_tile_8192_10240.tif: 1024x1024 None40.2ms\n",
      "Speed: 3.1ms preprocess, 40.2ms inference, 1.8ms postprocess per image at shape (1, 3, 1024, 1024)\n"
     ]
    },
    {
     "name": "stderr",
     "output_type": "stream",
     "text": [
      "Running YOLO OBB inference:  29%|██▉       | 146/507 [00:12<00:51,  7.07it/s]"
     ]
    },
    {
     "name": "stdout",
     "output_type": "stream",
     "text": [
      "Saved predicted image: /shared/data/climateplus2025/Prediction_for_poster_July21/Prediction/predicted_images/2023_RGB_8cm_W24A_17_tile_8192_10240_predicted.jpg\n",
      "Saved JSON: /shared/data/climateplus2025/Prediction_for_poster_July21/Prediction/predicted_json/2023_RGB_8cm_W24A_17_tile_8192_10240.json\n",
      "Saved TXT: /shared/data/climateplus2025/Prediction_for_poster_July21/Prediction/predicted_txt/2023_RGB_8cm_W24A_17_tile_8192_10240.txt\n",
      "\n",
      "image 1/1 /shared/data/climateplus2025/Prediction_for_poster_July21/CapeTown_Image_2023_tiles_1024_for_prediction/2023_RGB_8cm_W24A_17_tile_8192_11264.tif: 1024x1024 None40.3ms\n",
      "Speed: 1.8ms preprocess, 40.3ms inference, 1.8ms postprocess per image at shape (1, 3, 1024, 1024)\n"
     ]
    },
    {
     "name": "stderr",
     "output_type": "stream",
     "text": [
      "Running YOLO OBB inference:  29%|██▉       | 147/507 [00:12<00:50,  7.20it/s]"
     ]
    },
    {
     "name": "stdout",
     "output_type": "stream",
     "text": [
      "Saved predicted image: /shared/data/climateplus2025/Prediction_for_poster_July21/Prediction/predicted_images/2023_RGB_8cm_W24A_17_tile_8192_11264_predicted.jpg\n",
      "Saved JSON: /shared/data/climateplus2025/Prediction_for_poster_July21/Prediction/predicted_json/2023_RGB_8cm_W24A_17_tile_8192_11264.json\n",
      "Saved TXT: /shared/data/climateplus2025/Prediction_for_poster_July21/Prediction/predicted_txt/2023_RGB_8cm_W24A_17_tile_8192_11264.txt\n",
      "\n",
      "image 1/1 /shared/data/climateplus2025/Prediction_for_poster_July21/CapeTown_Image_2023_tiles_1024_for_prediction/2023_RGB_8cm_W24A_17_tile_8192_12288.tif: 1024x1024 (no detections), 40.2ms\n",
      "Speed: 2.0ms preprocess, 40.2ms inference, 0.5ms postprocess per image at shape (1, 3, 1024, 1024)\n",
      "No detections, skipped TXT for: 2023_RGB_8cm_W24A_17_tile_8192_12288.tif\n",
      "\n",
      "image 1/1 /shared/data/climateplus2025/Prediction_for_poster_July21/CapeTown_Image_2023_tiles_1024_for_prediction/2023_RGB_8cm_W24A_17_tile_8192_2048.tif: 1024x1024 (no detections), 40.3ms\n",
      "Speed: 3.0ms preprocess, 40.3ms inference, 0.8ms postprocess per image at shape (1, 3, 1024, 1024)\n"
     ]
    },
    {
     "name": "stderr",
     "output_type": "stream",
     "text": [
      "Running YOLO OBB inference:  29%|██▉       | 149/507 [00:12<00:46,  7.70it/s]"
     ]
    },
    {
     "name": "stdout",
     "output_type": "stream",
     "text": [
      "No detections, skipped TXT for: 2023_RGB_8cm_W24A_17_tile_8192_2048.tif\n",
      "\n",
      "image 1/1 /shared/data/climateplus2025/Prediction_for_poster_July21/CapeTown_Image_2023_tiles_1024_for_prediction/2023_RGB_8cm_W24A_17_tile_8192_3072.tif: 1024x1024 (no detections), 40.3ms\n",
      "Speed: 3.1ms preprocess, 40.3ms inference, 0.8ms postprocess per image at shape (1, 3, 1024, 1024)\n"
     ]
    },
    {
     "name": "stderr",
     "output_type": "stream",
     "text": [
      "Running YOLO OBB inference:  30%|██▉       | 150/507 [00:13<00:50,  7.12it/s]"
     ]
    },
    {
     "name": "stdout",
     "output_type": "stream",
     "text": [
      "No detections, skipped TXT for: 2023_RGB_8cm_W24A_17_tile_8192_3072.tif\n",
      "\n",
      "image 1/1 /shared/data/climateplus2025/Prediction_for_poster_July21/CapeTown_Image_2023_tiles_1024_for_prediction/2023_RGB_8cm_W24A_17_tile_8192_4096.tif: 1024x1024 None40.2ms\n",
      "Speed: 2.0ms preprocess, 40.2ms inference, 1.8ms postprocess per image at shape (1, 3, 1024, 1024)\n"
     ]
    },
    {
     "name": "stderr",
     "output_type": "stream",
     "text": [
      "Running YOLO OBB inference:  30%|██▉       | 151/507 [00:13<00:47,  7.44it/s]"
     ]
    },
    {
     "name": "stdout",
     "output_type": "stream",
     "text": [
      "Saved predicted image: /shared/data/climateplus2025/Prediction_for_poster_July21/Prediction/predicted_images/2023_RGB_8cm_W24A_17_tile_8192_4096_predicted.jpg\n",
      "Saved JSON: /shared/data/climateplus2025/Prediction_for_poster_July21/Prediction/predicted_json/2023_RGB_8cm_W24A_17_tile_8192_4096.json\n",
      "Saved TXT: /shared/data/climateplus2025/Prediction_for_poster_July21/Prediction/predicted_txt/2023_RGB_8cm_W24A_17_tile_8192_4096.txt\n",
      "\n",
      "image 1/1 /shared/data/climateplus2025/Prediction_for_poster_July21/CapeTown_Image_2023_tiles_1024_for_prediction/2023_RGB_8cm_W24A_17_tile_8192_5120.tif: 1024x1024 None40.2ms\n",
      "Speed: 1.7ms preprocess, 40.2ms inference, 1.8ms postprocess per image at shape (1, 3, 1024, 1024)\n"
     ]
    },
    {
     "name": "stderr",
     "output_type": "stream",
     "text": [
      "Running YOLO OBB inference:  30%|██▉       | 152/507 [00:13<00:48,  7.39it/s]"
     ]
    },
    {
     "name": "stdout",
     "output_type": "stream",
     "text": [
      "Saved predicted image: /shared/data/climateplus2025/Prediction_for_poster_July21/Prediction/predicted_images/2023_RGB_8cm_W24A_17_tile_8192_5120_predicted.jpg\n",
      "Saved JSON: /shared/data/climateplus2025/Prediction_for_poster_July21/Prediction/predicted_json/2023_RGB_8cm_W24A_17_tile_8192_5120.json\n",
      "Saved TXT: /shared/data/climateplus2025/Prediction_for_poster_July21/Prediction/predicted_txt/2023_RGB_8cm_W24A_17_tile_8192_5120.txt\n",
      "\n",
      "image 1/1 /shared/data/climateplus2025/Prediction_for_poster_July21/CapeTown_Image_2023_tiles_1024_for_prediction/2023_RGB_8cm_W24A_17_tile_8192_6144.tif: 1024x1024 None40.3ms\n",
      "Speed: 3.1ms preprocess, 40.3ms inference, 1.8ms postprocess per image at shape (1, 3, 1024, 1024)\n"
     ]
    },
    {
     "name": "stderr",
     "output_type": "stream",
     "text": [
      "Running YOLO OBB inference:  30%|███       | 153/507 [00:13<00:49,  7.19it/s]"
     ]
    },
    {
     "name": "stdout",
     "output_type": "stream",
     "text": [
      "Saved predicted image: /shared/data/climateplus2025/Prediction_for_poster_July21/Prediction/predicted_images/2023_RGB_8cm_W24A_17_tile_8192_6144_predicted.jpg\n",
      "Saved JSON: /shared/data/climateplus2025/Prediction_for_poster_July21/Prediction/predicted_json/2023_RGB_8cm_W24A_17_tile_8192_6144.json\n",
      "Saved TXT: /shared/data/climateplus2025/Prediction_for_poster_July21/Prediction/predicted_txt/2023_RGB_8cm_W24A_17_tile_8192_6144.txt\n",
      "\n",
      "image 1/1 /shared/data/climateplus2025/Prediction_for_poster_July21/CapeTown_Image_2023_tiles_1024_for_prediction/2023_RGB_8cm_W24A_17_tile_8192_7168.tif: 1024x1024 None40.3ms\n",
      "Speed: 3.2ms preprocess, 40.3ms inference, 2.7ms postprocess per image at shape (1, 3, 1024, 1024)\n"
     ]
    },
    {
     "name": "stderr",
     "output_type": "stream",
     "text": [
      "Running YOLO OBB inference:  30%|███       | 154/507 [00:13<00:52,  6.75it/s]"
     ]
    },
    {
     "name": "stdout",
     "output_type": "stream",
     "text": [
      "Saved predicted image: /shared/data/climateplus2025/Prediction_for_poster_July21/Prediction/predicted_images/2023_RGB_8cm_W24A_17_tile_8192_7168_predicted.jpg\n",
      "Saved JSON: /shared/data/climateplus2025/Prediction_for_poster_July21/Prediction/predicted_json/2023_RGB_8cm_W24A_17_tile_8192_7168.json\n",
      "Saved TXT: /shared/data/climateplus2025/Prediction_for_poster_July21/Prediction/predicted_txt/2023_RGB_8cm_W24A_17_tile_8192_7168.txt\n",
      "\n",
      "image 1/1 /shared/data/climateplus2025/Prediction_for_poster_July21/CapeTown_Image_2023_tiles_1024_for_prediction/2023_RGB_8cm_W24A_17_tile_8192_8192.tif: 1024x1024 None40.3ms\n",
      "Speed: 2.8ms preprocess, 40.3ms inference, 1.7ms postprocess per image at shape (1, 3, 1024, 1024)\n"
     ]
    },
    {
     "name": "stderr",
     "output_type": "stream",
     "text": [
      "Running YOLO OBB inference:  31%|███       | 155/507 [00:13<00:52,  6.75it/s]"
     ]
    },
    {
     "name": "stdout",
     "output_type": "stream",
     "text": [
      "Saved predicted image: /shared/data/climateplus2025/Prediction_for_poster_July21/Prediction/predicted_images/2023_RGB_8cm_W24A_17_tile_8192_8192_predicted.jpg\n",
      "Saved JSON: /shared/data/climateplus2025/Prediction_for_poster_July21/Prediction/predicted_json/2023_RGB_8cm_W24A_17_tile_8192_8192.json\n",
      "Saved TXT: /shared/data/climateplus2025/Prediction_for_poster_July21/Prediction/predicted_txt/2023_RGB_8cm_W24A_17_tile_8192_8192.txt\n",
      "\n",
      "image 1/1 /shared/data/climateplus2025/Prediction_for_poster_July21/CapeTown_Image_2023_tiles_1024_for_prediction/2023_RGB_8cm_W24A_17_tile_8192_9216.tif: 1024x1024 None40.3ms\n",
      "Speed: 1.8ms preprocess, 40.3ms inference, 1.9ms postprocess per image at shape (1, 3, 1024, 1024)\n"
     ]
    },
    {
     "name": "stderr",
     "output_type": "stream",
     "text": [
      "Running YOLO OBB inference:  31%|███       | 156/507 [00:13<00:51,  6.82it/s]"
     ]
    },
    {
     "name": "stdout",
     "output_type": "stream",
     "text": [
      "Saved predicted image: /shared/data/climateplus2025/Prediction_for_poster_July21/Prediction/predicted_images/2023_RGB_8cm_W24A_17_tile_8192_9216_predicted.jpg\n",
      "Saved JSON: /shared/data/climateplus2025/Prediction_for_poster_July21/Prediction/predicted_json/2023_RGB_8cm_W24A_17_tile_8192_9216.json\n",
      "Saved TXT: /shared/data/climateplus2025/Prediction_for_poster_July21/Prediction/predicted_txt/2023_RGB_8cm_W24A_17_tile_8192_9216.txt\n",
      "\n",
      "image 1/1 /shared/data/climateplus2025/Prediction_for_poster_July21/CapeTown_Image_2023_tiles_1024_for_prediction/2023_RGB_8cm_W24A_17_tile_9216_0.tif: 1024x1024 None40.3ms\n",
      "Speed: 3.0ms preprocess, 40.3ms inference, 2.6ms postprocess per image at shape (1, 3, 1024, 1024)\n"
     ]
    },
    {
     "name": "stderr",
     "output_type": "stream",
     "text": [
      "Running YOLO OBB inference:  31%|███       | 157/507 [00:14<00:52,  6.73it/s]"
     ]
    },
    {
     "name": "stdout",
     "output_type": "stream",
     "text": [
      "Saved predicted image: /shared/data/climateplus2025/Prediction_for_poster_July21/Prediction/predicted_images/2023_RGB_8cm_W24A_17_tile_9216_0_predicted.jpg\n",
      "Saved JSON: /shared/data/climateplus2025/Prediction_for_poster_July21/Prediction/predicted_json/2023_RGB_8cm_W24A_17_tile_9216_0.json\n",
      "Saved TXT: /shared/data/climateplus2025/Prediction_for_poster_July21/Prediction/predicted_txt/2023_RGB_8cm_W24A_17_tile_9216_0.txt\n",
      "\n",
      "image 1/1 /shared/data/climateplus2025/Prediction_for_poster_July21/CapeTown_Image_2023_tiles_1024_for_prediction/2023_RGB_8cm_W24A_17_tile_9216_1024.tif: 1024x1024 (no detections), 39.8ms\n",
      "Speed: 3.0ms preprocess, 39.8ms inference, 0.8ms postprocess per image at shape (1, 3, 1024, 1024)\n"
     ]
    },
    {
     "name": "stderr",
     "output_type": "stream",
     "text": [
      "Running YOLO OBB inference:  31%|███       | 158/507 [00:14<00:52,  6.63it/s]"
     ]
    },
    {
     "name": "stdout",
     "output_type": "stream",
     "text": [
      "No detections, skipped TXT for: 2023_RGB_8cm_W24A_17_tile_9216_1024.tif\n",
      "\n",
      "image 1/1 /shared/data/climateplus2025/Prediction_for_poster_July21/CapeTown_Image_2023_tiles_1024_for_prediction/2023_RGB_8cm_W24A_17_tile_9216_10240.tif: 1024x1024 None39.8ms\n",
      "Speed: 3.0ms preprocess, 39.8ms inference, 3.2ms postprocess per image at shape (1, 3, 1024, 1024)\n"
     ]
    },
    {
     "name": "stderr",
     "output_type": "stream",
     "text": [
      "Running YOLO OBB inference:  31%|███▏      | 159/507 [00:14<00:58,  5.95it/s]"
     ]
    },
    {
     "name": "stdout",
     "output_type": "stream",
     "text": [
      "Saved predicted image: /shared/data/climateplus2025/Prediction_for_poster_July21/Prediction/predicted_images/2023_RGB_8cm_W24A_17_tile_9216_10240_predicted.jpg\n",
      "Saved JSON: /shared/data/climateplus2025/Prediction_for_poster_July21/Prediction/predicted_json/2023_RGB_8cm_W24A_17_tile_9216_10240.json\n",
      "Saved TXT: /shared/data/climateplus2025/Prediction_for_poster_July21/Prediction/predicted_txt/2023_RGB_8cm_W24A_17_tile_9216_10240.txt\n",
      "\n",
      "image 1/1 /shared/data/climateplus2025/Prediction_for_poster_July21/CapeTown_Image_2023_tiles_1024_for_prediction/2023_RGB_8cm_W24A_17_tile_9216_11264.tif: 1024x1024 None39.8ms\n",
      "Speed: 1.8ms preprocess, 39.8ms inference, 1.9ms postprocess per image at shape (1, 3, 1024, 1024)\n"
     ]
    },
    {
     "name": "stderr",
     "output_type": "stream",
     "text": [
      "Running YOLO OBB inference:  32%|███▏      | 160/507 [00:14<00:53,  6.50it/s]"
     ]
    },
    {
     "name": "stdout",
     "output_type": "stream",
     "text": [
      "Saved predicted image: /shared/data/climateplus2025/Prediction_for_poster_July21/Prediction/predicted_images/2023_RGB_8cm_W24A_17_tile_9216_11264_predicted.jpg\n",
      "Saved JSON: /shared/data/climateplus2025/Prediction_for_poster_July21/Prediction/predicted_json/2023_RGB_8cm_W24A_17_tile_9216_11264.json\n",
      "Saved TXT: /shared/data/climateplus2025/Prediction_for_poster_July21/Prediction/predicted_txt/2023_RGB_8cm_W24A_17_tile_9216_11264.txt\n",
      "\n",
      "image 1/1 /shared/data/climateplus2025/Prediction_for_poster_July21/CapeTown_Image_2023_tiles_1024_for_prediction/2023_RGB_8cm_W24A_17_tile_9216_12288.tif: 1024x1024 None39.8ms\n",
      "Speed: 1.9ms preprocess, 39.8ms inference, 1.9ms postprocess per image at shape (1, 3, 1024, 1024)\n",
      "Saved predicted image: /shared/data/climateplus2025/Prediction_for_poster_July21/Prediction/predicted_images/2023_RGB_8cm_W24A_17_tile_9216_12288_predicted.jpg\n",
      "Saved JSON: /shared/data/climateplus2025/Prediction_for_poster_July21/Prediction/predicted_json/2023_RGB_8cm_W24A_17_tile_9216_12288.json\n",
      "Saved TXT: /shared/data/climateplus2025/Prediction_for_poster_July21/Prediction/predicted_txt/2023_RGB_8cm_W24A_17_tile_9216_12288.txt\n",
      "\n",
      "image 1/1 /shared/data/climateplus2025/Prediction_for_poster_July21/CapeTown_Image_2023_tiles_1024_for_prediction/2023_RGB_8cm_W24A_17_tile_9216_2048.tif: 1024x1024 (no detections), 39.6ms\n",
      "Speed: 2.0ms preprocess, 39.6ms inference, 0.5ms postprocess per image at shape (1, 3, 1024, 1024)\n"
     ]
    },
    {
     "name": "stderr",
     "output_type": "stream",
     "text": [
      "Running YOLO OBB inference:  32%|███▏      | 162/507 [00:14<00:43,  7.86it/s]"
     ]
    },
    {
     "name": "stdout",
     "output_type": "stream",
     "text": [
      "No detections, skipped TXT for: 2023_RGB_8cm_W24A_17_tile_9216_2048.tif\n",
      "\n",
      "image 1/1 /shared/data/climateplus2025/Prediction_for_poster_July21/CapeTown_Image_2023_tiles_1024_for_prediction/2023_RGB_8cm_W24A_17_tile_9216_3072.tif: 1024x1024 (no detections), 39.6ms\n",
      "Speed: 1.8ms preprocess, 39.6ms inference, 0.5ms postprocess per image at shape (1, 3, 1024, 1024)\n"
     ]
    },
    {
     "name": "stderr",
     "output_type": "stream",
     "text": [
      "Running YOLO OBB inference:  32%|███▏      | 163/507 [00:14<00:43,  7.95it/s]"
     ]
    },
    {
     "name": "stdout",
     "output_type": "stream",
     "text": [
      "No detections, skipped TXT for: 2023_RGB_8cm_W24A_17_tile_9216_3072.tif\n",
      "\n",
      "image 1/1 /shared/data/climateplus2025/Prediction_for_poster_July21/CapeTown_Image_2023_tiles_1024_for_prediction/2023_RGB_8cm_W24A_17_tile_9216_4096.tif: 1024x1024 (no detections), 39.6ms\n",
      "Speed: 2.0ms preprocess, 39.6ms inference, 0.5ms postprocess per image at shape (1, 3, 1024, 1024)\n"
     ]
    },
    {
     "name": "stderr",
     "output_type": "stream",
     "text": [
      "Running YOLO OBB inference:  32%|███▏      | 164/507 [00:15<00:42,  8.15it/s]"
     ]
    },
    {
     "name": "stdout",
     "output_type": "stream",
     "text": [
      "No detections, skipped TXT for: 2023_RGB_8cm_W24A_17_tile_9216_4096.tif\n",
      "\n",
      "image 1/1 /shared/data/climateplus2025/Prediction_for_poster_July21/CapeTown_Image_2023_tiles_1024_for_prediction/2023_RGB_8cm_W24A_17_tile_9216_5120.tif: 1024x1024 (no detections), 39.6ms\n",
      "Speed: 3.0ms preprocess, 39.6ms inference, 0.8ms postprocess per image at shape (1, 3, 1024, 1024)\n"
     ]
    },
    {
     "name": "stderr",
     "output_type": "stream",
     "text": [
      "Running YOLO OBB inference:  33%|███▎      | 165/507 [00:15<00:45,  7.46it/s]"
     ]
    },
    {
     "name": "stdout",
     "output_type": "stream",
     "text": [
      "No detections, skipped TXT for: 2023_RGB_8cm_W24A_17_tile_9216_5120.tif\n",
      "\n",
      "image 1/1 /shared/data/climateplus2025/Prediction_for_poster_July21/CapeTown_Image_2023_tiles_1024_for_prediction/2023_RGB_8cm_W24A_17_tile_9216_6144.tif: 1024x1024 None39.5ms\n",
      "Speed: 1.7ms preprocess, 39.5ms inference, 1.8ms postprocess per image at shape (1, 3, 1024, 1024)\n"
     ]
    },
    {
     "name": "stderr",
     "output_type": "stream",
     "text": [
      "Running YOLO OBB inference:  33%|███▎      | 166/507 [00:15<00:48,  7.02it/s]"
     ]
    },
    {
     "name": "stdout",
     "output_type": "stream",
     "text": [
      "Saved predicted image: /shared/data/climateplus2025/Prediction_for_poster_July21/Prediction/predicted_images/2023_RGB_8cm_W24A_17_tile_9216_6144_predicted.jpg\n",
      "Saved JSON: /shared/data/climateplus2025/Prediction_for_poster_July21/Prediction/predicted_json/2023_RGB_8cm_W24A_17_tile_9216_6144.json\n",
      "Saved TXT: /shared/data/climateplus2025/Prediction_for_poster_July21/Prediction/predicted_txt/2023_RGB_8cm_W24A_17_tile_9216_6144.txt\n",
      "\n",
      "image 1/1 /shared/data/climateplus2025/Prediction_for_poster_July21/CapeTown_Image_2023_tiles_1024_for_prediction/2023_RGB_8cm_W24A_17_tile_9216_7168.tif: 1024x1024 None39.5ms\n",
      "Speed: 1.8ms preprocess, 39.5ms inference, 1.8ms postprocess per image at shape (1, 3, 1024, 1024)\n"
     ]
    },
    {
     "name": "stderr",
     "output_type": "stream",
     "text": [
      "Running YOLO OBB inference:  33%|███▎      | 167/507 [00:15<00:46,  7.38it/s]"
     ]
    },
    {
     "name": "stdout",
     "output_type": "stream",
     "text": [
      "Saved predicted image: /shared/data/climateplus2025/Prediction_for_poster_July21/Prediction/predicted_images/2023_RGB_8cm_W24A_17_tile_9216_7168_predicted.jpg\n",
      "Saved JSON: /shared/data/climateplus2025/Prediction_for_poster_July21/Prediction/predicted_json/2023_RGB_8cm_W24A_17_tile_9216_7168.json\n",
      "Saved TXT: /shared/data/climateplus2025/Prediction_for_poster_July21/Prediction/predicted_txt/2023_RGB_8cm_W24A_17_tile_9216_7168.txt\n",
      "\n",
      "image 1/1 /shared/data/climateplus2025/Prediction_for_poster_July21/CapeTown_Image_2023_tiles_1024_for_prediction/2023_RGB_8cm_W24A_17_tile_9216_8192.tif: 1024x1024 None39.6ms\n",
      "Speed: 3.0ms preprocess, 39.6ms inference, 3.3ms postprocess per image at shape (1, 3, 1024, 1024)\n"
     ]
    },
    {
     "name": "stderr",
     "output_type": "stream",
     "text": [
      "Running YOLO OBB inference:  33%|███▎      | 168/507 [00:15<00:55,  6.16it/s]"
     ]
    },
    {
     "name": "stdout",
     "output_type": "stream",
     "text": [
      "Saved predicted image: /shared/data/climateplus2025/Prediction_for_poster_July21/Prediction/predicted_images/2023_RGB_8cm_W24A_17_tile_9216_8192_predicted.jpg\n",
      "Saved JSON: /shared/data/climateplus2025/Prediction_for_poster_July21/Prediction/predicted_json/2023_RGB_8cm_W24A_17_tile_9216_8192.json\n",
      "Saved TXT: /shared/data/climateplus2025/Prediction_for_poster_July21/Prediction/predicted_txt/2023_RGB_8cm_W24A_17_tile_9216_8192.txt\n",
      "\n",
      "image 1/1 /shared/data/climateplus2025/Prediction_for_poster_July21/CapeTown_Image_2023_tiles_1024_for_prediction/2023_RGB_8cm_W24A_17_tile_9216_9216.tif: 1024x1024 None39.6ms\n",
      "Speed: 3.0ms preprocess, 39.6ms inference, 1.8ms postprocess per image at shape (1, 3, 1024, 1024)\n"
     ]
    },
    {
     "name": "stderr",
     "output_type": "stream",
     "text": [
      "Running YOLO OBB inference:  33%|███▎      | 169/507 [00:15<00:52,  6.45it/s]"
     ]
    },
    {
     "name": "stdout",
     "output_type": "stream",
     "text": [
      "Saved predicted image: /shared/data/climateplus2025/Prediction_for_poster_July21/Prediction/predicted_images/2023_RGB_8cm_W24A_17_tile_9216_9216_predicted.jpg\n",
      "Saved JSON: /shared/data/climateplus2025/Prediction_for_poster_July21/Prediction/predicted_json/2023_RGB_8cm_W24A_17_tile_9216_9216.json\n",
      "Saved TXT: /shared/data/climateplus2025/Prediction_for_poster_July21/Prediction/predicted_txt/2023_RGB_8cm_W24A_17_tile_9216_9216.txt\n",
      "\n",
      "image 1/1 /shared/data/climateplus2025/Prediction_for_poster_July21/CapeTown_Image_2023_tiles_1024_for_prediction/2023_RGB_8cm_W25C_16_tile_0_0.tif: 1024x1024 (no detections), 39.6ms\n",
      "Speed: 2.5ms preprocess, 39.6ms inference, 0.6ms postprocess per image at shape (1, 3, 1024, 1024)\n"
     ]
    },
    {
     "name": "stderr",
     "output_type": "stream",
     "text": [
      "Running YOLO OBB inference:  34%|███▎      | 170/507 [00:16<00:57,  5.86it/s]"
     ]
    },
    {
     "name": "stdout",
     "output_type": "stream",
     "text": [
      "No detections, skipped TXT for: 2023_RGB_8cm_W25C_16_tile_0_0.tif\n",
      "\n",
      "image 1/1 /shared/data/climateplus2025/Prediction_for_poster_July21/CapeTown_Image_2023_tiles_1024_for_prediction/2023_RGB_8cm_W25C_16_tile_0_1024.tif: 1024x1024 (no detections), 39.6ms\n",
      "Speed: 2.9ms preprocess, 39.6ms inference, 0.8ms postprocess per image at shape (1, 3, 1024, 1024)\n"
     ]
    },
    {
     "name": "stderr",
     "output_type": "stream",
     "text": [
      "Running YOLO OBB inference:  34%|███▎      | 171/507 [00:16<01:00,  5.56it/s]"
     ]
    },
    {
     "name": "stdout",
     "output_type": "stream",
     "text": [
      "No detections, skipped TXT for: 2023_RGB_8cm_W25C_16_tile_0_1024.tif\n",
      "\n",
      "image 1/1 /shared/data/climateplus2025/Prediction_for_poster_July21/CapeTown_Image_2023_tiles_1024_for_prediction/2023_RGB_8cm_W25C_16_tile_0_10240.tif: 1024x1024 (no detections), 39.6ms\n",
      "Speed: 2.6ms preprocess, 39.6ms inference, 0.6ms postprocess per image at shape (1, 3, 1024, 1024)\n"
     ]
    },
    {
     "name": "stderr",
     "output_type": "stream",
     "text": [
      "Running YOLO OBB inference:  34%|███▍      | 172/507 [00:16<00:58,  5.70it/s]"
     ]
    },
    {
     "name": "stdout",
     "output_type": "stream",
     "text": [
      "No detections, skipped TXT for: 2023_RGB_8cm_W25C_16_tile_0_10240.tif\n",
      "\n",
      "image 1/1 /shared/data/climateplus2025/Prediction_for_poster_July21/CapeTown_Image_2023_tiles_1024_for_prediction/2023_RGB_8cm_W25C_16_tile_0_11264.tif: 1024x1024 None40.3ms\n",
      "Speed: 3.1ms preprocess, 40.3ms inference, 3.3ms postprocess per image at shape (1, 3, 1024, 1024)\n",
      "Saved predicted image: /shared/data/climateplus2025/Prediction_for_poster_July21/Prediction/predicted_images/2023_RGB_8cm_W25C_16_tile_0_11264_predicted.jpg\n",
      "Saved JSON: /shared/data/climateplus2025/Prediction_for_poster_July21/Prediction/predicted_json/2023_RGB_8cm_W25C_16_tile_0_11264.json\n"
     ]
    },
    {
     "name": "stderr",
     "output_type": "stream",
     "text": [
      "Running YOLO OBB inference:  34%|███▍      | 173/507 [00:16<00:59,  5.64it/s]"
     ]
    },
    {
     "name": "stdout",
     "output_type": "stream",
     "text": [
      "Saved TXT: /shared/data/climateplus2025/Prediction_for_poster_July21/Prediction/predicted_txt/2023_RGB_8cm_W25C_16_tile_0_11264.txt\n",
      "\n",
      "image 1/1 /shared/data/climateplus2025/Prediction_for_poster_July21/CapeTown_Image_2023_tiles_1024_for_prediction/2023_RGB_8cm_W25C_16_tile_0_12288.tif: 1024x1024 (no detections), 40.2ms\n",
      "Speed: 1.9ms preprocess, 40.2ms inference, 0.5ms postprocess per image at shape (1, 3, 1024, 1024)\n"
     ]
    },
    {
     "name": "stderr",
     "output_type": "stream",
     "text": [
      "Running YOLO OBB inference:  34%|███▍      | 174/507 [00:16<00:54,  6.09it/s]"
     ]
    },
    {
     "name": "stdout",
     "output_type": "stream",
     "text": [
      "No detections, skipped TXT for: 2023_RGB_8cm_W25C_16_tile_0_12288.tif\n",
      "\n",
      "image 1/1 /shared/data/climateplus2025/Prediction_for_poster_July21/CapeTown_Image_2023_tiles_1024_for_prediction/2023_RGB_8cm_W25C_16_tile_0_2048.tif: 1024x1024 None40.3ms\n",
      "Speed: 2.9ms preprocess, 40.3ms inference, 3.3ms postprocess per image at shape (1, 3, 1024, 1024)\n"
     ]
    },
    {
     "name": "stderr",
     "output_type": "stream",
     "text": [
      "Running YOLO OBB inference:  35%|███▍      | 175/507 [00:16<01:03,  5.26it/s]"
     ]
    },
    {
     "name": "stdout",
     "output_type": "stream",
     "text": [
      "Saved predicted image: /shared/data/climateplus2025/Prediction_for_poster_July21/Prediction/predicted_images/2023_RGB_8cm_W25C_16_tile_0_2048_predicted.jpg\n",
      "Saved JSON: /shared/data/climateplus2025/Prediction_for_poster_July21/Prediction/predicted_json/2023_RGB_8cm_W25C_16_tile_0_2048.json\n",
      "Saved TXT: /shared/data/climateplus2025/Prediction_for_poster_July21/Prediction/predicted_txt/2023_RGB_8cm_W25C_16_tile_0_2048.txt\n",
      "\n",
      "image 1/1 /shared/data/climateplus2025/Prediction_for_poster_July21/CapeTown_Image_2023_tiles_1024_for_prediction/2023_RGB_8cm_W25C_16_tile_0_3072.tif: 1024x1024 None40.3ms\n",
      "Speed: 3.0ms preprocess, 40.3ms inference, 3.2ms postprocess per image at shape (1, 3, 1024, 1024)\n"
     ]
    },
    {
     "name": "stderr",
     "output_type": "stream",
     "text": [
      "Running YOLO OBB inference:  35%|███▍      | 176/507 [00:17<01:06,  4.96it/s]"
     ]
    },
    {
     "name": "stdout",
     "output_type": "stream",
     "text": [
      "Saved predicted image: /shared/data/climateplus2025/Prediction_for_poster_July21/Prediction/predicted_images/2023_RGB_8cm_W25C_16_tile_0_3072_predicted.jpg\n",
      "Saved JSON: /shared/data/climateplus2025/Prediction_for_poster_July21/Prediction/predicted_json/2023_RGB_8cm_W25C_16_tile_0_3072.json\n",
      "Saved TXT: /shared/data/climateplus2025/Prediction_for_poster_July21/Prediction/predicted_txt/2023_RGB_8cm_W25C_16_tile_0_3072.txt\n",
      "\n",
      "image 1/1 /shared/data/climateplus2025/Prediction_for_poster_July21/CapeTown_Image_2023_tiles_1024_for_prediction/2023_RGB_8cm_W25C_16_tile_0_4096.tif: 1024x1024 None40.3ms\n",
      "Speed: 3.0ms preprocess, 40.3ms inference, 3.2ms postprocess per image at shape (1, 3, 1024, 1024)\n"
     ]
    },
    {
     "name": "stderr",
     "output_type": "stream",
     "text": [
      "Running YOLO OBB inference:  35%|███▍      | 177/507 [00:17<01:06,  4.95it/s]"
     ]
    },
    {
     "name": "stdout",
     "output_type": "stream",
     "text": [
      "Saved predicted image: /shared/data/climateplus2025/Prediction_for_poster_July21/Prediction/predicted_images/2023_RGB_8cm_W25C_16_tile_0_4096_predicted.jpg\n",
      "Saved JSON: /shared/data/climateplus2025/Prediction_for_poster_July21/Prediction/predicted_json/2023_RGB_8cm_W25C_16_tile_0_4096.json\n",
      "Saved TXT: /shared/data/climateplus2025/Prediction_for_poster_July21/Prediction/predicted_txt/2023_RGB_8cm_W25C_16_tile_0_4096.txt\n",
      "\n",
      "image 1/1 /shared/data/climateplus2025/Prediction_for_poster_July21/CapeTown_Image_2023_tiles_1024_for_prediction/2023_RGB_8cm_W25C_16_tile_0_5120.tif: 1024x1024 (no detections), 40.3ms\n",
      "Speed: 2.9ms preprocess, 40.3ms inference, 0.8ms postprocess per image at shape (1, 3, 1024, 1024)\n"
     ]
    },
    {
     "name": "stderr",
     "output_type": "stream",
     "text": [
      "Running YOLO OBB inference:  35%|███▌      | 178/507 [00:17<01:08,  4.77it/s]"
     ]
    },
    {
     "name": "stdout",
     "output_type": "stream",
     "text": [
      "No detections, skipped TXT for: 2023_RGB_8cm_W25C_16_tile_0_5120.tif\n",
      "\n",
      "image 1/1 /shared/data/climateplus2025/Prediction_for_poster_July21/CapeTown_Image_2023_tiles_1024_for_prediction/2023_RGB_8cm_W25C_16_tile_0_6144.tif: 1024x1024 (no detections), 40.3ms\n",
      "Speed: 3.0ms preprocess, 40.3ms inference, 0.8ms postprocess per image at shape (1, 3, 1024, 1024)\n"
     ]
    },
    {
     "name": "stderr",
     "output_type": "stream",
     "text": [
      "Running YOLO OBB inference:  35%|███▌      | 179/507 [00:17<01:09,  4.70it/s]"
     ]
    },
    {
     "name": "stdout",
     "output_type": "stream",
     "text": [
      "No detections, skipped TXT for: 2023_RGB_8cm_W25C_16_tile_0_6144.tif\n",
      "\n",
      "image 1/1 /shared/data/climateplus2025/Prediction_for_poster_July21/CapeTown_Image_2023_tiles_1024_for_prediction/2023_RGB_8cm_W25C_16_tile_0_7168.tif: 1024x1024 (no detections), 40.3ms\n",
      "Speed: 2.5ms preprocess, 40.3ms inference, 0.6ms postprocess per image at shape (1, 3, 1024, 1024)\n"
     ]
    },
    {
     "name": "stderr",
     "output_type": "stream",
     "text": [
      "Running YOLO OBB inference:  36%|███▌      | 180/507 [00:18<01:08,  4.77it/s]"
     ]
    },
    {
     "name": "stdout",
     "output_type": "stream",
     "text": [
      "No detections, skipped TXT for: 2023_RGB_8cm_W25C_16_tile_0_7168.tif\n",
      "\n",
      "image 1/1 /shared/data/climateplus2025/Prediction_for_poster_July21/CapeTown_Image_2023_tiles_1024_for_prediction/2023_RGB_8cm_W25C_16_tile_0_8192.tif: 1024x1024 None40.2ms\n",
      "Speed: 1.8ms preprocess, 40.2ms inference, 1.8ms postprocess per image at shape (1, 3, 1024, 1024)\n"
     ]
    },
    {
     "name": "stderr",
     "output_type": "stream",
     "text": [
      "Running YOLO OBB inference:  36%|███▌      | 181/507 [00:18<01:05,  5.02it/s]"
     ]
    },
    {
     "name": "stdout",
     "output_type": "stream",
     "text": [
      "Saved predicted image: /shared/data/climateplus2025/Prediction_for_poster_July21/Prediction/predicted_images/2023_RGB_8cm_W25C_16_tile_0_8192_predicted.jpg\n",
      "Saved JSON: /shared/data/climateplus2025/Prediction_for_poster_July21/Prediction/predicted_json/2023_RGB_8cm_W25C_16_tile_0_8192.json\n",
      "Saved TXT: /shared/data/climateplus2025/Prediction_for_poster_July21/Prediction/predicted_txt/2023_RGB_8cm_W25C_16_tile_0_8192.txt\n",
      "\n",
      "image 1/1 /shared/data/climateplus2025/Prediction_for_poster_July21/CapeTown_Image_2023_tiles_1024_for_prediction/2023_RGB_8cm_W25C_16_tile_0_9216.tif: 1024x1024 None40.3ms\n",
      "Speed: 2.6ms preprocess, 40.3ms inference, 2.6ms postprocess per image at shape (1, 3, 1024, 1024)\n"
     ]
    },
    {
     "name": "stderr",
     "output_type": "stream",
     "text": [
      "Running YOLO OBB inference:  36%|███▌      | 182/507 [00:18<01:05,  4.96it/s]"
     ]
    },
    {
     "name": "stdout",
     "output_type": "stream",
     "text": [
      "Saved predicted image: /shared/data/climateplus2025/Prediction_for_poster_July21/Prediction/predicted_images/2023_RGB_8cm_W25C_16_tile_0_9216_predicted.jpg\n",
      "Saved JSON: /shared/data/climateplus2025/Prediction_for_poster_July21/Prediction/predicted_json/2023_RGB_8cm_W25C_16_tile_0_9216.json\n",
      "Saved TXT: /shared/data/climateplus2025/Prediction_for_poster_July21/Prediction/predicted_txt/2023_RGB_8cm_W25C_16_tile_0_9216.txt\n",
      "\n",
      "image 1/1 /shared/data/climateplus2025/Prediction_for_poster_July21/CapeTown_Image_2023_tiles_1024_for_prediction/2023_RGB_8cm_W25C_16_tile_10240_0.tif: 1024x1024 None40.3ms\n",
      "Speed: 2.3ms preprocess, 40.3ms inference, 2.6ms postprocess per image at shape (1, 3, 1024, 1024)\n"
     ]
    },
    {
     "name": "stderr",
     "output_type": "stream",
     "text": [
      "Running YOLO OBB inference:  36%|███▌      | 183/507 [00:18<01:07,  4.80it/s]"
     ]
    },
    {
     "name": "stdout",
     "output_type": "stream",
     "text": [
      "Saved predicted image: /shared/data/climateplus2025/Prediction_for_poster_July21/Prediction/predicted_images/2023_RGB_8cm_W25C_16_tile_10240_0_predicted.jpg\n",
      "Saved JSON: /shared/data/climateplus2025/Prediction_for_poster_July21/Prediction/predicted_json/2023_RGB_8cm_W25C_16_tile_10240_0.json\n",
      "Saved TXT: /shared/data/climateplus2025/Prediction_for_poster_July21/Prediction/predicted_txt/2023_RGB_8cm_W25C_16_tile_10240_0.txt\n",
      "\n",
      "image 1/1 /shared/data/climateplus2025/Prediction_for_poster_July21/CapeTown_Image_2023_tiles_1024_for_prediction/2023_RGB_8cm_W25C_16_tile_10240_1024.tif: 1024x1024 None40.3ms\n",
      "Speed: 3.0ms preprocess, 40.3ms inference, 3.2ms postprocess per image at shape (1, 3, 1024, 1024)\n"
     ]
    },
    {
     "name": "stderr",
     "output_type": "stream",
     "text": [
      "Running YOLO OBB inference:  36%|███▋      | 184/507 [00:18<01:08,  4.70it/s]"
     ]
    },
    {
     "name": "stdout",
     "output_type": "stream",
     "text": [
      "Saved predicted image: /shared/data/climateplus2025/Prediction_for_poster_July21/Prediction/predicted_images/2023_RGB_8cm_W25C_16_tile_10240_1024_predicted.jpg\n",
      "Saved JSON: /shared/data/climateplus2025/Prediction_for_poster_July21/Prediction/predicted_json/2023_RGB_8cm_W25C_16_tile_10240_1024.json\n",
      "Saved TXT: /shared/data/climateplus2025/Prediction_for_poster_July21/Prediction/predicted_txt/2023_RGB_8cm_W25C_16_tile_10240_1024.txt\n",
      "\n",
      "image 1/1 /shared/data/climateplus2025/Prediction_for_poster_July21/CapeTown_Image_2023_tiles_1024_for_prediction/2023_RGB_8cm_W25C_16_tile_10240_10240.tif: 1024x1024 (no detections), 40.2ms\n",
      "Speed: 1.9ms preprocess, 40.2ms inference, 0.5ms postprocess per image at shape (1, 3, 1024, 1024)\n"
     ]
    },
    {
     "name": "stderr",
     "output_type": "stream",
     "text": [
      "Running YOLO OBB inference:  36%|███▋      | 185/507 [00:19<01:01,  5.24it/s]"
     ]
    },
    {
     "name": "stdout",
     "output_type": "stream",
     "text": [
      "No detections, skipped TXT for: 2023_RGB_8cm_W25C_16_tile_10240_10240.tif\n",
      "\n",
      "image 1/1 /shared/data/climateplus2025/Prediction_for_poster_July21/CapeTown_Image_2023_tiles_1024_for_prediction/2023_RGB_8cm_W25C_16_tile_10240_11264.tif: 1024x1024 (no detections), 40.2ms\n",
      "Speed: 1.9ms preprocess, 40.2ms inference, 0.5ms postprocess per image at shape (1, 3, 1024, 1024)\n"
     ]
    },
    {
     "name": "stderr",
     "output_type": "stream",
     "text": [
      "Running YOLO OBB inference:  37%|███▋      | 186/507 [00:19<00:54,  5.94it/s]"
     ]
    },
    {
     "name": "stdout",
     "output_type": "stream",
     "text": [
      "No detections, skipped TXT for: 2023_RGB_8cm_W25C_16_tile_10240_11264.tif\n",
      "\n",
      "image 1/1 /shared/data/climateplus2025/Prediction_for_poster_July21/CapeTown_Image_2023_tiles_1024_for_prediction/2023_RGB_8cm_W25C_16_tile_10240_12288.tif: 1024x1024 (no detections), 40.2ms\n",
      "Speed: 1.9ms preprocess, 40.2ms inference, 0.5ms postprocess per image at shape (1, 3, 1024, 1024)\n",
      "No detections, skipped TXT for: 2023_RGB_8cm_W25C_16_tile_10240_12288.tif\n",
      "\n",
      "image 1/1 /shared/data/climateplus2025/Prediction_for_poster_July21/CapeTown_Image_2023_tiles_1024_for_prediction/2023_RGB_8cm_W25C_16_tile_10240_2048.tif: 1024x1024 (no detections), 40.0ms\n",
      "Speed: 2.4ms preprocess, 40.0ms inference, 0.6ms postprocess per image at shape (1, 3, 1024, 1024)\n"
     ]
    },
    {
     "name": "stderr",
     "output_type": "stream",
     "text": [
      "Running YOLO OBB inference:  37%|███▋      | 188/507 [00:19<00:47,  6.71it/s]"
     ]
    },
    {
     "name": "stdout",
     "output_type": "stream",
     "text": [
      "No detections, skipped TXT for: 2023_RGB_8cm_W25C_16_tile_10240_2048.tif\n",
      "\n",
      "image 1/1 /shared/data/climateplus2025/Prediction_for_poster_July21/CapeTown_Image_2023_tiles_1024_for_prediction/2023_RGB_8cm_W25C_16_tile_10240_3072.tif: 1024x1024 (no detections), 40.0ms\n",
      "Speed: 2.4ms preprocess, 40.0ms inference, 0.7ms postprocess per image at shape (1, 3, 1024, 1024)\n"
     ]
    },
    {
     "name": "stderr",
     "output_type": "stream",
     "text": [
      "Running YOLO OBB inference:  37%|███▋      | 189/507 [00:19<00:49,  6.43it/s]"
     ]
    },
    {
     "name": "stdout",
     "output_type": "stream",
     "text": [
      "No detections, skipped TXT for: 2023_RGB_8cm_W25C_16_tile_10240_3072.tif\n",
      "\n",
      "image 1/1 /shared/data/climateplus2025/Prediction_for_poster_July21/CapeTown_Image_2023_tiles_1024_for_prediction/2023_RGB_8cm_W25C_16_tile_10240_4096.tif: 1024x1024 (no detections), 40.0ms\n",
      "Speed: 2.4ms preprocess, 40.0ms inference, 0.6ms postprocess per image at shape (1, 3, 1024, 1024)\n"
     ]
    },
    {
     "name": "stderr",
     "output_type": "stream",
     "text": [
      "Running YOLO OBB inference:  37%|███▋      | 190/507 [00:19<00:46,  6.75it/s]"
     ]
    },
    {
     "name": "stdout",
     "output_type": "stream",
     "text": [
      "No detections, skipped TXT for: 2023_RGB_8cm_W25C_16_tile_10240_4096.tif\n",
      "\n",
      "image 1/1 /shared/data/climateplus2025/Prediction_for_poster_July21/CapeTown_Image_2023_tiles_1024_for_prediction/2023_RGB_8cm_W25C_16_tile_10240_5120.tif: 1024x1024 (no detections), 39.8ms\n",
      "Speed: 3.0ms preprocess, 39.8ms inference, 0.6ms postprocess per image at shape (1, 3, 1024, 1024)\n"
     ]
    },
    {
     "name": "stderr",
     "output_type": "stream",
     "text": [
      "Running YOLO OBB inference:  38%|███▊      | 191/507 [00:19<00:47,  6.72it/s]"
     ]
    },
    {
     "name": "stdout",
     "output_type": "stream",
     "text": [
      "No detections, skipped TXT for: 2023_RGB_8cm_W25C_16_tile_10240_5120.tif\n",
      "\n",
      "image 1/1 /shared/data/climateplus2025/Prediction_for_poster_July21/CapeTown_Image_2023_tiles_1024_for_prediction/2023_RGB_8cm_W25C_16_tile_10240_6144.tif: 1024x1024 (no detections), 39.8ms\n",
      "Speed: 2.9ms preprocess, 39.8ms inference, 0.8ms postprocess per image at shape (1, 3, 1024, 1024)\n"
     ]
    },
    {
     "name": "stderr",
     "output_type": "stream",
     "text": [
      "Running YOLO OBB inference:  38%|███▊      | 192/507 [00:20<00:48,  6.55it/s]"
     ]
    },
    {
     "name": "stdout",
     "output_type": "stream",
     "text": [
      "No detections, skipped TXT for: 2023_RGB_8cm_W25C_16_tile_10240_6144.tif\n",
      "\n",
      "image 1/1 /shared/data/climateplus2025/Prediction_for_poster_July21/CapeTown_Image_2023_tiles_1024_for_prediction/2023_RGB_8cm_W25C_16_tile_10240_7168.tif: 1024x1024 (no detections), 39.8ms\n",
      "Speed: 3.0ms preprocess, 39.8ms inference, 0.8ms postprocess per image at shape (1, 3, 1024, 1024)\n"
     ]
    },
    {
     "name": "stderr",
     "output_type": "stream",
     "text": [
      "Running YOLO OBB inference:  38%|███▊      | 193/507 [00:20<00:49,  6.32it/s]"
     ]
    },
    {
     "name": "stdout",
     "output_type": "stream",
     "text": [
      "No detections, skipped TXT for: 2023_RGB_8cm_W25C_16_tile_10240_7168.tif\n",
      "\n",
      "image 1/1 /shared/data/climateplus2025/Prediction_for_poster_July21/CapeTown_Image_2023_tiles_1024_for_prediction/2023_RGB_8cm_W25C_16_tile_10240_8192.tif: 1024x1024 (no detections), 39.8ms\n",
      "Speed: 2.9ms preprocess, 39.8ms inference, 0.8ms postprocess per image at shape (1, 3, 1024, 1024)\n"
     ]
    },
    {
     "name": "stderr",
     "output_type": "stream",
     "text": [
      "Running YOLO OBB inference:  38%|███▊      | 194/507 [00:20<00:54,  5.74it/s]"
     ]
    },
    {
     "name": "stdout",
     "output_type": "stream",
     "text": [
      "No detections, skipped TXT for: 2023_RGB_8cm_W25C_16_tile_10240_8192.tif\n",
      "\n",
      "image 1/1 /shared/data/climateplus2025/Prediction_for_poster_July21/CapeTown_Image_2023_tiles_1024_for_prediction/2023_RGB_8cm_W25C_16_tile_10240_9216.tif: 1024x1024 (no detections), 39.8ms\n",
      "Speed: 3.1ms preprocess, 39.8ms inference, 0.6ms postprocess per image at shape (1, 3, 1024, 1024)\n"
     ]
    },
    {
     "name": "stderr",
     "output_type": "stream",
     "text": [
      "Running YOLO OBB inference:  38%|███▊      | 195/507 [00:20<00:50,  6.13it/s]"
     ]
    },
    {
     "name": "stdout",
     "output_type": "stream",
     "text": [
      "No detections, skipped TXT for: 2023_RGB_8cm_W25C_16_tile_10240_9216.tif\n",
      "\n",
      "image 1/1 /shared/data/climateplus2025/Prediction_for_poster_July21/CapeTown_Image_2023_tiles_1024_for_prediction/2023_RGB_8cm_W25C_16_tile_1024_0.tif: 1024x1024 (no detections), 39.8ms\n",
      "Speed: 2.8ms preprocess, 39.8ms inference, 0.8ms postprocess per image at shape (1, 3, 1024, 1024)\n"
     ]
    },
    {
     "name": "stderr",
     "output_type": "stream",
     "text": [
      "Running YOLO OBB inference:  39%|███▊      | 196/507 [00:20<01:01,  5.08it/s]"
     ]
    },
    {
     "name": "stdout",
     "output_type": "stream",
     "text": [
      "No detections, skipped TXT for: 2023_RGB_8cm_W25C_16_tile_1024_0.tif\n",
      "\n",
      "image 1/1 /shared/data/climateplus2025/Prediction_for_poster_July21/CapeTown_Image_2023_tiles_1024_for_prediction/2023_RGB_8cm_W25C_16_tile_1024_1024.tif: 1024x1024 None39.8ms\n",
      "Speed: 2.9ms preprocess, 39.8ms inference, 3.2ms postprocess per image at shape (1, 3, 1024, 1024)\n"
     ]
    },
    {
     "name": "stderr",
     "output_type": "stream",
     "text": [
      "Running YOLO OBB inference:  39%|███▉      | 197/507 [00:20<01:00,  5.10it/s]"
     ]
    },
    {
     "name": "stdout",
     "output_type": "stream",
     "text": [
      "Saved predicted image: /shared/data/climateplus2025/Prediction_for_poster_July21/Prediction/predicted_images/2023_RGB_8cm_W25C_16_tile_1024_1024_predicted.jpg\n",
      "Saved JSON: /shared/data/climateplus2025/Prediction_for_poster_July21/Prediction/predicted_json/2023_RGB_8cm_W25C_16_tile_1024_1024.json\n",
      "Saved TXT: /shared/data/climateplus2025/Prediction_for_poster_July21/Prediction/predicted_txt/2023_RGB_8cm_W25C_16_tile_1024_1024.txt\n",
      "\n",
      "image 1/1 /shared/data/climateplus2025/Prediction_for_poster_July21/CapeTown_Image_2023_tiles_1024_for_prediction/2023_RGB_8cm_W25C_16_tile_1024_10240.tif: 1024x1024 (no detections), 39.8ms\n",
      "Speed: 3.1ms preprocess, 39.8ms inference, 0.8ms postprocess per image at shape (1, 3, 1024, 1024)\n"
     ]
    },
    {
     "name": "stderr",
     "output_type": "stream",
     "text": [
      "Running YOLO OBB inference:  39%|███▉      | 198/507 [00:21<00:58,  5.24it/s]"
     ]
    },
    {
     "name": "stdout",
     "output_type": "stream",
     "text": [
      "No detections, skipped TXT for: 2023_RGB_8cm_W25C_16_tile_1024_10240.tif\n",
      "\n",
      "image 1/1 /shared/data/climateplus2025/Prediction_for_poster_July21/CapeTown_Image_2023_tiles_1024_for_prediction/2023_RGB_8cm_W25C_16_tile_1024_11264.tif: 1024x1024 (no detections), 39.8ms\n",
      "Speed: 3.1ms preprocess, 39.8ms inference, 0.8ms postprocess per image at shape (1, 3, 1024, 1024)\n"
     ]
    },
    {
     "name": "stderr",
     "output_type": "stream",
     "text": [
      "Running YOLO OBB inference:  39%|███▉      | 199/507 [00:21<00:56,  5.50it/s]"
     ]
    },
    {
     "name": "stdout",
     "output_type": "stream",
     "text": [
      "No detections, skipped TXT for: 2023_RGB_8cm_W25C_16_tile_1024_11264.tif\n",
      "\n",
      "image 1/1 /shared/data/climateplus2025/Prediction_for_poster_July21/CapeTown_Image_2023_tiles_1024_for_prediction/2023_RGB_8cm_W25C_16_tile_1024_12288.tif: 1024x1024 (no detections), 39.8ms\n",
      "Speed: 1.9ms preprocess, 39.8ms inference, 0.5ms postprocess per image at shape (1, 3, 1024, 1024)\n",
      "No detections, skipped TXT for: 2023_RGB_8cm_W25C_16_tile_1024_12288.tif\n",
      "\n",
      "image 1/1 /shared/data/climateplus2025/Prediction_for_poster_July21/CapeTown_Image_2023_tiles_1024_for_prediction/2023_RGB_8cm_W25C_16_tile_1024_2048.tif: 1024x1024 (no detections), 39.8ms\n",
      "Speed: 2.9ms preprocess, 39.8ms inference, 0.8ms postprocess per image at shape (1, 3, 1024, 1024)\n"
     ]
    },
    {
     "name": "stderr",
     "output_type": "stream",
     "text": [
      "Running YOLO OBB inference:  40%|███▉      | 201/507 [00:21<00:47,  6.40it/s]"
     ]
    },
    {
     "name": "stdout",
     "output_type": "stream",
     "text": [
      "No detections, skipped TXT for: 2023_RGB_8cm_W25C_16_tile_1024_2048.tif\n",
      "\n",
      "image 1/1 /shared/data/climateplus2025/Prediction_for_poster_July21/CapeTown_Image_2023_tiles_1024_for_prediction/2023_RGB_8cm_W25C_16_tile_1024_3072.tif: 1024x1024 (no detections), 40.3ms\n",
      "Speed: 3.0ms preprocess, 40.3ms inference, 0.8ms postprocess per image at shape (1, 3, 1024, 1024)\n"
     ]
    },
    {
     "name": "stderr",
     "output_type": "stream",
     "text": [
      "Running YOLO OBB inference:  40%|███▉      | 202/507 [00:21<00:49,  6.17it/s]"
     ]
    },
    {
     "name": "stdout",
     "output_type": "stream",
     "text": [
      "No detections, skipped TXT for: 2023_RGB_8cm_W25C_16_tile_1024_3072.tif\n",
      "\n",
      "image 1/1 /shared/data/climateplus2025/Prediction_for_poster_July21/CapeTown_Image_2023_tiles_1024_for_prediction/2023_RGB_8cm_W25C_16_tile_1024_4096.tif: 1024x1024 (no detections), 40.3ms\n",
      "Speed: 2.5ms preprocess, 40.3ms inference, 0.6ms postprocess per image at shape (1, 3, 1024, 1024)\n"
     ]
    },
    {
     "name": "stderr",
     "output_type": "stream",
     "text": [
      "Running YOLO OBB inference:  40%|████      | 203/507 [00:21<00:47,  6.46it/s]"
     ]
    },
    {
     "name": "stdout",
     "output_type": "stream",
     "text": [
      "No detections, skipped TXT for: 2023_RGB_8cm_W25C_16_tile_1024_4096.tif\n",
      "\n",
      "image 1/1 /shared/data/climateplus2025/Prediction_for_poster_July21/CapeTown_Image_2023_tiles_1024_for_prediction/2023_RGB_8cm_W25C_16_tile_1024_5120.tif: 1024x1024 (no detections), 40.3ms\n",
      "Speed: 3.0ms preprocess, 40.3ms inference, 0.8ms postprocess per image at shape (1, 3, 1024, 1024)\n"
     ]
    },
    {
     "name": "stderr",
     "output_type": "stream",
     "text": [
      "Running YOLO OBB inference:  40%|████      | 204/507 [00:22<00:50,  5.96it/s]"
     ]
    },
    {
     "name": "stdout",
     "output_type": "stream",
     "text": [
      "No detections, skipped TXT for: 2023_RGB_8cm_W25C_16_tile_1024_5120.tif\n",
      "\n",
      "image 1/1 /shared/data/climateplus2025/Prediction_for_poster_July21/CapeTown_Image_2023_tiles_1024_for_prediction/2023_RGB_8cm_W25C_16_tile_1024_6144.tif: 1024x1024 None40.3ms\n",
      "Speed: 2.4ms preprocess, 40.3ms inference, 2.6ms postprocess per image at shape (1, 3, 1024, 1024)\n"
     ]
    },
    {
     "name": "stderr",
     "output_type": "stream",
     "text": [
      "Running YOLO OBB inference:  40%|████      | 205/507 [00:22<00:53,  5.66it/s]"
     ]
    },
    {
     "name": "stdout",
     "output_type": "stream",
     "text": [
      "Saved predicted image: /shared/data/climateplus2025/Prediction_for_poster_July21/Prediction/predicted_images/2023_RGB_8cm_W25C_16_tile_1024_6144_predicted.jpg\n",
      "Saved JSON: /shared/data/climateplus2025/Prediction_for_poster_July21/Prediction/predicted_json/2023_RGB_8cm_W25C_16_tile_1024_6144.json\n",
      "Saved TXT: /shared/data/climateplus2025/Prediction_for_poster_July21/Prediction/predicted_txt/2023_RGB_8cm_W25C_16_tile_1024_6144.txt\n",
      "\n",
      "image 1/1 /shared/data/climateplus2025/Prediction_for_poster_July21/CapeTown_Image_2023_tiles_1024_for_prediction/2023_RGB_8cm_W25C_16_tile_1024_7168.tif: 1024x1024 (no detections), 40.3ms\n",
      "Speed: 3.0ms preprocess, 40.3ms inference, 0.8ms postprocess per image at shape (1, 3, 1024, 1024)\n"
     ]
    },
    {
     "name": "stderr",
     "output_type": "stream",
     "text": [
      "Running YOLO OBB inference:  41%|████      | 206/507 [00:22<00:53,  5.59it/s]"
     ]
    },
    {
     "name": "stdout",
     "output_type": "stream",
     "text": [
      "No detections, skipped TXT for: 2023_RGB_8cm_W25C_16_tile_1024_7168.tif\n",
      "\n",
      "image 1/1 /shared/data/climateplus2025/Prediction_for_poster_July21/CapeTown_Image_2023_tiles_1024_for_prediction/2023_RGB_8cm_W25C_16_tile_1024_8192.tif: 1024x1024 None40.3ms\n",
      "Speed: 3.0ms preprocess, 40.3ms inference, 3.2ms postprocess per image at shape (1, 3, 1024, 1024)\n",
      "Saved predicted image: /shared/data/climateplus2025/Prediction_for_poster_July21/Prediction/predicted_images/2023_RGB_8cm_W25C_16_tile_1024_8192_predicted.jpg\n"
     ]
    },
    {
     "name": "stderr",
     "output_type": "stream",
     "text": [
      "Running YOLO OBB inference:  41%|████      | 207/507 [00:22<00:54,  5.55it/s]"
     ]
    },
    {
     "name": "stdout",
     "output_type": "stream",
     "text": [
      "Saved JSON: /shared/data/climateplus2025/Prediction_for_poster_July21/Prediction/predicted_json/2023_RGB_8cm_W25C_16_tile_1024_8192.json\n",
      "Saved TXT: /shared/data/climateplus2025/Prediction_for_poster_July21/Prediction/predicted_txt/2023_RGB_8cm_W25C_16_tile_1024_8192.txt\n",
      "\n",
      "image 1/1 /shared/data/climateplus2025/Prediction_for_poster_July21/CapeTown_Image_2023_tiles_1024_for_prediction/2023_RGB_8cm_W25C_16_tile_1024_9216.tif: 1024x1024 (no detections), 40.3ms\n",
      "Speed: 3.1ms preprocess, 40.3ms inference, 0.8ms postprocess per image at shape (1, 3, 1024, 1024)\n"
     ]
    },
    {
     "name": "stderr",
     "output_type": "stream",
     "text": [
      "Running YOLO OBB inference:  41%|████      | 208/507 [00:22<00:51,  5.81it/s]"
     ]
    },
    {
     "name": "stdout",
     "output_type": "stream",
     "text": [
      "No detections, skipped TXT for: 2023_RGB_8cm_W25C_16_tile_1024_9216.tif\n",
      "\n",
      "image 1/1 /shared/data/climateplus2025/Prediction_for_poster_July21/CapeTown_Image_2023_tiles_1024_for_prediction/2023_RGB_8cm_W25C_16_tile_11264_0.tif: 1024x1024 (no detections), 40.3ms\n",
      "Speed: 2.9ms preprocess, 40.3ms inference, 0.8ms postprocess per image at shape (1, 3, 1024, 1024)\n"
     ]
    },
    {
     "name": "stderr",
     "output_type": "stream",
     "text": [
      "Running YOLO OBB inference:  41%|████      | 209/507 [00:23<00:51,  5.76it/s]"
     ]
    },
    {
     "name": "stdout",
     "output_type": "stream",
     "text": [
      "No detections, skipped TXT for: 2023_RGB_8cm_W25C_16_tile_11264_0.tif\n",
      "\n",
      "image 1/1 /shared/data/climateplus2025/Prediction_for_poster_July21/CapeTown_Image_2023_tiles_1024_for_prediction/2023_RGB_8cm_W25C_16_tile_11264_1024.tif: 1024x1024 None40.2ms\n",
      "Speed: 1.8ms preprocess, 40.2ms inference, 1.8ms postprocess per image at shape (1, 3, 1024, 1024)\n"
     ]
    },
    {
     "name": "stderr",
     "output_type": "stream",
     "text": [
      "Running YOLO OBB inference:  41%|████▏     | 210/507 [00:23<00:48,  6.06it/s]"
     ]
    },
    {
     "name": "stdout",
     "output_type": "stream",
     "text": [
      "Saved predicted image: /shared/data/climateplus2025/Prediction_for_poster_July21/Prediction/predicted_images/2023_RGB_8cm_W25C_16_tile_11264_1024_predicted.jpg\n",
      "Saved JSON: /shared/data/climateplus2025/Prediction_for_poster_July21/Prediction/predicted_json/2023_RGB_8cm_W25C_16_tile_11264_1024.json\n",
      "Saved TXT: /shared/data/climateplus2025/Prediction_for_poster_July21/Prediction/predicted_txt/2023_RGB_8cm_W25C_16_tile_11264_1024.txt\n",
      "\n",
      "image 1/1 /shared/data/climateplus2025/Prediction_for_poster_July21/CapeTown_Image_2023_tiles_1024_for_prediction/2023_RGB_8cm_W25C_16_tile_11264_10240.tif: 1024x1024 (no detections), 40.3ms\n",
      "Speed: 2.6ms preprocess, 40.3ms inference, 0.6ms postprocess per image at shape (1, 3, 1024, 1024)\n"
     ]
    },
    {
     "name": "stderr",
     "output_type": "stream",
     "text": [
      "Running YOLO OBB inference:  42%|████▏     | 211/507 [00:23<00:45,  6.46it/s]"
     ]
    },
    {
     "name": "stdout",
     "output_type": "stream",
     "text": [
      "No detections, skipped TXT for: 2023_RGB_8cm_W25C_16_tile_11264_10240.tif\n",
      "\n",
      "image 1/1 /shared/data/climateplus2025/Prediction_for_poster_July21/CapeTown_Image_2023_tiles_1024_for_prediction/2023_RGB_8cm_W25C_16_tile_11264_11264.tif: 1024x1024 (no detections), 40.2ms\n",
      "Speed: 2.6ms preprocess, 40.2ms inference, 0.6ms postprocess per image at shape (1, 3, 1024, 1024)\n"
     ]
    },
    {
     "name": "stderr",
     "output_type": "stream",
     "text": [
      "Running YOLO OBB inference:  42%|████▏     | 212/507 [00:23<00:44,  6.64it/s]"
     ]
    },
    {
     "name": "stdout",
     "output_type": "stream",
     "text": [
      "No detections, skipped TXT for: 2023_RGB_8cm_W25C_16_tile_11264_11264.tif\n",
      "\n",
      "image 1/1 /shared/data/climateplus2025/Prediction_for_poster_July21/CapeTown_Image_2023_tiles_1024_for_prediction/2023_RGB_8cm_W25C_16_tile_11264_12288.tif: 1024x1024 (no detections), 40.2ms\n",
      "Speed: 1.9ms preprocess, 40.2ms inference, 0.5ms postprocess per image at shape (1, 3, 1024, 1024)\n",
      "No detections, skipped TXT for: 2023_RGB_8cm_W25C_16_tile_11264_12288.tif\n",
      "\n",
      "image 1/1 /shared/data/climateplus2025/Prediction_for_poster_July21/CapeTown_Image_2023_tiles_1024_for_prediction/2023_RGB_8cm_W25C_16_tile_11264_2048.tif: 1024x1024 (no detections), 40.3ms\n",
      "Speed: 2.9ms preprocess, 40.3ms inference, 0.8ms postprocess per image at shape (1, 3, 1024, 1024)\n"
     ]
    },
    {
     "name": "stderr",
     "output_type": "stream",
     "text": [
      "Running YOLO OBB inference:  42%|████▏     | 214/507 [00:23<00:42,  6.97it/s]"
     ]
    },
    {
     "name": "stdout",
     "output_type": "stream",
     "text": [
      "No detections, skipped TXT for: 2023_RGB_8cm_W25C_16_tile_11264_2048.tif\n",
      "\n",
      "image 1/1 /shared/data/climateplus2025/Prediction_for_poster_July21/CapeTown_Image_2023_tiles_1024_for_prediction/2023_RGB_8cm_W25C_16_tile_11264_3072.tif: 1024x1024 (no detections), 40.2ms\n",
      "Speed: 1.9ms preprocess, 40.2ms inference, 0.5ms postprocess per image at shape (1, 3, 1024, 1024)\n"
     ]
    },
    {
     "name": "stderr",
     "output_type": "stream",
     "text": [
      "Running YOLO OBB inference:  42%|████▏     | 215/507 [00:23<00:41,  6.99it/s]"
     ]
    },
    {
     "name": "stdout",
     "output_type": "stream",
     "text": [
      "No detections, skipped TXT for: 2023_RGB_8cm_W25C_16_tile_11264_3072.tif\n",
      "\n",
      "image 1/1 /shared/data/climateplus2025/Prediction_for_poster_July21/CapeTown_Image_2023_tiles_1024_for_prediction/2023_RGB_8cm_W25C_16_tile_11264_4096.tif: 1024x1024 (no detections), 40.3ms\n",
      "Speed: 2.9ms preprocess, 40.3ms inference, 0.7ms postprocess per image at shape (1, 3, 1024, 1024)\n"
     ]
    },
    {
     "name": "stderr",
     "output_type": "stream",
     "text": [
      "Running YOLO OBB inference:  43%|████▎     | 216/507 [00:23<00:42,  6.83it/s]"
     ]
    },
    {
     "name": "stdout",
     "output_type": "stream",
     "text": [
      "No detections, skipped TXT for: 2023_RGB_8cm_W25C_16_tile_11264_4096.tif\n",
      "\n",
      "image 1/1 /shared/data/climateplus2025/Prediction_for_poster_July21/CapeTown_Image_2023_tiles_1024_for_prediction/2023_RGB_8cm_W25C_16_tile_11264_5120.tif: 1024x1024 (no detections), 40.3ms\n",
      "Speed: 3.0ms preprocess, 40.3ms inference, 0.5ms postprocess per image at shape (1, 3, 1024, 1024)\n"
     ]
    },
    {
     "name": "stderr",
     "output_type": "stream",
     "text": [
      "Running YOLO OBB inference:  43%|████▎     | 217/507 [00:24<00:40,  7.17it/s]"
     ]
    },
    {
     "name": "stdout",
     "output_type": "stream",
     "text": [
      "No detections, skipped TXT for: 2023_RGB_8cm_W25C_16_tile_11264_5120.tif\n",
      "\n",
      "image 1/1 /shared/data/climateplus2025/Prediction_for_poster_July21/CapeTown_Image_2023_tiles_1024_for_prediction/2023_RGB_8cm_W25C_16_tile_11264_6144.tif: 1024x1024 (no detections), 40.3ms\n",
      "Speed: 3.0ms preprocess, 40.3ms inference, 0.8ms postprocess per image at shape (1, 3, 1024, 1024)\n"
     ]
    },
    {
     "name": "stderr",
     "output_type": "stream",
     "text": [
      "Running YOLO OBB inference:  43%|████▎     | 218/507 [00:24<00:42,  6.80it/s]"
     ]
    },
    {
     "name": "stdout",
     "output_type": "stream",
     "text": [
      "No detections, skipped TXT for: 2023_RGB_8cm_W25C_16_tile_11264_6144.tif\n",
      "\n",
      "image 1/1 /shared/data/climateplus2025/Prediction_for_poster_July21/CapeTown_Image_2023_tiles_1024_for_prediction/2023_RGB_8cm_W25C_16_tile_11264_7168.tif: 1024x1024 (no detections), 40.3ms\n",
      "Speed: 2.5ms preprocess, 40.3ms inference, 0.6ms postprocess per image at shape (1, 3, 1024, 1024)\n"
     ]
    },
    {
     "name": "stderr",
     "output_type": "stream",
     "text": [
      "Running YOLO OBB inference:  43%|████▎     | 219/507 [00:24<00:41,  6.94it/s]"
     ]
    },
    {
     "name": "stdout",
     "output_type": "stream",
     "text": [
      "No detections, skipped TXT for: 2023_RGB_8cm_W25C_16_tile_11264_7168.tif\n",
      "\n",
      "image 1/1 /shared/data/climateplus2025/Prediction_for_poster_July21/CapeTown_Image_2023_tiles_1024_for_prediction/2023_RGB_8cm_W25C_16_tile_11264_8192.tif: 1024x1024 (no detections), 40.3ms\n",
      "Speed: 2.9ms preprocess, 40.3ms inference, 0.8ms postprocess per image at shape (1, 3, 1024, 1024)\n"
     ]
    },
    {
     "name": "stderr",
     "output_type": "stream",
     "text": [
      "Running YOLO OBB inference:  43%|████▎     | 220/507 [00:24<00:42,  6.73it/s]"
     ]
    },
    {
     "name": "stdout",
     "output_type": "stream",
     "text": [
      "No detections, skipped TXT for: 2023_RGB_8cm_W25C_16_tile_11264_8192.tif\n",
      "\n",
      "image 1/1 /shared/data/climateplus2025/Prediction_for_poster_July21/CapeTown_Image_2023_tiles_1024_for_prediction/2023_RGB_8cm_W25C_16_tile_11264_9216.tif: 1024x1024 (no detections), 40.3ms\n",
      "Speed: 3.1ms preprocess, 40.3ms inference, 0.5ms postprocess per image at shape (1, 3, 1024, 1024)\n"
     ]
    },
    {
     "name": "stderr",
     "output_type": "stream",
     "text": [
      "Running YOLO OBB inference:  44%|████▎     | 221/507 [00:24<00:40,  7.02it/s]"
     ]
    },
    {
     "name": "stdout",
     "output_type": "stream",
     "text": [
      "No detections, skipped TXT for: 2023_RGB_8cm_W25C_16_tile_11264_9216.tif\n",
      "\n",
      "image 1/1 /shared/data/climateplus2025/Prediction_for_poster_July21/CapeTown_Image_2023_tiles_1024_for_prediction/2023_RGB_8cm_W25C_16_tile_12288_0.tif: 1024x1024 (no detections), 40.3ms\n",
      "Speed: 3.1ms preprocess, 40.3ms inference, 0.8ms postprocess per image at shape (1, 3, 1024, 1024)\n"
     ]
    },
    {
     "name": "stderr",
     "output_type": "stream",
     "text": [
      "Running YOLO OBB inference:  44%|████▍     | 222/507 [00:24<00:39,  7.15it/s]"
     ]
    },
    {
     "name": "stdout",
     "output_type": "stream",
     "text": [
      "No detections, skipped TXT for: 2023_RGB_8cm_W25C_16_tile_12288_0.tif\n",
      "\n",
      "image 1/1 /shared/data/climateplus2025/Prediction_for_poster_July21/CapeTown_Image_2023_tiles_1024_for_prediction/2023_RGB_8cm_W25C_16_tile_12288_1024.tif: 1024x1024 (no detections), 40.3ms\n",
      "Speed: 3.1ms preprocess, 40.3ms inference, 0.8ms postprocess per image at shape (1, 3, 1024, 1024)\n"
     ]
    },
    {
     "name": "stderr",
     "output_type": "stream",
     "text": [
      "Running YOLO OBB inference:  44%|████▍     | 223/507 [00:24<00:39,  7.15it/s]"
     ]
    },
    {
     "name": "stdout",
     "output_type": "stream",
     "text": [
      "No detections, skipped TXT for: 2023_RGB_8cm_W25C_16_tile_12288_1024.tif\n",
      "\n",
      "image 1/1 /shared/data/climateplus2025/Prediction_for_poster_July21/CapeTown_Image_2023_tiles_1024_for_prediction/2023_RGB_8cm_W25C_16_tile_12288_10240.tif: 1024x1024 (no detections), 40.3ms\n",
      "Speed: 2.9ms preprocess, 40.3ms inference, 0.5ms postprocess per image at shape (1, 3, 1024, 1024)\n",
      "No detections, skipped TXT for: 2023_RGB_8cm_W25C_16_tile_12288_10240.tif\n",
      "\n",
      "image 1/1 /shared/data/climateplus2025/Prediction_for_poster_July21/CapeTown_Image_2023_tiles_1024_for_prediction/2023_RGB_8cm_W25C_16_tile_12288_11264.tif: 1024x1024 (no detections), 40.0ms\n",
      "Speed: 1.9ms preprocess, 40.0ms inference, 0.5ms postprocess per image at shape (1, 3, 1024, 1024)\n"
     ]
    },
    {
     "name": "stderr",
     "output_type": "stream",
     "text": [
      "Running YOLO OBB inference:  44%|████▍     | 225/507 [00:25<00:31,  9.00it/s]"
     ]
    },
    {
     "name": "stdout",
     "output_type": "stream",
     "text": [
      "No detections, skipped TXT for: 2023_RGB_8cm_W25C_16_tile_12288_11264.tif\n",
      "\n",
      "image 1/1 /shared/data/climateplus2025/Prediction_for_poster_July21/CapeTown_Image_2023_tiles_1024_for_prediction/2023_RGB_8cm_W25C_16_tile_12288_12288.tif: 1024x1024 (no detections), 39.9ms\n",
      "Speed: 1.9ms preprocess, 39.9ms inference, 0.5ms postprocess per image at shape (1, 3, 1024, 1024)\n",
      "No detections, skipped TXT for: 2023_RGB_8cm_W25C_16_tile_12288_12288.tif\n",
      "\n",
      "image 1/1 /shared/data/climateplus2025/Prediction_for_poster_July21/CapeTown_Image_2023_tiles_1024_for_prediction/2023_RGB_8cm_W25C_16_tile_12288_2048.tif: 1024x1024 None40.0ms\n",
      "Speed: 1.9ms preprocess, 40.0ms inference, 1.8ms postprocess per image at shape (1, 3, 1024, 1024)\n"
     ]
    },
    {
     "name": "stderr",
     "output_type": "stream",
     "text": [
      "Running YOLO OBB inference:  45%|████▍     | 227/507 [00:25<00:25, 10.80it/s]"
     ]
    },
    {
     "name": "stdout",
     "output_type": "stream",
     "text": [
      "Saved predicted image: /shared/data/climateplus2025/Prediction_for_poster_July21/Prediction/predicted_images/2023_RGB_8cm_W25C_16_tile_12288_2048_predicted.jpg\n",
      "Saved JSON: /shared/data/climateplus2025/Prediction_for_poster_July21/Prediction/predicted_json/2023_RGB_8cm_W25C_16_tile_12288_2048.json\n",
      "Saved TXT: /shared/data/climateplus2025/Prediction_for_poster_July21/Prediction/predicted_txt/2023_RGB_8cm_W25C_16_tile_12288_2048.txt\n",
      "\n",
      "image 1/1 /shared/data/climateplus2025/Prediction_for_poster_July21/CapeTown_Image_2023_tiles_1024_for_prediction/2023_RGB_8cm_W25C_16_tile_12288_3072.tif: 1024x1024 (no detections), 37.8ms\n",
      "Speed: 1.9ms preprocess, 37.8ms inference, 0.5ms postprocess per image at shape (1, 3, 1024, 1024)\n",
      "No detections, skipped TXT for: 2023_RGB_8cm_W25C_16_tile_12288_3072.tif\n",
      "\n",
      "image 1/1 /shared/data/climateplus2025/Prediction_for_poster_July21/CapeTown_Image_2023_tiles_1024_for_prediction/2023_RGB_8cm_W25C_16_tile_12288_4096.tif: 1024x1024 (no detections), 37.9ms\n",
      "Speed: 1.8ms preprocess, 37.9ms inference, 0.5ms postprocess per image at shape (1, 3, 1024, 1024)\n"
     ]
    },
    {
     "name": "stderr",
     "output_type": "stream",
     "text": [
      "Running YOLO OBB inference:  45%|████▌     | 229/507 [00:25<00:24, 11.42it/s]"
     ]
    },
    {
     "name": "stdout",
     "output_type": "stream",
     "text": [
      "No detections, skipped TXT for: 2023_RGB_8cm_W25C_16_tile_12288_4096.tif\n",
      "\n",
      "image 1/1 /shared/data/climateplus2025/Prediction_for_poster_July21/CapeTown_Image_2023_tiles_1024_for_prediction/2023_RGB_8cm_W25C_16_tile_12288_5120.tif: 1024x1024 (no detections), 37.9ms\n",
      "Speed: 1.9ms preprocess, 37.9ms inference, 0.5ms postprocess per image at shape (1, 3, 1024, 1024)\n",
      "No detections, skipped TXT for: 2023_RGB_8cm_W25C_16_tile_12288_5120.tif\n",
      "\n",
      "image 1/1 /shared/data/climateplus2025/Prediction_for_poster_July21/CapeTown_Image_2023_tiles_1024_for_prediction/2023_RGB_8cm_W25C_16_tile_12288_6144.tif: 1024x1024 (no detections), 37.8ms\n",
      "Speed: 3.1ms preprocess, 37.8ms inference, 0.8ms postprocess per image at shape (1, 3, 1024, 1024)\n"
     ]
    },
    {
     "name": "stderr",
     "output_type": "stream",
     "text": [
      "Running YOLO OBB inference:  46%|████▌     | 231/507 [00:25<00:25, 11.03it/s]"
     ]
    },
    {
     "name": "stdout",
     "output_type": "stream",
     "text": [
      "No detections, skipped TXT for: 2023_RGB_8cm_W25C_16_tile_12288_6144.tif\n",
      "\n",
      "image 1/1 /shared/data/climateplus2025/Prediction_for_poster_July21/CapeTown_Image_2023_tiles_1024_for_prediction/2023_RGB_8cm_W25C_16_tile_12288_7168.tif: 1024x1024 (no detections), 37.9ms\n",
      "Speed: 3.0ms preprocess, 37.9ms inference, 0.5ms postprocess per image at shape (1, 3, 1024, 1024)\n",
      "No detections, skipped TXT for: 2023_RGB_8cm_W25C_16_tile_12288_7168.tif\n",
      "\n",
      "image 1/1 /shared/data/climateplus2025/Prediction_for_poster_July21/CapeTown_Image_2023_tiles_1024_for_prediction/2023_RGB_8cm_W25C_16_tile_12288_8192.tif: 1024x1024 (no detections), 37.9ms\n",
      "Speed: 1.9ms preprocess, 37.9ms inference, 0.5ms postprocess per image at shape (1, 3, 1024, 1024)\n"
     ]
    },
    {
     "name": "stderr",
     "output_type": "stream",
     "text": [
      "Running YOLO OBB inference:  46%|████▌     | 233/507 [00:25<00:22, 12.23it/s]"
     ]
    },
    {
     "name": "stdout",
     "output_type": "stream",
     "text": [
      "No detections, skipped TXT for: 2023_RGB_8cm_W25C_16_tile_12288_8192.tif\n",
      "\n",
      "image 1/1 /shared/data/climateplus2025/Prediction_for_poster_July21/CapeTown_Image_2023_tiles_1024_for_prediction/2023_RGB_8cm_W25C_16_tile_12288_9216.tif: 1024x1024 (no detections), 37.7ms\n",
      "Speed: 1.8ms preprocess, 37.7ms inference, 0.5ms postprocess per image at shape (1, 3, 1024, 1024)\n",
      "No detections, skipped TXT for: 2023_RGB_8cm_W25C_16_tile_12288_9216.tif\n",
      "\n",
      "image 1/1 /shared/data/climateplus2025/Prediction_for_poster_July21/CapeTown_Image_2023_tiles_1024_for_prediction/2023_RGB_8cm_W25C_16_tile_2048_0.tif: 1024x1024 None37.9ms\n",
      "Speed: 2.9ms preprocess, 37.9ms inference, 3.2ms postprocess per image at shape (1, 3, 1024, 1024)\n"
     ]
    },
    {
     "name": "stderr",
     "output_type": "stream",
     "text": [
      "Running YOLO OBB inference:  46%|████▋     | 235/507 [00:26<00:29,  9.20it/s]"
     ]
    },
    {
     "name": "stdout",
     "output_type": "stream",
     "text": [
      "Saved predicted image: /shared/data/climateplus2025/Prediction_for_poster_July21/Prediction/predicted_images/2023_RGB_8cm_W25C_16_tile_2048_0_predicted.jpg\n",
      "Saved JSON: /shared/data/climateplus2025/Prediction_for_poster_July21/Prediction/predicted_json/2023_RGB_8cm_W25C_16_tile_2048_0.json\n",
      "Saved TXT: /shared/data/climateplus2025/Prediction_for_poster_July21/Prediction/predicted_txt/2023_RGB_8cm_W25C_16_tile_2048_0.txt\n",
      "\n",
      "image 1/1 /shared/data/climateplus2025/Prediction_for_poster_July21/CapeTown_Image_2023_tiles_1024_for_prediction/2023_RGB_8cm_W25C_16_tile_2048_1024.tif: 1024x1024 None37.8ms\n",
      "Speed: 3.0ms preprocess, 37.8ms inference, 3.2ms postprocess per image at shape (1, 3, 1024, 1024)\n",
      "Saved predicted image: /shared/data/climateplus2025/Prediction_for_poster_July21/Prediction/predicted_images/2023_RGB_8cm_W25C_16_tile_2048_1024_predicted.jpg\n",
      "Saved JSON: /shared/data/climateplus2025/Prediction_for_poster_July21/Prediction/predicted_json/2023_RGB_8cm_W25C_16_tile_2048_1024.json\n",
      "Saved TXT: /shared/data/climateplus2025/Prediction_for_poster_July21/Prediction/predicted_txt/2023_RGB_8cm_W25C_16_tile_2048_1024.txt\n",
      "\n",
      "image 1/1 /shared/data/climateplus2025/Prediction_for_poster_July21/CapeTown_Image_2023_tiles_1024_for_prediction/2023_RGB_8cm_W25C_16_tile_2048_10240.tif: 1024x1024 (no detections), 37.8ms\n",
      "Speed: 3.1ms preprocess, 37.8ms inference, 0.8ms postprocess per image at shape (1, 3, 1024, 1024)\n"
     ]
    },
    {
     "name": "stderr",
     "output_type": "stream",
     "text": [
      "Running YOLO OBB inference:  47%|████▋     | 237/507 [00:26<00:36,  7.50it/s]"
     ]
    },
    {
     "name": "stdout",
     "output_type": "stream",
     "text": [
      "No detections, skipped TXT for: 2023_RGB_8cm_W25C_16_tile_2048_10240.tif\n",
      "\n",
      "image 1/1 /shared/data/climateplus2025/Prediction_for_poster_July21/CapeTown_Image_2023_tiles_1024_for_prediction/2023_RGB_8cm_W25C_16_tile_2048_11264.tif: 1024x1024 (no detections), 37.9ms\n",
      "Speed: 3.0ms preprocess, 37.9ms inference, 0.8ms postprocess per image at shape (1, 3, 1024, 1024)\n"
     ]
    },
    {
     "name": "stderr",
     "output_type": "stream",
     "text": [
      "Running YOLO OBB inference:  47%|████▋     | 238/507 [00:26<00:38,  7.01it/s]"
     ]
    },
    {
     "name": "stdout",
     "output_type": "stream",
     "text": [
      "No detections, skipped TXT for: 2023_RGB_8cm_W25C_16_tile_2048_11264.tif\n",
      "\n",
      "image 1/1 /shared/data/climateplus2025/Prediction_for_poster_July21/CapeTown_Image_2023_tiles_1024_for_prediction/2023_RGB_8cm_W25C_16_tile_2048_12288.tif: 1024x1024 (no detections), 37.7ms\n",
      "Speed: 1.9ms preprocess, 37.7ms inference, 0.5ms postprocess per image at shape (1, 3, 1024, 1024)\n",
      "No detections, skipped TXT for: 2023_RGB_8cm_W25C_16_tile_2048_12288.tif\n",
      "\n",
      "image 1/1 /shared/data/climateplus2025/Prediction_for_poster_July21/CapeTown_Image_2023_tiles_1024_for_prediction/2023_RGB_8cm_W25C_16_tile_2048_2048.tif: 1024x1024 (no detections), 38.0ms\n",
      "Speed: 2.4ms preprocess, 38.0ms inference, 0.6ms postprocess per image at shape (1, 3, 1024, 1024)\n"
     ]
    },
    {
     "name": "stderr",
     "output_type": "stream",
     "text": [
      "Running YOLO OBB inference:  47%|████▋     | 240/507 [00:26<00:35,  7.58it/s]"
     ]
    },
    {
     "name": "stdout",
     "output_type": "stream",
     "text": [
      "No detections, skipped TXT for: 2023_RGB_8cm_W25C_16_tile_2048_2048.tif\n",
      "\n",
      "image 1/1 /shared/data/climateplus2025/Prediction_for_poster_July21/CapeTown_Image_2023_tiles_1024_for_prediction/2023_RGB_8cm_W25C_16_tile_2048_3072.tif: 1024x1024 (no detections), 37.8ms\n",
      "Speed: 3.0ms preprocess, 37.8ms inference, 0.8ms postprocess per image at shape (1, 3, 1024, 1024)\n"
     ]
    },
    {
     "name": "stderr",
     "output_type": "stream",
     "text": [
      "Running YOLO OBB inference:  48%|████▊     | 241/507 [00:27<00:38,  6.95it/s]"
     ]
    },
    {
     "name": "stdout",
     "output_type": "stream",
     "text": [
      "No detections, skipped TXT for: 2023_RGB_8cm_W25C_16_tile_2048_3072.tif\n",
      "\n",
      "image 1/1 /shared/data/climateplus2025/Prediction_for_poster_July21/CapeTown_Image_2023_tiles_1024_for_prediction/2023_RGB_8cm_W25C_16_tile_2048_4096.tif: 1024x1024 (no detections), 37.9ms\n",
      "Speed: 2.9ms preprocess, 37.9ms inference, 0.6ms postprocess per image at shape (1, 3, 1024, 1024)\n"
     ]
    },
    {
     "name": "stderr",
     "output_type": "stream",
     "text": [
      "Running YOLO OBB inference:  48%|████▊     | 242/507 [00:27<00:38,  6.91it/s]"
     ]
    },
    {
     "name": "stdout",
     "output_type": "stream",
     "text": [
      "No detections, skipped TXT for: 2023_RGB_8cm_W25C_16_tile_2048_4096.tif\n",
      "\n",
      "image 1/1 /shared/data/climateplus2025/Prediction_for_poster_July21/CapeTown_Image_2023_tiles_1024_for_prediction/2023_RGB_8cm_W25C_16_tile_2048_5120.tif: 1024x1024 None37.7ms\n",
      "Speed: 1.8ms preprocess, 37.7ms inference, 1.8ms postprocess per image at shape (1, 3, 1024, 1024)\n"
     ]
    },
    {
     "name": "stderr",
     "output_type": "stream",
     "text": [
      "Running YOLO OBB inference:  48%|████▊     | 243/507 [00:27<00:36,  7.23it/s]"
     ]
    },
    {
     "name": "stdout",
     "output_type": "stream",
     "text": [
      "Saved predicted image: /shared/data/climateplus2025/Prediction_for_poster_July21/Prediction/predicted_images/2023_RGB_8cm_W25C_16_tile_2048_5120_predicted.jpg\n",
      "Saved JSON: /shared/data/climateplus2025/Prediction_for_poster_July21/Prediction/predicted_json/2023_RGB_8cm_W25C_16_tile_2048_5120.json\n",
      "Saved TXT: /shared/data/climateplus2025/Prediction_for_poster_July21/Prediction/predicted_txt/2023_RGB_8cm_W25C_16_tile_2048_5120.txt\n",
      "\n",
      "image 1/1 /shared/data/climateplus2025/Prediction_for_poster_July21/CapeTown_Image_2023_tiles_1024_for_prediction/2023_RGB_8cm_W25C_16_tile_2048_6144.tif: 1024x1024 (no detections), 39.7ms\n",
      "Speed: 3.0ms preprocess, 39.7ms inference, 0.4ms postprocess per image at shape (1, 3, 1024, 1024)\n"
     ]
    },
    {
     "name": "stderr",
     "output_type": "stream",
     "text": [
      "Running YOLO OBB inference:  48%|████▊     | 244/507 [00:27<00:36,  7.27it/s]"
     ]
    },
    {
     "name": "stdout",
     "output_type": "stream",
     "text": [
      "No detections, skipped TXT for: 2023_RGB_8cm_W25C_16_tile_2048_6144.tif\n",
      "\n",
      "image 1/1 /shared/data/climateplus2025/Prediction_for_poster_July21/CapeTown_Image_2023_tiles_1024_for_prediction/2023_RGB_8cm_W25C_16_tile_2048_7168.tif: 1024x1024 (no detections), 40.3ms\n",
      "Speed: 3.0ms preprocess, 40.3ms inference, 0.8ms postprocess per image at shape (1, 3, 1024, 1024)\n"
     ]
    },
    {
     "name": "stderr",
     "output_type": "stream",
     "text": [
      "Running YOLO OBB inference:  48%|████▊     | 245/507 [00:27<00:38,  6.86it/s]"
     ]
    },
    {
     "name": "stdout",
     "output_type": "stream",
     "text": [
      "No detections, skipped TXT for: 2023_RGB_8cm_W25C_16_tile_2048_7168.tif\n",
      "\n",
      "image 1/1 /shared/data/climateplus2025/Prediction_for_poster_July21/CapeTown_Image_2023_tiles_1024_for_prediction/2023_RGB_8cm_W25C_16_tile_2048_8192.tif: 1024x1024 (no detections), 40.2ms\n",
      "Speed: 1.8ms preprocess, 40.2ms inference, 0.5ms postprocess per image at shape (1, 3, 1024, 1024)\n"
     ]
    },
    {
     "name": "stderr",
     "output_type": "stream",
     "text": [
      "Running YOLO OBB inference:  49%|████▊     | 246/507 [00:27<00:35,  7.45it/s]"
     ]
    },
    {
     "name": "stdout",
     "output_type": "stream",
     "text": [
      "No detections, skipped TXT for: 2023_RGB_8cm_W25C_16_tile_2048_8192.tif\n",
      "\n",
      "image 1/1 /shared/data/climateplus2025/Prediction_for_poster_July21/CapeTown_Image_2023_tiles_1024_for_prediction/2023_RGB_8cm_W25C_16_tile_2048_9216.tif: 1024x1024 (no detections), 40.3ms\n",
      "Speed: 3.0ms preprocess, 40.3ms inference, 0.8ms postprocess per image at shape (1, 3, 1024, 1024)\n"
     ]
    },
    {
     "name": "stderr",
     "output_type": "stream",
     "text": [
      "Running YOLO OBB inference:  49%|████▊     | 247/507 [00:27<00:38,  6.69it/s]"
     ]
    },
    {
     "name": "stdout",
     "output_type": "stream",
     "text": [
      "No detections, skipped TXT for: 2023_RGB_8cm_W25C_16_tile_2048_9216.tif\n",
      "\n",
      "image 1/1 /shared/data/climateplus2025/Prediction_for_poster_July21/CapeTown_Image_2023_tiles_1024_for_prediction/2023_RGB_8cm_W25C_16_tile_3072_0.tif: 1024x1024 None40.3ms\n",
      "Speed: 2.9ms preprocess, 40.3ms inference, 3.2ms postprocess per image at shape (1, 3, 1024, 1024)\n"
     ]
    },
    {
     "name": "stderr",
     "output_type": "stream",
     "text": [
      "Running YOLO OBB inference:  49%|████▉     | 248/507 [00:28<00:44,  5.84it/s]"
     ]
    },
    {
     "name": "stdout",
     "output_type": "stream",
     "text": [
      "Saved predicted image: /shared/data/climateplus2025/Prediction_for_poster_July21/Prediction/predicted_images/2023_RGB_8cm_W25C_16_tile_3072_0_predicted.jpg\n",
      "Saved JSON: /shared/data/climateplus2025/Prediction_for_poster_July21/Prediction/predicted_json/2023_RGB_8cm_W25C_16_tile_3072_0.json\n",
      "Saved TXT: /shared/data/climateplus2025/Prediction_for_poster_July21/Prediction/predicted_txt/2023_RGB_8cm_W25C_16_tile_3072_0.txt\n",
      "\n",
      "image 1/1 /shared/data/climateplus2025/Prediction_for_poster_July21/CapeTown_Image_2023_tiles_1024_for_prediction/2023_RGB_8cm_W25C_16_tile_3072_1024.tif: 1024x1024 None40.3ms\n",
      "Speed: 2.4ms preprocess, 40.3ms inference, 1.8ms postprocess per image at shape (1, 3, 1024, 1024)\n"
     ]
    },
    {
     "name": "stderr",
     "output_type": "stream",
     "text": [
      "Running YOLO OBB inference:  49%|████▉     | 249/507 [00:28<00:40,  6.31it/s]"
     ]
    },
    {
     "name": "stdout",
     "output_type": "stream",
     "text": [
      "Saved predicted image: /shared/data/climateplus2025/Prediction_for_poster_July21/Prediction/predicted_images/2023_RGB_8cm_W25C_16_tile_3072_1024_predicted.jpg\n",
      "Saved JSON: /shared/data/climateplus2025/Prediction_for_poster_July21/Prediction/predicted_json/2023_RGB_8cm_W25C_16_tile_3072_1024.json\n",
      "Saved TXT: /shared/data/climateplus2025/Prediction_for_poster_July21/Prediction/predicted_txt/2023_RGB_8cm_W25C_16_tile_3072_1024.txt\n",
      "\n",
      "image 1/1 /shared/data/climateplus2025/Prediction_for_poster_July21/CapeTown_Image_2023_tiles_1024_for_prediction/2023_RGB_8cm_W25C_16_tile_3072_10240.tif: 1024x1024 (no detections), 40.2ms\n",
      "Speed: 1.9ms preprocess, 40.2ms inference, 0.5ms postprocess per image at shape (1, 3, 1024, 1024)\n"
     ]
    },
    {
     "name": "stderr",
     "output_type": "stream",
     "text": [
      "Running YOLO OBB inference:  49%|████▉     | 250/507 [00:28<00:39,  6.56it/s]"
     ]
    },
    {
     "name": "stdout",
     "output_type": "stream",
     "text": [
      "No detections, skipped TXT for: 2023_RGB_8cm_W25C_16_tile_3072_10240.tif\n",
      "\n",
      "image 1/1 /shared/data/climateplus2025/Prediction_for_poster_July21/CapeTown_Image_2023_tiles_1024_for_prediction/2023_RGB_8cm_W25C_16_tile_3072_11264.tif: 1024x1024 (no detections), 40.2ms\n",
      "Speed: 1.8ms preprocess, 40.2ms inference, 0.5ms postprocess per image at shape (1, 3, 1024, 1024)\n"
     ]
    },
    {
     "name": "stderr",
     "output_type": "stream",
     "text": [
      "Running YOLO OBB inference:  50%|████▉     | 251/507 [00:28<00:35,  7.16it/s]"
     ]
    },
    {
     "name": "stdout",
     "output_type": "stream",
     "text": [
      "No detections, skipped TXT for: 2023_RGB_8cm_W25C_16_tile_3072_11264.tif\n",
      "\n",
      "image 1/1 /shared/data/climateplus2025/Prediction_for_poster_July21/CapeTown_Image_2023_tiles_1024_for_prediction/2023_RGB_8cm_W25C_16_tile_3072_12288.tif: 1024x1024 (no detections), 40.2ms\n",
      "Speed: 2.0ms preprocess, 40.2ms inference, 0.5ms postprocess per image at shape (1, 3, 1024, 1024)\n",
      "No detections, skipped TXT for: 2023_RGB_8cm_W25C_16_tile_3072_12288.tif\n",
      "\n",
      "image 1/1 /shared/data/climateplus2025/Prediction_for_poster_July21/CapeTown_Image_2023_tiles_1024_for_prediction/2023_RGB_8cm_W25C_16_tile_3072_2048.tif: 1024x1024 None40.3ms\n",
      "Speed: 2.9ms preprocess, 40.3ms inference, 2.4ms postprocess per image at shape (1, 3, 1024, 1024)\n"
     ]
    },
    {
     "name": "stderr",
     "output_type": "stream",
     "text": [
      "Running YOLO OBB inference:  50%|████▉     | 253/507 [00:28<00:34,  7.41it/s]"
     ]
    },
    {
     "name": "stdout",
     "output_type": "stream",
     "text": [
      "Saved predicted image: /shared/data/climateplus2025/Prediction_for_poster_July21/Prediction/predicted_images/2023_RGB_8cm_W25C_16_tile_3072_2048_predicted.jpg\n",
      "Saved JSON: /shared/data/climateplus2025/Prediction_for_poster_July21/Prediction/predicted_json/2023_RGB_8cm_W25C_16_tile_3072_2048.json\n",
      "Saved TXT: /shared/data/climateplus2025/Prediction_for_poster_July21/Prediction/predicted_txt/2023_RGB_8cm_W25C_16_tile_3072_2048.txt\n",
      "\n",
      "image 1/1 /shared/data/climateplus2025/Prediction_for_poster_July21/CapeTown_Image_2023_tiles_1024_for_prediction/2023_RGB_8cm_W25C_16_tile_3072_3072.tif: 1024x1024 (no detections), 40.3ms\n",
      "Speed: 3.0ms preprocess, 40.3ms inference, 0.8ms postprocess per image at shape (1, 3, 1024, 1024)\n"
     ]
    },
    {
     "name": "stderr",
     "output_type": "stream",
     "text": [
      "Running YOLO OBB inference:  50%|█████     | 254/507 [00:28<00:37,  6.82it/s]"
     ]
    },
    {
     "name": "stdout",
     "output_type": "stream",
     "text": [
      "No detections, skipped TXT for: 2023_RGB_8cm_W25C_16_tile_3072_3072.tif\n",
      "\n",
      "image 1/1 /shared/data/climateplus2025/Prediction_for_poster_July21/CapeTown_Image_2023_tiles_1024_for_prediction/2023_RGB_8cm_W25C_16_tile_3072_4096.tif: 1024x1024 None40.3ms\n",
      "Speed: 2.9ms preprocess, 40.3ms inference, 2.3ms postprocess per image at shape (1, 3, 1024, 1024)\n"
     ]
    },
    {
     "name": "stderr",
     "output_type": "stream",
     "text": [
      "Running YOLO OBB inference:  50%|█████     | 255/507 [00:29<00:38,  6.54it/s]"
     ]
    },
    {
     "name": "stdout",
     "output_type": "stream",
     "text": [
      "Saved predicted image: /shared/data/climateplus2025/Prediction_for_poster_July21/Prediction/predicted_images/2023_RGB_8cm_W25C_16_tile_3072_4096_predicted.jpg\n",
      "Saved JSON: /shared/data/climateplus2025/Prediction_for_poster_July21/Prediction/predicted_json/2023_RGB_8cm_W25C_16_tile_3072_4096.json\n",
      "Saved TXT: /shared/data/climateplus2025/Prediction_for_poster_July21/Prediction/predicted_txt/2023_RGB_8cm_W25C_16_tile_3072_4096.txt\n",
      "\n",
      "image 1/1 /shared/data/climateplus2025/Prediction_for_poster_July21/CapeTown_Image_2023_tiles_1024_for_prediction/2023_RGB_8cm_W25C_16_tile_3072_5120.tif: 1024x1024 None40.3ms\n",
      "Speed: 3.0ms preprocess, 40.3ms inference, 1.8ms postprocess per image at shape (1, 3, 1024, 1024)\n"
     ]
    },
    {
     "name": "stderr",
     "output_type": "stream",
     "text": [
      "Running YOLO OBB inference:  50%|█████     | 256/507 [00:29<00:38,  6.58it/s]"
     ]
    },
    {
     "name": "stdout",
     "output_type": "stream",
     "text": [
      "Saved predicted image: /shared/data/climateplus2025/Prediction_for_poster_July21/Prediction/predicted_images/2023_RGB_8cm_W25C_16_tile_3072_5120_predicted.jpg\n",
      "Saved JSON: /shared/data/climateplus2025/Prediction_for_poster_July21/Prediction/predicted_json/2023_RGB_8cm_W25C_16_tile_3072_5120.json\n",
      "Saved TXT: /shared/data/climateplus2025/Prediction_for_poster_July21/Prediction/predicted_txt/2023_RGB_8cm_W25C_16_tile_3072_5120.txt\n",
      "\n",
      "image 1/1 /shared/data/climateplus2025/Prediction_for_poster_July21/CapeTown_Image_2023_tiles_1024_for_prediction/2023_RGB_8cm_W25C_16_tile_3072_6144.tif: 1024x1024 None40.3ms\n",
      "Speed: 2.9ms preprocess, 40.3ms inference, 2.7ms postprocess per image at shape (1, 3, 1024, 1024)\n"
     ]
    },
    {
     "name": "stderr",
     "output_type": "stream",
     "text": [
      "Running YOLO OBB inference:  51%|█████     | 257/507 [00:29<00:40,  6.19it/s]"
     ]
    },
    {
     "name": "stdout",
     "output_type": "stream",
     "text": [
      "Saved predicted image: /shared/data/climateplus2025/Prediction_for_poster_July21/Prediction/predicted_images/2023_RGB_8cm_W25C_16_tile_3072_6144_predicted.jpg\n",
      "Saved JSON: /shared/data/climateplus2025/Prediction_for_poster_July21/Prediction/predicted_json/2023_RGB_8cm_W25C_16_tile_3072_6144.json\n",
      "Saved TXT: /shared/data/climateplus2025/Prediction_for_poster_July21/Prediction/predicted_txt/2023_RGB_8cm_W25C_16_tile_3072_6144.txt\n",
      "\n",
      "image 1/1 /shared/data/climateplus2025/Prediction_for_poster_July21/CapeTown_Image_2023_tiles_1024_for_prediction/2023_RGB_8cm_W25C_16_tile_3072_7168.tif: 1024x1024 (no detections), 40.3ms\n",
      "Speed: 3.0ms preprocess, 40.3ms inference, 0.8ms postprocess per image at shape (1, 3, 1024, 1024)\n"
     ]
    },
    {
     "name": "stderr",
     "output_type": "stream",
     "text": [
      "Running YOLO OBB inference:  51%|█████     | 258/507 [00:29<00:41,  5.94it/s]"
     ]
    },
    {
     "name": "stdout",
     "output_type": "stream",
     "text": [
      "No detections, skipped TXT for: 2023_RGB_8cm_W25C_16_tile_3072_7168.tif\n",
      "\n",
      "image 1/1 /shared/data/climateplus2025/Prediction_for_poster_July21/CapeTown_Image_2023_tiles_1024_for_prediction/2023_RGB_8cm_W25C_16_tile_3072_8192.tif: 1024x1024 (no detections), 40.2ms\n",
      "Speed: 1.9ms preprocess, 40.2ms inference, 0.5ms postprocess per image at shape (1, 3, 1024, 1024)\n"
     ]
    },
    {
     "name": "stderr",
     "output_type": "stream",
     "text": [
      "Running YOLO OBB inference:  51%|█████     | 259/507 [00:29<00:37,  6.66it/s]"
     ]
    },
    {
     "name": "stdout",
     "output_type": "stream",
     "text": [
      "No detections, skipped TXT for: 2023_RGB_8cm_W25C_16_tile_3072_8192.tif\n",
      "\n",
      "image 1/1 /shared/data/climateplus2025/Prediction_for_poster_July21/CapeTown_Image_2023_tiles_1024_for_prediction/2023_RGB_8cm_W25C_16_tile_3072_9216.tif: 1024x1024 (no detections), 40.3ms\n",
      "Speed: 3.0ms preprocess, 40.3ms inference, 0.8ms postprocess per image at shape (1, 3, 1024, 1024)\n"
     ]
    },
    {
     "name": "stderr",
     "output_type": "stream",
     "text": [
      "Running YOLO OBB inference:  51%|█████▏    | 260/507 [00:29<00:37,  6.54it/s]"
     ]
    },
    {
     "name": "stdout",
     "output_type": "stream",
     "text": [
      "No detections, skipped TXT for: 2023_RGB_8cm_W25C_16_tile_3072_9216.tif\n",
      "\n",
      "image 1/1 /shared/data/climateplus2025/Prediction_for_poster_July21/CapeTown_Image_2023_tiles_1024_for_prediction/2023_RGB_8cm_W25C_16_tile_4096_0.tif: 1024x1024 None40.3ms\n",
      "Speed: 2.9ms preprocess, 40.3ms inference, 3.2ms postprocess per image at shape (1, 3, 1024, 1024)\n"
     ]
    },
    {
     "name": "stderr",
     "output_type": "stream",
     "text": [
      "Running YOLO OBB inference:  51%|█████▏    | 261/507 [00:30<00:40,  6.02it/s]"
     ]
    },
    {
     "name": "stdout",
     "output_type": "stream",
     "text": [
      "Saved predicted image: /shared/data/climateplus2025/Prediction_for_poster_July21/Prediction/predicted_images/2023_RGB_8cm_W25C_16_tile_4096_0_predicted.jpg\n",
      "Saved JSON: /shared/data/climateplus2025/Prediction_for_poster_July21/Prediction/predicted_json/2023_RGB_8cm_W25C_16_tile_4096_0.json\n",
      "Saved TXT: /shared/data/climateplus2025/Prediction_for_poster_July21/Prediction/predicted_txt/2023_RGB_8cm_W25C_16_tile_4096_0.txt\n",
      "\n",
      "image 1/1 /shared/data/climateplus2025/Prediction_for_poster_July21/CapeTown_Image_2023_tiles_1024_for_prediction/2023_RGB_8cm_W25C_16_tile_4096_1024.tif: 1024x1024 None40.2ms\n",
      "Speed: 1.9ms preprocess, 40.2ms inference, 1.9ms postprocess per image at shape (1, 3, 1024, 1024)\n"
     ]
    },
    {
     "name": "stderr",
     "output_type": "stream",
     "text": [
      "Running YOLO OBB inference:  52%|█████▏    | 262/507 [00:30<00:38,  6.35it/s]"
     ]
    },
    {
     "name": "stdout",
     "output_type": "stream",
     "text": [
      "Saved predicted image: /shared/data/climateplus2025/Prediction_for_poster_July21/Prediction/predicted_images/2023_RGB_8cm_W25C_16_tile_4096_1024_predicted.jpg\n",
      "Saved JSON: /shared/data/climateplus2025/Prediction_for_poster_July21/Prediction/predicted_json/2023_RGB_8cm_W25C_16_tile_4096_1024.json\n",
      "Saved TXT: /shared/data/climateplus2025/Prediction_for_poster_July21/Prediction/predicted_txt/2023_RGB_8cm_W25C_16_tile_4096_1024.txt\n",
      "\n",
      "image 1/1 /shared/data/climateplus2025/Prediction_for_poster_July21/CapeTown_Image_2023_tiles_1024_for_prediction/2023_RGB_8cm_W25C_16_tile_4096_10240.tif: 1024x1024 (no detections), 40.3ms\n",
      "Speed: 3.1ms preprocess, 40.3ms inference, 0.8ms postprocess per image at shape (1, 3, 1024, 1024)\n"
     ]
    },
    {
     "name": "stderr",
     "output_type": "stream",
     "text": [
      "Running YOLO OBB inference:  52%|█████▏    | 263/507 [00:30<00:37,  6.51it/s]"
     ]
    },
    {
     "name": "stdout",
     "output_type": "stream",
     "text": [
      "No detections, skipped TXT for: 2023_RGB_8cm_W25C_16_tile_4096_10240.tif\n",
      "\n",
      "image 1/1 /shared/data/climateplus2025/Prediction_for_poster_July21/CapeTown_Image_2023_tiles_1024_for_prediction/2023_RGB_8cm_W25C_16_tile_4096_11264.tif: 1024x1024 None40.3ms\n",
      "Speed: 2.9ms preprocess, 40.3ms inference, 2.6ms postprocess per image at shape (1, 3, 1024, 1024)\n"
     ]
    },
    {
     "name": "stderr",
     "output_type": "stream",
     "text": [
      "Running YOLO OBB inference:  52%|█████▏    | 264/507 [00:30<00:38,  6.34it/s]"
     ]
    },
    {
     "name": "stdout",
     "output_type": "stream",
     "text": [
      "Saved predicted image: /shared/data/climateplus2025/Prediction_for_poster_July21/Prediction/predicted_images/2023_RGB_8cm_W25C_16_tile_4096_11264_predicted.jpg\n",
      "Saved JSON: /shared/data/climateplus2025/Prediction_for_poster_July21/Prediction/predicted_json/2023_RGB_8cm_W25C_16_tile_4096_11264.json\n",
      "Saved TXT: /shared/data/climateplus2025/Prediction_for_poster_July21/Prediction/predicted_txt/2023_RGB_8cm_W25C_16_tile_4096_11264.txt\n",
      "\n",
      "image 1/1 /shared/data/climateplus2025/Prediction_for_poster_July21/CapeTown_Image_2023_tiles_1024_for_prediction/2023_RGB_8cm_W25C_16_tile_4096_12288.tif: 1024x1024 (no detections), 40.2ms\n",
      "Speed: 1.9ms preprocess, 40.2ms inference, 0.5ms postprocess per image at shape (1, 3, 1024, 1024)\n"
     ]
    },
    {
     "name": "stderr",
     "output_type": "stream",
     "text": [
      "Running YOLO OBB inference:  52%|█████▏    | 265/507 [00:30<00:34,  7.11it/s]"
     ]
    },
    {
     "name": "stdout",
     "output_type": "stream",
     "text": [
      "No detections, skipped TXT for: 2023_RGB_8cm_W25C_16_tile_4096_12288.tif\n",
      "\n",
      "image 1/1 /shared/data/climateplus2025/Prediction_for_poster_July21/CapeTown_Image_2023_tiles_1024_for_prediction/2023_RGB_8cm_W25C_16_tile_4096_2048.tif: 1024x1024 None39.8ms\n",
      "Speed: 2.4ms preprocess, 39.8ms inference, 2.3ms postprocess per image at shape (1, 3, 1024, 1024)\n"
     ]
    },
    {
     "name": "stderr",
     "output_type": "stream",
     "text": [
      "Running YOLO OBB inference:  52%|█████▏    | 266/507 [00:30<00:34,  6.92it/s]"
     ]
    },
    {
     "name": "stdout",
     "output_type": "stream",
     "text": [
      "Saved predicted image: /shared/data/climateplus2025/Prediction_for_poster_July21/Prediction/predicted_images/2023_RGB_8cm_W25C_16_tile_4096_2048_predicted.jpg\n",
      "Saved JSON: /shared/data/climateplus2025/Prediction_for_poster_July21/Prediction/predicted_json/2023_RGB_8cm_W25C_16_tile_4096_2048.json\n",
      "Saved TXT: /shared/data/climateplus2025/Prediction_for_poster_July21/Prediction/predicted_txt/2023_RGB_8cm_W25C_16_tile_4096_2048.txt\n",
      "\n",
      "image 1/1 /shared/data/climateplus2025/Prediction_for_poster_July21/CapeTown_Image_2023_tiles_1024_for_prediction/2023_RGB_8cm_W25C_16_tile_4096_3072.tif: 1024x1024 None39.8ms\n",
      "Speed: 3.0ms preprocess, 39.8ms inference, 3.2ms postprocess per image at shape (1, 3, 1024, 1024)\n"
     ]
    },
    {
     "name": "stderr",
     "output_type": "stream",
     "text": [
      "Running YOLO OBB inference:  53%|█████▎    | 267/507 [00:31<00:42,  5.59it/s]"
     ]
    },
    {
     "name": "stdout",
     "output_type": "stream",
     "text": [
      "Saved predicted image: /shared/data/climateplus2025/Prediction_for_poster_July21/Prediction/predicted_images/2023_RGB_8cm_W25C_16_tile_4096_3072_predicted.jpg\n",
      "Saved JSON: /shared/data/climateplus2025/Prediction_for_poster_July21/Prediction/predicted_json/2023_RGB_8cm_W25C_16_tile_4096_3072.json\n",
      "Saved TXT: /shared/data/climateplus2025/Prediction_for_poster_July21/Prediction/predicted_txt/2023_RGB_8cm_W25C_16_tile_4096_3072.txt\n",
      "\n",
      "image 1/1 /shared/data/climateplus2025/Prediction_for_poster_July21/CapeTown_Image_2023_tiles_1024_for_prediction/2023_RGB_8cm_W25C_16_tile_4096_4096.tif: 1024x1024 None39.8ms\n",
      "Speed: 2.9ms preprocess, 39.8ms inference, 3.3ms postprocess per image at shape (1, 3, 1024, 1024)\n"
     ]
    },
    {
     "name": "stderr",
     "output_type": "stream",
     "text": [
      "Running YOLO OBB inference:  53%|█████▎    | 268/507 [00:31<00:44,  5.36it/s]"
     ]
    },
    {
     "name": "stdout",
     "output_type": "stream",
     "text": [
      "Saved predicted image: /shared/data/climateplus2025/Prediction_for_poster_July21/Prediction/predicted_images/2023_RGB_8cm_W25C_16_tile_4096_4096_predicted.jpg\n",
      "Saved JSON: /shared/data/climateplus2025/Prediction_for_poster_July21/Prediction/predicted_json/2023_RGB_8cm_W25C_16_tile_4096_4096.json\n",
      "Saved TXT: /shared/data/climateplus2025/Prediction_for_poster_July21/Prediction/predicted_txt/2023_RGB_8cm_W25C_16_tile_4096_4096.txt\n",
      "\n",
      "image 1/1 /shared/data/climateplus2025/Prediction_for_poster_July21/CapeTown_Image_2023_tiles_1024_for_prediction/2023_RGB_8cm_W25C_16_tile_4096_5120.tif: 1024x1024 None39.8ms\n",
      "Speed: 3.0ms preprocess, 39.8ms inference, 2.7ms postprocess per image at shape (1, 3, 1024, 1024)\n"
     ]
    },
    {
     "name": "stderr",
     "output_type": "stream",
     "text": [
      "Running YOLO OBB inference:  53%|█████▎    | 269/507 [00:31<00:42,  5.63it/s]"
     ]
    },
    {
     "name": "stdout",
     "output_type": "stream",
     "text": [
      "Saved predicted image: /shared/data/climateplus2025/Prediction_for_poster_July21/Prediction/predicted_images/2023_RGB_8cm_W25C_16_tile_4096_5120_predicted.jpg\n",
      "Saved JSON: /shared/data/climateplus2025/Prediction_for_poster_July21/Prediction/predicted_json/2023_RGB_8cm_W25C_16_tile_4096_5120.json\n",
      "Saved TXT: /shared/data/climateplus2025/Prediction_for_poster_July21/Prediction/predicted_txt/2023_RGB_8cm_W25C_16_tile_4096_5120.txt\n",
      "\n",
      "image 1/1 /shared/data/climateplus2025/Prediction_for_poster_July21/CapeTown_Image_2023_tiles_1024_for_prediction/2023_RGB_8cm_W25C_16_tile_4096_6144.tif: 1024x1024 None39.8ms\n",
      "Speed: 2.5ms preprocess, 39.8ms inference, 2.6ms postprocess per image at shape (1, 3, 1024, 1024)\n"
     ]
    },
    {
     "name": "stderr",
     "output_type": "stream",
     "text": [
      "Running YOLO OBB inference:  53%|█████▎    | 270/507 [00:31<00:40,  5.85it/s]"
     ]
    },
    {
     "name": "stdout",
     "output_type": "stream",
     "text": [
      "Saved predicted image: /shared/data/climateplus2025/Prediction_for_poster_July21/Prediction/predicted_images/2023_RGB_8cm_W25C_16_tile_4096_6144_predicted.jpg\n",
      "Saved JSON: /shared/data/climateplus2025/Prediction_for_poster_July21/Prediction/predicted_json/2023_RGB_8cm_W25C_16_tile_4096_6144.json\n",
      "Saved TXT: /shared/data/climateplus2025/Prediction_for_poster_July21/Prediction/predicted_txt/2023_RGB_8cm_W25C_16_tile_4096_6144.txt\n",
      "\n",
      "image 1/1 /shared/data/climateplus2025/Prediction_for_poster_July21/CapeTown_Image_2023_tiles_1024_for_prediction/2023_RGB_8cm_W25C_16_tile_4096_7168.tif: 1024x1024 (no detections), 39.8ms\n",
      "Speed: 3.0ms preprocess, 39.8ms inference, 0.8ms postprocess per image at shape (1, 3, 1024, 1024)\n"
     ]
    },
    {
     "name": "stderr",
     "output_type": "stream",
     "text": [
      "Running YOLO OBB inference:  53%|█████▎    | 271/507 [00:31<00:40,  5.81it/s]"
     ]
    },
    {
     "name": "stdout",
     "output_type": "stream",
     "text": [
      "No detections, skipped TXT for: 2023_RGB_8cm_W25C_16_tile_4096_7168.tif\n",
      "\n",
      "image 1/1 /shared/data/climateplus2025/Prediction_for_poster_July21/CapeTown_Image_2023_tiles_1024_for_prediction/2023_RGB_8cm_W25C_16_tile_4096_8192.tif: 1024x1024 (no detections), 39.8ms\n",
      "Speed: 1.8ms preprocess, 39.8ms inference, 0.5ms postprocess per image at shape (1, 3, 1024, 1024)\n"
     ]
    },
    {
     "name": "stderr",
     "output_type": "stream",
     "text": [
      "Running YOLO OBB inference:  54%|█████▎    | 272/507 [00:31<00:35,  6.56it/s]"
     ]
    },
    {
     "name": "stdout",
     "output_type": "stream",
     "text": [
      "No detections, skipped TXT for: 2023_RGB_8cm_W25C_16_tile_4096_8192.tif\n",
      "\n",
      "image 1/1 /shared/data/climateplus2025/Prediction_for_poster_July21/CapeTown_Image_2023_tiles_1024_for_prediction/2023_RGB_8cm_W25C_16_tile_4096_9216.tif: 1024x1024 (no detections), 39.8ms\n",
      "Speed: 2.5ms preprocess, 39.8ms inference, 0.6ms postprocess per image at shape (1, 3, 1024, 1024)\n"
     ]
    },
    {
     "name": "stderr",
     "output_type": "stream",
     "text": [
      "Running YOLO OBB inference:  54%|█████▍    | 273/507 [00:31<00:35,  6.68it/s]"
     ]
    },
    {
     "name": "stdout",
     "output_type": "stream",
     "text": [
      "No detections, skipped TXT for: 2023_RGB_8cm_W25C_16_tile_4096_9216.tif\n",
      "\n",
      "image 1/1 /shared/data/climateplus2025/Prediction_for_poster_July21/CapeTown_Image_2023_tiles_1024_for_prediction/2023_RGB_8cm_W25C_16_tile_5120_0.tif: 1024x1024 (no detections), 39.8ms\n",
      "Speed: 2.9ms preprocess, 39.8ms inference, 0.8ms postprocess per image at shape (1, 3, 1024, 1024)\n"
     ]
    },
    {
     "name": "stderr",
     "output_type": "stream",
     "text": [
      "Running YOLO OBB inference:  54%|█████▍    | 274/507 [00:32<00:40,  5.81it/s]"
     ]
    },
    {
     "name": "stdout",
     "output_type": "stream",
     "text": [
      "No detections, skipped TXT for: 2023_RGB_8cm_W25C_16_tile_5120_0.tif\n",
      "\n",
      "image 1/1 /shared/data/climateplus2025/Prediction_for_poster_July21/CapeTown_Image_2023_tiles_1024_for_prediction/2023_RGB_8cm_W25C_16_tile_5120_1024.tif: 1024x1024 (no detections), 39.8ms\n",
      "Speed: 2.9ms preprocess, 39.8ms inference, 0.8ms postprocess per image at shape (1, 3, 1024, 1024)\n"
     ]
    },
    {
     "name": "stderr",
     "output_type": "stream",
     "text": [
      "Running YOLO OBB inference:  54%|█████▍    | 275/507 [00:32<00:38,  5.99it/s]"
     ]
    },
    {
     "name": "stdout",
     "output_type": "stream",
     "text": [
      "No detections, skipped TXT for: 2023_RGB_8cm_W25C_16_tile_5120_1024.tif\n",
      "\n",
      "image 1/1 /shared/data/climateplus2025/Prediction_for_poster_July21/CapeTown_Image_2023_tiles_1024_for_prediction/2023_RGB_8cm_W25C_16_tile_5120_10240.tif: 1024x1024 (no detections), 39.8ms\n",
      "Speed: 1.9ms preprocess, 39.8ms inference, 0.5ms postprocess per image at shape (1, 3, 1024, 1024)\n",
      "No detections, skipped TXT for: 2023_RGB_8cm_W25C_16_tile_5120_10240.tif\n",
      "\n",
      "image 1/1 /shared/data/climateplus2025/Prediction_for_poster_July21/CapeTown_Image_2023_tiles_1024_for_prediction/2023_RGB_8cm_W25C_16_tile_5120_11264.tif: 1024x1024 None39.8ms\n",
      "Speed: 1.8ms preprocess, 39.8ms inference, 1.9ms postprocess per image at shape (1, 3, 1024, 1024)\n"
     ]
    },
    {
     "name": "stderr",
     "output_type": "stream",
     "text": [
      "Running YOLO OBB inference:  55%|█████▍    | 277/507 [00:32<00:32,  7.11it/s]"
     ]
    },
    {
     "name": "stdout",
     "output_type": "stream",
     "text": [
      "Saved predicted image: /shared/data/climateplus2025/Prediction_for_poster_July21/Prediction/predicted_images/2023_RGB_8cm_W25C_16_tile_5120_11264_predicted.jpg\n",
      "Saved JSON: /shared/data/climateplus2025/Prediction_for_poster_July21/Prediction/predicted_json/2023_RGB_8cm_W25C_16_tile_5120_11264.json\n",
      "Saved TXT: /shared/data/climateplus2025/Prediction_for_poster_July21/Prediction/predicted_txt/2023_RGB_8cm_W25C_16_tile_5120_11264.txt\n",
      "\n",
      "image 1/1 /shared/data/climateplus2025/Prediction_for_poster_July21/CapeTown_Image_2023_tiles_1024_for_prediction/2023_RGB_8cm_W25C_16_tile_5120_12288.tif: 1024x1024 None39.8ms\n",
      "Speed: 1.9ms preprocess, 39.8ms inference, 1.8ms postprocess per image at shape (1, 3, 1024, 1024)\n",
      "Saved predicted image: /shared/data/climateplus2025/Prediction_for_poster_July21/Prediction/predicted_images/2023_RGB_8cm_W25C_16_tile_5120_12288_predicted.jpg\n",
      "Saved JSON: /shared/data/climateplus2025/Prediction_for_poster_July21/Prediction/predicted_json/2023_RGB_8cm_W25C_16_tile_5120_12288.json\n",
      "Saved TXT: /shared/data/climateplus2025/Prediction_for_poster_July21/Prediction/predicted_txt/2023_RGB_8cm_W25C_16_tile_5120_12288.txt\n",
      "\n",
      "image 1/1 /shared/data/climateplus2025/Prediction_for_poster_July21/CapeTown_Image_2023_tiles_1024_for_prediction/2023_RGB_8cm_W25C_16_tile_5120_2048.tif: 1024x1024 (no detections), 39.8ms\n",
      "Speed: 2.9ms preprocess, 39.8ms inference, 0.8ms postprocess per image at shape (1, 3, 1024, 1024)\n"
     ]
    },
    {
     "name": "stderr",
     "output_type": "stream",
     "text": [
      "Running YOLO OBB inference:  55%|█████▌    | 279/507 [00:32<00:30,  7.43it/s]"
     ]
    },
    {
     "name": "stdout",
     "output_type": "stream",
     "text": [
      "No detections, skipped TXT for: 2023_RGB_8cm_W25C_16_tile_5120_2048.tif\n",
      "\n",
      "image 1/1 /shared/data/climateplus2025/Prediction_for_poster_July21/CapeTown_Image_2023_tiles_1024_for_prediction/2023_RGB_8cm_W25C_16_tile_5120_3072.tif: 1024x1024 (no detections), 40.2ms\n",
      "Speed: 2.4ms preprocess, 40.2ms inference, 0.6ms postprocess per image at shape (1, 3, 1024, 1024)\n"
     ]
    },
    {
     "name": "stderr",
     "output_type": "stream",
     "text": [
      "Running YOLO OBB inference:  55%|█████▌    | 280/507 [00:33<00:32,  7.02it/s]"
     ]
    },
    {
     "name": "stdout",
     "output_type": "stream",
     "text": [
      "No detections, skipped TXT for: 2023_RGB_8cm_W25C_16_tile_5120_3072.tif\n",
      "\n",
      "image 1/1 /shared/data/climateplus2025/Prediction_for_poster_July21/CapeTown_Image_2023_tiles_1024_for_prediction/2023_RGB_8cm_W25C_16_tile_5120_4096.tif: 1024x1024 (no detections), 40.2ms\n",
      "Speed: 1.8ms preprocess, 40.2ms inference, 0.5ms postprocess per image at shape (1, 3, 1024, 1024)\n"
     ]
    },
    {
     "name": "stderr",
     "output_type": "stream",
     "text": [
      "Running YOLO OBB inference:  55%|█████▌    | 281/507 [00:33<00:31,  7.14it/s]"
     ]
    },
    {
     "name": "stdout",
     "output_type": "stream",
     "text": [
      "No detections, skipped TXT for: 2023_RGB_8cm_W25C_16_tile_5120_4096.tif\n",
      "\n",
      "image 1/1 /shared/data/climateplus2025/Prediction_for_poster_July21/CapeTown_Image_2023_tiles_1024_for_prediction/2023_RGB_8cm_W25C_16_tile_5120_5120.tif: 1024x1024 (no detections), 40.2ms\n",
      "Speed: 1.8ms preprocess, 40.2ms inference, 0.5ms postprocess per image at shape (1, 3, 1024, 1024)\n"
     ]
    },
    {
     "name": "stderr",
     "output_type": "stream",
     "text": [
      "Running YOLO OBB inference:  56%|█████▌    | 282/507 [00:33<00:29,  7.60it/s]"
     ]
    },
    {
     "name": "stdout",
     "output_type": "stream",
     "text": [
      "No detections, skipped TXT for: 2023_RGB_8cm_W25C_16_tile_5120_5120.tif\n",
      "\n",
      "image 1/1 /shared/data/climateplus2025/Prediction_for_poster_July21/CapeTown_Image_2023_tiles_1024_for_prediction/2023_RGB_8cm_W25C_16_tile_5120_6144.tif: 1024x1024 None40.0ms\n",
      "Speed: 1.8ms preprocess, 40.0ms inference, 1.9ms postprocess per image at shape (1, 3, 1024, 1024)\n"
     ]
    },
    {
     "name": "stderr",
     "output_type": "stream",
     "text": [
      "Running YOLO OBB inference:  56%|█████▌    | 283/507 [00:33<00:28,  7.74it/s]"
     ]
    },
    {
     "name": "stdout",
     "output_type": "stream",
     "text": [
      "Saved predicted image: /shared/data/climateplus2025/Prediction_for_poster_July21/Prediction/predicted_images/2023_RGB_8cm_W25C_16_tile_5120_6144_predicted.jpg\n",
      "Saved JSON: /shared/data/climateplus2025/Prediction_for_poster_July21/Prediction/predicted_json/2023_RGB_8cm_W25C_16_tile_5120_6144.json\n",
      "Saved TXT: /shared/data/climateplus2025/Prediction_for_poster_July21/Prediction/predicted_txt/2023_RGB_8cm_W25C_16_tile_5120_6144.txt\n",
      "\n",
      "image 1/1 /shared/data/climateplus2025/Prediction_for_poster_July21/CapeTown_Image_2023_tiles_1024_for_prediction/2023_RGB_8cm_W25C_16_tile_5120_7168.tif: 1024x1024 (no detections), 40.0ms\n",
      "Speed: 1.8ms preprocess, 40.0ms inference, 0.5ms postprocess per image at shape (1, 3, 1024, 1024)\n"
     ]
    },
    {
     "name": "stderr",
     "output_type": "stream",
     "text": [
      "Running YOLO OBB inference:  56%|█████▌    | 284/507 [00:33<00:28,  7.94it/s]"
     ]
    },
    {
     "name": "stdout",
     "output_type": "stream",
     "text": [
      "No detections, skipped TXT for: 2023_RGB_8cm_W25C_16_tile_5120_7168.tif\n",
      "\n",
      "image 1/1 /shared/data/climateplus2025/Prediction_for_poster_July21/CapeTown_Image_2023_tiles_1024_for_prediction/2023_RGB_8cm_W25C_16_tile_5120_8192.tif: 1024x1024 (no detections), 40.0ms\n",
      "Speed: 1.9ms preprocess, 40.0ms inference, 0.5ms postprocess per image at shape (1, 3, 1024, 1024)\n"
     ]
    },
    {
     "name": "stderr",
     "output_type": "stream",
     "text": [
      "Running YOLO OBB inference:  56%|█████▌    | 285/507 [00:33<00:26,  8.35it/s]"
     ]
    },
    {
     "name": "stdout",
     "output_type": "stream",
     "text": [
      "No detections, skipped TXT for: 2023_RGB_8cm_W25C_16_tile_5120_8192.tif\n",
      "\n",
      "image 1/1 /shared/data/climateplus2025/Prediction_for_poster_July21/CapeTown_Image_2023_tiles_1024_for_prediction/2023_RGB_8cm_W25C_16_tile_5120_9216.tif: 1024x1024 None40.0ms\n",
      "Speed: 1.7ms preprocess, 40.0ms inference, 1.8ms postprocess per image at shape (1, 3, 1024, 1024)\n"
     ]
    },
    {
     "name": "stderr",
     "output_type": "stream",
     "text": [
      "Running YOLO OBB inference:  56%|█████▋    | 286/507 [00:33<00:26,  8.40it/s]"
     ]
    },
    {
     "name": "stdout",
     "output_type": "stream",
     "text": [
      "Saved predicted image: /shared/data/climateplus2025/Prediction_for_poster_July21/Prediction/predicted_images/2023_RGB_8cm_W25C_16_tile_5120_9216_predicted.jpg\n",
      "Saved JSON: /shared/data/climateplus2025/Prediction_for_poster_July21/Prediction/predicted_json/2023_RGB_8cm_W25C_16_tile_5120_9216.json\n",
      "Saved TXT: /shared/data/climateplus2025/Prediction_for_poster_July21/Prediction/predicted_txt/2023_RGB_8cm_W25C_16_tile_5120_9216.txt\n",
      "\n",
      "image 1/1 /shared/data/climateplus2025/Prediction_for_poster_July21/CapeTown_Image_2023_tiles_1024_for_prediction/2023_RGB_8cm_W25C_16_tile_6144_0.tif: 1024x1024 None40.1ms\n",
      "Speed: 3.0ms preprocess, 40.1ms inference, 3.2ms postprocess per image at shape (1, 3, 1024, 1024)\n",
      "Saved predicted image: /shared/data/climateplus2025/Prediction_for_poster_July21/Prediction/predicted_images/2023_RGB_8cm_W25C_16_tile_6144_0_predicted.jpg\n",
      "Saved JSON: /shared/data/climateplus2025/Prediction_for_poster_July21/Prediction/predicted_json/2023_RGB_8cm_W25C_16_tile_6144_0.json\n"
     ]
    },
    {
     "name": "stderr",
     "output_type": "stream",
     "text": [
      "Running YOLO OBB inference:  57%|█████▋    | 287/507 [00:33<00:29,  7.44it/s]"
     ]
    },
    {
     "name": "stdout",
     "output_type": "stream",
     "text": [
      "Saved TXT: /shared/data/climateplus2025/Prediction_for_poster_July21/Prediction/predicted_txt/2023_RGB_8cm_W25C_16_tile_6144_0.txt\n",
      "\n",
      "image 1/1 /shared/data/climateplus2025/Prediction_for_poster_July21/CapeTown_Image_2023_tiles_1024_for_prediction/2023_RGB_8cm_W25C_16_tile_6144_1024.tif: 1024x1024 None40.1ms\n",
      "Speed: 3.0ms preprocess, 40.1ms inference, 3.1ms postprocess per image at shape (1, 3, 1024, 1024)\n",
      "Saved predicted image: /shared/data/climateplus2025/Prediction_for_poster_July21/Prediction/predicted_images/2023_RGB_8cm_W25C_16_tile_6144_1024_predicted.jpg\n"
     ]
    },
    {
     "name": "stderr",
     "output_type": "stream",
     "text": [
      "Running YOLO OBB inference:  57%|█████▋    | 288/507 [00:34<00:33,  6.51it/s]"
     ]
    },
    {
     "name": "stdout",
     "output_type": "stream",
     "text": [
      "Saved JSON: /shared/data/climateplus2025/Prediction_for_poster_July21/Prediction/predicted_json/2023_RGB_8cm_W25C_16_tile_6144_1024.json\n",
      "Saved TXT: /shared/data/climateplus2025/Prediction_for_poster_July21/Prediction/predicted_txt/2023_RGB_8cm_W25C_16_tile_6144_1024.txt\n",
      "\n",
      "image 1/1 /shared/data/climateplus2025/Prediction_for_poster_July21/CapeTown_Image_2023_tiles_1024_for_prediction/2023_RGB_8cm_W25C_16_tile_6144_10240.tif: 1024x1024 (no detections), 40.0ms\n",
      "Speed: 2.0ms preprocess, 40.0ms inference, 0.5ms postprocess per image at shape (1, 3, 1024, 1024)\n"
     ]
    },
    {
     "name": "stderr",
     "output_type": "stream",
     "text": [
      "Running YOLO OBB inference:  57%|█████▋    | 289/507 [00:34<00:30,  7.05it/s]"
     ]
    },
    {
     "name": "stdout",
     "output_type": "stream",
     "text": [
      "No detections, skipped TXT for: 2023_RGB_8cm_W25C_16_tile_6144_10240.tif\n",
      "\n",
      "image 1/1 /shared/data/climateplus2025/Prediction_for_poster_July21/CapeTown_Image_2023_tiles_1024_for_prediction/2023_RGB_8cm_W25C_16_tile_6144_11264.tif: 1024x1024 None40.0ms\n",
      "Speed: 1.8ms preprocess, 40.0ms inference, 2.0ms postprocess per image at shape (1, 3, 1024, 1024)\n"
     ]
    },
    {
     "name": "stderr",
     "output_type": "stream",
     "text": [
      "Running YOLO OBB inference:  57%|█████▋    | 290/507 [00:34<00:29,  7.36it/s]"
     ]
    },
    {
     "name": "stdout",
     "output_type": "stream",
     "text": [
      "Saved predicted image: /shared/data/climateplus2025/Prediction_for_poster_July21/Prediction/predicted_images/2023_RGB_8cm_W25C_16_tile_6144_11264_predicted.jpg\n",
      "Saved JSON: /shared/data/climateplus2025/Prediction_for_poster_July21/Prediction/predicted_json/2023_RGB_8cm_W25C_16_tile_6144_11264.json\n",
      "Saved TXT: /shared/data/climateplus2025/Prediction_for_poster_July21/Prediction/predicted_txt/2023_RGB_8cm_W25C_16_tile_6144_11264.txt\n",
      "\n",
      "image 1/1 /shared/data/climateplus2025/Prediction_for_poster_July21/CapeTown_Image_2023_tiles_1024_for_prediction/2023_RGB_8cm_W25C_16_tile_6144_12288.tif: 1024x1024 (no detections), 40.0ms\n",
      "Speed: 2.0ms preprocess, 40.0ms inference, 0.5ms postprocess per image at shape (1, 3, 1024, 1024)\n",
      "No detections, skipped TXT for: 2023_RGB_8cm_W25C_16_tile_6144_12288.tif\n",
      "\n",
      "image 1/1 /shared/data/climateplus2025/Prediction_for_poster_July21/CapeTown_Image_2023_tiles_1024_for_prediction/2023_RGB_8cm_W25C_16_tile_6144_2048.tif: 1024x1024 None40.0ms\n",
      "Speed: 3.0ms preprocess, 40.0ms inference, 2.4ms postprocess per image at shape (1, 3, 1024, 1024)\n"
     ]
    },
    {
     "name": "stderr",
     "output_type": "stream",
     "text": [
      "Running YOLO OBB inference:  58%|█████▊    | 292/507 [00:34<00:28,  7.64it/s]"
     ]
    },
    {
     "name": "stdout",
     "output_type": "stream",
     "text": [
      "Saved predicted image: /shared/data/climateplus2025/Prediction_for_poster_July21/Prediction/predicted_images/2023_RGB_8cm_W25C_16_tile_6144_2048_predicted.jpg\n",
      "Saved JSON: /shared/data/climateplus2025/Prediction_for_poster_July21/Prediction/predicted_json/2023_RGB_8cm_W25C_16_tile_6144_2048.json\n",
      "Saved TXT: /shared/data/climateplus2025/Prediction_for_poster_July21/Prediction/predicted_txt/2023_RGB_8cm_W25C_16_tile_6144_2048.txt\n",
      "\n",
      "image 1/1 /shared/data/climateplus2025/Prediction_for_poster_July21/CapeTown_Image_2023_tiles_1024_for_prediction/2023_RGB_8cm_W25C_16_tile_6144_3072.tif: 1024x1024 None40.0ms\n",
      "Speed: 2.5ms preprocess, 40.0ms inference, 2.6ms postprocess per image at shape (1, 3, 1024, 1024)\n"
     ]
    },
    {
     "name": "stderr",
     "output_type": "stream",
     "text": [
      "Running YOLO OBB inference:  58%|█████▊    | 293/507 [00:34<00:33,  6.47it/s]"
     ]
    },
    {
     "name": "stdout",
     "output_type": "stream",
     "text": [
      "Saved predicted image: /shared/data/climateplus2025/Prediction_for_poster_July21/Prediction/predicted_images/2023_RGB_8cm_W25C_16_tile_6144_3072_predicted.jpg\n",
      "Saved JSON: /shared/data/climateplus2025/Prediction_for_poster_July21/Prediction/predicted_json/2023_RGB_8cm_W25C_16_tile_6144_3072.json\n",
      "Saved TXT: /shared/data/climateplus2025/Prediction_for_poster_July21/Prediction/predicted_txt/2023_RGB_8cm_W25C_16_tile_6144_3072.txt\n",
      "\n",
      "image 1/1 /shared/data/climateplus2025/Prediction_for_poster_July21/CapeTown_Image_2023_tiles_1024_for_prediction/2023_RGB_8cm_W25C_16_tile_6144_4096.tif: 1024x1024 (no detections), 40.1ms\n",
      "Speed: 2.5ms preprocess, 40.1ms inference, 0.7ms postprocess per image at shape (1, 3, 1024, 1024)\n"
     ]
    },
    {
     "name": "stderr",
     "output_type": "stream",
     "text": [
      "Running YOLO OBB inference:  58%|█████▊    | 294/507 [00:34<00:32,  6.60it/s]"
     ]
    },
    {
     "name": "stdout",
     "output_type": "stream",
     "text": [
      "No detections, skipped TXT for: 2023_RGB_8cm_W25C_16_tile_6144_4096.tif\n",
      "\n",
      "image 1/1 /shared/data/climateplus2025/Prediction_for_poster_July21/CapeTown_Image_2023_tiles_1024_for_prediction/2023_RGB_8cm_W25C_16_tile_6144_5120.tif: 1024x1024 (no detections), 40.0ms\n",
      "Speed: 1.8ms preprocess, 40.0ms inference, 0.5ms postprocess per image at shape (1, 3, 1024, 1024)\n"
     ]
    },
    {
     "name": "stderr",
     "output_type": "stream",
     "text": [
      "Running YOLO OBB inference:  58%|█████▊    | 295/507 [00:35<00:31,  6.64it/s]"
     ]
    },
    {
     "name": "stdout",
     "output_type": "stream",
     "text": [
      "No detections, skipped TXT for: 2023_RGB_8cm_W25C_16_tile_6144_5120.tif\n",
      "\n",
      "image 1/1 /shared/data/climateplus2025/Prediction_for_poster_July21/CapeTown_Image_2023_tiles_1024_for_prediction/2023_RGB_8cm_W25C_16_tile_6144_6144.tif: 1024x1024 (no detections), 40.3ms\n",
      "Speed: 1.8ms preprocess, 40.3ms inference, 0.5ms postprocess per image at shape (1, 3, 1024, 1024)\n"
     ]
    },
    {
     "name": "stderr",
     "output_type": "stream",
     "text": [
      "Running YOLO OBB inference:  58%|█████▊    | 296/507 [00:35<00:29,  7.17it/s]"
     ]
    },
    {
     "name": "stdout",
     "output_type": "stream",
     "text": [
      "No detections, skipped TXT for: 2023_RGB_8cm_W25C_16_tile_6144_6144.tif\n",
      "\n",
      "image 1/1 /shared/data/climateplus2025/Prediction_for_poster_July21/CapeTown_Image_2023_tiles_1024_for_prediction/2023_RGB_8cm_W25C_16_tile_6144_7168.tif: 1024x1024 (no detections), 40.3ms\n",
      "Speed: 1.8ms preprocess, 40.3ms inference, 0.5ms postprocess per image at shape (1, 3, 1024, 1024)\n"
     ]
    },
    {
     "name": "stderr",
     "output_type": "stream",
     "text": [
      "Running YOLO OBB inference:  59%|█████▊    | 297/507 [00:35<00:27,  7.68it/s]"
     ]
    },
    {
     "name": "stdout",
     "output_type": "stream",
     "text": [
      "No detections, skipped TXT for: 2023_RGB_8cm_W25C_16_tile_6144_7168.tif\n",
      "\n",
      "image 1/1 /shared/data/climateplus2025/Prediction_for_poster_July21/CapeTown_Image_2023_tiles_1024_for_prediction/2023_RGB_8cm_W25C_16_tile_6144_8192.tif: 1024x1024 (no detections), 40.2ms\n",
      "Speed: 1.9ms preprocess, 40.2ms inference, 0.5ms postprocess per image at shape (1, 3, 1024, 1024)\n"
     ]
    },
    {
     "name": "stderr",
     "output_type": "stream",
     "text": [
      "Running YOLO OBB inference:  59%|█████▉    | 298/507 [00:35<00:25,  8.17it/s]"
     ]
    },
    {
     "name": "stdout",
     "output_type": "stream",
     "text": [
      "No detections, skipped TXT for: 2023_RGB_8cm_W25C_16_tile_6144_8192.tif\n",
      "\n",
      "image 1/1 /shared/data/climateplus2025/Prediction_for_poster_July21/CapeTown_Image_2023_tiles_1024_for_prediction/2023_RGB_8cm_W25C_16_tile_6144_9216.tif: 1024x1024 (no detections), 40.2ms\n",
      "Speed: 1.8ms preprocess, 40.2ms inference, 0.5ms postprocess per image at shape (1, 3, 1024, 1024)\n"
     ]
    },
    {
     "name": "stderr",
     "output_type": "stream",
     "text": [
      "Running YOLO OBB inference:  59%|█████▉    | 299/507 [00:35<00:25,  8.16it/s]"
     ]
    },
    {
     "name": "stdout",
     "output_type": "stream",
     "text": [
      "No detections, skipped TXT for: 2023_RGB_8cm_W25C_16_tile_6144_9216.tif\n",
      "\n",
      "image 1/1 /shared/data/climateplus2025/Prediction_for_poster_July21/CapeTown_Image_2023_tiles_1024_for_prediction/2023_RGB_8cm_W25C_16_tile_7168_0.tif: 1024x1024 None40.2ms\n",
      "Speed: 1.8ms preprocess, 40.2ms inference, 1.8ms postprocess per image at shape (1, 3, 1024, 1024)\n"
     ]
    },
    {
     "name": "stderr",
     "output_type": "stream",
     "text": [
      "Running YOLO OBB inference:  59%|█████▉    | 300/507 [00:35<00:26,  7.83it/s]"
     ]
    },
    {
     "name": "stdout",
     "output_type": "stream",
     "text": [
      "Saved predicted image: /shared/data/climateplus2025/Prediction_for_poster_July21/Prediction/predicted_images/2023_RGB_8cm_W25C_16_tile_7168_0_predicted.jpg\n",
      "Saved JSON: /shared/data/climateplus2025/Prediction_for_poster_July21/Prediction/predicted_json/2023_RGB_8cm_W25C_16_tile_7168_0.json\n",
      "Saved TXT: /shared/data/climateplus2025/Prediction_for_poster_July21/Prediction/predicted_txt/2023_RGB_8cm_W25C_16_tile_7168_0.txt\n",
      "\n",
      "image 1/1 /shared/data/climateplus2025/Prediction_for_poster_July21/CapeTown_Image_2023_tiles_1024_for_prediction/2023_RGB_8cm_W25C_16_tile_7168_1024.tif: 1024x1024 (no detections), 39.8ms\n",
      "Speed: 1.8ms preprocess, 39.8ms inference, 0.5ms postprocess per image at shape (1, 3, 1024, 1024)\n"
     ]
    },
    {
     "name": "stderr",
     "output_type": "stream",
     "text": [
      "Running YOLO OBB inference:  59%|█████▉    | 301/507 [00:35<00:25,  7.97it/s]"
     ]
    },
    {
     "name": "stdout",
     "output_type": "stream",
     "text": [
      "No detections, skipped TXT for: 2023_RGB_8cm_W25C_16_tile_7168_1024.tif\n",
      "\n",
      "image 1/1 /shared/data/climateplus2025/Prediction_for_poster_July21/CapeTown_Image_2023_tiles_1024_for_prediction/2023_RGB_8cm_W25C_16_tile_7168_10240.tif: 1024x1024 (no detections), 39.8ms\n",
      "Speed: 2.0ms preprocess, 39.8ms inference, 0.5ms postprocess per image at shape (1, 3, 1024, 1024)\n"
     ]
    },
    {
     "name": "stderr",
     "output_type": "stream",
     "text": [
      "Running YOLO OBB inference:  60%|█████▉    | 302/507 [00:35<00:25,  8.08it/s]"
     ]
    },
    {
     "name": "stdout",
     "output_type": "stream",
     "text": [
      "No detections, skipped TXT for: 2023_RGB_8cm_W25C_16_tile_7168_10240.tif\n",
      "\n",
      "image 1/1 /shared/data/climateplus2025/Prediction_for_poster_July21/CapeTown_Image_2023_tiles_1024_for_prediction/2023_RGB_8cm_W25C_16_tile_7168_11264.tif: 1024x1024 None39.8ms\n",
      "Speed: 3.1ms preprocess, 39.8ms inference, 3.3ms postprocess per image at shape (1, 3, 1024, 1024)\n"
     ]
    },
    {
     "name": "stderr",
     "output_type": "stream",
     "text": [
      "Running YOLO OBB inference:  60%|█████▉    | 303/507 [00:36<00:33,  6.02it/s]"
     ]
    },
    {
     "name": "stdout",
     "output_type": "stream",
     "text": [
      "Saved predicted image: /shared/data/climateplus2025/Prediction_for_poster_July21/Prediction/predicted_images/2023_RGB_8cm_W25C_16_tile_7168_11264_predicted.jpg\n",
      "Saved JSON: /shared/data/climateplus2025/Prediction_for_poster_July21/Prediction/predicted_json/2023_RGB_8cm_W25C_16_tile_7168_11264.json\n",
      "Saved TXT: /shared/data/climateplus2025/Prediction_for_poster_July21/Prediction/predicted_txt/2023_RGB_8cm_W25C_16_tile_7168_11264.txt\n",
      "\n",
      "image 1/1 /shared/data/climateplus2025/Prediction_for_poster_July21/CapeTown_Image_2023_tiles_1024_for_prediction/2023_RGB_8cm_W25C_16_tile_7168_12288.tif: 1024x1024 None39.8ms\n",
      "Speed: 1.9ms preprocess, 39.8ms inference, 1.8ms postprocess per image at shape (1, 3, 1024, 1024)\n",
      "Saved predicted image: /shared/data/climateplus2025/Prediction_for_poster_July21/Prediction/predicted_images/2023_RGB_8cm_W25C_16_tile_7168_12288_predicted.jpg\n",
      "Saved JSON: /shared/data/climateplus2025/Prediction_for_poster_July21/Prediction/predicted_json/2023_RGB_8cm_W25C_16_tile_7168_12288.json\n",
      "Saved TXT: /shared/data/climateplus2025/Prediction_for_poster_July21/Prediction/predicted_txt/2023_RGB_8cm_W25C_16_tile_7168_12288.txt\n",
      "\n",
      "image 1/1 /shared/data/climateplus2025/Prediction_for_poster_July21/CapeTown_Image_2023_tiles_1024_for_prediction/2023_RGB_8cm_W25C_16_tile_7168_2048.tif: 1024x1024 None39.6ms\n",
      "Speed: 3.0ms preprocess, 39.6ms inference, 3.2ms postprocess per image at shape (1, 3, 1024, 1024)\n"
     ]
    },
    {
     "name": "stderr",
     "output_type": "stream",
     "text": [
      "Running YOLO OBB inference:  60%|██████    | 305/507 [00:36<00:33,  6.12it/s]"
     ]
    },
    {
     "name": "stdout",
     "output_type": "stream",
     "text": [
      "Saved predicted image: /shared/data/climateplus2025/Prediction_for_poster_July21/Prediction/predicted_images/2023_RGB_8cm_W25C_16_tile_7168_2048_predicted.jpg\n",
      "Saved JSON: /shared/data/climateplus2025/Prediction_for_poster_July21/Prediction/predicted_json/2023_RGB_8cm_W25C_16_tile_7168_2048.json\n",
      "Saved TXT: /shared/data/climateplus2025/Prediction_for_poster_July21/Prediction/predicted_txt/2023_RGB_8cm_W25C_16_tile_7168_2048.txt\n",
      "\n",
      "image 1/1 /shared/data/climateplus2025/Prediction_for_poster_July21/CapeTown_Image_2023_tiles_1024_for_prediction/2023_RGB_8cm_W25C_16_tile_7168_3072.tif: 1024x1024 None39.6ms\n",
      "Speed: 2.9ms preprocess, 39.6ms inference, 3.2ms postprocess per image at shape (1, 3, 1024, 1024)\n"
     ]
    },
    {
     "name": "stderr",
     "output_type": "stream",
     "text": [
      "Running YOLO OBB inference:  60%|██████    | 306/507 [00:36<00:32,  6.15it/s]"
     ]
    },
    {
     "name": "stdout",
     "output_type": "stream",
     "text": [
      "Saved predicted image: /shared/data/climateplus2025/Prediction_for_poster_July21/Prediction/predicted_images/2023_RGB_8cm_W25C_16_tile_7168_3072_predicted.jpg\n",
      "Saved JSON: /shared/data/climateplus2025/Prediction_for_poster_July21/Prediction/predicted_json/2023_RGB_8cm_W25C_16_tile_7168_3072.json\n",
      "Saved TXT: /shared/data/climateplus2025/Prediction_for_poster_July21/Prediction/predicted_txt/2023_RGB_8cm_W25C_16_tile_7168_3072.txt\n",
      "\n",
      "image 1/1 /shared/data/climateplus2025/Prediction_for_poster_July21/CapeTown_Image_2023_tiles_1024_for_prediction/2023_RGB_8cm_W25C_16_tile_7168_4096.tif: 1024x1024 None39.6ms\n",
      "Speed: 1.8ms preprocess, 39.6ms inference, 1.8ms postprocess per image at shape (1, 3, 1024, 1024)\n"
     ]
    },
    {
     "name": "stderr",
     "output_type": "stream",
     "text": [
      "Running YOLO OBB inference:  61%|██████    | 307/507 [00:36<00:30,  6.58it/s]"
     ]
    },
    {
     "name": "stdout",
     "output_type": "stream",
     "text": [
      "Saved predicted image: /shared/data/climateplus2025/Prediction_for_poster_July21/Prediction/predicted_images/2023_RGB_8cm_W25C_16_tile_7168_4096_predicted.jpg\n",
      "Saved JSON: /shared/data/climateplus2025/Prediction_for_poster_July21/Prediction/predicted_json/2023_RGB_8cm_W25C_16_tile_7168_4096.json\n",
      "Saved TXT: /shared/data/climateplus2025/Prediction_for_poster_July21/Prediction/predicted_txt/2023_RGB_8cm_W25C_16_tile_7168_4096.txt\n",
      "\n",
      "image 1/1 /shared/data/climateplus2025/Prediction_for_poster_July21/CapeTown_Image_2023_tiles_1024_for_prediction/2023_RGB_8cm_W25C_16_tile_7168_5120.tif: 1024x1024 None39.6ms\n",
      "Speed: 1.8ms preprocess, 39.6ms inference, 1.8ms postprocess per image at shape (1, 3, 1024, 1024)\n"
     ]
    },
    {
     "name": "stderr",
     "output_type": "stream",
     "text": [
      "Running YOLO OBB inference:  61%|██████    | 308/507 [00:36<00:28,  6.99it/s]"
     ]
    },
    {
     "name": "stdout",
     "output_type": "stream",
     "text": [
      "Saved predicted image: /shared/data/climateplus2025/Prediction_for_poster_July21/Prediction/predicted_images/2023_RGB_8cm_W25C_16_tile_7168_5120_predicted.jpg\n",
      "Saved JSON: /shared/data/climateplus2025/Prediction_for_poster_July21/Prediction/predicted_json/2023_RGB_8cm_W25C_16_tile_7168_5120.json\n",
      "Saved TXT: /shared/data/climateplus2025/Prediction_for_poster_July21/Prediction/predicted_txt/2023_RGB_8cm_W25C_16_tile_7168_5120.txt\n",
      "\n",
      "image 1/1 /shared/data/climateplus2025/Prediction_for_poster_July21/CapeTown_Image_2023_tiles_1024_for_prediction/2023_RGB_8cm_W25C_16_tile_7168_6144.tif: 1024x1024 (no detections), 39.6ms\n",
      "Speed: 2.4ms preprocess, 39.6ms inference, 0.6ms postprocess per image at shape (1, 3, 1024, 1024)\n"
     ]
    },
    {
     "name": "stderr",
     "output_type": "stream",
     "text": [
      "Running YOLO OBB inference:  61%|██████    | 309/507 [00:37<00:27,  7.19it/s]"
     ]
    },
    {
     "name": "stdout",
     "output_type": "stream",
     "text": [
      "No detections, skipped TXT for: 2023_RGB_8cm_W25C_16_tile_7168_6144.tif\n",
      "\n",
      "image 1/1 /shared/data/climateplus2025/Prediction_for_poster_July21/CapeTown_Image_2023_tiles_1024_for_prediction/2023_RGB_8cm_W25C_16_tile_7168_7168.tif: 1024x1024 (no detections), 39.6ms\n",
      "Speed: 2.5ms preprocess, 39.6ms inference, 0.6ms postprocess per image at shape (1, 3, 1024, 1024)\n"
     ]
    },
    {
     "name": "stderr",
     "output_type": "stream",
     "text": [
      "Running YOLO OBB inference:  61%|██████    | 310/507 [00:37<00:27,  7.25it/s]"
     ]
    },
    {
     "name": "stdout",
     "output_type": "stream",
     "text": [
      "No detections, skipped TXT for: 2023_RGB_8cm_W25C_16_tile_7168_7168.tif\n",
      "\n",
      "image 1/1 /shared/data/climateplus2025/Prediction_for_poster_July21/CapeTown_Image_2023_tiles_1024_for_prediction/2023_RGB_8cm_W25C_16_tile_7168_8192.tif: 1024x1024 (no detections), 39.6ms\n",
      "Speed: 1.8ms preprocess, 39.6ms inference, 0.5ms postprocess per image at shape (1, 3, 1024, 1024)\n"
     ]
    },
    {
     "name": "stderr",
     "output_type": "stream",
     "text": [
      "Running YOLO OBB inference:  61%|██████▏   | 311/507 [00:37<00:25,  7.73it/s]"
     ]
    },
    {
     "name": "stdout",
     "output_type": "stream",
     "text": [
      "No detections, skipped TXT for: 2023_RGB_8cm_W25C_16_tile_7168_8192.tif\n",
      "\n",
      "image 1/1 /shared/data/climateplus2025/Prediction_for_poster_July21/CapeTown_Image_2023_tiles_1024_for_prediction/2023_RGB_8cm_W25C_16_tile_7168_9216.tif: 1024x1024 (no detections), 39.6ms\n",
      "Speed: 1.8ms preprocess, 39.6ms inference, 0.5ms postprocess per image at shape (1, 3, 1024, 1024)\n"
     ]
    },
    {
     "name": "stderr",
     "output_type": "stream",
     "text": [
      "Running YOLO OBB inference:  62%|██████▏   | 312/507 [00:37<00:24,  7.80it/s]"
     ]
    },
    {
     "name": "stdout",
     "output_type": "stream",
     "text": [
      "No detections, skipped TXT for: 2023_RGB_8cm_W25C_16_tile_7168_9216.tif\n",
      "\n",
      "image 1/1 /shared/data/climateplus2025/Prediction_for_poster_July21/CapeTown_Image_2023_tiles_1024_for_prediction/2023_RGB_8cm_W25C_16_tile_8192_0.tif: 1024x1024 (no detections), 39.6ms\n",
      "Speed: 1.8ms preprocess, 39.6ms inference, 0.5ms postprocess per image at shape (1, 3, 1024, 1024)\n"
     ]
    },
    {
     "name": "stderr",
     "output_type": "stream",
     "text": [
      "Running YOLO OBB inference:  62%|██████▏   | 313/507 [00:37<00:23,  8.10it/s]"
     ]
    },
    {
     "name": "stdout",
     "output_type": "stream",
     "text": [
      "No detections, skipped TXT for: 2023_RGB_8cm_W25C_16_tile_8192_0.tif\n",
      "\n",
      "image 1/1 /shared/data/climateplus2025/Prediction_for_poster_July21/CapeTown_Image_2023_tiles_1024_for_prediction/2023_RGB_8cm_W25C_16_tile_8192_1024.tif: 1024x1024 (no detections), 39.6ms\n",
      "Speed: 1.8ms preprocess, 39.6ms inference, 0.5ms postprocess per image at shape (1, 3, 1024, 1024)\n"
     ]
    },
    {
     "name": "stderr",
     "output_type": "stream",
     "text": [
      "Running YOLO OBB inference:  62%|██████▏   | 314/507 [00:37<00:24,  7.97it/s]"
     ]
    },
    {
     "name": "stdout",
     "output_type": "stream",
     "text": [
      "No detections, skipped TXT for: 2023_RGB_8cm_W25C_16_tile_8192_1024.tif\n",
      "\n",
      "image 1/1 /shared/data/climateplus2025/Prediction_for_poster_July21/CapeTown_Image_2023_tiles_1024_for_prediction/2023_RGB_8cm_W25C_16_tile_8192_10240.tif: 1024x1024 (no detections), 39.5ms\n",
      "Speed: 1.9ms preprocess, 39.5ms inference, 0.5ms postprocess per image at shape (1, 3, 1024, 1024)\n"
     ]
    },
    {
     "name": "stderr",
     "output_type": "stream",
     "text": [
      "Running YOLO OBB inference:  62%|██████▏   | 315/507 [00:37<00:23,  8.24it/s]"
     ]
    },
    {
     "name": "stdout",
     "output_type": "stream",
     "text": [
      "No detections, skipped TXT for: 2023_RGB_8cm_W25C_16_tile_8192_10240.tif\n",
      "\n",
      "image 1/1 /shared/data/climateplus2025/Prediction_for_poster_July21/CapeTown_Image_2023_tiles_1024_for_prediction/2023_RGB_8cm_W25C_16_tile_8192_11264.tif: 1024x1024 (no detections), 39.6ms\n",
      "Speed: 1.8ms preprocess, 39.6ms inference, 0.5ms postprocess per image at shape (1, 3, 1024, 1024)\n"
     ]
    },
    {
     "name": "stderr",
     "output_type": "stream",
     "text": [
      "Running YOLO OBB inference:  62%|██████▏   | 316/507 [00:37<00:22,  8.43it/s]"
     ]
    },
    {
     "name": "stdout",
     "output_type": "stream",
     "text": [
      "No detections, skipped TXT for: 2023_RGB_8cm_W25C_16_tile_8192_11264.tif\n",
      "\n",
      "image 1/1 /shared/data/climateplus2025/Prediction_for_poster_July21/CapeTown_Image_2023_tiles_1024_for_prediction/2023_RGB_8cm_W25C_16_tile_8192_12288.tif: 1024x1024 (no detections), 39.5ms\n",
      "Speed: 1.9ms preprocess, 39.5ms inference, 0.5ms postprocess per image at shape (1, 3, 1024, 1024)\n",
      "No detections, skipped TXT for: 2023_RGB_8cm_W25C_16_tile_8192_12288.tif\n",
      "\n",
      "image 1/1 /shared/data/climateplus2025/Prediction_for_poster_July21/CapeTown_Image_2023_tiles_1024_for_prediction/2023_RGB_8cm_W25C_16_tile_8192_2048.tif: 1024x1024 None39.6ms\n",
      "Speed: 1.7ms preprocess, 39.6ms inference, 1.9ms postprocess per image at shape (1, 3, 1024, 1024)\n"
     ]
    },
    {
     "name": "stderr",
     "output_type": "stream",
     "text": [
      "Running YOLO OBB inference:  63%|██████▎   | 318/507 [00:38<00:21,  8.82it/s]"
     ]
    },
    {
     "name": "stdout",
     "output_type": "stream",
     "text": [
      "Saved predicted image: /shared/data/climateplus2025/Prediction_for_poster_July21/Prediction/predicted_images/2023_RGB_8cm_W25C_16_tile_8192_2048_predicted.jpg\n",
      "Saved JSON: /shared/data/climateplus2025/Prediction_for_poster_July21/Prediction/predicted_json/2023_RGB_8cm_W25C_16_tile_8192_2048.json\n",
      "Saved TXT: /shared/data/climateplus2025/Prediction_for_poster_July21/Prediction/predicted_txt/2023_RGB_8cm_W25C_16_tile_8192_2048.txt\n",
      "\n",
      "image 1/1 /shared/data/climateplus2025/Prediction_for_poster_July21/CapeTown_Image_2023_tiles_1024_for_prediction/2023_RGB_8cm_W25C_16_tile_8192_3072.tif: 1024x1024 None39.6ms\n",
      "Speed: 1.8ms preprocess, 39.6ms inference, 1.9ms postprocess per image at shape (1, 3, 1024, 1024)\n"
     ]
    },
    {
     "name": "stderr",
     "output_type": "stream",
     "text": [
      "Running YOLO OBB inference:  63%|██████▎   | 319/507 [00:38<00:21,  8.64it/s]"
     ]
    },
    {
     "name": "stdout",
     "output_type": "stream",
     "text": [
      "Saved predicted image: /shared/data/climateplus2025/Prediction_for_poster_July21/Prediction/predicted_images/2023_RGB_8cm_W25C_16_tile_8192_3072_predicted.jpg\n",
      "Saved JSON: /shared/data/climateplus2025/Prediction_for_poster_July21/Prediction/predicted_json/2023_RGB_8cm_W25C_16_tile_8192_3072.json\n",
      "Saved TXT: /shared/data/climateplus2025/Prediction_for_poster_July21/Prediction/predicted_txt/2023_RGB_8cm_W25C_16_tile_8192_3072.txt\n",
      "\n",
      "image 1/1 /shared/data/climateplus2025/Prediction_for_poster_July21/CapeTown_Image_2023_tiles_1024_for_prediction/2023_RGB_8cm_W25C_16_tile_8192_4096.tif: 1024x1024 None40.0ms\n",
      "Speed: 1.8ms preprocess, 40.0ms inference, 1.8ms postprocess per image at shape (1, 3, 1024, 1024)\n"
     ]
    },
    {
     "name": "stderr",
     "output_type": "stream",
     "text": [
      "Running YOLO OBB inference:  63%|██████▎   | 320/507 [00:38<00:22,  8.49it/s]"
     ]
    },
    {
     "name": "stdout",
     "output_type": "stream",
     "text": [
      "Saved predicted image: /shared/data/climateplus2025/Prediction_for_poster_July21/Prediction/predicted_images/2023_RGB_8cm_W25C_16_tile_8192_4096_predicted.jpg\n",
      "Saved JSON: /shared/data/climateplus2025/Prediction_for_poster_July21/Prediction/predicted_json/2023_RGB_8cm_W25C_16_tile_8192_4096.json\n",
      "Saved TXT: /shared/data/climateplus2025/Prediction_for_poster_July21/Prediction/predicted_txt/2023_RGB_8cm_W25C_16_tile_8192_4096.txt\n",
      "\n",
      "image 1/1 /shared/data/climateplus2025/Prediction_for_poster_July21/CapeTown_Image_2023_tiles_1024_for_prediction/2023_RGB_8cm_W25C_16_tile_8192_5120.tif: 1024x1024 (no detections), 40.2ms\n",
      "Speed: 1.8ms preprocess, 40.2ms inference, 0.5ms postprocess per image at shape (1, 3, 1024, 1024)\n"
     ]
    },
    {
     "name": "stderr",
     "output_type": "stream",
     "text": [
      "Running YOLO OBB inference:  63%|██████▎   | 321/507 [00:38<00:21,  8.74it/s]"
     ]
    },
    {
     "name": "stdout",
     "output_type": "stream",
     "text": [
      "No detections, skipped TXT for: 2023_RGB_8cm_W25C_16_tile_8192_5120.tif\n",
      "\n",
      "image 1/1 /shared/data/climateplus2025/Prediction_for_poster_July21/CapeTown_Image_2023_tiles_1024_for_prediction/2023_RGB_8cm_W25C_16_tile_8192_6144.tif: 1024x1024 (no detections), 40.2ms\n",
      "Speed: 1.8ms preprocess, 40.2ms inference, 0.5ms postprocess per image at shape (1, 3, 1024, 1024)\n"
     ]
    },
    {
     "name": "stderr",
     "output_type": "stream",
     "text": [
      "Running YOLO OBB inference:  64%|██████▎   | 322/507 [00:38<00:20,  8.91it/s]"
     ]
    },
    {
     "name": "stdout",
     "output_type": "stream",
     "text": [
      "No detections, skipped TXT for: 2023_RGB_8cm_W25C_16_tile_8192_6144.tif\n",
      "\n",
      "image 1/1 /shared/data/climateplus2025/Prediction_for_poster_July21/CapeTown_Image_2023_tiles_1024_for_prediction/2023_RGB_8cm_W25C_16_tile_8192_7168.tif: 1024x1024 (no detections), 40.2ms\n",
      "Speed: 1.8ms preprocess, 40.2ms inference, 0.5ms postprocess per image at shape (1, 3, 1024, 1024)\n"
     ]
    },
    {
     "name": "stderr",
     "output_type": "stream",
     "text": [
      "Running YOLO OBB inference:  64%|██████▎   | 323/507 [00:38<00:21,  8.68it/s]"
     ]
    },
    {
     "name": "stdout",
     "output_type": "stream",
     "text": [
      "No detections, skipped TXT for: 2023_RGB_8cm_W25C_16_tile_8192_7168.tif\n",
      "\n",
      "image 1/1 /shared/data/climateplus2025/Prediction_for_poster_July21/CapeTown_Image_2023_tiles_1024_for_prediction/2023_RGB_8cm_W25C_16_tile_8192_8192.tif: 1024x1024 (no detections), 40.0ms\n",
      "Speed: 1.9ms preprocess, 40.0ms inference, 0.5ms postprocess per image at shape (1, 3, 1024, 1024)\n"
     ]
    },
    {
     "name": "stderr",
     "output_type": "stream",
     "text": [
      "Running YOLO OBB inference:  64%|██████▍   | 324/507 [00:38<00:21,  8.65it/s]"
     ]
    },
    {
     "name": "stdout",
     "output_type": "stream",
     "text": [
      "No detections, skipped TXT for: 2023_RGB_8cm_W25C_16_tile_8192_8192.tif\n",
      "\n",
      "image 1/1 /shared/data/climateplus2025/Prediction_for_poster_July21/CapeTown_Image_2023_tiles_1024_for_prediction/2023_RGB_8cm_W25C_16_tile_8192_9216.tif: 1024x1024 (no detections), 40.0ms\n",
      "Speed: 2.0ms preprocess, 40.0ms inference, 0.8ms postprocess per image at shape (1, 3, 1024, 1024)\n"
     ]
    },
    {
     "name": "stderr",
     "output_type": "stream",
     "text": [
      "Running YOLO OBB inference:  64%|██████▍   | 325/507 [00:38<00:21,  8.46it/s]"
     ]
    },
    {
     "name": "stdout",
     "output_type": "stream",
     "text": [
      "No detections, skipped TXT for: 2023_RGB_8cm_W25C_16_tile_8192_9216.tif\n",
      "\n",
      "image 1/1 /shared/data/climateplus2025/Prediction_for_poster_July21/CapeTown_Image_2023_tiles_1024_for_prediction/2023_RGB_8cm_W25C_16_tile_9216_0.tif: 1024x1024 (no detections), 40.1ms\n",
      "Speed: 3.2ms preprocess, 40.1ms inference, 0.5ms postprocess per image at shape (1, 3, 1024, 1024)\n"
     ]
    },
    {
     "name": "stderr",
     "output_type": "stream",
     "text": [
      "Running YOLO OBB inference:  64%|██████▍   | 326/507 [00:39<00:21,  8.34it/s]"
     ]
    },
    {
     "name": "stdout",
     "output_type": "stream",
     "text": [
      "No detections, skipped TXT for: 2023_RGB_8cm_W25C_16_tile_9216_0.tif\n",
      "\n",
      "image 1/1 /shared/data/climateplus2025/Prediction_for_poster_July21/CapeTown_Image_2023_tiles_1024_for_prediction/2023_RGB_8cm_W25C_16_tile_9216_1024.tif: 1024x1024 (no detections), 40.0ms\n",
      "Speed: 1.9ms preprocess, 40.0ms inference, 0.5ms postprocess per image at shape (1, 3, 1024, 1024)\n"
     ]
    },
    {
     "name": "stderr",
     "output_type": "stream",
     "text": [
      "Running YOLO OBB inference:  64%|██████▍   | 327/507 [00:39<00:20,  8.61it/s]"
     ]
    },
    {
     "name": "stdout",
     "output_type": "stream",
     "text": [
      "No detections, skipped TXT for: 2023_RGB_8cm_W25C_16_tile_9216_1024.tif\n",
      "\n",
      "image 1/1 /shared/data/climateplus2025/Prediction_for_poster_July21/CapeTown_Image_2023_tiles_1024_for_prediction/2023_RGB_8cm_W25C_16_tile_9216_10240.tif: 1024x1024 (no detections), 40.0ms\n",
      "Speed: 1.9ms preprocess, 40.0ms inference, 0.5ms postprocess per image at shape (1, 3, 1024, 1024)\n"
     ]
    },
    {
     "name": "stderr",
     "output_type": "stream",
     "text": [
      "Running YOLO OBB inference:  65%|██████▍   | 328/507 [00:39<00:20,  8.85it/s]"
     ]
    },
    {
     "name": "stdout",
     "output_type": "stream",
     "text": [
      "No detections, skipped TXT for: 2023_RGB_8cm_W25C_16_tile_9216_10240.tif\n",
      "\n",
      "image 1/1 /shared/data/climateplus2025/Prediction_for_poster_July21/CapeTown_Image_2023_tiles_1024_for_prediction/2023_RGB_8cm_W25C_16_tile_9216_11264.tif: 1024x1024 (no detections), 39.8ms\n",
      "Speed: 2.0ms preprocess, 39.8ms inference, 0.5ms postprocess per image at shape (1, 3, 1024, 1024)\n"
     ]
    },
    {
     "name": "stderr",
     "output_type": "stream",
     "text": [
      "Running YOLO OBB inference:  65%|██████▍   | 329/507 [00:39<00:19,  9.11it/s]"
     ]
    },
    {
     "name": "stdout",
     "output_type": "stream",
     "text": [
      "No detections, skipped TXT for: 2023_RGB_8cm_W25C_16_tile_9216_11264.tif\n",
      "\n",
      "image 1/1 /shared/data/climateplus2025/Prediction_for_poster_July21/CapeTown_Image_2023_tiles_1024_for_prediction/2023_RGB_8cm_W25C_16_tile_9216_12288.tif: 1024x1024 (no detections), 39.8ms\n",
      "Speed: 1.9ms preprocess, 39.8ms inference, 0.5ms postprocess per image at shape (1, 3, 1024, 1024)\n",
      "No detections, skipped TXT for: 2023_RGB_8cm_W25C_16_tile_9216_12288.tif\n",
      "\n",
      "image 1/1 /shared/data/climateplus2025/Prediction_for_poster_July21/CapeTown_Image_2023_tiles_1024_for_prediction/2023_RGB_8cm_W25C_16_tile_9216_2048.tif: 1024x1024 None38.5ms\n",
      "Speed: 1.8ms preprocess, 38.5ms inference, 1.9ms postprocess per image at shape (1, 3, 1024, 1024)\n"
     ]
    },
    {
     "name": "stderr",
     "output_type": "stream",
     "text": [
      "Running YOLO OBB inference:  65%|██████▌   | 331/507 [00:39<00:17,  9.86it/s]"
     ]
    },
    {
     "name": "stdout",
     "output_type": "stream",
     "text": [
      "Saved predicted image: /shared/data/climateplus2025/Prediction_for_poster_July21/Prediction/predicted_images/2023_RGB_8cm_W25C_16_tile_9216_2048_predicted.jpg\n",
      "Saved JSON: /shared/data/climateplus2025/Prediction_for_poster_July21/Prediction/predicted_json/2023_RGB_8cm_W25C_16_tile_9216_2048.json\n",
      "Saved TXT: /shared/data/climateplus2025/Prediction_for_poster_July21/Prediction/predicted_txt/2023_RGB_8cm_W25C_16_tile_9216_2048.txt\n",
      "\n",
      "image 1/1 /shared/data/climateplus2025/Prediction_for_poster_July21/CapeTown_Image_2023_tiles_1024_for_prediction/2023_RGB_8cm_W25C_16_tile_9216_3072.tif: 1024x1024 None37.8ms\n",
      "Speed: 1.9ms preprocess, 37.8ms inference, 1.8ms postprocess per image at shape (1, 3, 1024, 1024)\n"
     ]
    },
    {
     "name": "stderr",
     "output_type": "stream",
     "text": [
      "Running YOLO OBB inference:  65%|██████▌   | 332/507 [00:39<00:18,  9.46it/s]"
     ]
    },
    {
     "name": "stdout",
     "output_type": "stream",
     "text": [
      "Saved predicted image: /shared/data/climateplus2025/Prediction_for_poster_July21/Prediction/predicted_images/2023_RGB_8cm_W25C_16_tile_9216_3072_predicted.jpg\n",
      "Saved JSON: /shared/data/climateplus2025/Prediction_for_poster_July21/Prediction/predicted_json/2023_RGB_8cm_W25C_16_tile_9216_3072.json\n",
      "Saved TXT: /shared/data/climateplus2025/Prediction_for_poster_July21/Prediction/predicted_txt/2023_RGB_8cm_W25C_16_tile_9216_3072.txt\n",
      "\n",
      "image 1/1 /shared/data/climateplus2025/Prediction_for_poster_July21/CapeTown_Image_2023_tiles_1024_for_prediction/2023_RGB_8cm_W25C_16_tile_9216_4096.tif: 1024x1024 None37.8ms\n",
      "Speed: 1.8ms preprocess, 37.8ms inference, 1.9ms postprocess per image at shape (1, 3, 1024, 1024)\n"
     ]
    },
    {
     "name": "stderr",
     "output_type": "stream",
     "text": [
      "Running YOLO OBB inference:  66%|██████▌   | 333/507 [00:39<00:19,  8.83it/s]"
     ]
    },
    {
     "name": "stdout",
     "output_type": "stream",
     "text": [
      "Saved predicted image: /shared/data/climateplus2025/Prediction_for_poster_July21/Prediction/predicted_images/2023_RGB_8cm_W25C_16_tile_9216_4096_predicted.jpg\n",
      "Saved JSON: /shared/data/climateplus2025/Prediction_for_poster_July21/Prediction/predicted_json/2023_RGB_8cm_W25C_16_tile_9216_4096.json\n",
      "Saved TXT: /shared/data/climateplus2025/Prediction_for_poster_July21/Prediction/predicted_txt/2023_RGB_8cm_W25C_16_tile_9216_4096.txt\n",
      "\n",
      "image 1/1 /shared/data/climateplus2025/Prediction_for_poster_July21/CapeTown_Image_2023_tiles_1024_for_prediction/2023_RGB_8cm_W25C_16_tile_9216_5120.tif: 1024x1024 (no detections), 37.8ms\n",
      "Speed: 2.4ms preprocess, 37.8ms inference, 0.7ms postprocess per image at shape (1, 3, 1024, 1024)\n"
     ]
    },
    {
     "name": "stderr",
     "output_type": "stream",
     "text": [
      "Running YOLO OBB inference:  66%|██████▌   | 334/507 [00:39<00:20,  8.41it/s]"
     ]
    },
    {
     "name": "stdout",
     "output_type": "stream",
     "text": [
      "No detections, skipped TXT for: 2023_RGB_8cm_W25C_16_tile_9216_5120.tif\n",
      "\n",
      "image 1/1 /shared/data/climateplus2025/Prediction_for_poster_July21/CapeTown_Image_2023_tiles_1024_for_prediction/2023_RGB_8cm_W25C_16_tile_9216_6144.tif: 1024x1024 (no detections), 37.9ms\n",
      "Speed: 2.4ms preprocess, 37.9ms inference, 0.6ms postprocess per image at shape (1, 3, 1024, 1024)\n"
     ]
    },
    {
     "name": "stderr",
     "output_type": "stream",
     "text": [
      "Running YOLO OBB inference:  66%|██████▌   | 335/507 [00:40<00:21,  7.95it/s]"
     ]
    },
    {
     "name": "stdout",
     "output_type": "stream",
     "text": [
      "No detections, skipped TXT for: 2023_RGB_8cm_W25C_16_tile_9216_6144.tif\n",
      "\n",
      "image 1/1 /shared/data/climateplus2025/Prediction_for_poster_July21/CapeTown_Image_2023_tiles_1024_for_prediction/2023_RGB_8cm_W25C_16_tile_9216_7168.tif: 1024x1024 (no detections), 37.9ms\n",
      "Speed: 1.8ms preprocess, 37.9ms inference, 0.5ms postprocess per image at shape (1, 3, 1024, 1024)\n"
     ]
    },
    {
     "name": "stderr",
     "output_type": "stream",
     "text": [
      "Running YOLO OBB inference:  66%|██████▋   | 336/507 [00:40<00:21,  8.03it/s]"
     ]
    },
    {
     "name": "stdout",
     "output_type": "stream",
     "text": [
      "No detections, skipped TXT for: 2023_RGB_8cm_W25C_16_tile_9216_7168.tif\n",
      "\n",
      "image 1/1 /shared/data/climateplus2025/Prediction_for_poster_July21/CapeTown_Image_2023_tiles_1024_for_prediction/2023_RGB_8cm_W25C_16_tile_9216_8192.tif: 1024x1024 (no detections), 37.9ms\n",
      "Speed: 3.2ms preprocess, 37.9ms inference, 0.8ms postprocess per image at shape (1, 3, 1024, 1024)\n"
     ]
    },
    {
     "name": "stderr",
     "output_type": "stream",
     "text": [
      "Running YOLO OBB inference:  66%|██████▋   | 337/507 [00:40<00:21,  7.75it/s]"
     ]
    },
    {
     "name": "stdout",
     "output_type": "stream",
     "text": [
      "No detections, skipped TXT for: 2023_RGB_8cm_W25C_16_tile_9216_8192.tif\n",
      "\n",
      "image 1/1 /shared/data/climateplus2025/Prediction_for_poster_July21/CapeTown_Image_2023_tiles_1024_for_prediction/2023_RGB_8cm_W25C_16_tile_9216_9216.tif: 1024x1024 (no detections), 37.8ms\n",
      "Speed: 1.9ms preprocess, 37.8ms inference, 0.5ms postprocess per image at shape (1, 3, 1024, 1024)\n"
     ]
    },
    {
     "name": "stderr",
     "output_type": "stream",
     "text": [
      "Running YOLO OBB inference:  67%|██████▋   | 338/507 [00:40<00:20,  8.09it/s]"
     ]
    },
    {
     "name": "stdout",
     "output_type": "stream",
     "text": [
      "No detections, skipped TXT for: 2023_RGB_8cm_W25C_16_tile_9216_9216.tif\n",
      "\n",
      "image 1/1 /shared/data/climateplus2025/Prediction_for_poster_July21/CapeTown_Image_2023_tiles_1024_for_prediction/2023_RGB_8cm_W57B_8_tile_0_0.tif: 1024x1024 (no detections), 37.9ms\n",
      "Speed: 3.0ms preprocess, 37.9ms inference, 0.6ms postprocess per image at shape (1, 3, 1024, 1024)\n"
     ]
    },
    {
     "name": "stderr",
     "output_type": "stream",
     "text": [
      "Running YOLO OBB inference:  67%|██████▋   | 339/507 [00:40<00:21,  7.97it/s]"
     ]
    },
    {
     "name": "stdout",
     "output_type": "stream",
     "text": [
      "No detections, skipped TXT for: 2023_RGB_8cm_W57B_8_tile_0_0.tif\n",
      "\n",
      "image 1/1 /shared/data/climateplus2025/Prediction_for_poster_July21/CapeTown_Image_2023_tiles_1024_for_prediction/2023_RGB_8cm_W57B_8_tile_0_1024.tif: 1024x1024 (no detections), 37.8ms\n",
      "Speed: 1.9ms preprocess, 37.8ms inference, 0.5ms postprocess per image at shape (1, 3, 1024, 1024)\n"
     ]
    },
    {
     "name": "stderr",
     "output_type": "stream",
     "text": [
      "Running YOLO OBB inference:  67%|██████▋   | 340/507 [00:40<00:19,  8.46it/s]"
     ]
    },
    {
     "name": "stdout",
     "output_type": "stream",
     "text": [
      "No detections, skipped TXT for: 2023_RGB_8cm_W57B_8_tile_0_1024.tif\n",
      "\n",
      "image 1/1 /shared/data/climateplus2025/Prediction_for_poster_July21/CapeTown_Image_2023_tiles_1024_for_prediction/2023_RGB_8cm_W57B_8_tile_0_10240.tif: 1024x1024 (no detections), 37.9ms\n",
      "Speed: 1.9ms preprocess, 37.9ms inference, 0.5ms postprocess per image at shape (1, 3, 1024, 1024)\n"
     ]
    },
    {
     "name": "stderr",
     "output_type": "stream",
     "text": [
      "Running YOLO OBB inference:  67%|██████▋   | 341/507 [00:40<00:21,  7.74it/s]"
     ]
    },
    {
     "name": "stdout",
     "output_type": "stream",
     "text": [
      "No detections, skipped TXT for: 2023_RGB_8cm_W57B_8_tile_0_10240.tif\n",
      "\n",
      "image 1/1 /shared/data/climateplus2025/Prediction_for_poster_July21/CapeTown_Image_2023_tiles_1024_for_prediction/2023_RGB_8cm_W57B_8_tile_0_11264.tif: 1024x1024 (no detections), 37.9ms\n",
      "Speed: 2.8ms preprocess, 37.9ms inference, 0.7ms postprocess per image at shape (1, 3, 1024, 1024)\n"
     ]
    },
    {
     "name": "stderr",
     "output_type": "stream",
     "text": [
      "Running YOLO OBB inference:  67%|██████▋   | 342/507 [00:40<00:22,  7.48it/s]"
     ]
    },
    {
     "name": "stdout",
     "output_type": "stream",
     "text": [
      "No detections, skipped TXT for: 2023_RGB_8cm_W57B_8_tile_0_11264.tif\n",
      "\n",
      "image 1/1 /shared/data/climateplus2025/Prediction_for_poster_July21/CapeTown_Image_2023_tiles_1024_for_prediction/2023_RGB_8cm_W57B_8_tile_0_12288.tif: 1024x1024 (no detections), 37.8ms\n",
      "Speed: 3.1ms preprocess, 37.8ms inference, 0.8ms postprocess per image at shape (1, 3, 1024, 1024)\n"
     ]
    },
    {
     "name": "stderr",
     "output_type": "stream",
     "text": [
      "Running YOLO OBB inference:  68%|██████▊   | 343/507 [00:41<00:21,  7.52it/s]"
     ]
    },
    {
     "name": "stdout",
     "output_type": "stream",
     "text": [
      "No detections, skipped TXT for: 2023_RGB_8cm_W57B_8_tile_0_12288.tif\n",
      "\n",
      "image 1/1 /shared/data/climateplus2025/Prediction_for_poster_July21/CapeTown_Image_2023_tiles_1024_for_prediction/2023_RGB_8cm_W57B_8_tile_0_2048.tif: 1024x1024 None40.3ms\n",
      "Speed: 2.9ms preprocess, 40.3ms inference, 3.2ms postprocess per image at shape (1, 3, 1024, 1024)\n"
     ]
    },
    {
     "name": "stderr",
     "output_type": "stream",
     "text": [
      "Running YOLO OBB inference:  68%|██████▊   | 344/507 [00:41<00:28,  5.71it/s]"
     ]
    },
    {
     "name": "stdout",
     "output_type": "stream",
     "text": [
      "Saved predicted image: /shared/data/climateplus2025/Prediction_for_poster_July21/Prediction/predicted_images/2023_RGB_8cm_W57B_8_tile_0_2048_predicted.jpg\n",
      "Saved JSON: /shared/data/climateplus2025/Prediction_for_poster_July21/Prediction/predicted_json/2023_RGB_8cm_W57B_8_tile_0_2048.json\n",
      "Saved TXT: /shared/data/climateplus2025/Prediction_for_poster_July21/Prediction/predicted_txt/2023_RGB_8cm_W57B_8_tile_0_2048.txt\n",
      "\n",
      "image 1/1 /shared/data/climateplus2025/Prediction_for_poster_July21/CapeTown_Image_2023_tiles_1024_for_prediction/2023_RGB_8cm_W57B_8_tile_0_3072.tif: 1024x1024 None40.3ms\n",
      "Speed: 3.0ms preprocess, 40.3ms inference, 3.2ms postprocess per image at shape (1, 3, 1024, 1024)\n"
     ]
    },
    {
     "name": "stderr",
     "output_type": "stream",
     "text": [
      "Running YOLO OBB inference:  68%|██████▊   | 345/507 [00:41<00:29,  5.53it/s]"
     ]
    },
    {
     "name": "stdout",
     "output_type": "stream",
     "text": [
      "Saved predicted image: /shared/data/climateplus2025/Prediction_for_poster_July21/Prediction/predicted_images/2023_RGB_8cm_W57B_8_tile_0_3072_predicted.jpg\n",
      "Saved JSON: /shared/data/climateplus2025/Prediction_for_poster_July21/Prediction/predicted_json/2023_RGB_8cm_W57B_8_tile_0_3072.json\n",
      "Saved TXT: /shared/data/climateplus2025/Prediction_for_poster_July21/Prediction/predicted_txt/2023_RGB_8cm_W57B_8_tile_0_3072.txt\n",
      "\n",
      "image 1/1 /shared/data/climateplus2025/Prediction_for_poster_July21/CapeTown_Image_2023_tiles_1024_for_prediction/2023_RGB_8cm_W57B_8_tile_0_4096.tif: 1024x1024 (no detections), 40.3ms\n",
      "Speed: 3.1ms preprocess, 40.3ms inference, 0.8ms postprocess per image at shape (1, 3, 1024, 1024)\n"
     ]
    },
    {
     "name": "stderr",
     "output_type": "stream",
     "text": [
      "Running YOLO OBB inference:  68%|██████▊   | 346/507 [00:41<00:28,  5.59it/s]"
     ]
    },
    {
     "name": "stdout",
     "output_type": "stream",
     "text": [
      "No detections, skipped TXT for: 2023_RGB_8cm_W57B_8_tile_0_4096.tif\n",
      "\n",
      "image 1/1 /shared/data/climateplus2025/Prediction_for_poster_July21/CapeTown_Image_2023_tiles_1024_for_prediction/2023_RGB_8cm_W57B_8_tile_0_5120.tif: 1024x1024 None40.3ms\n",
      "Speed: 3.0ms preprocess, 40.3ms inference, 3.3ms postprocess per image at shape (1, 3, 1024, 1024)\n",
      "Saved predicted image: /shared/data/climateplus2025/Prediction_for_poster_July21/Prediction/predicted_images/2023_RGB_8cm_W57B_8_tile_0_5120_predicted.jpg\n"
     ]
    },
    {
     "name": "stderr",
     "output_type": "stream",
     "text": [
      "Running YOLO OBB inference:  68%|██████▊   | 347/507 [00:41<00:29,  5.35it/s]"
     ]
    },
    {
     "name": "stdout",
     "output_type": "stream",
     "text": [
      "Saved JSON: /shared/data/climateplus2025/Prediction_for_poster_July21/Prediction/predicted_json/2023_RGB_8cm_W57B_8_tile_0_5120.json\n",
      "Saved TXT: /shared/data/climateplus2025/Prediction_for_poster_July21/Prediction/predicted_txt/2023_RGB_8cm_W57B_8_tile_0_5120.txt\n",
      "\n",
      "image 1/1 /shared/data/climateplus2025/Prediction_for_poster_July21/CapeTown_Image_2023_tiles_1024_for_prediction/2023_RGB_8cm_W57B_8_tile_0_6144.tif: 1024x1024 (no detections), 40.3ms\n",
      "Speed: 3.0ms preprocess, 40.3ms inference, 0.8ms postprocess per image at shape (1, 3, 1024, 1024)\n"
     ]
    },
    {
     "name": "stderr",
     "output_type": "stream",
     "text": [
      "Running YOLO OBB inference:  69%|██████▊   | 348/507 [00:42<00:28,  5.66it/s]"
     ]
    },
    {
     "name": "stdout",
     "output_type": "stream",
     "text": [
      "No detections, skipped TXT for: 2023_RGB_8cm_W57B_8_tile_0_6144.tif\n",
      "\n",
      "image 1/1 /shared/data/climateplus2025/Prediction_for_poster_July21/CapeTown_Image_2023_tiles_1024_for_prediction/2023_RGB_8cm_W57B_8_tile_0_7168.tif: 1024x1024 (no detections), 40.3ms\n",
      "Speed: 3.0ms preprocess, 40.3ms inference, 0.4ms postprocess per image at shape (1, 3, 1024, 1024)\n"
     ]
    },
    {
     "name": "stderr",
     "output_type": "stream",
     "text": [
      "Running YOLO OBB inference:  69%|██████▉   | 349/507 [00:42<00:26,  5.98it/s]"
     ]
    },
    {
     "name": "stdout",
     "output_type": "stream",
     "text": [
      "No detections, skipped TXT for: 2023_RGB_8cm_W57B_8_tile_0_7168.tif\n",
      "\n",
      "image 1/1 /shared/data/climateplus2025/Prediction_for_poster_July21/CapeTown_Image_2023_tiles_1024_for_prediction/2023_RGB_8cm_W57B_8_tile_0_8192.tif: 1024x1024 (no detections), 40.3ms\n",
      "Speed: 3.0ms preprocess, 40.3ms inference, 0.5ms postprocess per image at shape (1, 3, 1024, 1024)\n"
     ]
    },
    {
     "name": "stderr",
     "output_type": "stream",
     "text": [
      "Running YOLO OBB inference:  69%|██████▉   | 350/507 [00:42<00:24,  6.38it/s]"
     ]
    },
    {
     "name": "stdout",
     "output_type": "stream",
     "text": [
      "No detections, skipped TXT for: 2023_RGB_8cm_W57B_8_tile_0_8192.tif\n",
      "\n",
      "image 1/1 /shared/data/climateplus2025/Prediction_for_poster_July21/CapeTown_Image_2023_tiles_1024_for_prediction/2023_RGB_8cm_W57B_8_tile_0_9216.tif: 1024x1024 (no detections), 40.3ms\n",
      "Speed: 3.0ms preprocess, 40.3ms inference, 0.6ms postprocess per image at shape (1, 3, 1024, 1024)\n"
     ]
    },
    {
     "name": "stderr",
     "output_type": "stream",
     "text": [
      "Running YOLO OBB inference:  69%|██████▉   | 351/507 [00:42<00:24,  6.47it/s]"
     ]
    },
    {
     "name": "stdout",
     "output_type": "stream",
     "text": [
      "No detections, skipped TXT for: 2023_RGB_8cm_W57B_8_tile_0_9216.tif\n",
      "\n",
      "image 1/1 /shared/data/climateplus2025/Prediction_for_poster_July21/CapeTown_Image_2023_tiles_1024_for_prediction/2023_RGB_8cm_W57B_8_tile_10240_0.tif: 1024x1024 None40.3ms\n",
      "Speed: 1.9ms preprocess, 40.3ms inference, 1.9ms postprocess per image at shape (1, 3, 1024, 1024)\n"
     ]
    },
    {
     "name": "stderr",
     "output_type": "stream",
     "text": [
      "Running YOLO OBB inference:  69%|██████▉   | 352/507 [00:42<00:22,  6.92it/s]"
     ]
    },
    {
     "name": "stdout",
     "output_type": "stream",
     "text": [
      "Saved predicted image: /shared/data/climateplus2025/Prediction_for_poster_July21/Prediction/predicted_images/2023_RGB_8cm_W57B_8_tile_10240_0_predicted.jpg\n",
      "Saved JSON: /shared/data/climateplus2025/Prediction_for_poster_July21/Prediction/predicted_json/2023_RGB_8cm_W57B_8_tile_10240_0.json\n",
      "Saved TXT: /shared/data/climateplus2025/Prediction_for_poster_July21/Prediction/predicted_txt/2023_RGB_8cm_W57B_8_tile_10240_0.txt\n",
      "\n",
      "image 1/1 /shared/data/climateplus2025/Prediction_for_poster_July21/CapeTown_Image_2023_tiles_1024_for_prediction/2023_RGB_8cm_W57B_8_tile_10240_1024.tif: 1024x1024 None40.3ms\n",
      "Speed: 2.5ms preprocess, 40.3ms inference, 2.6ms postprocess per image at shape (1, 3, 1024, 1024)\n"
     ]
    },
    {
     "name": "stderr",
     "output_type": "stream",
     "text": [
      "Running YOLO OBB inference:  70%|██████▉   | 353/507 [00:42<00:23,  6.66it/s]"
     ]
    },
    {
     "name": "stdout",
     "output_type": "stream",
     "text": [
      "Saved predicted image: /shared/data/climateplus2025/Prediction_for_poster_July21/Prediction/predicted_images/2023_RGB_8cm_W57B_8_tile_10240_1024_predicted.jpg\n",
      "Saved JSON: /shared/data/climateplus2025/Prediction_for_poster_July21/Prediction/predicted_json/2023_RGB_8cm_W57B_8_tile_10240_1024.json\n",
      "Saved TXT: /shared/data/climateplus2025/Prediction_for_poster_July21/Prediction/predicted_txt/2023_RGB_8cm_W57B_8_tile_10240_1024.txt\n",
      "\n",
      "image 1/1 /shared/data/climateplus2025/Prediction_for_poster_July21/CapeTown_Image_2023_tiles_1024_for_prediction/2023_RGB_8cm_W57B_8_tile_10240_10240.tif: 1024x1024 (no detections), 40.3ms\n",
      "Speed: 3.0ms preprocess, 40.3ms inference, 0.8ms postprocess per image at shape (1, 3, 1024, 1024)\n"
     ]
    },
    {
     "name": "stderr",
     "output_type": "stream",
     "text": [
      "Running YOLO OBB inference:  70%|██████▉   | 354/507 [00:42<00:23,  6.62it/s]"
     ]
    },
    {
     "name": "stdout",
     "output_type": "stream",
     "text": [
      "No detections, skipped TXT for: 2023_RGB_8cm_W57B_8_tile_10240_10240.tif\n",
      "\n",
      "image 1/1 /shared/data/climateplus2025/Prediction_for_poster_July21/CapeTown_Image_2023_tiles_1024_for_prediction/2023_RGB_8cm_W57B_8_tile_10240_11264.tif: 1024x1024 (no detections), 40.3ms\n",
      "Speed: 3.0ms preprocess, 40.3ms inference, 0.8ms postprocess per image at shape (1, 3, 1024, 1024)\n"
     ]
    },
    {
     "name": "stderr",
     "output_type": "stream",
     "text": [
      "Running YOLO OBB inference:  70%|███████   | 355/507 [00:43<00:23,  6.36it/s]"
     ]
    },
    {
     "name": "stdout",
     "output_type": "stream",
     "text": [
      "No detections, skipped TXT for: 2023_RGB_8cm_W57B_8_tile_10240_11264.tif\n",
      "\n",
      "image 1/1 /shared/data/climateplus2025/Prediction_for_poster_July21/CapeTown_Image_2023_tiles_1024_for_prediction/2023_RGB_8cm_W57B_8_tile_10240_12288.tif: 1024x1024 (no detections), 40.2ms\n",
      "Speed: 1.9ms preprocess, 40.2ms inference, 0.5ms postprocess per image at shape (1, 3, 1024, 1024)\n",
      "No detections, skipped TXT for: 2023_RGB_8cm_W57B_8_tile_10240_12288.tif\n",
      "\n",
      "image 1/1 /shared/data/climateplus2025/Prediction_for_poster_July21/CapeTown_Image_2023_tiles_1024_for_prediction/2023_RGB_8cm_W57B_8_tile_10240_2048.tif: 1024x1024 None40.1ms\n",
      "Speed: 3.0ms preprocess, 40.1ms inference, 2.6ms postprocess per image at shape (1, 3, 1024, 1024)\n"
     ]
    },
    {
     "name": "stderr",
     "output_type": "stream",
     "text": [
      "Running YOLO OBB inference:  70%|███████   | 357/507 [00:43<00:21,  6.82it/s]"
     ]
    },
    {
     "name": "stdout",
     "output_type": "stream",
     "text": [
      "Saved predicted image: /shared/data/climateplus2025/Prediction_for_poster_July21/Prediction/predicted_images/2023_RGB_8cm_W57B_8_tile_10240_2048_predicted.jpg\n",
      "Saved JSON: /shared/data/climateplus2025/Prediction_for_poster_July21/Prediction/predicted_json/2023_RGB_8cm_W57B_8_tile_10240_2048.json\n",
      "Saved TXT: /shared/data/climateplus2025/Prediction_for_poster_July21/Prediction/predicted_txt/2023_RGB_8cm_W57B_8_tile_10240_2048.txt\n",
      "\n",
      "image 1/1 /shared/data/climateplus2025/Prediction_for_poster_July21/CapeTown_Image_2023_tiles_1024_for_prediction/2023_RGB_8cm_W57B_8_tile_10240_3072.tif: 1024x1024 (no detections), 40.1ms\n",
      "Speed: 3.1ms preprocess, 40.1ms inference, 0.7ms postprocess per image at shape (1, 3, 1024, 1024)\n"
     ]
    },
    {
     "name": "stderr",
     "output_type": "stream",
     "text": [
      "Running YOLO OBB inference:  71%|███████   | 358/507 [00:43<00:21,  6.94it/s]"
     ]
    },
    {
     "name": "stdout",
     "output_type": "stream",
     "text": [
      "No detections, skipped TXT for: 2023_RGB_8cm_W57B_8_tile_10240_3072.tif\n",
      "\n",
      "image 1/1 /shared/data/climateplus2025/Prediction_for_poster_July21/CapeTown_Image_2023_tiles_1024_for_prediction/2023_RGB_8cm_W57B_8_tile_10240_4096.tif: 1024x1024 (no detections), 40.1ms\n",
      "Speed: 3.0ms preprocess, 40.1ms inference, 0.5ms postprocess per image at shape (1, 3, 1024, 1024)\n"
     ]
    },
    {
     "name": "stderr",
     "output_type": "stream",
     "text": [
      "Running YOLO OBB inference:  71%|███████   | 359/507 [00:43<00:20,  7.09it/s]"
     ]
    },
    {
     "name": "stdout",
     "output_type": "stream",
     "text": [
      "No detections, skipped TXT for: 2023_RGB_8cm_W57B_8_tile_10240_4096.tif\n",
      "\n",
      "image 1/1 /shared/data/climateplus2025/Prediction_for_poster_July21/CapeTown_Image_2023_tiles_1024_for_prediction/2023_RGB_8cm_W57B_8_tile_10240_5120.tif: 1024x1024 (no detections), 39.8ms\n",
      "Speed: 3.0ms preprocess, 39.8ms inference, 0.5ms postprocess per image at shape (1, 3, 1024, 1024)\n"
     ]
    },
    {
     "name": "stderr",
     "output_type": "stream",
     "text": [
      "Running YOLO OBB inference:  71%|███████   | 360/507 [00:43<00:20,  7.20it/s]"
     ]
    },
    {
     "name": "stdout",
     "output_type": "stream",
     "text": [
      "No detections, skipped TXT for: 2023_RGB_8cm_W57B_8_tile_10240_5120.tif\n",
      "\n",
      "image 1/1 /shared/data/climateplus2025/Prediction_for_poster_July21/CapeTown_Image_2023_tiles_1024_for_prediction/2023_RGB_8cm_W57B_8_tile_10240_6144.tif: 1024x1024 (no detections), 39.8ms\n",
      "Speed: 2.0ms preprocess, 39.8ms inference, 0.5ms postprocess per image at shape (1, 3, 1024, 1024)\n"
     ]
    },
    {
     "name": "stderr",
     "output_type": "stream",
     "text": [
      "Running YOLO OBB inference:  71%|███████   | 361/507 [00:43<00:19,  7.54it/s]"
     ]
    },
    {
     "name": "stdout",
     "output_type": "stream",
     "text": [
      "No detections, skipped TXT for: 2023_RGB_8cm_W57B_8_tile_10240_6144.tif\n",
      "\n",
      "image 1/1 /shared/data/climateplus2025/Prediction_for_poster_July21/CapeTown_Image_2023_tiles_1024_for_prediction/2023_RGB_8cm_W57B_8_tile_10240_7168.tif: 1024x1024 (no detections), 39.8ms\n",
      "Speed: 2.0ms preprocess, 39.8ms inference, 0.5ms postprocess per image at shape (1, 3, 1024, 1024)\n"
     ]
    },
    {
     "name": "stderr",
     "output_type": "stream",
     "text": [
      "Running YOLO OBB inference:  71%|███████▏  | 362/507 [00:44<00:18,  8.03it/s]"
     ]
    },
    {
     "name": "stdout",
     "output_type": "stream",
     "text": [
      "No detections, skipped TXT for: 2023_RGB_8cm_W57B_8_tile_10240_7168.tif\n",
      "\n",
      "image 1/1 /shared/data/climateplus2025/Prediction_for_poster_July21/CapeTown_Image_2023_tiles_1024_for_prediction/2023_RGB_8cm_W57B_8_tile_10240_8192.tif: 1024x1024 (no detections), 39.8ms\n",
      "Speed: 3.0ms preprocess, 39.8ms inference, 0.8ms postprocess per image at shape (1, 3, 1024, 1024)\n"
     ]
    },
    {
     "name": "stderr",
     "output_type": "stream",
     "text": [
      "Running YOLO OBB inference:  72%|███████▏  | 363/507 [00:44<00:19,  7.38it/s]"
     ]
    },
    {
     "name": "stdout",
     "output_type": "stream",
     "text": [
      "No detections, skipped TXT for: 2023_RGB_8cm_W57B_8_tile_10240_8192.tif\n",
      "\n",
      "image 1/1 /shared/data/climateplus2025/Prediction_for_poster_July21/CapeTown_Image_2023_tiles_1024_for_prediction/2023_RGB_8cm_W57B_8_tile_10240_9216.tif: 1024x1024 (no detections), 39.8ms\n",
      "Speed: 3.0ms preprocess, 39.8ms inference, 0.8ms postprocess per image at shape (1, 3, 1024, 1024)\n"
     ]
    },
    {
     "name": "stderr",
     "output_type": "stream",
     "text": [
      "Running YOLO OBB inference:  72%|███████▏  | 364/507 [00:44<00:20,  7.05it/s]"
     ]
    },
    {
     "name": "stdout",
     "output_type": "stream",
     "text": [
      "No detections, skipped TXT for: 2023_RGB_8cm_W57B_8_tile_10240_9216.tif\n",
      "\n",
      "image 1/1 /shared/data/climateplus2025/Prediction_for_poster_July21/CapeTown_Image_2023_tiles_1024_for_prediction/2023_RGB_8cm_W57B_8_tile_1024_0.tif: 1024x1024 None39.8ms\n",
      "Speed: 1.8ms preprocess, 39.8ms inference, 1.8ms postprocess per image at shape (1, 3, 1024, 1024)\n"
     ]
    },
    {
     "name": "stderr",
     "output_type": "stream",
     "text": [
      "Running YOLO OBB inference:  72%|███████▏  | 365/507 [00:44<00:19,  7.12it/s]"
     ]
    },
    {
     "name": "stdout",
     "output_type": "stream",
     "text": [
      "Saved predicted image: /shared/data/climateplus2025/Prediction_for_poster_July21/Prediction/predicted_images/2023_RGB_8cm_W57B_8_tile_1024_0_predicted.jpg\n",
      "Saved JSON: /shared/data/climateplus2025/Prediction_for_poster_July21/Prediction/predicted_json/2023_RGB_8cm_W57B_8_tile_1024_0.json\n",
      "Saved TXT: /shared/data/climateplus2025/Prediction_for_poster_July21/Prediction/predicted_txt/2023_RGB_8cm_W57B_8_tile_1024_0.txt\n",
      "\n",
      "image 1/1 /shared/data/climateplus2025/Prediction_for_poster_July21/CapeTown_Image_2023_tiles_1024_for_prediction/2023_RGB_8cm_W57B_8_tile_1024_1024.tif: 1024x1024 None39.6ms\n",
      "Speed: 3.0ms preprocess, 39.6ms inference, 3.2ms postprocess per image at shape (1, 3, 1024, 1024)\n"
     ]
    },
    {
     "name": "stderr",
     "output_type": "stream",
     "text": [
      "Running YOLO OBB inference:  72%|███████▏  | 366/507 [00:44<00:20,  6.92it/s]"
     ]
    },
    {
     "name": "stdout",
     "output_type": "stream",
     "text": [
      "Saved predicted image: /shared/data/climateplus2025/Prediction_for_poster_July21/Prediction/predicted_images/2023_RGB_8cm_W57B_8_tile_1024_1024_predicted.jpg\n",
      "Saved JSON: /shared/data/climateplus2025/Prediction_for_poster_July21/Prediction/predicted_json/2023_RGB_8cm_W57B_8_tile_1024_1024.json\n",
      "Saved TXT: /shared/data/climateplus2025/Prediction_for_poster_July21/Prediction/predicted_txt/2023_RGB_8cm_W57B_8_tile_1024_1024.txt\n",
      "\n",
      "image 1/1 /shared/data/climateplus2025/Prediction_for_poster_July21/CapeTown_Image_2023_tiles_1024_for_prediction/2023_RGB_8cm_W57B_8_tile_1024_10240.tif: 1024x1024 (no detections), 39.6ms\n",
      "Speed: 1.8ms preprocess, 39.6ms inference, 0.5ms postprocess per image at shape (1, 3, 1024, 1024)\n"
     ]
    },
    {
     "name": "stderr",
     "output_type": "stream",
     "text": [
      "Running YOLO OBB inference:  72%|███████▏  | 367/507 [00:44<00:18,  7.49it/s]"
     ]
    },
    {
     "name": "stdout",
     "output_type": "stream",
     "text": [
      "No detections, skipped TXT for: 2023_RGB_8cm_W57B_8_tile_1024_10240.tif\n",
      "\n",
      "image 1/1 /shared/data/climateplus2025/Prediction_for_poster_July21/CapeTown_Image_2023_tiles_1024_for_prediction/2023_RGB_8cm_W57B_8_tile_1024_11264.tif: 1024x1024 (no detections), 39.6ms\n",
      "Speed: 3.0ms preprocess, 39.6ms inference, 0.8ms postprocess per image at shape (1, 3, 1024, 1024)\n"
     ]
    },
    {
     "name": "stderr",
     "output_type": "stream",
     "text": [
      "Running YOLO OBB inference:  73%|███████▎  | 368/507 [00:44<00:19,  7.12it/s]"
     ]
    },
    {
     "name": "stdout",
     "output_type": "stream",
     "text": [
      "No detections, skipped TXT for: 2023_RGB_8cm_W57B_8_tile_1024_11264.tif\n",
      "\n",
      "image 1/1 /shared/data/climateplus2025/Prediction_for_poster_July21/CapeTown_Image_2023_tiles_1024_for_prediction/2023_RGB_8cm_W57B_8_tile_1024_12288.tif: 1024x1024 (no detections), 39.5ms\n",
      "Speed: 1.9ms preprocess, 39.5ms inference, 0.5ms postprocess per image at shape (1, 3, 1024, 1024)\n",
      "No detections, skipped TXT for: 2023_RGB_8cm_W57B_8_tile_1024_12288.tif\n",
      "\n",
      "image 1/1 /shared/data/climateplus2025/Prediction_for_poster_July21/CapeTown_Image_2023_tiles_1024_for_prediction/2023_RGB_8cm_W57B_8_tile_1024_2048.tif: 1024x1024 None39.6ms\n",
      "Speed: 1.9ms preprocess, 39.6ms inference, 1.9ms postprocess per image at shape (1, 3, 1024, 1024)\n"
     ]
    },
    {
     "name": "stderr",
     "output_type": "stream",
     "text": [
      "Running YOLO OBB inference:  73%|███████▎  | 370/507 [00:45<00:17,  7.95it/s]"
     ]
    },
    {
     "name": "stdout",
     "output_type": "stream",
     "text": [
      "Saved predicted image: /shared/data/climateplus2025/Prediction_for_poster_July21/Prediction/predicted_images/2023_RGB_8cm_W57B_8_tile_1024_2048_predicted.jpg\n",
      "Saved JSON: /shared/data/climateplus2025/Prediction_for_poster_July21/Prediction/predicted_json/2023_RGB_8cm_W57B_8_tile_1024_2048.json\n",
      "Saved TXT: /shared/data/climateplus2025/Prediction_for_poster_July21/Prediction/predicted_txt/2023_RGB_8cm_W57B_8_tile_1024_2048.txt\n",
      "\n",
      "image 1/1 /shared/data/climateplus2025/Prediction_for_poster_July21/CapeTown_Image_2023_tiles_1024_for_prediction/2023_RGB_8cm_W57B_8_tile_1024_3072.tif: 1024x1024 None39.6ms\n",
      "Speed: 3.2ms preprocess, 39.6ms inference, 1.8ms postprocess per image at shape (1, 3, 1024, 1024)\n"
     ]
    },
    {
     "name": "stderr",
     "output_type": "stream",
     "text": [
      "Running YOLO OBB inference:  73%|███████▎  | 371/507 [00:45<00:17,  7.67it/s]"
     ]
    },
    {
     "name": "stdout",
     "output_type": "stream",
     "text": [
      "Saved predicted image: /shared/data/climateplus2025/Prediction_for_poster_July21/Prediction/predicted_images/2023_RGB_8cm_W57B_8_tile_1024_3072_predicted.jpg\n",
      "Saved JSON: /shared/data/climateplus2025/Prediction_for_poster_July21/Prediction/predicted_json/2023_RGB_8cm_W57B_8_tile_1024_3072.json\n",
      "Saved TXT: /shared/data/climateplus2025/Prediction_for_poster_July21/Prediction/predicted_txt/2023_RGB_8cm_W57B_8_tile_1024_3072.txt\n",
      "\n",
      "image 1/1 /shared/data/climateplus2025/Prediction_for_poster_July21/CapeTown_Image_2023_tiles_1024_for_prediction/2023_RGB_8cm_W57B_8_tile_1024_4096.tif: 1024x1024 (no detections), 39.6ms\n",
      "Speed: 1.8ms preprocess, 39.6ms inference, 0.5ms postprocess per image at shape (1, 3, 1024, 1024)\n"
     ]
    },
    {
     "name": "stderr",
     "output_type": "stream",
     "text": [
      "Running YOLO OBB inference:  73%|███████▎  | 372/507 [00:45<00:17,  7.92it/s]"
     ]
    },
    {
     "name": "stdout",
     "output_type": "stream",
     "text": [
      "No detections, skipped TXT for: 2023_RGB_8cm_W57B_8_tile_1024_4096.tif\n",
      "\n",
      "image 1/1 /shared/data/climateplus2025/Prediction_for_poster_July21/CapeTown_Image_2023_tiles_1024_for_prediction/2023_RGB_8cm_W57B_8_tile_1024_5120.tif: 1024x1024 (no detections), 39.6ms\n",
      "Speed: 1.9ms preprocess, 39.6ms inference, 0.5ms postprocess per image at shape (1, 3, 1024, 1024)\n"
     ]
    },
    {
     "name": "stderr",
     "output_type": "stream",
     "text": [
      "Running YOLO OBB inference:  74%|███████▎  | 373/507 [00:45<00:16,  8.27it/s]"
     ]
    },
    {
     "name": "stdout",
     "output_type": "stream",
     "text": [
      "No detections, skipped TXT for: 2023_RGB_8cm_W57B_8_tile_1024_5120.tif\n",
      "\n",
      "image 1/1 /shared/data/climateplus2025/Prediction_for_poster_July21/CapeTown_Image_2023_tiles_1024_for_prediction/2023_RGB_8cm_W57B_8_tile_1024_6144.tif: 1024x1024 (no detections), 39.6ms\n",
      "Speed: 2.0ms preprocess, 39.6ms inference, 0.5ms postprocess per image at shape (1, 3, 1024, 1024)\n"
     ]
    },
    {
     "name": "stderr",
     "output_type": "stream",
     "text": [
      "Running YOLO OBB inference:  74%|███████▍  | 374/507 [00:45<00:15,  8.58it/s]"
     ]
    },
    {
     "name": "stdout",
     "output_type": "stream",
     "text": [
      "No detections, skipped TXT for: 2023_RGB_8cm_W57B_8_tile_1024_6144.tif\n",
      "\n",
      "image 1/1 /shared/data/climateplus2025/Prediction_for_poster_July21/CapeTown_Image_2023_tiles_1024_for_prediction/2023_RGB_8cm_W57B_8_tile_1024_7168.tif: 1024x1024 (no detections), 39.6ms\n",
      "Speed: 1.8ms preprocess, 39.6ms inference, 0.5ms postprocess per image at shape (1, 3, 1024, 1024)\n"
     ]
    },
    {
     "name": "stderr",
     "output_type": "stream",
     "text": [
      "Running YOLO OBB inference:  74%|███████▍  | 375/507 [00:45<00:15,  8.75it/s]"
     ]
    },
    {
     "name": "stdout",
     "output_type": "stream",
     "text": [
      "No detections, skipped TXT for: 2023_RGB_8cm_W57B_8_tile_1024_7168.tif\n",
      "\n",
      "image 1/1 /shared/data/climateplus2025/Prediction_for_poster_July21/CapeTown_Image_2023_tiles_1024_for_prediction/2023_RGB_8cm_W57B_8_tile_1024_8192.tif: 1024x1024 (no detections), 39.6ms\n",
      "Speed: 3.1ms preprocess, 39.6ms inference, 0.5ms postprocess per image at shape (1, 3, 1024, 1024)\n"
     ]
    },
    {
     "name": "stderr",
     "output_type": "stream",
     "text": [
      "Running YOLO OBB inference:  74%|███████▍  | 376/507 [00:45<00:15,  8.34it/s]"
     ]
    },
    {
     "name": "stdout",
     "output_type": "stream",
     "text": [
      "No detections, skipped TXT for: 2023_RGB_8cm_W57B_8_tile_1024_8192.tif\n",
      "\n",
      "image 1/1 /shared/data/climateplus2025/Prediction_for_poster_July21/CapeTown_Image_2023_tiles_1024_for_prediction/2023_RGB_8cm_W57B_8_tile_1024_9216.tif: 1024x1024 (no detections), 39.6ms\n",
      "Speed: 3.1ms preprocess, 39.6ms inference, 0.8ms postprocess per image at shape (1, 3, 1024, 1024)\n"
     ]
    },
    {
     "name": "stderr",
     "output_type": "stream",
     "text": [
      "Running YOLO OBB inference:  74%|███████▍  | 377/507 [00:45<00:17,  7.60it/s]"
     ]
    },
    {
     "name": "stdout",
     "output_type": "stream",
     "text": [
      "No detections, skipped TXT for: 2023_RGB_8cm_W57B_8_tile_1024_9216.tif\n",
      "\n",
      "image 1/1 /shared/data/climateplus2025/Prediction_for_poster_July21/CapeTown_Image_2023_tiles_1024_for_prediction/2023_RGB_8cm_W57B_8_tile_11264_0.tif: 1024x1024 None39.6ms\n",
      "Speed: 1.8ms preprocess, 39.6ms inference, 1.9ms postprocess per image at shape (1, 3, 1024, 1024)\n"
     ]
    },
    {
     "name": "stderr",
     "output_type": "stream",
     "text": [
      "Running YOLO OBB inference:  75%|███████▍  | 378/507 [00:46<00:16,  7.80it/s]"
     ]
    },
    {
     "name": "stdout",
     "output_type": "stream",
     "text": [
      "Saved predicted image: /shared/data/climateplus2025/Prediction_for_poster_July21/Prediction/predicted_images/2023_RGB_8cm_W57B_8_tile_11264_0_predicted.jpg\n",
      "Saved JSON: /shared/data/climateplus2025/Prediction_for_poster_July21/Prediction/predicted_json/2023_RGB_8cm_W57B_8_tile_11264_0.json\n",
      "Saved TXT: /shared/data/climateplus2025/Prediction_for_poster_July21/Prediction/predicted_txt/2023_RGB_8cm_W57B_8_tile_11264_0.txt\n",
      "\n",
      "image 1/1 /shared/data/climateplus2025/Prediction_for_poster_July21/CapeTown_Image_2023_tiles_1024_for_prediction/2023_RGB_8cm_W57B_8_tile_11264_1024.tif: 1024x1024 None39.6ms\n",
      "Speed: 3.0ms preprocess, 39.6ms inference, 3.3ms postprocess per image at shape (1, 3, 1024, 1024)\n",
      "Saved predicted image: /shared/data/climateplus2025/Prediction_for_poster_July21/Prediction/predicted_images/2023_RGB_8cm_W57B_8_tile_11264_1024_predicted.jpg\n"
     ]
    },
    {
     "name": "stderr",
     "output_type": "stream",
     "text": [
      "Running YOLO OBB inference:  75%|███████▍  | 379/507 [00:46<00:18,  7.02it/s]"
     ]
    },
    {
     "name": "stdout",
     "output_type": "stream",
     "text": [
      "Saved JSON: /shared/data/climateplus2025/Prediction_for_poster_July21/Prediction/predicted_json/2023_RGB_8cm_W57B_8_tile_11264_1024.json\n",
      "Saved TXT: /shared/data/climateplus2025/Prediction_for_poster_July21/Prediction/predicted_txt/2023_RGB_8cm_W57B_8_tile_11264_1024.txt\n",
      "\n",
      "image 1/1 /shared/data/climateplus2025/Prediction_for_poster_July21/CapeTown_Image_2023_tiles_1024_for_prediction/2023_RGB_8cm_W57B_8_tile_11264_10240.tif: 1024x1024 (no detections), 40.3ms\n",
      "Speed: 3.0ms preprocess, 40.3ms inference, 0.8ms postprocess per image at shape (1, 3, 1024, 1024)\n"
     ]
    },
    {
     "name": "stderr",
     "output_type": "stream",
     "text": [
      "Running YOLO OBB inference:  75%|███████▍  | 380/507 [00:46<00:19,  6.58it/s]"
     ]
    },
    {
     "name": "stdout",
     "output_type": "stream",
     "text": [
      "No detections, skipped TXT for: 2023_RGB_8cm_W57B_8_tile_11264_10240.tif\n",
      "\n",
      "image 1/1 /shared/data/climateplus2025/Prediction_for_poster_July21/CapeTown_Image_2023_tiles_1024_for_prediction/2023_RGB_8cm_W57B_8_tile_11264_11264.tif: 1024x1024 (no detections), 40.3ms\n",
      "Speed: 2.5ms preprocess, 40.3ms inference, 0.7ms postprocess per image at shape (1, 3, 1024, 1024)\n"
     ]
    },
    {
     "name": "stderr",
     "output_type": "stream",
     "text": [
      "Running YOLO OBB inference:  75%|███████▌  | 381/507 [00:46<00:19,  6.53it/s]"
     ]
    },
    {
     "name": "stdout",
     "output_type": "stream",
     "text": [
      "No detections, skipped TXT for: 2023_RGB_8cm_W57B_8_tile_11264_11264.tif\n",
      "\n",
      "image 1/1 /shared/data/climateplus2025/Prediction_for_poster_July21/CapeTown_Image_2023_tiles_1024_for_prediction/2023_RGB_8cm_W57B_8_tile_11264_12288.tif: 1024x1024 (no detections), 40.2ms\n",
      "Speed: 1.9ms preprocess, 40.2ms inference, 0.5ms postprocess per image at shape (1, 3, 1024, 1024)\n",
      "No detections, skipped TXT for: 2023_RGB_8cm_W57B_8_tile_11264_12288.tif\n",
      "\n",
      "image 1/1 /shared/data/climateplus2025/Prediction_for_poster_July21/CapeTown_Image_2023_tiles_1024_for_prediction/2023_RGB_8cm_W57B_8_tile_11264_2048.tif: 1024x1024 (no detections), 40.2ms\n",
      "Speed: 1.8ms preprocess, 40.2ms inference, 0.5ms postprocess per image at shape (1, 3, 1024, 1024)\n"
     ]
    },
    {
     "name": "stderr",
     "output_type": "stream",
     "text": [
      "Running YOLO OBB inference:  76%|███████▌  | 383/507 [00:46<00:15,  7.84it/s]"
     ]
    },
    {
     "name": "stdout",
     "output_type": "stream",
     "text": [
      "No detections, skipped TXT for: 2023_RGB_8cm_W57B_8_tile_11264_2048.tif\n",
      "\n",
      "image 1/1 /shared/data/climateplus2025/Prediction_for_poster_July21/CapeTown_Image_2023_tiles_1024_for_prediction/2023_RGB_8cm_W57B_8_tile_11264_3072.tif: 1024x1024 (no detections), 40.3ms\n",
      "Speed: 1.9ms preprocess, 40.3ms inference, 0.5ms postprocess per image at shape (1, 3, 1024, 1024)\n"
     ]
    },
    {
     "name": "stderr",
     "output_type": "stream",
     "text": [
      "Running YOLO OBB inference:  76%|███████▌  | 384/507 [00:46<00:15,  7.92it/s]"
     ]
    },
    {
     "name": "stdout",
     "output_type": "stream",
     "text": [
      "No detections, skipped TXT for: 2023_RGB_8cm_W57B_8_tile_11264_3072.tif\n",
      "\n",
      "image 1/1 /shared/data/climateplus2025/Prediction_for_poster_July21/CapeTown_Image_2023_tiles_1024_for_prediction/2023_RGB_8cm_W57B_8_tile_11264_4096.tif: 1024x1024 (no detections), 40.3ms\n",
      "Speed: 1.8ms preprocess, 40.3ms inference, 0.5ms postprocess per image at shape (1, 3, 1024, 1024)\n"
     ]
    },
    {
     "name": "stderr",
     "output_type": "stream",
     "text": [
      "Running YOLO OBB inference:  76%|███████▌  | 385/507 [00:47<00:15,  7.68it/s]"
     ]
    },
    {
     "name": "stdout",
     "output_type": "stream",
     "text": [
      "No detections, skipped TXT for: 2023_RGB_8cm_W57B_8_tile_11264_4096.tif\n",
      "\n",
      "image 1/1 /shared/data/climateplus2025/Prediction_for_poster_July21/CapeTown_Image_2023_tiles_1024_for_prediction/2023_RGB_8cm_W57B_8_tile_11264_5120.tif: 1024x1024 (no detections), 40.1ms\n",
      "Speed: 2.5ms preprocess, 40.1ms inference, 0.6ms postprocess per image at shape (1, 3, 1024, 1024)\n"
     ]
    },
    {
     "name": "stderr",
     "output_type": "stream",
     "text": [
      "Running YOLO OBB inference:  76%|███████▌  | 386/507 [00:47<00:16,  7.54it/s]"
     ]
    },
    {
     "name": "stdout",
     "output_type": "stream",
     "text": [
      "No detections, skipped TXT for: 2023_RGB_8cm_W57B_8_tile_11264_5120.tif\n",
      "\n",
      "image 1/1 /shared/data/climateplus2025/Prediction_for_poster_July21/CapeTown_Image_2023_tiles_1024_for_prediction/2023_RGB_8cm_W57B_8_tile_11264_6144.tif: 1024x1024 (no detections), 40.0ms\n",
      "Speed: 1.8ms preprocess, 40.0ms inference, 0.5ms postprocess per image at shape (1, 3, 1024, 1024)\n"
     ]
    },
    {
     "name": "stderr",
     "output_type": "stream",
     "text": [
      "Running YOLO OBB inference:  76%|███████▋  | 387/507 [00:47<00:15,  7.99it/s]"
     ]
    },
    {
     "name": "stdout",
     "output_type": "stream",
     "text": [
      "No detections, skipped TXT for: 2023_RGB_8cm_W57B_8_tile_11264_6144.tif\n",
      "\n",
      "image 1/1 /shared/data/climateplus2025/Prediction_for_poster_July21/CapeTown_Image_2023_tiles_1024_for_prediction/2023_RGB_8cm_W57B_8_tile_11264_7168.tif: 1024x1024 (no detections), 40.0ms\n",
      "Speed: 1.9ms preprocess, 40.0ms inference, 0.5ms postprocess per image at shape (1, 3, 1024, 1024)\n"
     ]
    },
    {
     "name": "stderr",
     "output_type": "stream",
     "text": [
      "Running YOLO OBB inference:  77%|███████▋  | 388/507 [00:47<00:14,  8.21it/s]"
     ]
    },
    {
     "name": "stdout",
     "output_type": "stream",
     "text": [
      "No detections, skipped TXT for: 2023_RGB_8cm_W57B_8_tile_11264_7168.tif\n",
      "\n",
      "image 1/1 /shared/data/climateplus2025/Prediction_for_poster_July21/CapeTown_Image_2023_tiles_1024_for_prediction/2023_RGB_8cm_W57B_8_tile_11264_8192.tif: 1024x1024 (no detections), 40.1ms\n",
      "Speed: 1.8ms preprocess, 40.1ms inference, 0.5ms postprocess per image at shape (1, 3, 1024, 1024)\n"
     ]
    },
    {
     "name": "stderr",
     "output_type": "stream",
     "text": [
      "Running YOLO OBB inference:  77%|███████▋  | 389/507 [00:47<00:14,  8.27it/s]"
     ]
    },
    {
     "name": "stdout",
     "output_type": "stream",
     "text": [
      "No detections, skipped TXT for: 2023_RGB_8cm_W57B_8_tile_11264_8192.tif\n",
      "\n",
      "image 1/1 /shared/data/climateplus2025/Prediction_for_poster_July21/CapeTown_Image_2023_tiles_1024_for_prediction/2023_RGB_8cm_W57B_8_tile_11264_9216.tif: 1024x1024 (no detections), 40.1ms\n",
      "Speed: 1.9ms preprocess, 40.1ms inference, 0.5ms postprocess per image at shape (1, 3, 1024, 1024)\n"
     ]
    },
    {
     "name": "stderr",
     "output_type": "stream",
     "text": [
      "Running YOLO OBB inference:  77%|███████▋  | 390/507 [00:47<00:14,  8.35it/s]"
     ]
    },
    {
     "name": "stdout",
     "output_type": "stream",
     "text": [
      "No detections, skipped TXT for: 2023_RGB_8cm_W57B_8_tile_11264_9216.tif\n",
      "\n",
      "image 1/1 /shared/data/climateplus2025/Prediction_for_poster_July21/CapeTown_Image_2023_tiles_1024_for_prediction/2023_RGB_8cm_W57B_8_tile_12288_0.tif: 1024x1024 None39.8ms\n",
      "Speed: 1.8ms preprocess, 39.8ms inference, 1.9ms postprocess per image at shape (1, 3, 1024, 1024)\n",
      "Saved predicted image: /shared/data/climateplus2025/Prediction_for_poster_July21/Prediction/predicted_images/2023_RGB_8cm_W57B_8_tile_12288_0_predicted.jpg\n",
      "Saved JSON: /shared/data/climateplus2025/Prediction_for_poster_July21/Prediction/predicted_json/2023_RGB_8cm_W57B_8_tile_12288_0.json\n",
      "Saved TXT: /shared/data/climateplus2025/Prediction_for_poster_July21/Prediction/predicted_txt/2023_RGB_8cm_W57B_8_tile_12288_0.txt\n",
      "\n",
      "image 1/1 /shared/data/climateplus2025/Prediction_for_poster_July21/CapeTown_Image_2023_tiles_1024_for_prediction/2023_RGB_8cm_W57B_8_tile_12288_1024.tif: 1024x1024 (no detections), 39.8ms\n",
      "Speed: 1.9ms preprocess, 39.8ms inference, 0.5ms postprocess per image at shape (1, 3, 1024, 1024)\n"
     ]
    },
    {
     "name": "stderr",
     "output_type": "stream",
     "text": [
      "Running YOLO OBB inference:  77%|███████▋  | 392/507 [00:47<00:11,  9.93it/s]"
     ]
    },
    {
     "name": "stdout",
     "output_type": "stream",
     "text": [
      "No detections, skipped TXT for: 2023_RGB_8cm_W57B_8_tile_12288_1024.tif\n",
      "\n",
      "image 1/1 /shared/data/climateplus2025/Prediction_for_poster_July21/CapeTown_Image_2023_tiles_1024_for_prediction/2023_RGB_8cm_W57B_8_tile_12288_10240.tif: 1024x1024 (no detections), 39.0ms\n",
      "Speed: 1.9ms preprocess, 39.0ms inference, 0.5ms postprocess per image at shape (1, 3, 1024, 1024)\n",
      "No detections, skipped TXT for: 2023_RGB_8cm_W57B_8_tile_12288_10240.tif\n",
      "\n",
      "image 1/1 /shared/data/climateplus2025/Prediction_for_poster_July21/CapeTown_Image_2023_tiles_1024_for_prediction/2023_RGB_8cm_W57B_8_tile_12288_11264.tif: 1024x1024 (no detections), 38.9ms\n",
      "Speed: 1.9ms preprocess, 38.9ms inference, 0.5ms postprocess per image at shape (1, 3, 1024, 1024)\n"
     ]
    },
    {
     "name": "stderr",
     "output_type": "stream",
     "text": [
      "Running YOLO OBB inference:  78%|███████▊  | 394/507 [00:47<00:10, 10.81it/s]"
     ]
    },
    {
     "name": "stdout",
     "output_type": "stream",
     "text": [
      "No detections, skipped TXT for: 2023_RGB_8cm_W57B_8_tile_12288_11264.tif\n",
      "\n",
      "image 1/1 /shared/data/climateplus2025/Prediction_for_poster_July21/CapeTown_Image_2023_tiles_1024_for_prediction/2023_RGB_8cm_W57B_8_tile_12288_12288.tif: 1024x1024 (no detections), 38.9ms\n",
      "Speed: 1.9ms preprocess, 38.9ms inference, 0.5ms postprocess per image at shape (1, 3, 1024, 1024)\n",
      "No detections, skipped TXT for: 2023_RGB_8cm_W57B_8_tile_12288_12288.tif\n",
      "\n",
      "image 1/1 /shared/data/climateplus2025/Prediction_for_poster_July21/CapeTown_Image_2023_tiles_1024_for_prediction/2023_RGB_8cm_W57B_8_tile_12288_2048.tif: 1024x1024 (no detections), 38.3ms\n",
      "Speed: 1.8ms preprocess, 38.3ms inference, 0.5ms postprocess per image at shape (1, 3, 1024, 1024)\n"
     ]
    },
    {
     "name": "stderr",
     "output_type": "stream",
     "text": [
      "Running YOLO OBB inference:  78%|███████▊  | 396/507 [00:48<00:08, 12.51it/s]"
     ]
    },
    {
     "name": "stdout",
     "output_type": "stream",
     "text": [
      "No detections, skipped TXT for: 2023_RGB_8cm_W57B_8_tile_12288_2048.tif\n",
      "\n",
      "image 1/1 /shared/data/climateplus2025/Prediction_for_poster_July21/CapeTown_Image_2023_tiles_1024_for_prediction/2023_RGB_8cm_W57B_8_tile_12288_3072.tif: 1024x1024 (no detections), 37.8ms\n",
      "Speed: 1.9ms preprocess, 37.8ms inference, 0.4ms postprocess per image at shape (1, 3, 1024, 1024)\n",
      "No detections, skipped TXT for: 2023_RGB_8cm_W57B_8_tile_12288_3072.tif\n",
      "\n",
      "image 1/1 /shared/data/climateplus2025/Prediction_for_poster_July21/CapeTown_Image_2023_tiles_1024_for_prediction/2023_RGB_8cm_W57B_8_tile_12288_4096.tif: 1024x1024 (no detections), 37.8ms\n",
      "Speed: 1.9ms preprocess, 37.8ms inference, 0.5ms postprocess per image at shape (1, 3, 1024, 1024)\n"
     ]
    },
    {
     "name": "stderr",
     "output_type": "stream",
     "text": [
      "Running YOLO OBB inference:  79%|███████▊  | 398/507 [00:48<00:08, 13.51it/s]"
     ]
    },
    {
     "name": "stdout",
     "output_type": "stream",
     "text": [
      "No detections, skipped TXT for: 2023_RGB_8cm_W57B_8_tile_12288_4096.tif\n",
      "\n",
      "image 1/1 /shared/data/climateplus2025/Prediction_for_poster_July21/CapeTown_Image_2023_tiles_1024_for_prediction/2023_RGB_8cm_W57B_8_tile_12288_5120.tif: 1024x1024 (no detections), 37.9ms\n",
      "Speed: 1.9ms preprocess, 37.9ms inference, 0.5ms postprocess per image at shape (1, 3, 1024, 1024)\n",
      "No detections, skipped TXT for: 2023_RGB_8cm_W57B_8_tile_12288_5120.tif\n",
      "\n",
      "image 1/1 /shared/data/climateplus2025/Prediction_for_poster_July21/CapeTown_Image_2023_tiles_1024_for_prediction/2023_RGB_8cm_W57B_8_tile_12288_6144.tif: 1024x1024 (no detections), 37.9ms\n",
      "Speed: 1.9ms preprocess, 37.9ms inference, 0.5ms postprocess per image at shape (1, 3, 1024, 1024)\n"
     ]
    },
    {
     "name": "stderr",
     "output_type": "stream",
     "text": [
      "Running YOLO OBB inference:  79%|███████▉  | 400/507 [00:48<00:07, 14.18it/s]"
     ]
    },
    {
     "name": "stdout",
     "output_type": "stream",
     "text": [
      "No detections, skipped TXT for: 2023_RGB_8cm_W57B_8_tile_12288_6144.tif\n",
      "\n",
      "image 1/1 /shared/data/climateplus2025/Prediction_for_poster_July21/CapeTown_Image_2023_tiles_1024_for_prediction/2023_RGB_8cm_W57B_8_tile_12288_7168.tif: 1024x1024 (no detections), 37.8ms\n",
      "Speed: 1.8ms preprocess, 37.8ms inference, 0.5ms postprocess per image at shape (1, 3, 1024, 1024)\n",
      "No detections, skipped TXT for: 2023_RGB_8cm_W57B_8_tile_12288_7168.tif\n",
      "\n",
      "image 1/1 /shared/data/climateplus2025/Prediction_for_poster_July21/CapeTown_Image_2023_tiles_1024_for_prediction/2023_RGB_8cm_W57B_8_tile_12288_8192.tif: 1024x1024 (no detections), 37.7ms\n",
      "Speed: 1.9ms preprocess, 37.7ms inference, 0.5ms postprocess per image at shape (1, 3, 1024, 1024)\n"
     ]
    },
    {
     "name": "stderr",
     "output_type": "stream",
     "text": [
      "Running YOLO OBB inference:  79%|███████▉  | 402/507 [00:48<00:07, 14.73it/s]"
     ]
    },
    {
     "name": "stdout",
     "output_type": "stream",
     "text": [
      "No detections, skipped TXT for: 2023_RGB_8cm_W57B_8_tile_12288_8192.tif\n",
      "\n",
      "image 1/1 /shared/data/climateplus2025/Prediction_for_poster_July21/CapeTown_Image_2023_tiles_1024_for_prediction/2023_RGB_8cm_W57B_8_tile_12288_9216.tif: 1024x1024 (no detections), 37.8ms\n",
      "Speed: 1.9ms preprocess, 37.8ms inference, 0.5ms postprocess per image at shape (1, 3, 1024, 1024)\n",
      "No detections, skipped TXT for: 2023_RGB_8cm_W57B_8_tile_12288_9216.tif\n",
      "\n",
      "image 1/1 /shared/data/climateplus2025/Prediction_for_poster_July21/CapeTown_Image_2023_tiles_1024_for_prediction/2023_RGB_8cm_W57B_8_tile_2048_0.tif: 1024x1024 None37.9ms\n",
      "Speed: 1.9ms preprocess, 37.9ms inference, 1.8ms postprocess per image at shape (1, 3, 1024, 1024)\n"
     ]
    },
    {
     "name": "stderr",
     "output_type": "stream",
     "text": [
      "Running YOLO OBB inference:  80%|███████▉  | 404/507 [00:48<00:07, 13.53it/s]"
     ]
    },
    {
     "name": "stdout",
     "output_type": "stream",
     "text": [
      "Saved predicted image: /shared/data/climateplus2025/Prediction_for_poster_July21/Prediction/predicted_images/2023_RGB_8cm_W57B_8_tile_2048_0_predicted.jpg\n",
      "Saved JSON: /shared/data/climateplus2025/Prediction_for_poster_July21/Prediction/predicted_json/2023_RGB_8cm_W57B_8_tile_2048_0.json\n",
      "Saved TXT: /shared/data/climateplus2025/Prediction_for_poster_July21/Prediction/predicted_txt/2023_RGB_8cm_W57B_8_tile_2048_0.txt\n",
      "\n",
      "image 1/1 /shared/data/climateplus2025/Prediction_for_poster_July21/CapeTown_Image_2023_tiles_1024_for_prediction/2023_RGB_8cm_W57B_8_tile_2048_1024.tif: 1024x1024 (no detections), 37.8ms\n",
      "Speed: 2.7ms preprocess, 37.8ms inference, 0.6ms postprocess per image at shape (1, 3, 1024, 1024)\n",
      "No detections, skipped TXT for: 2023_RGB_8cm_W57B_8_tile_2048_1024.tif\n",
      "\n",
      "image 1/1 /shared/data/climateplus2025/Prediction_for_poster_July21/CapeTown_Image_2023_tiles_1024_for_prediction/2023_RGB_8cm_W57B_8_tile_2048_10240.tif: 1024x1024 (no detections), 37.8ms\n",
      "Speed: 1.8ms preprocess, 37.8ms inference, 0.5ms postprocess per image at shape (1, 3, 1024, 1024)\n"
     ]
    },
    {
     "name": "stderr",
     "output_type": "stream",
     "text": [
      "Running YOLO OBB inference:  80%|████████  | 406/507 [00:48<00:08, 11.50it/s]"
     ]
    },
    {
     "name": "stdout",
     "output_type": "stream",
     "text": [
      "No detections, skipped TXT for: 2023_RGB_8cm_W57B_8_tile_2048_10240.tif\n",
      "\n",
      "image 1/1 /shared/data/climateplus2025/Prediction_for_poster_July21/CapeTown_Image_2023_tiles_1024_for_prediction/2023_RGB_8cm_W57B_8_tile_2048_11264.tif: 1024x1024 (no detections), 37.8ms\n",
      "Speed: 1.9ms preprocess, 37.8ms inference, 0.4ms postprocess per image at shape (1, 3, 1024, 1024)\n",
      "No detections, skipped TXT for: 2023_RGB_8cm_W57B_8_tile_2048_11264.tif\n",
      "\n",
      "image 1/1 /shared/data/climateplus2025/Prediction_for_poster_July21/CapeTown_Image_2023_tiles_1024_for_prediction/2023_RGB_8cm_W57B_8_tile_2048_12288.tif: 1024x1024 (no detections), 37.9ms\n",
      "Speed: 1.9ms preprocess, 37.9ms inference, 0.5ms postprocess per image at shape (1, 3, 1024, 1024)\n"
     ]
    },
    {
     "name": "stderr",
     "output_type": "stream",
     "text": [
      "Running YOLO OBB inference:  80%|████████  | 408/507 [00:49<00:09, 10.50it/s]"
     ]
    },
    {
     "name": "stdout",
     "output_type": "stream",
     "text": [
      "No detections, skipped TXT for: 2023_RGB_8cm_W57B_8_tile_2048_12288.tif\n",
      "\n",
      "image 1/1 /shared/data/climateplus2025/Prediction_for_poster_July21/CapeTown_Image_2023_tiles_1024_for_prediction/2023_RGB_8cm_W57B_8_tile_2048_2048.tif: 1024x1024 (no detections), 37.9ms\n",
      "Speed: 2.6ms preprocess, 37.9ms inference, 0.6ms postprocess per image at shape (1, 3, 1024, 1024)\n",
      "No detections, skipped TXT for: 2023_RGB_8cm_W57B_8_tile_2048_2048.tif\n",
      "\n",
      "image 1/1 /shared/data/climateplus2025/Prediction_for_poster_July21/CapeTown_Image_2023_tiles_1024_for_prediction/2023_RGB_8cm_W57B_8_tile_2048_3072.tif: 1024x1024 (no detections), 37.9ms\n",
      "Speed: 1.8ms preprocess, 37.9ms inference, 0.5ms postprocess per image at shape (1, 3, 1024, 1024)\n"
     ]
    },
    {
     "name": "stderr",
     "output_type": "stream",
     "text": [
      "Running YOLO OBB inference:  81%|████████  | 410/507 [00:49<00:09,  9.91it/s]"
     ]
    },
    {
     "name": "stdout",
     "output_type": "stream",
     "text": [
      "No detections, skipped TXT for: 2023_RGB_8cm_W57B_8_tile_2048_3072.tif\n",
      "\n",
      "image 1/1 /shared/data/climateplus2025/Prediction_for_poster_July21/CapeTown_Image_2023_tiles_1024_for_prediction/2023_RGB_8cm_W57B_8_tile_2048_4096.tif: 1024x1024 (no detections), 37.7ms\n",
      "Speed: 1.9ms preprocess, 37.7ms inference, 0.5ms postprocess per image at shape (1, 3, 1024, 1024)\n",
      "No detections, skipped TXT for: 2023_RGB_8cm_W57B_8_tile_2048_4096.tif\n",
      "\n",
      "image 1/1 /shared/data/climateplus2025/Prediction_for_poster_July21/CapeTown_Image_2023_tiles_1024_for_prediction/2023_RGB_8cm_W57B_8_tile_2048_5120.tif: 1024x1024 None37.9ms\n",
      "Speed: 1.9ms preprocess, 37.9ms inference, 1.8ms postprocess per image at shape (1, 3, 1024, 1024)\n"
     ]
    },
    {
     "name": "stderr",
     "output_type": "stream",
     "text": [
      "Running YOLO OBB inference:  81%|████████▏ | 412/507 [00:49<00:10,  9.05it/s]"
     ]
    },
    {
     "name": "stdout",
     "output_type": "stream",
     "text": [
      "Saved predicted image: /shared/data/climateplus2025/Prediction_for_poster_July21/Prediction/predicted_images/2023_RGB_8cm_W57B_8_tile_2048_5120_predicted.jpg\n",
      "Saved JSON: /shared/data/climateplus2025/Prediction_for_poster_July21/Prediction/predicted_json/2023_RGB_8cm_W57B_8_tile_2048_5120.json\n",
      "Saved TXT: /shared/data/climateplus2025/Prediction_for_poster_July21/Prediction/predicted_txt/2023_RGB_8cm_W57B_8_tile_2048_5120.txt\n",
      "\n",
      "image 1/1 /shared/data/climateplus2025/Prediction_for_poster_July21/CapeTown_Image_2023_tiles_1024_for_prediction/2023_RGB_8cm_W57B_8_tile_2048_6144.tif: 1024x1024 (no detections), 37.8ms\n",
      "Speed: 2.9ms preprocess, 37.8ms inference, 0.8ms postprocess per image at shape (1, 3, 1024, 1024)\n"
     ]
    },
    {
     "name": "stderr",
     "output_type": "stream",
     "text": [
      "Running YOLO OBB inference:  81%|████████▏ | 413/507 [00:49<00:11,  8.46it/s]"
     ]
    },
    {
     "name": "stdout",
     "output_type": "stream",
     "text": [
      "No detections, skipped TXT for: 2023_RGB_8cm_W57B_8_tile_2048_6144.tif\n",
      "\n",
      "image 1/1 /shared/data/climateplus2025/Prediction_for_poster_July21/CapeTown_Image_2023_tiles_1024_for_prediction/2023_RGB_8cm_W57B_8_tile_2048_7168.tif: 1024x1024 (no detections), 37.8ms\n",
      "Speed: 1.9ms preprocess, 37.8ms inference, 0.5ms postprocess per image at shape (1, 3, 1024, 1024)\n",
      "No detections, skipped TXT for: 2023_RGB_8cm_W57B_8_tile_2048_7168.tif\n",
      "\n",
      "image 1/1 /shared/data/climateplus2025/Prediction_for_poster_July21/CapeTown_Image_2023_tiles_1024_for_prediction/2023_RGB_8cm_W57B_8_tile_2048_8192.tif: 1024x1024 (no detections), 38.0ms\n",
      "Speed: 1.8ms preprocess, 38.0ms inference, 0.5ms postprocess per image at shape (1, 3, 1024, 1024)\n"
     ]
    },
    {
     "name": "stderr",
     "output_type": "stream",
     "text": [
      "Running YOLO OBB inference:  82%|████████▏ | 415/507 [00:49<00:10,  8.90it/s]"
     ]
    },
    {
     "name": "stdout",
     "output_type": "stream",
     "text": [
      "No detections, skipped TXT for: 2023_RGB_8cm_W57B_8_tile_2048_8192.tif\n",
      "\n",
      "image 1/1 /shared/data/climateplus2025/Prediction_for_poster_July21/CapeTown_Image_2023_tiles_1024_for_prediction/2023_RGB_8cm_W57B_8_tile_2048_9216.tif: 1024x1024 (no detections), 37.7ms\n",
      "Speed: 1.9ms preprocess, 37.7ms inference, 0.5ms postprocess per image at shape (1, 3, 1024, 1024)\n"
     ]
    },
    {
     "name": "stderr",
     "output_type": "stream",
     "text": [
      "Running YOLO OBB inference:  82%|████████▏ | 416/507 [00:50<00:10,  8.94it/s]"
     ]
    },
    {
     "name": "stdout",
     "output_type": "stream",
     "text": [
      "No detections, skipped TXT for: 2023_RGB_8cm_W57B_8_tile_2048_9216.tif\n",
      "\n",
      "image 1/1 /shared/data/climateplus2025/Prediction_for_poster_July21/CapeTown_Image_2023_tiles_1024_for_prediction/2023_RGB_8cm_W57B_8_tile_3072_0.tif: 1024x1024 (no detections), 37.8ms\n",
      "Speed: 1.8ms preprocess, 37.8ms inference, 0.5ms postprocess per image at shape (1, 3, 1024, 1024)\n"
     ]
    },
    {
     "name": "stderr",
     "output_type": "stream",
     "text": [
      "Running YOLO OBB inference:  82%|████████▏ | 417/507 [00:50<00:10,  8.88it/s]"
     ]
    },
    {
     "name": "stdout",
     "output_type": "stream",
     "text": [
      "No detections, skipped TXT for: 2023_RGB_8cm_W57B_8_tile_3072_0.tif\n",
      "\n",
      "image 1/1 /shared/data/climateplus2025/Prediction_for_poster_July21/CapeTown_Image_2023_tiles_1024_for_prediction/2023_RGB_8cm_W57B_8_tile_3072_1024.tif: 1024x1024 None37.7ms\n",
      "Speed: 1.7ms preprocess, 37.7ms inference, 1.9ms postprocess per image at shape (1, 3, 1024, 1024)\n"
     ]
    },
    {
     "name": "stderr",
     "output_type": "stream",
     "text": [
      "Running YOLO OBB inference:  82%|████████▏ | 418/507 [00:50<00:10,  8.48it/s]"
     ]
    },
    {
     "name": "stdout",
     "output_type": "stream",
     "text": [
      "Saved predicted image: /shared/data/climateplus2025/Prediction_for_poster_July21/Prediction/predicted_images/2023_RGB_8cm_W57B_8_tile_3072_1024_predicted.jpg\n",
      "Saved JSON: /shared/data/climateplus2025/Prediction_for_poster_July21/Prediction/predicted_json/2023_RGB_8cm_W57B_8_tile_3072_1024.json\n",
      "Saved TXT: /shared/data/climateplus2025/Prediction_for_poster_July21/Prediction/predicted_txt/2023_RGB_8cm_W57B_8_tile_3072_1024.txt\n",
      "\n",
      "image 1/1 /shared/data/climateplus2025/Prediction_for_poster_July21/CapeTown_Image_2023_tiles_1024_for_prediction/2023_RGB_8cm_W57B_8_tile_3072_10240.tif: 1024x1024 None39.2ms\n",
      "Speed: 1.8ms preprocess, 39.2ms inference, 1.8ms postprocess per image at shape (1, 3, 1024, 1024)\n"
     ]
    },
    {
     "name": "stderr",
     "output_type": "stream",
     "text": [
      "Running YOLO OBB inference:  83%|████████▎ | 419/507 [00:50<00:10,  8.20it/s]"
     ]
    },
    {
     "name": "stdout",
     "output_type": "stream",
     "text": [
      "Saved predicted image: /shared/data/climateplus2025/Prediction_for_poster_July21/Prediction/predicted_images/2023_RGB_8cm_W57B_8_tile_3072_10240_predicted.jpg\n",
      "Saved JSON: /shared/data/climateplus2025/Prediction_for_poster_July21/Prediction/predicted_json/2023_RGB_8cm_W57B_8_tile_3072_10240.json\n",
      "Saved TXT: /shared/data/climateplus2025/Prediction_for_poster_July21/Prediction/predicted_txt/2023_RGB_8cm_W57B_8_tile_3072_10240.txt\n",
      "\n",
      "image 1/1 /shared/data/climateplus2025/Prediction_for_poster_July21/CapeTown_Image_2023_tiles_1024_for_prediction/2023_RGB_8cm_W57B_8_tile_3072_11264.tif: 1024x1024 None40.3ms\n",
      "Speed: 3.1ms preprocess, 40.3ms inference, 3.3ms postprocess per image at shape (1, 3, 1024, 1024)\n"
     ]
    },
    {
     "name": "stderr",
     "output_type": "stream",
     "text": [
      "Running YOLO OBB inference:  83%|████████▎ | 420/507 [00:50<00:12,  7.10it/s]"
     ]
    },
    {
     "name": "stdout",
     "output_type": "stream",
     "text": [
      "Saved predicted image: /shared/data/climateplus2025/Prediction_for_poster_July21/Prediction/predicted_images/2023_RGB_8cm_W57B_8_tile_3072_11264_predicted.jpg\n",
      "Saved JSON: /shared/data/climateplus2025/Prediction_for_poster_July21/Prediction/predicted_json/2023_RGB_8cm_W57B_8_tile_3072_11264.json\n",
      "Saved TXT: /shared/data/climateplus2025/Prediction_for_poster_July21/Prediction/predicted_txt/2023_RGB_8cm_W57B_8_tile_3072_11264.txt\n",
      "\n",
      "image 1/1 /shared/data/climateplus2025/Prediction_for_poster_July21/CapeTown_Image_2023_tiles_1024_for_prediction/2023_RGB_8cm_W57B_8_tile_3072_12288.tif: 1024x1024 (no detections), 40.2ms\n",
      "Speed: 1.9ms preprocess, 40.2ms inference, 0.5ms postprocess per image at shape (1, 3, 1024, 1024)\n",
      "No detections, skipped TXT for: 2023_RGB_8cm_W57B_8_tile_3072_12288.tif\n",
      "\n",
      "image 1/1 /shared/data/climateplus2025/Prediction_for_poster_July21/CapeTown_Image_2023_tiles_1024_for_prediction/2023_RGB_8cm_W57B_8_tile_3072_2048.tif: 1024x1024 None40.2ms\n",
      "Speed: 1.8ms preprocess, 40.2ms inference, 1.8ms postprocess per image at shape (1, 3, 1024, 1024)\n"
     ]
    },
    {
     "name": "stderr",
     "output_type": "stream",
     "text": [
      "Running YOLO OBB inference:  83%|████████▎ | 422/507 [00:50<00:10,  7.90it/s]"
     ]
    },
    {
     "name": "stdout",
     "output_type": "stream",
     "text": [
      "Saved predicted image: /shared/data/climateplus2025/Prediction_for_poster_July21/Prediction/predicted_images/2023_RGB_8cm_W57B_8_tile_3072_2048_predicted.jpg\n",
      "Saved JSON: /shared/data/climateplus2025/Prediction_for_poster_July21/Prediction/predicted_json/2023_RGB_8cm_W57B_8_tile_3072_2048.json\n",
      "Saved TXT: /shared/data/climateplus2025/Prediction_for_poster_July21/Prediction/predicted_txt/2023_RGB_8cm_W57B_8_tile_3072_2048.txt\n",
      "\n",
      "image 1/1 /shared/data/climateplus2025/Prediction_for_poster_July21/CapeTown_Image_2023_tiles_1024_for_prediction/2023_RGB_8cm_W57B_8_tile_3072_3072.tif: 1024x1024 (no detections), 40.3ms\n",
      "Speed: 1.9ms preprocess, 40.3ms inference, 0.5ms postprocess per image at shape (1, 3, 1024, 1024)\n"
     ]
    },
    {
     "name": "stderr",
     "output_type": "stream",
     "text": [
      "Running YOLO OBB inference:  83%|████████▎ | 423/507 [00:50<00:10,  8.27it/s]"
     ]
    },
    {
     "name": "stdout",
     "output_type": "stream",
     "text": [
      "No detections, skipped TXT for: 2023_RGB_8cm_W57B_8_tile_3072_3072.tif\n",
      "\n",
      "image 1/1 /shared/data/climateplus2025/Prediction_for_poster_July21/CapeTown_Image_2023_tiles_1024_for_prediction/2023_RGB_8cm_W57B_8_tile_3072_4096.tif: 1024x1024 None40.3ms\n",
      "Speed: 3.0ms preprocess, 40.3ms inference, 2.6ms postprocess per image at shape (1, 3, 1024, 1024)\n"
     ]
    },
    {
     "name": "stderr",
     "output_type": "stream",
     "text": [
      "Running YOLO OBB inference:  84%|████████▎ | 424/507 [00:51<00:10,  7.70it/s]"
     ]
    },
    {
     "name": "stdout",
     "output_type": "stream",
     "text": [
      "Saved predicted image: /shared/data/climateplus2025/Prediction_for_poster_July21/Prediction/predicted_images/2023_RGB_8cm_W57B_8_tile_3072_4096_predicted.jpg\n",
      "Saved JSON: /shared/data/climateplus2025/Prediction_for_poster_July21/Prediction/predicted_json/2023_RGB_8cm_W57B_8_tile_3072_4096.json\n",
      "Saved TXT: /shared/data/climateplus2025/Prediction_for_poster_July21/Prediction/predicted_txt/2023_RGB_8cm_W57B_8_tile_3072_4096.txt\n",
      "\n",
      "image 1/1 /shared/data/climateplus2025/Prediction_for_poster_July21/CapeTown_Image_2023_tiles_1024_for_prediction/2023_RGB_8cm_W57B_8_tile_3072_5120.tif: 1024x1024 None40.3ms\n",
      "Speed: 3.0ms preprocess, 40.3ms inference, 3.2ms postprocess per image at shape (1, 3, 1024, 1024)\n"
     ]
    },
    {
     "name": "stderr",
     "output_type": "stream",
     "text": [
      "Running YOLO OBB inference:  84%|████████▍ | 425/507 [00:51<00:11,  7.10it/s]"
     ]
    },
    {
     "name": "stdout",
     "output_type": "stream",
     "text": [
      "Saved predicted image: /shared/data/climateplus2025/Prediction_for_poster_July21/Prediction/predicted_images/2023_RGB_8cm_W57B_8_tile_3072_5120_predicted.jpg\n",
      "Saved JSON: /shared/data/climateplus2025/Prediction_for_poster_July21/Prediction/predicted_json/2023_RGB_8cm_W57B_8_tile_3072_5120.json\n",
      "Saved TXT: /shared/data/climateplus2025/Prediction_for_poster_July21/Prediction/predicted_txt/2023_RGB_8cm_W57B_8_tile_3072_5120.txt\n",
      "\n",
      "image 1/1 /shared/data/climateplus2025/Prediction_for_poster_July21/CapeTown_Image_2023_tiles_1024_for_prediction/2023_RGB_8cm_W57B_8_tile_3072_6144.tif: 1024x1024 (no detections), 40.3ms\n",
      "Speed: 3.0ms preprocess, 40.3ms inference, 0.8ms postprocess per image at shape (1, 3, 1024, 1024)\n"
     ]
    },
    {
     "name": "stderr",
     "output_type": "stream",
     "text": [
      "Running YOLO OBB inference:  84%|████████▍ | 426/507 [00:51<00:13,  5.97it/s]"
     ]
    },
    {
     "name": "stdout",
     "output_type": "stream",
     "text": [
      "No detections, skipped TXT for: 2023_RGB_8cm_W57B_8_tile_3072_6144.tif\n",
      "\n",
      "image 1/1 /shared/data/climateplus2025/Prediction_for_poster_July21/CapeTown_Image_2023_tiles_1024_for_prediction/2023_RGB_8cm_W57B_8_tile_3072_7168.tif: 1024x1024 (no detections), 40.2ms\n",
      "Speed: 1.9ms preprocess, 40.2ms inference, 0.5ms postprocess per image at shape (1, 3, 1024, 1024)\n"
     ]
    },
    {
     "name": "stderr",
     "output_type": "stream",
     "text": [
      "Running YOLO OBB inference:  84%|████████▍ | 427/507 [00:51<00:12,  6.45it/s]"
     ]
    },
    {
     "name": "stdout",
     "output_type": "stream",
     "text": [
      "No detections, skipped TXT for: 2023_RGB_8cm_W57B_8_tile_3072_7168.tif\n",
      "\n",
      "image 1/1 /shared/data/climateplus2025/Prediction_for_poster_July21/CapeTown_Image_2023_tiles_1024_for_prediction/2023_RGB_8cm_W57B_8_tile_3072_8192.tif: 1024x1024 (no detections), 40.3ms\n",
      "Speed: 1.9ms preprocess, 40.3ms inference, 0.5ms postprocess per image at shape (1, 3, 1024, 1024)\n"
     ]
    },
    {
     "name": "stderr",
     "output_type": "stream",
     "text": [
      "Running YOLO OBB inference:  84%|████████▍ | 428/507 [00:51<00:11,  7.08it/s]"
     ]
    },
    {
     "name": "stdout",
     "output_type": "stream",
     "text": [
      "No detections, skipped TXT for: 2023_RGB_8cm_W57B_8_tile_3072_8192.tif\n",
      "\n",
      "image 1/1 /shared/data/climateplus2025/Prediction_for_poster_July21/CapeTown_Image_2023_tiles_1024_for_prediction/2023_RGB_8cm_W57B_8_tile_3072_9216.tif: 1024x1024 None40.2ms\n",
      "Speed: 1.8ms preprocess, 40.2ms inference, 1.9ms postprocess per image at shape (1, 3, 1024, 1024)\n"
     ]
    },
    {
     "name": "stderr",
     "output_type": "stream",
     "text": [
      "Running YOLO OBB inference:  85%|████████▍ | 429/507 [00:51<00:10,  7.30it/s]"
     ]
    },
    {
     "name": "stdout",
     "output_type": "stream",
     "text": [
      "Saved predicted image: /shared/data/climateplus2025/Prediction_for_poster_July21/Prediction/predicted_images/2023_RGB_8cm_W57B_8_tile_3072_9216_predicted.jpg\n",
      "Saved JSON: /shared/data/climateplus2025/Prediction_for_poster_July21/Prediction/predicted_json/2023_RGB_8cm_W57B_8_tile_3072_9216.json\n",
      "Saved TXT: /shared/data/climateplus2025/Prediction_for_poster_July21/Prediction/predicted_txt/2023_RGB_8cm_W57B_8_tile_3072_9216.txt\n",
      "\n",
      "image 1/1 /shared/data/climateplus2025/Prediction_for_poster_July21/CapeTown_Image_2023_tiles_1024_for_prediction/2023_RGB_8cm_W57B_8_tile_4096_0.tif: 1024x1024 None39.8ms\n",
      "Speed: 1.9ms preprocess, 39.8ms inference, 1.9ms postprocess per image at shape (1, 3, 1024, 1024)\n"
     ]
    },
    {
     "name": "stderr",
     "output_type": "stream",
     "text": [
      "Running YOLO OBB inference:  85%|████████▍ | 430/507 [00:51<00:10,  7.66it/s]"
     ]
    },
    {
     "name": "stdout",
     "output_type": "stream",
     "text": [
      "Saved predicted image: /shared/data/climateplus2025/Prediction_for_poster_July21/Prediction/predicted_images/2023_RGB_8cm_W57B_8_tile_4096_0_predicted.jpg\n",
      "Saved JSON: /shared/data/climateplus2025/Prediction_for_poster_July21/Prediction/predicted_json/2023_RGB_8cm_W57B_8_tile_4096_0.json\n",
      "Saved TXT: /shared/data/climateplus2025/Prediction_for_poster_July21/Prediction/predicted_txt/2023_RGB_8cm_W57B_8_tile_4096_0.txt\n",
      "\n",
      "image 1/1 /shared/data/climateplus2025/Prediction_for_poster_July21/CapeTown_Image_2023_tiles_1024_for_prediction/2023_RGB_8cm_W57B_8_tile_4096_1024.tif: 1024x1024 (no detections), 39.8ms\n",
      "Speed: 1.8ms preprocess, 39.8ms inference, 0.5ms postprocess per image at shape (1, 3, 1024, 1024)\n"
     ]
    },
    {
     "name": "stderr",
     "output_type": "stream",
     "text": [
      "Running YOLO OBB inference:  85%|████████▌ | 431/507 [00:52<00:09,  7.84it/s]"
     ]
    },
    {
     "name": "stdout",
     "output_type": "stream",
     "text": [
      "No detections, skipped TXT for: 2023_RGB_8cm_W57B_8_tile_4096_1024.tif\n",
      "\n",
      "image 1/1 /shared/data/climateplus2025/Prediction_for_poster_July21/CapeTown_Image_2023_tiles_1024_for_prediction/2023_RGB_8cm_W57B_8_tile_4096_10240.tif: 1024x1024 (no detections), 39.8ms\n",
      "Speed: 1.7ms preprocess, 39.8ms inference, 0.5ms postprocess per image at shape (1, 3, 1024, 1024)\n"
     ]
    },
    {
     "name": "stderr",
     "output_type": "stream",
     "text": [
      "Running YOLO OBB inference:  85%|████████▌ | 432/507 [00:52<00:09,  8.05it/s]"
     ]
    },
    {
     "name": "stdout",
     "output_type": "stream",
     "text": [
      "No detections, skipped TXT for: 2023_RGB_8cm_W57B_8_tile_4096_10240.tif\n",
      "\n",
      "image 1/1 /shared/data/climateplus2025/Prediction_for_poster_July21/CapeTown_Image_2023_tiles_1024_for_prediction/2023_RGB_8cm_W57B_8_tile_4096_11264.tif: 1024x1024 None39.8ms\n",
      "Speed: 1.9ms preprocess, 39.8ms inference, 1.8ms postprocess per image at shape (1, 3, 1024, 1024)\n"
     ]
    },
    {
     "name": "stderr",
     "output_type": "stream",
     "text": [
      "Running YOLO OBB inference:  85%|████████▌ | 433/507 [00:52<00:09,  7.59it/s]"
     ]
    },
    {
     "name": "stdout",
     "output_type": "stream",
     "text": [
      "Saved predicted image: /shared/data/climateplus2025/Prediction_for_poster_July21/Prediction/predicted_images/2023_RGB_8cm_W57B_8_tile_4096_11264_predicted.jpg\n",
      "Saved JSON: /shared/data/climateplus2025/Prediction_for_poster_July21/Prediction/predicted_json/2023_RGB_8cm_W57B_8_tile_4096_11264.json\n",
      "Saved TXT: /shared/data/climateplus2025/Prediction_for_poster_July21/Prediction/predicted_txt/2023_RGB_8cm_W57B_8_tile_4096_11264.txt\n",
      "\n",
      "image 1/1 /shared/data/climateplus2025/Prediction_for_poster_July21/CapeTown_Image_2023_tiles_1024_for_prediction/2023_RGB_8cm_W57B_8_tile_4096_12288.tif: 1024x1024 None39.8ms\n",
      "Speed: 1.9ms preprocess, 39.8ms inference, 1.8ms postprocess per image at shape (1, 3, 1024, 1024)\n",
      "Saved predicted image: /shared/data/climateplus2025/Prediction_for_poster_July21/Prediction/predicted_images/2023_RGB_8cm_W57B_8_tile_4096_12288_predicted.jpg\n",
      "Saved JSON: /shared/data/climateplus2025/Prediction_for_poster_July21/Prediction/predicted_json/2023_RGB_8cm_W57B_8_tile_4096_12288.json\n",
      "Saved TXT: /shared/data/climateplus2025/Prediction_for_poster_July21/Prediction/predicted_txt/2023_RGB_8cm_W57B_8_tile_4096_12288.txt\n",
      "\n",
      "image 1/1 /shared/data/climateplus2025/Prediction_for_poster_July21/CapeTown_Image_2023_tiles_1024_for_prediction/2023_RGB_8cm_W57B_8_tile_4096_2048.tif: 1024x1024 (no detections), 39.6ms\n",
      "Speed: 3.0ms preprocess, 39.6ms inference, 0.7ms postprocess per image at shape (1, 3, 1024, 1024)\n"
     ]
    },
    {
     "name": "stderr",
     "output_type": "stream",
     "text": [
      "Running YOLO OBB inference:  86%|████████▌ | 435/507 [00:52<00:08,  8.32it/s]"
     ]
    },
    {
     "name": "stdout",
     "output_type": "stream",
     "text": [
      "No detections, skipped TXT for: 2023_RGB_8cm_W57B_8_tile_4096_2048.tif\n",
      "\n",
      "image 1/1 /shared/data/climateplus2025/Prediction_for_poster_July21/CapeTown_Image_2023_tiles_1024_for_prediction/2023_RGB_8cm_W57B_8_tile_4096_3072.tif: 1024x1024 None39.6ms\n",
      "Speed: 1.7ms preprocess, 39.6ms inference, 1.8ms postprocess per image at shape (1, 3, 1024, 1024)\n"
     ]
    },
    {
     "name": "stderr",
     "output_type": "stream",
     "text": [
      "Running YOLO OBB inference:  86%|████████▌ | 436/507 [00:52<00:08,  8.12it/s]"
     ]
    },
    {
     "name": "stdout",
     "output_type": "stream",
     "text": [
      "Saved predicted image: /shared/data/climateplus2025/Prediction_for_poster_July21/Prediction/predicted_images/2023_RGB_8cm_W57B_8_tile_4096_3072_predicted.jpg\n",
      "Saved JSON: /shared/data/climateplus2025/Prediction_for_poster_July21/Prediction/predicted_json/2023_RGB_8cm_W57B_8_tile_4096_3072.json\n",
      "Saved TXT: /shared/data/climateplus2025/Prediction_for_poster_July21/Prediction/predicted_txt/2023_RGB_8cm_W57B_8_tile_4096_3072.txt\n",
      "\n",
      "image 1/1 /shared/data/climateplus2025/Prediction_for_poster_July21/CapeTown_Image_2023_tiles_1024_for_prediction/2023_RGB_8cm_W57B_8_tile_4096_4096.tif: 1024x1024 None39.6ms\n",
      "Speed: 1.8ms preprocess, 39.6ms inference, 1.8ms postprocess per image at shape (1, 3, 1024, 1024)\n"
     ]
    },
    {
     "name": "stderr",
     "output_type": "stream",
     "text": [
      "Running YOLO OBB inference:  86%|████████▌ | 437/507 [00:52<00:08,  7.90it/s]"
     ]
    },
    {
     "name": "stdout",
     "output_type": "stream",
     "text": [
      "Saved predicted image: /shared/data/climateplus2025/Prediction_for_poster_July21/Prediction/predicted_images/2023_RGB_8cm_W57B_8_tile_4096_4096_predicted.jpg\n",
      "Saved JSON: /shared/data/climateplus2025/Prediction_for_poster_July21/Prediction/predicted_json/2023_RGB_8cm_W57B_8_tile_4096_4096.json\n",
      "Saved TXT: /shared/data/climateplus2025/Prediction_for_poster_July21/Prediction/predicted_txt/2023_RGB_8cm_W57B_8_tile_4096_4096.txt\n",
      "\n",
      "image 1/1 /shared/data/climateplus2025/Prediction_for_poster_July21/CapeTown_Image_2023_tiles_1024_for_prediction/2023_RGB_8cm_W57B_8_tile_4096_5120.tif: 1024x1024 None39.6ms\n",
      "Speed: 1.8ms preprocess, 39.6ms inference, 1.9ms postprocess per image at shape (1, 3, 1024, 1024)\n"
     ]
    },
    {
     "name": "stderr",
     "output_type": "stream",
     "text": [
      "Running YOLO OBB inference:  86%|████████▋ | 438/507 [00:53<00:08,  7.72it/s]"
     ]
    },
    {
     "name": "stdout",
     "output_type": "stream",
     "text": [
      "Saved predicted image: /shared/data/climateplus2025/Prediction_for_poster_July21/Prediction/predicted_images/2023_RGB_8cm_W57B_8_tile_4096_5120_predicted.jpg\n",
      "Saved JSON: /shared/data/climateplus2025/Prediction_for_poster_July21/Prediction/predicted_json/2023_RGB_8cm_W57B_8_tile_4096_5120.json\n",
      "Saved TXT: /shared/data/climateplus2025/Prediction_for_poster_July21/Prediction/predicted_txt/2023_RGB_8cm_W57B_8_tile_4096_5120.txt\n",
      "\n",
      "image 1/1 /shared/data/climateplus2025/Prediction_for_poster_July21/CapeTown_Image_2023_tiles_1024_for_prediction/2023_RGB_8cm_W57B_8_tile_4096_6144.tif: 1024x1024 None39.6ms\n",
      "Speed: 1.8ms preprocess, 39.6ms inference, 1.9ms postprocess per image at shape (1, 3, 1024, 1024)\n"
     ]
    },
    {
     "name": "stderr",
     "output_type": "stream",
     "text": [
      "Running YOLO OBB inference:  87%|████████▋ | 439/507 [00:53<00:08,  7.73it/s]"
     ]
    },
    {
     "name": "stdout",
     "output_type": "stream",
     "text": [
      "Saved predicted image: /shared/data/climateplus2025/Prediction_for_poster_July21/Prediction/predicted_images/2023_RGB_8cm_W57B_8_tile_4096_6144_predicted.jpg\n",
      "Saved JSON: /shared/data/climateplus2025/Prediction_for_poster_July21/Prediction/predicted_json/2023_RGB_8cm_W57B_8_tile_4096_6144.json\n",
      "Saved TXT: /shared/data/climateplus2025/Prediction_for_poster_July21/Prediction/predicted_txt/2023_RGB_8cm_W57B_8_tile_4096_6144.txt\n",
      "\n",
      "image 1/1 /shared/data/climateplus2025/Prediction_for_poster_July21/CapeTown_Image_2023_tiles_1024_for_prediction/2023_RGB_8cm_W57B_8_tile_4096_7168.tif: 1024x1024 None39.6ms\n",
      "Speed: 1.8ms preprocess, 39.6ms inference, 1.8ms postprocess per image at shape (1, 3, 1024, 1024)\n"
     ]
    },
    {
     "name": "stderr",
     "output_type": "stream",
     "text": [
      "Running YOLO OBB inference:  87%|████████▋ | 440/507 [00:53<00:08,  7.64it/s]"
     ]
    },
    {
     "name": "stdout",
     "output_type": "stream",
     "text": [
      "Saved predicted image: /shared/data/climateplus2025/Prediction_for_poster_July21/Prediction/predicted_images/2023_RGB_8cm_W57B_8_tile_4096_7168_predicted.jpg\n",
      "Saved JSON: /shared/data/climateplus2025/Prediction_for_poster_July21/Prediction/predicted_json/2023_RGB_8cm_W57B_8_tile_4096_7168.json\n",
      "Saved TXT: /shared/data/climateplus2025/Prediction_for_poster_July21/Prediction/predicted_txt/2023_RGB_8cm_W57B_8_tile_4096_7168.txt\n",
      "\n",
      "image 1/1 /shared/data/climateplus2025/Prediction_for_poster_July21/CapeTown_Image_2023_tiles_1024_for_prediction/2023_RGB_8cm_W57B_8_tile_4096_8192.tif: 1024x1024 None39.6ms\n",
      "Speed: 1.8ms preprocess, 39.6ms inference, 1.8ms postprocess per image at shape (1, 3, 1024, 1024)\n"
     ]
    },
    {
     "name": "stderr",
     "output_type": "stream",
     "text": [
      "Running YOLO OBB inference:  87%|████████▋ | 441/507 [00:53<00:08,  7.59it/s]"
     ]
    },
    {
     "name": "stdout",
     "output_type": "stream",
     "text": [
      "Saved predicted image: /shared/data/climateplus2025/Prediction_for_poster_July21/Prediction/predicted_images/2023_RGB_8cm_W57B_8_tile_4096_8192_predicted.jpg\n",
      "Saved JSON: /shared/data/climateplus2025/Prediction_for_poster_July21/Prediction/predicted_json/2023_RGB_8cm_W57B_8_tile_4096_8192.json\n",
      "Saved TXT: /shared/data/climateplus2025/Prediction_for_poster_July21/Prediction/predicted_txt/2023_RGB_8cm_W57B_8_tile_4096_8192.txt\n",
      "\n",
      "image 1/1 /shared/data/climateplus2025/Prediction_for_poster_July21/CapeTown_Image_2023_tiles_1024_for_prediction/2023_RGB_8cm_W57B_8_tile_4096_9216.tif: 1024x1024 None39.6ms\n",
      "Speed: 3.0ms preprocess, 39.6ms inference, 3.3ms postprocess per image at shape (1, 3, 1024, 1024)\n"
     ]
    },
    {
     "name": "stderr",
     "output_type": "stream",
     "text": [
      "Running YOLO OBB inference:  87%|████████▋ | 442/507 [00:53<00:09,  6.51it/s]"
     ]
    },
    {
     "name": "stdout",
     "output_type": "stream",
     "text": [
      "Saved predicted image: /shared/data/climateplus2025/Prediction_for_poster_July21/Prediction/predicted_images/2023_RGB_8cm_W57B_8_tile_4096_9216_predicted.jpg\n",
      "Saved JSON: /shared/data/climateplus2025/Prediction_for_poster_July21/Prediction/predicted_json/2023_RGB_8cm_W57B_8_tile_4096_9216.json\n",
      "Saved TXT: /shared/data/climateplus2025/Prediction_for_poster_July21/Prediction/predicted_txt/2023_RGB_8cm_W57B_8_tile_4096_9216.txt\n",
      "\n",
      "image 1/1 /shared/data/climateplus2025/Prediction_for_poster_July21/CapeTown_Image_2023_tiles_1024_for_prediction/2023_RGB_8cm_W57B_8_tile_5120_0.tif: 1024x1024 None39.6ms\n",
      "Speed: 1.8ms preprocess, 39.6ms inference, 1.8ms postprocess per image at shape (1, 3, 1024, 1024)\n"
     ]
    },
    {
     "name": "stderr",
     "output_type": "stream",
     "text": [
      "Running YOLO OBB inference:  87%|████████▋ | 443/507 [00:53<00:09,  6.94it/s]"
     ]
    },
    {
     "name": "stdout",
     "output_type": "stream",
     "text": [
      "Saved predicted image: /shared/data/climateplus2025/Prediction_for_poster_July21/Prediction/predicted_images/2023_RGB_8cm_W57B_8_tile_5120_0_predicted.jpg\n",
      "Saved JSON: /shared/data/climateplus2025/Prediction_for_poster_July21/Prediction/predicted_json/2023_RGB_8cm_W57B_8_tile_5120_0.json\n",
      "Saved TXT: /shared/data/climateplus2025/Prediction_for_poster_July21/Prediction/predicted_txt/2023_RGB_8cm_W57B_8_tile_5120_0.txt\n",
      "\n",
      "image 1/1 /shared/data/climateplus2025/Prediction_for_poster_July21/CapeTown_Image_2023_tiles_1024_for_prediction/2023_RGB_8cm_W57B_8_tile_5120_1024.tif: 1024x1024 (no detections), 39.6ms\n",
      "Speed: 1.8ms preprocess, 39.6ms inference, 0.5ms postprocess per image at shape (1, 3, 1024, 1024)\n"
     ]
    },
    {
     "name": "stderr",
     "output_type": "stream",
     "text": [
      "Running YOLO OBB inference:  88%|████████▊ | 444/507 [00:53<00:08,  7.54it/s]"
     ]
    },
    {
     "name": "stdout",
     "output_type": "stream",
     "text": [
      "No detections, skipped TXT for: 2023_RGB_8cm_W57B_8_tile_5120_1024.tif\n",
      "\n",
      "image 1/1 /shared/data/climateplus2025/Prediction_for_poster_July21/CapeTown_Image_2023_tiles_1024_for_prediction/2023_RGB_8cm_W57B_8_tile_5120_10240.tif: 1024x1024 (no detections), 39.6ms\n",
      "Speed: 1.9ms preprocess, 39.6ms inference, 0.6ms postprocess per image at shape (1, 3, 1024, 1024)\n"
     ]
    },
    {
     "name": "stderr",
     "output_type": "stream",
     "text": [
      "Running YOLO OBB inference:  88%|████████▊ | 445/507 [00:53<00:07,  7.79it/s]"
     ]
    },
    {
     "name": "stdout",
     "output_type": "stream",
     "text": [
      "No detections, skipped TXT for: 2023_RGB_8cm_W57B_8_tile_5120_10240.tif\n",
      "\n",
      "image 1/1 /shared/data/climateplus2025/Prediction_for_poster_July21/CapeTown_Image_2023_tiles_1024_for_prediction/2023_RGB_8cm_W57B_8_tile_5120_11264.tif: 1024x1024 (no detections), 39.6ms\n",
      "Speed: 2.1ms preprocess, 39.6ms inference, 0.5ms postprocess per image at shape (1, 3, 1024, 1024)\n"
     ]
    },
    {
     "name": "stderr",
     "output_type": "stream",
     "text": [
      "Running YOLO OBB inference:  88%|████████▊ | 446/507 [00:54<00:07,  7.91it/s]"
     ]
    },
    {
     "name": "stdout",
     "output_type": "stream",
     "text": [
      "No detections, skipped TXT for: 2023_RGB_8cm_W57B_8_tile_5120_11264.tif\n",
      "\n",
      "image 1/1 /shared/data/climateplus2025/Prediction_for_poster_July21/CapeTown_Image_2023_tiles_1024_for_prediction/2023_RGB_8cm_W57B_8_tile_5120_12288.tif: 1024x1024 (no detections), 39.5ms\n",
      "Speed: 1.8ms preprocess, 39.5ms inference, 0.4ms postprocess per image at shape (1, 3, 1024, 1024)\n",
      "No detections, skipped TXT for: 2023_RGB_8cm_W57B_8_tile_5120_12288.tif\n",
      "\n",
      "image 1/1 /shared/data/climateplus2025/Prediction_for_poster_July21/CapeTown_Image_2023_tiles_1024_for_prediction/2023_RGB_8cm_W57B_8_tile_5120_2048.tif: 1024x1024 None39.5ms\n",
      "Speed: 1.8ms preprocess, 39.5ms inference, 1.8ms postprocess per image at shape (1, 3, 1024, 1024)\n"
     ]
    },
    {
     "name": "stderr",
     "output_type": "stream",
     "text": [
      "Running YOLO OBB inference:  88%|████████▊ | 448/507 [00:54<00:06,  9.07it/s]"
     ]
    },
    {
     "name": "stdout",
     "output_type": "stream",
     "text": [
      "Saved predicted image: /shared/data/climateplus2025/Prediction_for_poster_July21/Prediction/predicted_images/2023_RGB_8cm_W57B_8_tile_5120_2048_predicted.jpg\n",
      "Saved JSON: /shared/data/climateplus2025/Prediction_for_poster_July21/Prediction/predicted_json/2023_RGB_8cm_W57B_8_tile_5120_2048.json\n",
      "Saved TXT: /shared/data/climateplus2025/Prediction_for_poster_July21/Prediction/predicted_txt/2023_RGB_8cm_W57B_8_tile_5120_2048.txt\n",
      "\n",
      "image 1/1 /shared/data/climateplus2025/Prediction_for_poster_July21/CapeTown_Image_2023_tiles_1024_for_prediction/2023_RGB_8cm_W57B_8_tile_5120_3072.tif: 1024x1024 (no detections), 39.5ms\n",
      "Speed: 1.8ms preprocess, 39.5ms inference, 0.5ms postprocess per image at shape (1, 3, 1024, 1024)\n"
     ]
    },
    {
     "name": "stderr",
     "output_type": "stream",
     "text": [
      "Running YOLO OBB inference:  89%|████████▊ | 449/507 [00:54<00:06,  9.24it/s]"
     ]
    },
    {
     "name": "stdout",
     "output_type": "stream",
     "text": [
      "No detections, skipped TXT for: 2023_RGB_8cm_W57B_8_tile_5120_3072.tif\n",
      "\n",
      "image 1/1 /shared/data/climateplus2025/Prediction_for_poster_July21/CapeTown_Image_2023_tiles_1024_for_prediction/2023_RGB_8cm_W57B_8_tile_5120_4096.tif: 1024x1024 (no detections), 39.6ms\n",
      "Speed: 1.9ms preprocess, 39.6ms inference, 0.5ms postprocess per image at shape (1, 3, 1024, 1024)\n"
     ]
    },
    {
     "name": "stderr",
     "output_type": "stream",
     "text": [
      "Running YOLO OBB inference:  89%|████████▉ | 450/507 [00:54<00:06,  9.09it/s]"
     ]
    },
    {
     "name": "stdout",
     "output_type": "stream",
     "text": [
      "No detections, skipped TXT for: 2023_RGB_8cm_W57B_8_tile_5120_4096.tif\n",
      "\n",
      "image 1/1 /shared/data/climateplus2025/Prediction_for_poster_July21/CapeTown_Image_2023_tiles_1024_for_prediction/2023_RGB_8cm_W57B_8_tile_5120_5120.tif: 1024x1024 (no detections), 39.6ms\n",
      "Speed: 1.9ms preprocess, 39.6ms inference, 0.5ms postprocess per image at shape (1, 3, 1024, 1024)\n"
     ]
    },
    {
     "name": "stderr",
     "output_type": "stream",
     "text": [
      "Running YOLO OBB inference:  89%|████████▉ | 451/507 [00:54<00:06,  8.69it/s]"
     ]
    },
    {
     "name": "stdout",
     "output_type": "stream",
     "text": [
      "No detections, skipped TXT for: 2023_RGB_8cm_W57B_8_tile_5120_5120.tif\n",
      "\n",
      "image 1/1 /shared/data/climateplus2025/Prediction_for_poster_July21/CapeTown_Image_2023_tiles_1024_for_prediction/2023_RGB_8cm_W57B_8_tile_5120_6144.tif: 1024x1024 (no detections), 39.8ms\n",
      "Speed: 1.8ms preprocess, 39.8ms inference, 0.5ms postprocess per image at shape (1, 3, 1024, 1024)\n",
      "No detections, skipped TXT for: 2023_RGB_8cm_W57B_8_tile_5120_6144.tif\n",
      "\n",
      "image 1/1 /shared/data/climateplus2025/Prediction_for_poster_July21/CapeTown_Image_2023_tiles_1024_for_prediction/2023_RGB_8cm_W57B_8_tile_5120_7168.tif: 1024x1024 (no detections), 40.2ms\n",
      "Speed: 1.9ms preprocess, 40.2ms inference, 0.5ms postprocess per image at shape (1, 3, 1024, 1024)\n"
     ]
    },
    {
     "name": "stderr",
     "output_type": "stream",
     "text": [
      "Running YOLO OBB inference:  89%|████████▉ | 453/507 [00:54<00:05,  9.04it/s]"
     ]
    },
    {
     "name": "stdout",
     "output_type": "stream",
     "text": [
      "No detections, skipped TXT for: 2023_RGB_8cm_W57B_8_tile_5120_7168.tif\n",
      "\n",
      "image 1/1 /shared/data/climateplus2025/Prediction_for_poster_July21/CapeTown_Image_2023_tiles_1024_for_prediction/2023_RGB_8cm_W57B_8_tile_5120_8192.tif: 1024x1024 (no detections), 40.2ms\n",
      "Speed: 1.8ms preprocess, 40.2ms inference, 0.4ms postprocess per image at shape (1, 3, 1024, 1024)\n",
      "No detections, skipped TXT for: 2023_RGB_8cm_W57B_8_tile_5120_8192.tif\n",
      "\n",
      "image 1/1 /shared/data/climateplus2025/Prediction_for_poster_July21/CapeTown_Image_2023_tiles_1024_for_prediction/2023_RGB_8cm_W57B_8_tile_5120_9216.tif: 1024x1024 (no detections), 40.2ms\n",
      "Speed: 1.9ms preprocess, 40.2ms inference, 0.4ms postprocess per image at shape (1, 3, 1024, 1024)\n"
     ]
    },
    {
     "name": "stderr",
     "output_type": "stream",
     "text": [
      "Running YOLO OBB inference:  90%|████████▉ | 455/507 [00:55<00:05,  9.35it/s]"
     ]
    },
    {
     "name": "stdout",
     "output_type": "stream",
     "text": [
      "No detections, skipped TXT for: 2023_RGB_8cm_W57B_8_tile_5120_9216.tif\n",
      "\n",
      "image 1/1 /shared/data/climateplus2025/Prediction_for_poster_July21/CapeTown_Image_2023_tiles_1024_for_prediction/2023_RGB_8cm_W57B_8_tile_6144_0.tif: 1024x1024 (no detections), 40.2ms\n",
      "Speed: 1.8ms preprocess, 40.2ms inference, 0.5ms postprocess per image at shape (1, 3, 1024, 1024)\n"
     ]
    },
    {
     "name": "stderr",
     "output_type": "stream",
     "text": [
      "Running YOLO OBB inference:  90%|████████▉ | 456/507 [00:55<00:05,  9.46it/s]"
     ]
    },
    {
     "name": "stdout",
     "output_type": "stream",
     "text": [
      "No detections, skipped TXT for: 2023_RGB_8cm_W57B_8_tile_6144_0.tif\n",
      "\n",
      "image 1/1 /shared/data/climateplus2025/Prediction_for_poster_July21/CapeTown_Image_2023_tiles_1024_for_prediction/2023_RGB_8cm_W57B_8_tile_6144_1024.tif: 1024x1024 (no detections), 40.2ms\n",
      "Speed: 1.8ms preprocess, 40.2ms inference, 0.4ms postprocess per image at shape (1, 3, 1024, 1024)\n"
     ]
    },
    {
     "name": "stderr",
     "output_type": "stream",
     "text": [
      "Running YOLO OBB inference:  90%|█████████ | 457/507 [00:55<00:05,  9.44it/s]"
     ]
    },
    {
     "name": "stdout",
     "output_type": "stream",
     "text": [
      "No detections, skipped TXT for: 2023_RGB_8cm_W57B_8_tile_6144_1024.tif\n",
      "\n",
      "image 1/1 /shared/data/climateplus2025/Prediction_for_poster_July21/CapeTown_Image_2023_tiles_1024_for_prediction/2023_RGB_8cm_W57B_8_tile_6144_10240.tif: 1024x1024 (no detections), 40.2ms\n",
      "Speed: 1.8ms preprocess, 40.2ms inference, 0.4ms postprocess per image at shape (1, 3, 1024, 1024)\n"
     ]
    },
    {
     "name": "stderr",
     "output_type": "stream",
     "text": [
      "Running YOLO OBB inference:  90%|█████████ | 458/507 [00:55<00:05,  9.46it/s]"
     ]
    },
    {
     "name": "stdout",
     "output_type": "stream",
     "text": [
      "No detections, skipped TXT for: 2023_RGB_8cm_W57B_8_tile_6144_10240.tif\n",
      "\n",
      "image 1/1 /shared/data/climateplus2025/Prediction_for_poster_July21/CapeTown_Image_2023_tiles_1024_for_prediction/2023_RGB_8cm_W57B_8_tile_6144_11264.tif: 1024x1024 None40.2ms\n",
      "Speed: 1.7ms preprocess, 40.2ms inference, 1.8ms postprocess per image at shape (1, 3, 1024, 1024)\n"
     ]
    },
    {
     "name": "stderr",
     "output_type": "stream",
     "text": [
      "Running YOLO OBB inference:  91%|█████████ | 459/507 [00:55<00:05,  8.30it/s]"
     ]
    },
    {
     "name": "stdout",
     "output_type": "stream",
     "text": [
      "Saved predicted image: /shared/data/climateplus2025/Prediction_for_poster_July21/Prediction/predicted_images/2023_RGB_8cm_W57B_8_tile_6144_11264_predicted.jpg\n",
      "Saved JSON: /shared/data/climateplus2025/Prediction_for_poster_July21/Prediction/predicted_json/2023_RGB_8cm_W57B_8_tile_6144_11264.json\n",
      "Saved TXT: /shared/data/climateplus2025/Prediction_for_poster_July21/Prediction/predicted_txt/2023_RGB_8cm_W57B_8_tile_6144_11264.txt\n",
      "\n",
      "image 1/1 /shared/data/climateplus2025/Prediction_for_poster_July21/CapeTown_Image_2023_tiles_1024_for_prediction/2023_RGB_8cm_W57B_8_tile_6144_12288.tif: 1024x1024 (no detections), 39.8ms\n",
      "Speed: 1.9ms preprocess, 39.8ms inference, 0.4ms postprocess per image at shape (1, 3, 1024, 1024)\n",
      "No detections, skipped TXT for: 2023_RGB_8cm_W57B_8_tile_6144_12288.tif\n",
      "\n",
      "image 1/1 /shared/data/climateplus2025/Prediction_for_poster_July21/CapeTown_Image_2023_tiles_1024_for_prediction/2023_RGB_8cm_W57B_8_tile_6144_2048.tif: 1024x1024 (no detections), 39.7ms\n",
      "Speed: 1.9ms preprocess, 39.7ms inference, 0.4ms postprocess per image at shape (1, 3, 1024, 1024)\n"
     ]
    },
    {
     "name": "stderr",
     "output_type": "stream",
     "text": [
      "Running YOLO OBB inference:  91%|█████████ | 461/507 [00:55<00:04,  9.57it/s]"
     ]
    },
    {
     "name": "stdout",
     "output_type": "stream",
     "text": [
      "No detections, skipped TXT for: 2023_RGB_8cm_W57B_8_tile_6144_2048.tif\n",
      "\n",
      "image 1/1 /shared/data/climateplus2025/Prediction_for_poster_July21/CapeTown_Image_2023_tiles_1024_for_prediction/2023_RGB_8cm_W57B_8_tile_6144_3072.tif: 1024x1024 (no detections), 39.8ms\n",
      "Speed: 1.9ms preprocess, 39.8ms inference, 0.5ms postprocess per image at shape (1, 3, 1024, 1024)\n"
     ]
    },
    {
     "name": "stderr",
     "output_type": "stream",
     "text": [
      "Running YOLO OBB inference:  91%|█████████ | 462/507 [00:55<00:04,  9.60it/s]"
     ]
    },
    {
     "name": "stdout",
     "output_type": "stream",
     "text": [
      "No detections, skipped TXT for: 2023_RGB_8cm_W57B_8_tile_6144_3072.tif\n",
      "\n",
      "image 1/1 /shared/data/climateplus2025/Prediction_for_poster_July21/CapeTown_Image_2023_tiles_1024_for_prediction/2023_RGB_8cm_W57B_8_tile_6144_4096.tif: 1024x1024 (no detections), 39.8ms\n",
      "Speed: 1.7ms preprocess, 39.8ms inference, 0.5ms postprocess per image at shape (1, 3, 1024, 1024)\n"
     ]
    },
    {
     "name": "stderr",
     "output_type": "stream",
     "text": [
      "Running YOLO OBB inference:  91%|█████████▏| 463/507 [00:55<00:04,  8.99it/s]"
     ]
    },
    {
     "name": "stdout",
     "output_type": "stream",
     "text": [
      "No detections, skipped TXT for: 2023_RGB_8cm_W57B_8_tile_6144_4096.tif\n",
      "\n",
      "image 1/1 /shared/data/climateplus2025/Prediction_for_poster_July21/CapeTown_Image_2023_tiles_1024_for_prediction/2023_RGB_8cm_W57B_8_tile_6144_5120.tif: 1024x1024 (no detections), 39.8ms\n",
      "Speed: 1.9ms preprocess, 39.8ms inference, 0.4ms postprocess per image at shape (1, 3, 1024, 1024)\n"
     ]
    },
    {
     "name": "stderr",
     "output_type": "stream",
     "text": [
      "Running YOLO OBB inference:  92%|█████████▏| 464/507 [00:56<00:04,  8.83it/s]"
     ]
    },
    {
     "name": "stdout",
     "output_type": "stream",
     "text": [
      "No detections, skipped TXT for: 2023_RGB_8cm_W57B_8_tile_6144_5120.tif\n",
      "\n",
      "image 1/1 /shared/data/climateplus2025/Prediction_for_poster_July21/CapeTown_Image_2023_tiles_1024_for_prediction/2023_RGB_8cm_W57B_8_tile_6144_6144.tif: 1024x1024 (no detections), 39.8ms\n",
      "Speed: 1.7ms preprocess, 39.8ms inference, 0.5ms postprocess per image at shape (1, 3, 1024, 1024)\n"
     ]
    },
    {
     "name": "stderr",
     "output_type": "stream",
     "text": [
      "Running YOLO OBB inference:  92%|█████████▏| 465/507 [00:56<00:04,  8.74it/s]"
     ]
    },
    {
     "name": "stdout",
     "output_type": "stream",
     "text": [
      "No detections, skipped TXT for: 2023_RGB_8cm_W57B_8_tile_6144_6144.tif\n",
      "\n",
      "image 1/1 /shared/data/climateplus2025/Prediction_for_poster_July21/CapeTown_Image_2023_tiles_1024_for_prediction/2023_RGB_8cm_W57B_8_tile_6144_7168.tif: 1024x1024 (no detections), 39.8ms\n",
      "Speed: 1.8ms preprocess, 39.8ms inference, 0.4ms postprocess per image at shape (1, 3, 1024, 1024)\n"
     ]
    },
    {
     "name": "stderr",
     "output_type": "stream",
     "text": [
      "Running YOLO OBB inference:  92%|█████████▏| 466/507 [00:56<00:05,  8.19it/s]"
     ]
    },
    {
     "name": "stdout",
     "output_type": "stream",
     "text": [
      "No detections, skipped TXT for: 2023_RGB_8cm_W57B_8_tile_6144_7168.tif\n",
      "\n",
      "image 1/1 /shared/data/climateplus2025/Prediction_for_poster_July21/CapeTown_Image_2023_tiles_1024_for_prediction/2023_RGB_8cm_W57B_8_tile_6144_8192.tif: 1024x1024 (no detections), 39.8ms\n",
      "Speed: 1.7ms preprocess, 39.8ms inference, 0.4ms postprocess per image at shape (1, 3, 1024, 1024)\n"
     ]
    },
    {
     "name": "stderr",
     "output_type": "stream",
     "text": [
      "Running YOLO OBB inference:  92%|█████████▏| 467/507 [00:56<00:04,  8.22it/s]"
     ]
    },
    {
     "name": "stdout",
     "output_type": "stream",
     "text": [
      "No detections, skipped TXT for: 2023_RGB_8cm_W57B_8_tile_6144_8192.tif\n",
      "\n",
      "image 1/1 /shared/data/climateplus2025/Prediction_for_poster_July21/CapeTown_Image_2023_tiles_1024_for_prediction/2023_RGB_8cm_W57B_8_tile_6144_9216.tif: 1024x1024 None39.8ms\n",
      "Speed: 1.7ms preprocess, 39.8ms inference, 1.8ms postprocess per image at shape (1, 3, 1024, 1024)\n"
     ]
    },
    {
     "name": "stderr",
     "output_type": "stream",
     "text": [
      "Running YOLO OBB inference:  92%|█████████▏| 468/507 [00:56<00:05,  7.73it/s]"
     ]
    },
    {
     "name": "stdout",
     "output_type": "stream",
     "text": [
      "Saved predicted image: /shared/data/climateplus2025/Prediction_for_poster_July21/Prediction/predicted_images/2023_RGB_8cm_W57B_8_tile_6144_9216_predicted.jpg\n",
      "Saved JSON: /shared/data/climateplus2025/Prediction_for_poster_July21/Prediction/predicted_json/2023_RGB_8cm_W57B_8_tile_6144_9216.json\n",
      "Saved TXT: /shared/data/climateplus2025/Prediction_for_poster_July21/Prediction/predicted_txt/2023_RGB_8cm_W57B_8_tile_6144_9216.txt\n",
      "\n",
      "image 1/1 /shared/data/climateplus2025/Prediction_for_poster_July21/CapeTown_Image_2023_tiles_1024_for_prediction/2023_RGB_8cm_W57B_8_tile_7168_0.tif: 1024x1024 None39.8ms\n",
      "Speed: 1.8ms preprocess, 39.8ms inference, 1.8ms postprocess per image at shape (1, 3, 1024, 1024)\n"
     ]
    },
    {
     "name": "stderr",
     "output_type": "stream",
     "text": [
      "Running YOLO OBB inference:  93%|█████████▎| 469/507 [00:56<00:05,  7.37it/s]"
     ]
    },
    {
     "name": "stdout",
     "output_type": "stream",
     "text": [
      "Saved predicted image: /shared/data/climateplus2025/Prediction_for_poster_July21/Prediction/predicted_images/2023_RGB_8cm_W57B_8_tile_7168_0_predicted.jpg\n",
      "Saved JSON: /shared/data/climateplus2025/Prediction_for_poster_July21/Prediction/predicted_json/2023_RGB_8cm_W57B_8_tile_7168_0.json\n",
      "Saved TXT: /shared/data/climateplus2025/Prediction_for_poster_July21/Prediction/predicted_txt/2023_RGB_8cm_W57B_8_tile_7168_0.txt\n",
      "\n",
      "image 1/1 /shared/data/climateplus2025/Prediction_for_poster_July21/CapeTown_Image_2023_tiles_1024_for_prediction/2023_RGB_8cm_W57B_8_tile_7168_1024.tif: 1024x1024 None39.6ms\n",
      "Speed: 1.8ms preprocess, 39.6ms inference, 1.8ms postprocess per image at shape (1, 3, 1024, 1024)\n"
     ]
    },
    {
     "name": "stderr",
     "output_type": "stream",
     "text": [
      "Running YOLO OBB inference:  93%|█████████▎| 470/507 [00:56<00:04,  7.68it/s]"
     ]
    },
    {
     "name": "stdout",
     "output_type": "stream",
     "text": [
      "Saved predicted image: /shared/data/climateplus2025/Prediction_for_poster_July21/Prediction/predicted_images/2023_RGB_8cm_W57B_8_tile_7168_1024_predicted.jpg\n",
      "Saved JSON: /shared/data/climateplus2025/Prediction_for_poster_July21/Prediction/predicted_json/2023_RGB_8cm_W57B_8_tile_7168_1024.json\n",
      "Saved TXT: /shared/data/climateplus2025/Prediction_for_poster_July21/Prediction/predicted_txt/2023_RGB_8cm_W57B_8_tile_7168_1024.txt\n",
      "\n",
      "image 1/1 /shared/data/climateplus2025/Prediction_for_poster_July21/CapeTown_Image_2023_tiles_1024_for_prediction/2023_RGB_8cm_W57B_8_tile_7168_10240.tif: 1024x1024 None39.6ms\n",
      "Speed: 1.7ms preprocess, 39.6ms inference, 1.8ms postprocess per image at shape (1, 3, 1024, 1024)\n"
     ]
    },
    {
     "name": "stderr",
     "output_type": "stream",
     "text": [
      "Running YOLO OBB inference:  93%|█████████▎| 471/507 [00:56<00:04,  7.26it/s]"
     ]
    },
    {
     "name": "stdout",
     "output_type": "stream",
     "text": [
      "Saved predicted image: /shared/data/climateplus2025/Prediction_for_poster_July21/Prediction/predicted_images/2023_RGB_8cm_W57B_8_tile_7168_10240_predicted.jpg\n",
      "Saved JSON: /shared/data/climateplus2025/Prediction_for_poster_July21/Prediction/predicted_json/2023_RGB_8cm_W57B_8_tile_7168_10240.json\n",
      "Saved TXT: /shared/data/climateplus2025/Prediction_for_poster_July21/Prediction/predicted_txt/2023_RGB_8cm_W57B_8_tile_7168_10240.txt\n",
      "\n",
      "image 1/1 /shared/data/climateplus2025/Prediction_for_poster_July21/CapeTown_Image_2023_tiles_1024_for_prediction/2023_RGB_8cm_W57B_8_tile_7168_11264.tif: 1024x1024 (no detections), 39.5ms\n",
      "Speed: 1.8ms preprocess, 39.5ms inference, 0.4ms postprocess per image at shape (1, 3, 1024, 1024)\n"
     ]
    },
    {
     "name": "stderr",
     "output_type": "stream",
     "text": [
      "Running YOLO OBB inference:  93%|█████████▎| 472/507 [00:57<00:04,  7.88it/s]"
     ]
    },
    {
     "name": "stdout",
     "output_type": "stream",
     "text": [
      "No detections, skipped TXT for: 2023_RGB_8cm_W57B_8_tile_7168_11264.tif\n",
      "\n",
      "image 1/1 /shared/data/climateplus2025/Prediction_for_poster_July21/CapeTown_Image_2023_tiles_1024_for_prediction/2023_RGB_8cm_W57B_8_tile_7168_12288.tif: 1024x1024 (no detections), 39.6ms\n",
      "Speed: 1.8ms preprocess, 39.6ms inference, 0.5ms postprocess per image at shape (1, 3, 1024, 1024)\n",
      "No detections, skipped TXT for: 2023_RGB_8cm_W57B_8_tile_7168_12288.tif\n",
      "\n",
      "image 1/1 /shared/data/climateplus2025/Prediction_for_poster_July21/CapeTown_Image_2023_tiles_1024_for_prediction/2023_RGB_8cm_W57B_8_tile_7168_2048.tif: 1024x1024 None39.6ms\n",
      "Speed: 1.8ms preprocess, 39.6ms inference, 1.8ms postprocess per image at shape (1, 3, 1024, 1024)\n",
      "Saved predicted image: /shared/data/climateplus2025/Prediction_for_poster_July21/Prediction/predicted_images/2023_RGB_8cm_W57B_8_tile_7168_2048_predicted.jpg\n"
     ]
    },
    {
     "name": "stderr",
     "output_type": "stream",
     "text": [
      "Running YOLO OBB inference:  93%|█████████▎| 474/507 [00:57<00:03,  8.93it/s]"
     ]
    },
    {
     "name": "stdout",
     "output_type": "stream",
     "text": [
      "Saved JSON: /shared/data/climateplus2025/Prediction_for_poster_July21/Prediction/predicted_json/2023_RGB_8cm_W57B_8_tile_7168_2048.json\n",
      "Saved TXT: /shared/data/climateplus2025/Prediction_for_poster_July21/Prediction/predicted_txt/2023_RGB_8cm_W57B_8_tile_7168_2048.txt\n",
      "\n",
      "image 1/1 /shared/data/climateplus2025/Prediction_for_poster_July21/CapeTown_Image_2023_tiles_1024_for_prediction/2023_RGB_8cm_W57B_8_tile_7168_3072.tif: 1024x1024 (no detections), 39.6ms\n",
      "Speed: 1.8ms preprocess, 39.6ms inference, 0.4ms postprocess per image at shape (1, 3, 1024, 1024)\n"
     ]
    },
    {
     "name": "stderr",
     "output_type": "stream",
     "text": [
      "Running YOLO OBB inference:  94%|█████████▎| 475/507 [00:57<00:03,  9.15it/s]"
     ]
    },
    {
     "name": "stdout",
     "output_type": "stream",
     "text": [
      "No detections, skipped TXT for: 2023_RGB_8cm_W57B_8_tile_7168_3072.tif\n",
      "\n",
      "image 1/1 /shared/data/climateplus2025/Prediction_for_poster_July21/CapeTown_Image_2023_tiles_1024_for_prediction/2023_RGB_8cm_W57B_8_tile_7168_4096.tif: 1024x1024 (no detections), 39.5ms\n",
      "Speed: 1.8ms preprocess, 39.5ms inference, 0.4ms postprocess per image at shape (1, 3, 1024, 1024)\n"
     ]
    },
    {
     "name": "stderr",
     "output_type": "stream",
     "text": [
      "Running YOLO OBB inference:  94%|█████████▍| 476/507 [00:57<00:03,  8.67it/s]"
     ]
    },
    {
     "name": "stdout",
     "output_type": "stream",
     "text": [
      "No detections, skipped TXT for: 2023_RGB_8cm_W57B_8_tile_7168_4096.tif\n",
      "\n",
      "image 1/1 /shared/data/climateplus2025/Prediction_for_poster_July21/CapeTown_Image_2023_tiles_1024_for_prediction/2023_RGB_8cm_W57B_8_tile_7168_5120.tif: 1024x1024 (no detections), 39.6ms\n",
      "Speed: 1.7ms preprocess, 39.6ms inference, 0.4ms postprocess per image at shape (1, 3, 1024, 1024)\n"
     ]
    },
    {
     "name": "stderr",
     "output_type": "stream",
     "text": [
      "Running YOLO OBB inference:  94%|█████████▍| 477/507 [00:57<00:03,  8.49it/s]"
     ]
    },
    {
     "name": "stdout",
     "output_type": "stream",
     "text": [
      "No detections, skipped TXT for: 2023_RGB_8cm_W57B_8_tile_7168_5120.tif\n",
      "\n",
      "image 1/1 /shared/data/climateplus2025/Prediction_for_poster_July21/CapeTown_Image_2023_tiles_1024_for_prediction/2023_RGB_8cm_W57B_8_tile_7168_6144.tif: 1024x1024 (no detections), 39.5ms\n",
      "Speed: 1.7ms preprocess, 39.5ms inference, 0.4ms postprocess per image at shape (1, 3, 1024, 1024)\n"
     ]
    },
    {
     "name": "stderr",
     "output_type": "stream",
     "text": [
      "Running YOLO OBB inference:  94%|█████████▍| 478/507 [00:57<00:03,  8.76it/s]"
     ]
    },
    {
     "name": "stdout",
     "output_type": "stream",
     "text": [
      "No detections, skipped TXT for: 2023_RGB_8cm_W57B_8_tile_7168_6144.tif\n",
      "\n",
      "image 1/1 /shared/data/climateplus2025/Prediction_for_poster_July21/CapeTown_Image_2023_tiles_1024_for_prediction/2023_RGB_8cm_W57B_8_tile_7168_7168.tif: 1024x1024 (no detections), 39.6ms\n",
      "Speed: 1.8ms preprocess, 39.6ms inference, 0.4ms postprocess per image at shape (1, 3, 1024, 1024)\n"
     ]
    },
    {
     "name": "stderr",
     "output_type": "stream",
     "text": [
      "Running YOLO OBB inference:  94%|█████████▍| 479/507 [00:57<00:03,  8.57it/s]"
     ]
    },
    {
     "name": "stdout",
     "output_type": "stream",
     "text": [
      "No detections, skipped TXT for: 2023_RGB_8cm_W57B_8_tile_7168_7168.tif\n",
      "\n",
      "image 1/1 /shared/data/climateplus2025/Prediction_for_poster_July21/CapeTown_Image_2023_tiles_1024_for_prediction/2023_RGB_8cm_W57B_8_tile_7168_8192.tif: 1024x1024 (no detections), 39.5ms\n",
      "Speed: 1.9ms preprocess, 39.5ms inference, 0.4ms postprocess per image at shape (1, 3, 1024, 1024)\n"
     ]
    },
    {
     "name": "stderr",
     "output_type": "stream",
     "text": [
      "Running YOLO OBB inference:  95%|█████████▍| 480/507 [00:57<00:03,  8.80it/s]"
     ]
    },
    {
     "name": "stdout",
     "output_type": "stream",
     "text": [
      "No detections, skipped TXT for: 2023_RGB_8cm_W57B_8_tile_7168_8192.tif\n",
      "\n",
      "image 1/1 /shared/data/climateplus2025/Prediction_for_poster_July21/CapeTown_Image_2023_tiles_1024_for_prediction/2023_RGB_8cm_W57B_8_tile_7168_9216.tif: 1024x1024 None39.6ms\n",
      "Speed: 1.7ms preprocess, 39.6ms inference, 1.8ms postprocess per image at shape (1, 3, 1024, 1024)\n"
     ]
    },
    {
     "name": "stderr",
     "output_type": "stream",
     "text": [
      "Running YOLO OBB inference:  95%|█████████▍| 481/507 [00:58<00:03,  8.58it/s]"
     ]
    },
    {
     "name": "stdout",
     "output_type": "stream",
     "text": [
      "Saved predicted image: /shared/data/climateplus2025/Prediction_for_poster_July21/Prediction/predicted_images/2023_RGB_8cm_W57B_8_tile_7168_9216_predicted.jpg\n",
      "Saved JSON: /shared/data/climateplus2025/Prediction_for_poster_July21/Prediction/predicted_json/2023_RGB_8cm_W57B_8_tile_7168_9216.json\n",
      "Saved TXT: /shared/data/climateplus2025/Prediction_for_poster_July21/Prediction/predicted_txt/2023_RGB_8cm_W57B_8_tile_7168_9216.txt\n",
      "\n",
      "image 1/1 /shared/data/climateplus2025/Prediction_for_poster_July21/CapeTown_Image_2023_tiles_1024_for_prediction/2023_RGB_8cm_W57B_8_tile_8192_0.tif: 1024x1024 None39.6ms\n",
      "Speed: 1.8ms preprocess, 39.6ms inference, 1.8ms postprocess per image at shape (1, 3, 1024, 1024)\n"
     ]
    },
    {
     "name": "stderr",
     "output_type": "stream",
     "text": [
      "Running YOLO OBB inference:  95%|█████████▌| 482/507 [00:58<00:02,  8.47it/s]"
     ]
    },
    {
     "name": "stdout",
     "output_type": "stream",
     "text": [
      "Saved predicted image: /shared/data/climateplus2025/Prediction_for_poster_July21/Prediction/predicted_images/2023_RGB_8cm_W57B_8_tile_8192_0_predicted.jpg\n",
      "Saved JSON: /shared/data/climateplus2025/Prediction_for_poster_July21/Prediction/predicted_json/2023_RGB_8cm_W57B_8_tile_8192_0.json\n",
      "Saved TXT: /shared/data/climateplus2025/Prediction_for_poster_July21/Prediction/predicted_txt/2023_RGB_8cm_W57B_8_tile_8192_0.txt\n",
      "\n",
      "image 1/1 /shared/data/climateplus2025/Prediction_for_poster_July21/CapeTown_Image_2023_tiles_1024_for_prediction/2023_RGB_8cm_W57B_8_tile_8192_1024.tif: 1024x1024 None39.6ms\n",
      "Speed: 1.7ms preprocess, 39.6ms inference, 1.8ms postprocess per image at shape (1, 3, 1024, 1024)\n"
     ]
    },
    {
     "name": "stderr",
     "output_type": "stream",
     "text": [
      "Running YOLO OBB inference:  95%|█████████▌| 483/507 [00:58<00:02,  8.43it/s]"
     ]
    },
    {
     "name": "stdout",
     "output_type": "stream",
     "text": [
      "Saved predicted image: /shared/data/climateplus2025/Prediction_for_poster_July21/Prediction/predicted_images/2023_RGB_8cm_W57B_8_tile_8192_1024_predicted.jpg\n",
      "Saved JSON: /shared/data/climateplus2025/Prediction_for_poster_July21/Prediction/predicted_json/2023_RGB_8cm_W57B_8_tile_8192_1024.json\n",
      "Saved TXT: /shared/data/climateplus2025/Prediction_for_poster_July21/Prediction/predicted_txt/2023_RGB_8cm_W57B_8_tile_8192_1024.txt\n",
      "\n",
      "image 1/1 /shared/data/climateplus2025/Prediction_for_poster_July21/CapeTown_Image_2023_tiles_1024_for_prediction/2023_RGB_8cm_W57B_8_tile_8192_10240.tif: 1024x1024 (no detections), 39.6ms\n",
      "Speed: 1.8ms preprocess, 39.6ms inference, 0.4ms postprocess per image at shape (1, 3, 1024, 1024)\n"
     ]
    },
    {
     "name": "stderr",
     "output_type": "stream",
     "text": [
      "Running YOLO OBB inference:  95%|█████████▌| 484/507 [00:58<00:02,  8.16it/s]"
     ]
    },
    {
     "name": "stdout",
     "output_type": "stream",
     "text": [
      "No detections, skipped TXT for: 2023_RGB_8cm_W57B_8_tile_8192_10240.tif\n",
      "\n",
      "image 1/1 /shared/data/climateplus2025/Prediction_for_poster_July21/CapeTown_Image_2023_tiles_1024_for_prediction/2023_RGB_8cm_W57B_8_tile_8192_11264.tif: 1024x1024 None40.2ms\n",
      "Speed: 1.8ms preprocess, 40.2ms inference, 3.2ms postprocess per image at shape (1, 3, 1024, 1024)\n"
     ]
    },
    {
     "name": "stderr",
     "output_type": "stream",
     "text": [
      "Running YOLO OBB inference:  96%|█████████▌| 485/507 [00:58<00:03,  7.16it/s]"
     ]
    },
    {
     "name": "stdout",
     "output_type": "stream",
     "text": [
      "Saved predicted image: /shared/data/climateplus2025/Prediction_for_poster_July21/Prediction/predicted_images/2023_RGB_8cm_W57B_8_tile_8192_11264_predicted.jpg\n",
      "Saved JSON: /shared/data/climateplus2025/Prediction_for_poster_July21/Prediction/predicted_json/2023_RGB_8cm_W57B_8_tile_8192_11264.json\n",
      "Saved TXT: /shared/data/climateplus2025/Prediction_for_poster_July21/Prediction/predicted_txt/2023_RGB_8cm_W57B_8_tile_8192_11264.txt\n",
      "\n",
      "image 1/1 /shared/data/climateplus2025/Prediction_for_poster_July21/CapeTown_Image_2023_tiles_1024_for_prediction/2023_RGB_8cm_W57B_8_tile_8192_12288.tif: 1024x1024 (no detections), 40.2ms\n",
      "Speed: 1.9ms preprocess, 40.2ms inference, 0.4ms postprocess per image at shape (1, 3, 1024, 1024)\n",
      "No detections, skipped TXT for: 2023_RGB_8cm_W57B_8_tile_8192_12288.tif\n",
      "\n",
      "image 1/1 /shared/data/climateplus2025/Prediction_for_poster_July21/CapeTown_Image_2023_tiles_1024_for_prediction/2023_RGB_8cm_W57B_8_tile_8192_2048.tif: 1024x1024 None40.3ms\n",
      "Speed: 2.3ms preprocess, 40.3ms inference, 2.2ms postprocess per image at shape (1, 3, 1024, 1024)\n"
     ]
    },
    {
     "name": "stderr",
     "output_type": "stream",
     "text": [
      "Running YOLO OBB inference:  96%|█████████▌| 487/507 [00:58<00:02,  8.12it/s]"
     ]
    },
    {
     "name": "stdout",
     "output_type": "stream",
     "text": [
      "Saved predicted image: /shared/data/climateplus2025/Prediction_for_poster_July21/Prediction/predicted_images/2023_RGB_8cm_W57B_8_tile_8192_2048_predicted.jpg\n",
      "Saved JSON: /shared/data/climateplus2025/Prediction_for_poster_July21/Prediction/predicted_json/2023_RGB_8cm_W57B_8_tile_8192_2048.json\n",
      "Saved TXT: /shared/data/climateplus2025/Prediction_for_poster_July21/Prediction/predicted_txt/2023_RGB_8cm_W57B_8_tile_8192_2048.txt\n",
      "\n",
      "image 1/1 /shared/data/climateplus2025/Prediction_for_poster_July21/CapeTown_Image_2023_tiles_1024_for_prediction/2023_RGB_8cm_W57B_8_tile_8192_3072.tif: 1024x1024 (no detections), 40.3ms\n",
      "Speed: 2.5ms preprocess, 40.3ms inference, 0.6ms postprocess per image at shape (1, 3, 1024, 1024)\n"
     ]
    },
    {
     "name": "stderr",
     "output_type": "stream",
     "text": [
      "Running YOLO OBB inference:  96%|█████████▋| 488/507 [00:58<00:02,  7.89it/s]"
     ]
    },
    {
     "name": "stdout",
     "output_type": "stream",
     "text": [
      "No detections, skipped TXT for: 2023_RGB_8cm_W57B_8_tile_8192_3072.tif\n",
      "\n",
      "image 1/1 /shared/data/climateplus2025/Prediction_for_poster_July21/CapeTown_Image_2023_tiles_1024_for_prediction/2023_RGB_8cm_W57B_8_tile_8192_4096.tif: 1024x1024 (no detections), 40.2ms\n",
      "Speed: 1.7ms preprocess, 40.2ms inference, 0.4ms postprocess per image at shape (1, 3, 1024, 1024)\n"
     ]
    },
    {
     "name": "stderr",
     "output_type": "stream",
     "text": [
      "Running YOLO OBB inference:  96%|█████████▋| 489/507 [00:59<00:02,  7.96it/s]"
     ]
    },
    {
     "name": "stdout",
     "output_type": "stream",
     "text": [
      "No detections, skipped TXT for: 2023_RGB_8cm_W57B_8_tile_8192_4096.tif\n",
      "\n",
      "image 1/1 /shared/data/climateplus2025/Prediction_for_poster_July21/CapeTown_Image_2023_tiles_1024_for_prediction/2023_RGB_8cm_W57B_8_tile_8192_5120.tif: 1024x1024 (no detections), 40.2ms\n",
      "Speed: 1.8ms preprocess, 40.2ms inference, 0.4ms postprocess per image at shape (1, 3, 1024, 1024)\n"
     ]
    },
    {
     "name": "stderr",
     "output_type": "stream",
     "text": [
      "Running YOLO OBB inference:  97%|█████████▋| 490/507 [00:59<00:02,  8.03it/s]"
     ]
    },
    {
     "name": "stdout",
     "output_type": "stream",
     "text": [
      "No detections, skipped TXT for: 2023_RGB_8cm_W57B_8_tile_8192_5120.tif\n",
      "\n",
      "image 1/1 /shared/data/climateplus2025/Prediction_for_poster_July21/CapeTown_Image_2023_tiles_1024_for_prediction/2023_RGB_8cm_W57B_8_tile_8192_6144.tif: 1024x1024 (no detections), 40.2ms\n",
      "Speed: 1.7ms preprocess, 40.2ms inference, 0.4ms postprocess per image at shape (1, 3, 1024, 1024)\n"
     ]
    },
    {
     "name": "stderr",
     "output_type": "stream",
     "text": [
      "Running YOLO OBB inference:  97%|█████████▋| 491/507 [00:59<00:02,  7.65it/s]"
     ]
    },
    {
     "name": "stdout",
     "output_type": "stream",
     "text": [
      "No detections, skipped TXT for: 2023_RGB_8cm_W57B_8_tile_8192_6144.tif\n",
      "\n",
      "image 1/1 /shared/data/climateplus2025/Prediction_for_poster_July21/CapeTown_Image_2023_tiles_1024_for_prediction/2023_RGB_8cm_W57B_8_tile_8192_7168.tif: 1024x1024 (no detections), 40.3ms\n",
      "Speed: 2.5ms preprocess, 40.3ms inference, 0.6ms postprocess per image at shape (1, 3, 1024, 1024)\n"
     ]
    },
    {
     "name": "stderr",
     "output_type": "stream",
     "text": [
      "Running YOLO OBB inference:  97%|█████████▋| 492/507 [00:59<00:01,  7.58it/s]"
     ]
    },
    {
     "name": "stdout",
     "output_type": "stream",
     "text": [
      "No detections, skipped TXT for: 2023_RGB_8cm_W57B_8_tile_8192_7168.tif\n",
      "\n",
      "image 1/1 /shared/data/climateplus2025/Prediction_for_poster_July21/CapeTown_Image_2023_tiles_1024_for_prediction/2023_RGB_8cm_W57B_8_tile_8192_8192.tif: 1024x1024 (no detections), 40.2ms\n",
      "Speed: 1.7ms preprocess, 40.2ms inference, 0.5ms postprocess per image at shape (1, 3, 1024, 1024)\n"
     ]
    },
    {
     "name": "stderr",
     "output_type": "stream",
     "text": [
      "Running YOLO OBB inference:  97%|█████████▋| 493/507 [00:59<00:01,  8.13it/s]"
     ]
    },
    {
     "name": "stdout",
     "output_type": "stream",
     "text": [
      "No detections, skipped TXT for: 2023_RGB_8cm_W57B_8_tile_8192_8192.tif\n",
      "\n",
      "image 1/1 /shared/data/climateplus2025/Prediction_for_poster_July21/CapeTown_Image_2023_tiles_1024_for_prediction/2023_RGB_8cm_W57B_8_tile_8192_9216.tif: 1024x1024 (no detections), 40.2ms\n",
      "Speed: 1.7ms preprocess, 40.2ms inference, 0.5ms postprocess per image at shape (1, 3, 1024, 1024)\n"
     ]
    },
    {
     "name": "stderr",
     "output_type": "stream",
     "text": [
      "Running YOLO OBB inference:  97%|█████████▋| 494/507 [00:59<00:01,  8.44it/s]"
     ]
    },
    {
     "name": "stdout",
     "output_type": "stream",
     "text": [
      "No detections, skipped TXT for: 2023_RGB_8cm_W57B_8_tile_8192_9216.tif\n",
      "\n",
      "image 1/1 /shared/data/climateplus2025/Prediction_for_poster_July21/CapeTown_Image_2023_tiles_1024_for_prediction/2023_RGB_8cm_W57B_8_tile_9216_0.tif: 1024x1024 None40.2ms\n",
      "Speed: 1.8ms preprocess, 40.2ms inference, 1.8ms postprocess per image at shape (1, 3, 1024, 1024)\n"
     ]
    },
    {
     "name": "stderr",
     "output_type": "stream",
     "text": [
      "Running YOLO OBB inference:  98%|█████████▊| 495/507 [00:59<00:01,  8.10it/s]"
     ]
    },
    {
     "name": "stdout",
     "output_type": "stream",
     "text": [
      "Saved predicted image: /shared/data/climateplus2025/Prediction_for_poster_July21/Prediction/predicted_images/2023_RGB_8cm_W57B_8_tile_9216_0_predicted.jpg\n",
      "Saved JSON: /shared/data/climateplus2025/Prediction_for_poster_July21/Prediction/predicted_json/2023_RGB_8cm_W57B_8_tile_9216_0.json\n",
      "Saved TXT: /shared/data/climateplus2025/Prediction_for_poster_July21/Prediction/predicted_txt/2023_RGB_8cm_W57B_8_tile_9216_0.txt\n",
      "\n",
      "image 1/1 /shared/data/climateplus2025/Prediction_for_poster_July21/CapeTown_Image_2023_tiles_1024_for_prediction/2023_RGB_8cm_W57B_8_tile_9216_1024.tif: 1024x1024 None40.2ms\n",
      "Speed: 1.8ms preprocess, 40.2ms inference, 1.8ms postprocess per image at shape (1, 3, 1024, 1024)\n"
     ]
    },
    {
     "name": "stderr",
     "output_type": "stream",
     "text": [
      "Running YOLO OBB inference:  98%|█████████▊| 496/507 [00:59<00:01,  8.21it/s]"
     ]
    },
    {
     "name": "stdout",
     "output_type": "stream",
     "text": [
      "Saved predicted image: /shared/data/climateplus2025/Prediction_for_poster_July21/Prediction/predicted_images/2023_RGB_8cm_W57B_8_tile_9216_1024_predicted.jpg\n",
      "Saved JSON: /shared/data/climateplus2025/Prediction_for_poster_July21/Prediction/predicted_json/2023_RGB_8cm_W57B_8_tile_9216_1024.json\n",
      "Saved TXT: /shared/data/climateplus2025/Prediction_for_poster_July21/Prediction/predicted_txt/2023_RGB_8cm_W57B_8_tile_9216_1024.txt\n",
      "\n",
      "image 1/1 /shared/data/climateplus2025/Prediction_for_poster_July21/CapeTown_Image_2023_tiles_1024_for_prediction/2023_RGB_8cm_W57B_8_tile_9216_10240.tif: 1024x1024 (no detections), 40.2ms\n",
      "Speed: 1.9ms preprocess, 40.2ms inference, 0.4ms postprocess per image at shape (1, 3, 1024, 1024)\n"
     ]
    },
    {
     "name": "stderr",
     "output_type": "stream",
     "text": [
      "Running YOLO OBB inference:  98%|█████████▊| 497/507 [01:00<00:01,  8.67it/s]"
     ]
    },
    {
     "name": "stdout",
     "output_type": "stream",
     "text": [
      "No detections, skipped TXT for: 2023_RGB_8cm_W57B_8_tile_9216_10240.tif\n",
      "\n",
      "image 1/1 /shared/data/climateplus2025/Prediction_for_poster_July21/CapeTown_Image_2023_tiles_1024_for_prediction/2023_RGB_8cm_W57B_8_tile_9216_11264.tif: 1024x1024 (no detections), 39.8ms\n",
      "Speed: 2.3ms preprocess, 39.8ms inference, 0.6ms postprocess per image at shape (1, 3, 1024, 1024)\n"
     ]
    },
    {
     "name": "stderr",
     "output_type": "stream",
     "text": [
      "Running YOLO OBB inference:  98%|█████████▊| 498/507 [01:00<00:01,  8.31it/s]"
     ]
    },
    {
     "name": "stdout",
     "output_type": "stream",
     "text": [
      "No detections, skipped TXT for: 2023_RGB_8cm_W57B_8_tile_9216_11264.tif\n",
      "\n",
      "image 1/1 /shared/data/climateplus2025/Prediction_for_poster_July21/CapeTown_Image_2023_tiles_1024_for_prediction/2023_RGB_8cm_W57B_8_tile_9216_12288.tif: 1024x1024 (no detections), 39.7ms\n",
      "Speed: 1.8ms preprocess, 39.7ms inference, 0.4ms postprocess per image at shape (1, 3, 1024, 1024)\n",
      "No detections, skipped TXT for: 2023_RGB_8cm_W57B_8_tile_9216_12288.tif\n",
      "\n",
      "image 1/1 /shared/data/climateplus2025/Prediction_for_poster_July21/CapeTown_Image_2023_tiles_1024_for_prediction/2023_RGB_8cm_W57B_8_tile_9216_2048.tif: 1024x1024 None39.8ms\n",
      "Speed: 1.8ms preprocess, 39.8ms inference, 1.8ms postprocess per image at shape (1, 3, 1024, 1024)\n"
     ]
    },
    {
     "name": "stderr",
     "output_type": "stream",
     "text": [
      "Running YOLO OBB inference:  99%|█████████▊| 500/507 [01:00<00:00,  9.01it/s]"
     ]
    },
    {
     "name": "stdout",
     "output_type": "stream",
     "text": [
      "Saved predicted image: /shared/data/climateplus2025/Prediction_for_poster_July21/Prediction/predicted_images/2023_RGB_8cm_W57B_8_tile_9216_2048_predicted.jpg\n",
      "Saved JSON: /shared/data/climateplus2025/Prediction_for_poster_July21/Prediction/predicted_json/2023_RGB_8cm_W57B_8_tile_9216_2048.json\n",
      "Saved TXT: /shared/data/climateplus2025/Prediction_for_poster_July21/Prediction/predicted_txt/2023_RGB_8cm_W57B_8_tile_9216_2048.txt\n",
      "\n",
      "image 1/1 /shared/data/climateplus2025/Prediction_for_poster_July21/CapeTown_Image_2023_tiles_1024_for_prediction/2023_RGB_8cm_W57B_8_tile_9216_3072.tif: 1024x1024 (no detections), 39.8ms\n",
      "Speed: 2.5ms preprocess, 39.8ms inference, 0.4ms postprocess per image at shape (1, 3, 1024, 1024)\n"
     ]
    },
    {
     "name": "stderr",
     "output_type": "stream",
     "text": [
      "Running YOLO OBB inference:  99%|█████████▉| 501/507 [01:00<00:00,  8.28it/s]"
     ]
    },
    {
     "name": "stdout",
     "output_type": "stream",
     "text": [
      "No detections, skipped TXT for: 2023_RGB_8cm_W57B_8_tile_9216_3072.tif\n",
      "\n",
      "image 1/1 /shared/data/climateplus2025/Prediction_for_poster_July21/CapeTown_Image_2023_tiles_1024_for_prediction/2023_RGB_8cm_W57B_8_tile_9216_4096.tif: 1024x1024 (no detections), 39.8ms\n",
      "Speed: 1.8ms preprocess, 39.8ms inference, 0.4ms postprocess per image at shape (1, 3, 1024, 1024)\n"
     ]
    },
    {
     "name": "stderr",
     "output_type": "stream",
     "text": [
      "Running YOLO OBB inference:  99%|█████████▉| 502/507 [01:00<00:00,  8.60it/s]"
     ]
    },
    {
     "name": "stdout",
     "output_type": "stream",
     "text": [
      "No detections, skipped TXT for: 2023_RGB_8cm_W57B_8_tile_9216_4096.tif\n",
      "\n",
      "image 1/1 /shared/data/climateplus2025/Prediction_for_poster_July21/CapeTown_Image_2023_tiles_1024_for_prediction/2023_RGB_8cm_W57B_8_tile_9216_5120.tif: 1024x1024 (no detections), 39.7ms\n",
      "Speed: 1.7ms preprocess, 39.7ms inference, 0.4ms postprocess per image at shape (1, 3, 1024, 1024)\n"
     ]
    },
    {
     "name": "stderr",
     "output_type": "stream",
     "text": [
      "Running YOLO OBB inference:  99%|█████████▉| 503/507 [01:00<00:00,  8.59it/s]"
     ]
    },
    {
     "name": "stdout",
     "output_type": "stream",
     "text": [
      "No detections, skipped TXT for: 2023_RGB_8cm_W57B_8_tile_9216_5120.tif\n",
      "\n",
      "image 1/1 /shared/data/climateplus2025/Prediction_for_poster_July21/CapeTown_Image_2023_tiles_1024_for_prediction/2023_RGB_8cm_W57B_8_tile_9216_6144.tif: 1024x1024 (no detections), 39.8ms\n",
      "Speed: 1.8ms preprocess, 39.8ms inference, 0.4ms postprocess per image at shape (1, 3, 1024, 1024)\n"
     ]
    },
    {
     "name": "stderr",
     "output_type": "stream",
     "text": [
      "Running YOLO OBB inference:  99%|█████████▉| 504/507 [01:00<00:00,  8.78it/s]"
     ]
    },
    {
     "name": "stdout",
     "output_type": "stream",
     "text": [
      "No detections, skipped TXT for: 2023_RGB_8cm_W57B_8_tile_9216_6144.tif\n",
      "\n",
      "image 1/1 /shared/data/climateplus2025/Prediction_for_poster_July21/CapeTown_Image_2023_tiles_1024_for_prediction/2023_RGB_8cm_W57B_8_tile_9216_7168.tif: 1024x1024 (no detections), 39.8ms\n",
      "Speed: 1.7ms preprocess, 39.8ms inference, 0.5ms postprocess per image at shape (1, 3, 1024, 1024)\n"
     ]
    },
    {
     "name": "stderr",
     "output_type": "stream",
     "text": [
      "Running YOLO OBB inference: 100%|█████████▉| 505/507 [01:00<00:00,  8.98it/s]"
     ]
    },
    {
     "name": "stdout",
     "output_type": "stream",
     "text": [
      "No detections, skipped TXT for: 2023_RGB_8cm_W57B_8_tile_9216_7168.tif\n",
      "\n",
      "image 1/1 /shared/data/climateplus2025/Prediction_for_poster_July21/CapeTown_Image_2023_tiles_1024_for_prediction/2023_RGB_8cm_W57B_8_tile_9216_8192.tif: 1024x1024 (no detections), 39.8ms\n",
      "Speed: 1.8ms preprocess, 39.8ms inference, 0.4ms postprocess per image at shape (1, 3, 1024, 1024)\n"
     ]
    },
    {
     "name": "stderr",
     "output_type": "stream",
     "text": [
      "Running YOLO OBB inference: 100%|█████████▉| 506/507 [01:01<00:00,  8.75it/s]"
     ]
    },
    {
     "name": "stdout",
     "output_type": "stream",
     "text": [
      "No detections, skipped TXT for: 2023_RGB_8cm_W57B_8_tile_9216_8192.tif\n",
      "\n",
      "image 1/1 /shared/data/climateplus2025/Prediction_for_poster_July21/CapeTown_Image_2023_tiles_1024_for_prediction/2023_RGB_8cm_W57B_8_tile_9216_9216.tif: 1024x1024 (no detections), 39.8ms\n",
      "Speed: 1.9ms preprocess, 39.8ms inference, 0.5ms postprocess per image at shape (1, 3, 1024, 1024)\n"
     ]
    },
    {
     "name": "stderr",
     "output_type": "stream",
     "text": [
      "Running YOLO OBB inference: 100%|██████████| 507/507 [01:01<00:00,  8.28it/s]"
     ]
    },
    {
     "name": "stdout",
     "output_type": "stream",
     "text": [
      "No detections, skipped TXT for: 2023_RGB_8cm_W57B_8_tile_9216_9216.tif\n",
      "\n",
      " Inference completed in 61.20 seconds (0:01:01)\n"
     ]
    },
    {
     "name": "stderr",
     "output_type": "stream",
     "text": [
      "\n"
     ]
    }
   ],
   "source": [
    "import os\n",
    "import json\n",
    "import glob\n",
    "import cv2\n",
    "import numpy as np\n",
    "from tqdm import tqdm\n",
    "from ultralytics import YOLO\n",
    "import time\n",
    "import datetime\n",
    "\n",
    "# ---------------------------\n",
    "# Configuration\n",
    "# ---------------------------\n",
    "model = YOLO(\"/home/il72/cape_town_year_of_installation/YOLO_CapeTown_5K_single_categories(July_14)/runs/obb/pv_detection_5K_yolo11x_obb_single_class_lr0.0001/weights/best.pt\")\n",
    "\n",
    "image_dir = \"/shared/data/climateplus2025/Prediction_for_poster_3_images_July21/CapeTown_Image_2023_tiles_1024_for_prediction\"\n",
    "image_paths = sorted(glob.glob(os.path.join(image_dir, \"*.tif\")))\n",
    "\n",
    "output_img_dir = \"/shared/data/climateplus2025/Prediction_for_poster_3_images_July21/Prediction/predicted_images\"\n",
    "output_json_dir = \"/shared/data/climateplus2025/Prediction_for_poster_3_images_July21/Prediction/predicted_json\"\n",
    "output_txt_dir = \"/shared/data/climateplus2025/Prediction_for_poster_3_images_July21/Prediction/predicted_txt\"\n",
    "\n",
    "os.makedirs(output_img_dir, exist_ok=True)\n",
    "os.makedirs(output_json_dir, exist_ok=True)\n",
    "os.makedirs(output_txt_dir, exist_ok=True)\n",
    "\n",
    "SAVE_EVERY_N = 1  # Save image every N\n",
    "SAVE_TXT = True   # Save TXT for post-processing\n",
    "\n",
    "# ---------------------------\n",
    "# Start Runtime Timer\n",
    "# ---------------------------\n",
    "print(\"YOLO OBB inference started...\")\n",
    "start_time = time.time()\n",
    "\n",
    "# ---------------------------\n",
    "# Inference Loop\n",
    "# ---------------------------\n",
    "for image_path in tqdm(image_paths, desc=\"Running YOLO OBB inference\"):\n",
    "\n",
    "    image_name = os.path.basename(image_path)\n",
    "    base_name = os.path.splitext(image_name)[0]\n",
    "\n",
    "    try:\n",
    "        tile_id = int(base_name.split(\"_\")[-1])\n",
    "    except ValueError:\n",
    "        tile_id = hash(base_name) % 100000\n",
    "\n",
    "    should_save_image = (tile_id % SAVE_EVERY_N == 0)\n",
    "\n",
    "    results = model.predict(\n",
    "        source=image_path,\n",
    "        task=\"obb\",\n",
    "        conf=0.5,\n",
    "        save=False\n",
    "    )\n",
    "\n",
    "    img = None\n",
    "    if should_save_image:\n",
    "        img = cv2.imread(image_path)\n",
    "        img = cv2.cvtColor(img, cv2.COLOR_BGR2RGB)\n",
    "\n",
    "    json_result = {\n",
    "        \"image_name\": image_name,\n",
    "        \"model_type\": \"YOLO_OBB\",\n",
    "        \"num_predictions\": 0,\n",
    "        \"predictions\": [],\n",
    "        \"sampled_visualization_saved\": False\n",
    "    }\n",
    "\n",
    "    prediction_counter = 1\n",
    "    txt_lines = []\n",
    "\n",
    "    for result in results:\n",
    "        if not hasattr(result, \"obb\") or result.obb is None:\n",
    "            continue\n",
    "\n",
    "        names = result.names\n",
    "        boxes = result.obb.xyxyxyxy.cpu().numpy()\n",
    "        scores = result.obb.conf.cpu().numpy()\n",
    "        classes = result.obb.cls.cpu().numpy().astype(int)\n",
    "\n",
    "        height, width = img.shape[:2] if img is not None else (1, 1)\n",
    "\n",
    "        for i in range(len(boxes)):\n",
    "            coords = boxes[i].reshape(4, 2).astype(int)\n",
    "            polygon_xy = [[int(pt[0]), int(pt[1])] for pt in coords]\n",
    "            label = f\"{names[classes[i]]} {scores[i]:.2f}\"\n",
    "\n",
    "            if should_save_image and img is not None:\n",
    "                cv2.polylines(img, [coords], isClosed=True, color=(0, 0, 255), thickness=2)\n",
    "                cv2.putText(img, label, tuple(coords[0]), cv2.FONT_HERSHEY_SIMPLEX, 0.6, (255, 255, 255), 2)\n",
    "\n",
    "            pred_dict = {\n",
    "                \"prediction_id\": f\"{base_name}_pred_{prediction_counter:04d}\",\n",
    "                \"class\": names[classes[i]],\n",
    "                \"confidence\": float(scores[i]),\n",
    "                \"polygon\": polygon_xy\n",
    "            }\n",
    "            json_result[\"predictions\"].append(pred_dict)\n",
    "            prediction_counter += 1\n",
    "\n",
    "            # Save to TXT format\n",
    "            if SAVE_TXT:\n",
    "                coords_norm = boxes[i].reshape(4, 2).astype(np.float32)\n",
    "                coords_norm[:, 0] /= width\n",
    "                coords_norm[:, 1] /= height\n",
    "\n",
    "                txt_line = f\"{classes[i]}\"\n",
    "                for x, y in coords_norm:\n",
    "                    txt_line += f\" {x:.6f} {y:.6f}\"\n",
    "                txt_line += f\" {scores[i]:.6f}\"\n",
    "                txt_lines.append(txt_line)\n",
    "\n",
    "    json_result[\"num_predictions\"] = len(json_result[\"predictions\"])\n",
    "\n",
    "    if json_result[\"num_predictions\"] > 0 and should_save_image and img is not None:\n",
    "        output_image_path = os.path.join(output_img_dir, f\"{base_name}_predicted.jpg\")\n",
    "        cv2.imwrite(output_image_path, cv2.cvtColor(img, cv2.COLOR_RGB2BGR))\n",
    "        json_result[\"sampled_visualization_saved\"] = True\n",
    "        print(f\"Saved predicted image: {output_image_path}\")\n",
    "\n",
    "    if json_result[\"num_predictions\"] > 0:\n",
    "        output_json_path = os.path.join(output_json_dir, f\"{base_name}.json\")\n",
    "        with open(output_json_path, \"w\") as f:\n",
    "            json.dump(json_result, f, indent=2)\n",
    "        print(f\"Saved JSON: {output_json_path}\")\n",
    "\n",
    "    if SAVE_TXT and len(txt_lines) > 0:\n",
    "        output_txt_path = os.path.join(output_txt_dir, f\"{base_name}.txt\")\n",
    "        with open(output_txt_path, \"w\") as f:\n",
    "            f.write(\"\\n\".join(txt_lines) + \"\\n\")\n",
    "        print(f\"Saved TXT: {output_txt_path}\")\n",
    "    elif SAVE_TXT:\n",
    "        print(f\"No detections, skipped TXT for: {image_name}\")\n",
    "\n",
    "# ---------------------------\n",
    "# End Runtime Timer\n",
    "# ---------------------------\n",
    "end_time = time.time()\n",
    "runtime_seconds = end_time - start_time\n",
    "runtime_formatted = str(datetime.timedelta(seconds=int(runtime_seconds)))\n",
    "\n",
    "print(f\"\\n Inference completed in {runtime_seconds:.2f} seconds ({runtime_formatted})\")\n"
   ]
  }
 ],
 "metadata": {
  "kernelspec": {
   "display_name": "Python 3",
   "language": "python",
   "name": "python3"
  },
  "language_info": {
   "codemirror_mode": {
    "name": "ipython",
    "version": 3
   },
   "file_extension": ".py",
   "mimetype": "text/x-python",
   "name": "python",
   "nbconvert_exporter": "python",
   "pygments_lexer": "ipython3",
   "version": "3.10.12"
  }
 },
 "nbformat": 4,
 "nbformat_minor": 5
}
