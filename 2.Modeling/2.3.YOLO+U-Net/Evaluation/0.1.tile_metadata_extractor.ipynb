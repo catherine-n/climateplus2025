{
 "cells": [
  {
   "cell_type": "code",
   "execution_count": 1,
   "id": "9ba77851",
   "metadata": {},
   "outputs": [
    {
     "name": "stderr",
     "output_type": "stream",
     "text": [
      "Generating tile metadata: 100%|██████████| 3/3 [00:00<00:00, 95.42it/s]"
     ]
    },
    {
     "name": "stdout",
     "output_type": "stream",
     "text": [
      "Metadata saved to /shared/data/climateplus2025/YOLO+U-Net_Prediction_3images_updated_head_to_head_comparision_0722/tile_metadata_for_reconstruction.csv\n"
     ]
    },
    {
     "name": "stderr",
     "output_type": "stream",
     "text": [
      "\n"
     ]
    }
   ],
   "source": [
    "import os\n",
    "import rasterio\n",
    "from rasterio.windows import Window\n",
    "import pandas as pd\n",
    "from tqdm import tqdm\n",
    "\n",
    "def generate_tile_metadata(tif_path, tile_size=1024):\n",
    "    img_name = os.path.splitext(os.path.basename(tif_path))[0]\n",
    "    metadata = []\n",
    "\n",
    "    with rasterio.open(tif_path) as src:\n",
    "        for y in range(0, src.height, tile_size):\n",
    "            for x in range(0, src.width, tile_size):\n",
    "                width = min(tile_size, src.width - x)\n",
    "                height = min(tile_size, src.height - y)\n",
    "                tile_name = f\"{img_name}_tile_{x}_{y}.tif\"\n",
    "                metadata.append({\n",
    "                    \"tile_name\": tile_name,\n",
    "                    \"tile_x\": x,\n",
    "                    \"tile_y\": y,\n",
    "                    \"tile_width\": width,\n",
    "                    \"tile_height\": height\n",
    "                })\n",
    "\n",
    "    return metadata\n",
    "\n",
    "def main():\n",
    "    tif_dir = \"/shared/data/climateplus2025/CapeTown_Image_2023_original\"\n",
    "    output_csv = \"/shared/data/climateplus2025/YOLO+U-Net_Prediction_3images_updated_head_to_head_comparision_0722/tile_metadata_for_reconstruction.csv\"\n",
    "    tile_size = 1024\n",
    "\n",
    "    selected_image_names = [\n",
    "        '2023_RGB_8cm_W25C_16',\n",
    "        '2023_RGB_8cm_W24A_17',\n",
    "        '2023_RGB_8cm_W57B_8'\n",
    "    ]\n",
    "\n",
    "    # Map .tif file paths\n",
    "    tif_map = {}\n",
    "    for root, dirs, files in os.walk(tif_dir):\n",
    "        for f in files:\n",
    "            if f.endswith(\".tif\"):\n",
    "                name = os.path.splitext(f)[0]\n",
    "                tif_map[name] = os.path.join(root, f)\n",
    "\n",
    "    # Process\n",
    "    all_metadata = []\n",
    "    for name in tqdm(selected_image_names, desc=\"Generating tile metadata\"):\n",
    "        if name in tif_map:\n",
    "            meta = generate_tile_metadata(tif_map[name], tile_size)\n",
    "            all_metadata.extend(meta)\n",
    "        else:\n",
    "            print(f\"[!] Missing: {name}.tif\")\n",
    "\n",
    "    # Save\n",
    "    df = pd.DataFrame(all_metadata)\n",
    "    df.to_csv(output_csv, index=False)\n",
    "    print(f\"Metadata saved to {output_csv}\")\n",
    "\n",
    "if __name__ == \"__main__\":\n",
    "    main()"
   ]
  }
 ],
 "metadata": {
  "kernelspec": {
   "display_name": "Python 3",
   "language": "python",
   "name": "python3"
  },
  "language_info": {
   "codemirror_mode": {
    "name": "ipython",
    "version": 3
   },
   "file_extension": ".py",
   "mimetype": "text/x-python",
   "name": "python",
   "nbconvert_exporter": "python",
   "pygments_lexer": "ipython3",
   "version": "3.10.12"
  }
 },
 "nbformat": 4,
 "nbformat_minor": 5
}
