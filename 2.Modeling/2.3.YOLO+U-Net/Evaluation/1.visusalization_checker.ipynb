{
 "cells": [
  {
   "cell_type": "markdown",
   "id": "57d87eed",
   "metadata": {},
   "source": [
    "- Run this after predictions to check if tiling worked correctly.\n",
    "- Random tiles are sampled — if only background is selected, a black image will be shown."
   ]
  },
  {
   "cell_type": "markdown",
   "id": "8e942b39",
   "metadata": {},
   "source": [
    "Predicted images only"
   ]
  },
  {
   "cell_type": "code",
   "execution_count": 1,
   "id": "807929ab",
   "metadata": {},
   "outputs": [
    {
     "data": {
      "image/png": "[encoded data removed]",
      "text/plain": [
       "<Figure size 800x800 with 4 Axes>"
      ]
     },
     "metadata": {},
     "output_type": "display_data"
    }
   ],
   "source": [
    "import os\n",
    "import numpy as np\n",
    "import matplotlib.pyplot as plt\n",
    "from PIL import Image\n",
    "import random\n",
    "\n",
    "# ───────────────────────────────\n",
    "# mask\n",
    "mask_dir = \"/shared/data/climateplus2025/YOLO+U-Net_Prediction_updated_0722/prediction_masks_tiles_320\"  # Directory containing mask images\n",
    "\n",
    "# RGB mapping\n",
    "color_map = {\n",
    "    0: (0, 0, 0),        # background: black\n",
    "    1: (0, 255, 0),      # PV_normal: green\n",
    "    2: (255, 0, 0),      # PV_heater: red\n",
    "    3: (0, 0, 255),      # PV_pool: blue\n",
    "}\n",
    "\n",
    "def mask_to_rgb(mask):\n",
    "    rgb = np.zeros((mask.shape[0], mask.shape[1], 3), dtype=np.uint8)\n",
    "    for cls, color in color_map.items():\n",
    "        rgb[mask == cls] = color\n",
    "    return rgb\n",
    "\n",
    "all_files = [\n",
    "    f for f in os.listdir(mask_dir)\n",
    "    if f.endswith(\".png\") and os.path.isfile(os.path.join(mask_dir, f))\n",
    "]\n",
    "sample_files = random.sample(all_files, 4) # Randomly select 4 files for visualization\n",
    "\n",
    "fig, axs = plt.subplots(2, 2, figsize=(8, 8))\n",
    "\n",
    "for ax, fname in zip(axs.flat, sample_files):\n",
    "    path = os.path.join(mask_dir, fname)\n",
    "    mask = np.array(Image.open(path))\n",
    "    rgb = mask_to_rgb(mask)\n",
    "    ax.imshow(rgb)\n",
    "    ax.set_title(fname, fontsize=7, wrap=True, pad=4)\n",
    "    ax.axis('off')\n",
    "\n",
    "plt.tight_layout()\n",
    "plt.show()\n"
   ]
  },
  {
   "cell_type": "markdown",
   "id": "a512f017",
   "metadata": {},
   "source": [
    "Predicted images with GT mask"
   ]
  },
  {
   "cell_type": "code",
   "execution_count": 1,
   "id": "0dfbcf97",
   "metadata": {},
   "outputs": [
    {
     "ename": "FileNotFoundError",
     "evalue": "[Errno 2] No such file or directory: '/shared/data/climateplus2025/YOLO+U-Net_Prediction_updated_0722/prediction_masks_tiles_320'",
     "output_type": "error",
     "traceback": [
      "\u001b[0;31m---------------------------------------------------------------------------\u001b[0m",
      "\u001b[0;31mFileNotFoundError\u001b[0m                         Traceback (most recent call last)",
      "Cell \u001b[0;32mIn[1], line 28\u001b[0m\n\u001b[1;32m     24\u001b[0m     \u001b[38;5;28;01mreturn\u001b[39;00m rgb\n\u001b[1;32m     26\u001b[0m \u001b[38;5;66;03m# Get list of files from predicted mask directory\u001b[39;00m\n\u001b[1;32m     27\u001b[0m all_files \u001b[38;5;241m=\u001b[39m [\n\u001b[0;32m---> 28\u001b[0m     f \u001b[38;5;28;01mfor\u001b[39;00m f \u001b[38;5;129;01min\u001b[39;00m \u001b[43mos\u001b[49m\u001b[38;5;241;43m.\u001b[39;49m\u001b[43mlistdir\u001b[49m\u001b[43m(\u001b[49m\u001b[43mpred_mask_dir\u001b[49m\u001b[43m)\u001b[49m\n\u001b[1;32m     29\u001b[0m     \u001b[38;5;28;01mif\u001b[39;00m f\u001b[38;5;241m.\u001b[39mendswith(\u001b[38;5;124m\"\u001b[39m\u001b[38;5;124m.png\u001b[39m\u001b[38;5;124m\"\u001b[39m) \u001b[38;5;129;01mand\u001b[39;00m os\u001b[38;5;241m.\u001b[39mpath\u001b[38;5;241m.\u001b[39misfile(os\u001b[38;5;241m.\u001b[39mpath\u001b[38;5;241m.\u001b[39mjoin(pred_mask_dir, f))\n\u001b[1;32m     30\u001b[0m ]\n\u001b[1;32m     31\u001b[0m sample_files \u001b[38;5;241m=\u001b[39m random\u001b[38;5;241m.\u001b[39msample(all_files, \u001b[38;5;241m4\u001b[39m)\n\u001b[1;32m     33\u001b[0m \u001b[38;5;66;03m# Plotting: 4 rows, 2 columns (prediction vs ground truth)\u001b[39;00m\n",
      "\u001b[0;31mFileNotFoundError\u001b[0m: [Errno 2] No such file or directory: '/shared/data/climateplus2025/YOLO+U-Net_Prediction_updated_0722/prediction_masks_tiles_320'"
     ]
    }
   ],
   "source": [
    "import os\n",
    "import numpy as np\n",
    "import matplotlib.pyplot as plt\n",
    "from PIL import Image\n",
    "import random\n",
    "\n",
    "# ───────────────────────────────\n",
    "# Directory paths\n",
    "pred_mask_dir = \"/shared/data/climateplus2025/YOLO+U-Net_Prediction_updated_0722/prediction_masks_tiles_320\"\n",
    "gt_mask_dir = \"/home/cmn60/cape_town_segmentation/masks_320_1k_new\"  # Set your ground truth folder here\n",
    "\n",
    "# RGB mapping\n",
    "color_map = {\n",
    "    0: (0, 0, 0),        # background: black\n",
    "    1: (0, 255, 0),      # PV_normal: green\n",
    "    2: (255, 0, 0),      # PV_heater: red\n",
    "    3: (0, 0, 255),      # PV_pool: blue\n",
    "}\n",
    "\n",
    "def mask_to_rgb(mask):\n",
    "    rgb = np.zeros((mask.shape[0], mask.shape[1], 3), dtype=np.uint8)\n",
    "    for cls, color in color_map.items():\n",
    "        rgb[mask == cls] = color\n",
    "    return rgb\n",
    "\n",
    "# Get list of files from predicted mask directory\n",
    "all_files = [\n",
    "    f for f in os.listdir(pred_mask_dir)\n",
    "    if f.endswith(\".png\") and os.path.isfile(os.path.join(pred_mask_dir, f))\n",
    "]\n",
    "sample_files = random.sample(all_files, 4)\n",
    "\n",
    "# Plotting: 4 rows, 2 columns (prediction vs ground truth)\n",
    "fig, axs = plt.subplots(len(sample_files), 2, figsize=(10, 10))\n",
    "\n",
    "for row_idx, fname in enumerate(sample_files):\n",
    "    pred_path = os.path.join(pred_mask_dir, fname)\n",
    "    gt_path = os.path.join(gt_mask_dir, fname)\n",
    "\n",
    "    pred_mask = np.array(Image.open(pred_path))\n",
    "    gt_mask = np.array(Image.open(gt_path))\n",
    "\n",
    "    pred_rgb = mask_to_rgb(pred_mask)\n",
    "    gt_rgb = mask_to_rgb(gt_mask)\n",
    "\n",
    "    axs[row_idx, 0].imshow(pred_rgb)\n",
    "    axs[row_idx, 0].set_title(f\"Prediction: {fname}\", fontsize=8)\n",
    "    axs[row_idx, 0].axis('off')\n",
    "\n",
    "    axs[row_idx, 1].imshow(gt_rgb)\n",
    "    axs[row_idx, 1].set_title(f\"Ground Truth: {fname}\", fontsize=8)\n",
    "    axs[row_idx, 1].axis('off')\n",
    "\n",
    "plt.tight_layout()\n",
    "plt.show()\n"
   ]
  }
 ],
 "metadata": {
  "kernelspec": {
   "display_name": "Python 3",
   "language": "python",
   "name": "python3"
  },
  "language_info": {
   "codemirror_mode": {
    "name": "ipython",
    "version": 3
   },
   "file_extension": ".py",
   "mimetype": "text/x-python",
   "name": "python",
   "nbconvert_exporter": "python",
   "pygments_lexer": "ipython3",
   "version": "3.10.12"
  }
 },
 "nbformat": 4,
 "nbformat_minor": 5
}
