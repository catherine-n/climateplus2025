{
 "cells": [
  {
   "cell_type": "markdown",
   "id": "cc27294b",
   "metadata": {},
   "source": [
    "Make sure to import files after annotation check !"
   ]
  },
  {
   "cell_type": "code",
   "execution_count": 6,
   "id": "60c66660",
   "metadata": {},
   "outputs": [
    {
     "name": "stdout",
     "output_type": "stream",
     "text": [
      "Total rows: 1022\n",
      "\n",
      "Counts where value == 1 for each column:\n",
      "PV_normal_qc        337\n",
      "PV_heater_qc        310\n",
      "PV_pool_qc          236\n",
      "uncertflag_qc        16\n",
      "delete_qc           133\n",
      "PV_heater_mat_qc      6\n",
      "dtype: int64\n",
      "\n",
      " Rows with two or more columns having value : 16\n"
     ]
    }
   ],
   "source": [
    "# Data Sanity Check\n",
    "\n",
    "import geopandas as gpd\n",
    "\n",
    "# Load data once\n",
    "df = gpd.read_file(\"/shared/data/climateplus2025/Prediction_for_poster_July21/0.Image_files_selection/balanced_3_predictions_July21_after_qc.gpkg\")\n",
    "print(\"Total rows:\", len(df))\n",
    "\n",
    "# Columns to check\n",
    "cols = [\n",
    "    \"PV_normal_qc\",\n",
    "    \"PV_heater_qc\",\n",
    "    \"PV_pool_qc\",\n",
    "    \"uncertflag_qc\",\n",
    "    \"delete_qc\",\n",
    "    # \"PV_heater_mat\",\n",
    "    \"PV_heater_mat_qc\"\n",
    "]\n",
    "\n",
    "# Count exact matches for value == 1\n",
    "flag_counts = df[cols].apply(lambda col: (col == 1).sum())\n",
    "\n",
    "# Display result\n",
    "print(\"\\nCounts where value == 1 for each column:\")\n",
    "print(flag_counts)\n",
    "\n",
    "\n",
    "df['num_flags_eq_1'] = df[cols].apply(lambda row: (row == 1).sum(), axis=1)\n",
    "\n",
    "multi_flag_rows = df[df['num_flags_eq_1'] >= 2]\n",
    "\n",
    "print(f\"\\n Rows with two or more columns having value : {len(multi_flag_rows)}\")\n"
   ]
  },
  {
   "cell_type": "code",
   "execution_count": 11,
   "id": "d280c3d7",
   "metadata": {},
   "outputs": [
    {
     "name": "stdout",
     "output_type": "stream",
     "text": [
      "Filtered dataset contains 889 PV-related arrays\n",
      "Remaining columns: ['id', 'PV_normal', 'PV_heater', 'PV_pool', 'uncertflag', 'area', 'annotator', 'centroid_latitude', 'centroid_longitude', 'image_name', 'nw_corner_of_image_latitude', 'nw_corner_of_image_longitude', 'se_corner_of_image_latitude', 'se_corner_of_image_longitude', 'PV_normal_qc', 'PV_heater_qc', 'PV_pool_qc', 'PV_heater_mat_qc', 'uncertflag_qc', 'delete_qc', 'resizing_qc', 'geometry', 'PV_heater_mat_combined']\n"
     ]
    }
   ],
   "source": [
    "import geopandas as gpd\n",
    "\n",
    "gdf = gpd.read_file('/shared/data/climateplus2025/Prediction_for_poster_July21/0.Image_files_selection/balanced_3_predictions_July21_after_qc.gpkg')\n",
    "gdf[\"PV_normal\"] = gdf[\"PV_normal_qc\"]\n",
    "gdf[\"PV_pool\"] = gdf[\"PV_pool_qc\"]\n",
    "gdf[\"PV_heater\"] = gdf[\"PV_heater_qc\"]\n",
    "gdf[\"uncertflag\"] = gdf[\"uncertflag_qc\"]\n",
    "\n",
    "gdf.columns\n",
    "\n",
    "#### In this GPKG, there is no pv_heater_mat_qc column !\n",
    "# Only PV_heater_mat_qc exists, use it\n",
    "gdf[\"PV_heater_mat_combined\"] = gdf[\"PV_heater_mat_qc\"].fillna(0).astype(int)\n",
    "# Combine it with PV_heater\n",
    "gdf[\"PV_heater\"] = gdf[\"PV_heater\"] | gdf[\"PV_heater_mat_combined\"]\n",
    "\n",
    "# # Combine PV_heater_mat_qc and PV_heater_mat\n",
    "# gdf[\"PV_heater\"] = gdf[\"PV_heater\"].fillna(0).astype(int)\n",
    "# gdf[\"PV_heater_mat_combined\"] = (\n",
    "#     gdf.get(\"PV_heater_mat_qc\", 0).fillna(0).astype(int) |\n",
    "#     gdf.get(\"PV_heater_mat\", 0).fillna(0).astype(int)\n",
    "# )\n",
    "\n",
    "# Final PV_heater union includes both PV_heater_qc and the combined mat flags\n",
    "gdf[\"PV_heater\"] = (\n",
    "    gdf[\"PV_heater\"] | gdf[\"PV_heater_mat_combined\"]\n",
    ")\n",
    "\n",
    "# Keep rows where at least one PV-related flag is 1\n",
    "pv_mask = (\n",
    "    (gdf['PV_normal'] == 1) |\n",
    "    (gdf['PV_heater'] == 1) |\n",
    "    (gdf['PV_pool'] == 1) )\n",
    "\n",
    "# Exclude rows where delete_qc == 1\n",
    "delete_mask = gdf['delete_qc'] != 1\n",
    "\n",
    "# Apply filters\n",
    "filtered_gdf = gdf[pv_mask & delete_mask].copy()\n",
    "\n",
    "# Drop irrelevant columns if needed (optional, keep only analysis columns)\n",
    "# filtered_gdf = filtered_gdf[['PV_normal', 'PV_heater', 'PV_pool', 'PV_heater_mat']]  # optional\n",
    "\n",
    "# Save the filtered data\n",
    "output_path = \"balanced_3_predictions_July21_after_qc_merging_columns.gpkg\"\n",
    "filtered_gdf.to_file(output_path, driver=\"GPKG\")\n",
    "\n",
    "# Output stats\n",
    "print(f\"Filtered dataset contains {len(filtered_gdf)} PV-related arrays\")\n",
    "print(\"Remaining columns:\", filtered_gdf.columns.tolist())\n"
   ]
  },
  {
   "cell_type": "code",
   "execution_count": 12,
   "id": "5b0bb747",
   "metadata": {},
   "outputs": [
    {
     "name": "stdout",
     "output_type": "stream",
     "text": [
      "Invalid geometries found: 0\n",
      "Still invalid after fixing: 0\n"
     ]
    }
   ],
   "source": [
    "# Geometry error checker\n",
    "from shapely.geometry import Polygon\n",
    "\n",
    "gdf = gpd.read_file(\"/shared/data/climateplus2025/Prediction_for_poster_July21/0.Image_files_selection/balanced_3_predictions_July21_after_qc_merging_columns.gpkg\")\n",
    "\n",
    "# Invalid geometry\n",
    "invalid_gdf = gdf[~gdf.geometry.is_valid].copy()\n",
    "invalid_gdf[\"image_name\"] = invalid_gdf[\"image_name\"]\n",
    "print(f\"Invalid geometries found: {len(invalid_gdf)}\")\n",
    "\n",
    "# Error correction : buffer(0) method \n",
    "gdf[\"geometry\"] = gdf[\"geometry\"].apply(lambda geom: geom.buffer(0) if not geom.is_valid else geom)\n",
    "\n",
    "\n",
    "still_invalid = gdf[~gdf.geometry.is_valid].copy()\n",
    "print(f\"Still invalid after fixing: {len(still_invalid)}\")\n",
    "\n",
    "gdf_valid = gdf[gdf.geometry.is_valid].copy()\n",
    "gdf_valid.to_file(\"final_annotations_PV_all_types_balanced_3_cleaned.gpkg\", driver=\"GPKG\")"
   ]
  }
 ],
 "metadata": {
  "kernelspec": {
   "display_name": "Python 3",
   "language": "python",
   "name": "python3"
  },
  "language_info": {
   "codemirror_mode": {
    "name": "ipython",
    "version": 3
   },
   "file_extension": ".py",
   "mimetype": "text/x-python",
   "name": "python",
   "nbconvert_exporter": "python",
   "pygments_lexer": "ipython3",
   "version": "3.10.12"
  }
 },
 "nbformat": 4,
 "nbformat_minor": 5
}
