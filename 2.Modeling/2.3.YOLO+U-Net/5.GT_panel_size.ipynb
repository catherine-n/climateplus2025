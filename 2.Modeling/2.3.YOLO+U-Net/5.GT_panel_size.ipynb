{
 "cells": [
  {
   "cell_type": "markdown",
   "id": "ce73dca9",
   "metadata": {},
   "source": [
    "**Calculating the Panel Area of the Ground Truth**\n",
    "- The calculation is performed by loading information about the target tiles selected during the image selection stage.\n",
    "- This code is independent of model-specific metrics such as IoU, and is instead used to compute the actual panel area for downstream evaluation or analysis."
   ]
  },
  {
   "cell_type": "code",
   "execution_count": 3,
   "id": "9e9f4477",
   "metadata": {},
   "outputs": [
    {
     "name": "stdout",
     "output_type": "stream",
     "text": [
      "                        PV_normal   PV_heater      PV_pool  Uncertain  \\\n",
      "image_name                                                              \n",
      "2023_RGB_8cm_W24A_17  1193.445403  320.143529  1690.707289  45.892695   \n",
      "2023_RGB_8cm_W25C_16   413.130514  441.588789   324.781132  22.732718   \n",
      "2023_RGB_8cm_W57B_8   2833.921720  150.003901   995.344031   7.956572   \n",
      "\n",
      "                      Total_Predicted_PV_Size  \n",
      "image_name                                     \n",
      "2023_RGB_8cm_W24A_17              3250.188916  \n",
      "2023_RGB_8cm_W25C_16              1202.233152  \n",
      "2023_RGB_8cm_W57B_8               3987.226224  \n"
     ]
    }
   ],
   "source": [
    "import geopandas as gpd\n",
    "import pandas as pd\n",
    "\n",
    "# Load GeoPackage\n",
    "gdf_prediction = gpd.read_file(\"/shared/data/climateplus2025/Prediction_for_poster_3_images_July21/0.Image_files_selection/final_annotations_PV_all_types_balanced_3_cleaned.gpkg\")\n",
    "\n",
    "# Define masks for each category\n",
    "is_PV_normal = gdf_prediction['PV_normal'] == 1\n",
    "is_PV_heater = gdf_prediction['PV_heater'] == 1\n",
    "is_PV_pool   = gdf_prediction['PV_pool'] == 1\n",
    "is_uncert    = gdf_prediction['uncertflag'] == 1\n",
    "\n",
    "# Use 'size' instead of 'area' for summation\n",
    "pv_normal_by_image = gdf_prediction[is_PV_normal].groupby('image_name')['area'].sum().rename('PV_normal')\n",
    "pv_heater_by_image = gdf_prediction[is_PV_heater].groupby('image_name')['area'].sum().rename('PV_heater')\n",
    "pv_pool_by_image   = gdf_prediction[is_PV_pool].groupby('image_name')['area'].sum().rename('PV_pool')\n",
    "uncert_by_image    = gdf_prediction[is_uncert].groupby('image_name')['area'].sum().rename('Uncertain')\n",
    "\n",
    "# Merge into a single DataFrame\n",
    "area_by_image = (\n",
    "    pd.concat([pv_normal_by_image, pv_heater_by_image, pv_pool_by_image, uncert_by_image], axis=1)\n",
    "    .fillna(0)\n",
    ")\n",
    "\n",
    "# Add a total size column\n",
    "area_by_image['Total_Predicted_PV_Size'] = area_by_image.sum(axis=1)\n",
    "\n",
    "# Display result\n",
    "print(area_by_image)\n"
   ]
  }
 ],
 "metadata": {
  "kernelspec": {
   "display_name": "Python 3",
   "language": "python",
   "name": "python3"
  },
  "language_info": {
   "codemirror_mode": {
    "name": "ipython",
    "version": 3
   },
   "file_extension": ".py",
   "mimetype": "text/x-python",
   "name": "python",
   "nbconvert_exporter": "python",
   "pygments_lexer": "ipython3",
   "version": "3.10.12"
  }
 },
 "nbformat": 4,
 "nbformat_minor": 5
}
